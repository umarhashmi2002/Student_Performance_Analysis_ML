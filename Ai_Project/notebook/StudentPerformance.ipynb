{
 "cells": [
  {
   "cell_type": "code",
   "execution_count": 1,
   "metadata": {},
   "outputs": [],
   "source": [
    "from IPython.display import HTML"
   ]
  },
  {
   "cell_type": "raw",
   "metadata": {},
   "source": [
    "<script>\n",
    "code_show=true; \n",
    "function code_toggle() {\n",
    " if (code_show){\n",
    " $('div.input').hide();\n",
    " } else {\n",
    " $('div.input').show();\n",
    " }\n",
    " code_show = !code_show\n",
    "} \n",
    "$( document ).ready(code_toggle);\n",
    "</script>\n",
    "        The raw code for this IPython notebook is by default hidden for easier reading.\n",
    "To toggle on/off the raw code, click <a href=\"javascript:code_toggle()\">here</a>."
   ]
  },
  {
   "cell_type": "markdown",
   "metadata": {},
   "source": [
    "# Student Performance\n",
    "\n",
    "*Mattia Tarquinio s265802*\n",
    "\n",
    "## Introduction\n",
    "\n",
    "This work is based on the analysis of a dataset concerning the performance of some Portuguese students of secondary school and some personal information related to them. It was used to see if it could be traced back to which were the things that most influenced the school performance of a Portuguese boy in the two main subjects Mathematics and Portuguese language. The two datasets (one for each subject) contain the same attributes that are shown below:\n",
    "\n",
    "1. school - student's school (binary: 'GP' - Gabriel Pereira or 'MS' - Mousinho da Silveira)\n",
    "2. sex - student's sex (binary: 'F' - female or 'M' - male)\n",
    "3. age - student's age (numeric: from 15 to 22)\n",
    "4. address - student's home address type (binary: 'U' - urban or 'R' - rural)\n",
    "5. famsize - family size (binary: 'LE3' - less or equal to 3 or 'GT3' - greater than 3)\n",
    "6. Pstatus - parent's cohabitation status (binary: 'T' - living together or 'A' - apart)\n",
    "7. Medu - mother's education (numeric: 0 - none,  1 - primary education (4th grade), 2 – 5th to 9th grade, 3 – secondary education or 4 – higher education)\n",
    "8. Fedu - father's education (numeric: 0 - none,  1 - primary education (4th grade), 2 – 5th to 9th grade, 3 – secondary education or 4 – higher education)\n",
    "9. Mjob - mother's job (nominal: 'teacher', 'health' care related, civil 'services' (e.g. administrative or police), 'at_home' or 'other')\n",
    "10. Fjob - father's job (nominal: 'teacher', 'health' care related, civil 'services' (e.g. administrative or police), 'at_home' or 'other')\n",
    "11. reason - reason to choose this school (nominal: close to 'home', school 'reputation', 'course' preference or 'other')\n",
    "12. guardian - student's guardian (nominal: 'mother', 'father' or 'other')\n",
    "13. traveltime - home to school travel time (numeric: 1 - <15 min., 2 - 15 to 30 min., 3 - 30 min. to 1 hour, or 4 - >1 hour)\n",
    "14. studytime - weekly study time (numeric: 1 - <2 hours, 2 - 2 to 5 hours, 3 - 5 to 10 hours, or 4 - >10 hours)\n",
    "15. failures - number of past class failures (numeric: n if 1<=n<3, else 4)\n",
    "16. schoolsup - extra educational support (binary: yes or no)\n",
    "17. famsup - family educational support (binary: yes or no)\n",
    "18. paid - extra paid classes within the course subject (Math or Portuguese) (binary: yes or no)\n",
    "19. activities - extra-curricular activities (binary: yes or no)\n",
    "20. nursery - attended nursery school (binary: yes or no)\n",
    "21. higher - wants to take higher education (binary: yes or no)\n",
    "22. internet - Internet access at home (binary: yes or no)\n",
    "23. romantic - with a romantic relationship (binary: yes or no)\n",
    "24. famrel - quality of family relationships (numeric: from 1 - very bad to 5 - excellent)\n",
    "25. freetime - free time after school (numeric: from 1 - very low to 5 - very high)\n",
    "26. goout - going out with friends (numeric: from 1 - very low to 5 - very high)\n",
    "27. Dalc - workday alcohol consumption (numeric: from 1 - very low to 5 - very high)\n",
    "28. Walc - weekend alcohol consumption (numeric: from 1 - very low to 5 - very high)\n",
    "29. health - current health status (numeric: from 1 - very bad to 5 - very good)\n",
    "30. absences - number of school absences (numeric: from 0 to 93)\n",
    "\n",
    "31. G1 - first period grade (numeric: from 0 to 20)\n",
    "31. G2 - second period grade (numeric: from 0 to 20)\n",
    "32. G3 - final grade (numeric: from 0 to 20, output target)\n",
    "\n",
    "The value on which we try to make predictions is the one named G3, represents the vote at the end of the year and is therefore the one that determines the success or failure of the school year.\n",
    "\n",
    "\n",
    "## Data exploration\n",
    "\n",
    "Let's explore a bit more deeply our datasets, in particular we see immediately their size and whether they have zero or missing values:\n"
   ]
  },
  {
   "cell_type": "code",
   "execution_count": 2,
   "metadata": {},
   "outputs": [
    {
     "data": {
      "text/html": [
       "        <script type=\"text/javascript\">\n",
       "        window.PlotlyConfig = {MathJaxConfig: 'local'};\n",
       "        if (window.MathJax) {MathJax.Hub.Config({SVG: {font: \"STIX-Web\"}});}\n",
       "        if (typeof require !== 'undefined') {\n",
       "        require.undef(\"plotly\");\n",
       "        requirejs.config({\n",
       "            paths: {\n",
       "                'plotly': ['https://cdn.plot.ly/plotly-latest.min']\n",
       "            }\n",
       "        });\n",
       "        require(['plotly'], function(Plotly) {\n",
       "            window._Plotly = Plotly;\n",
       "        });\n",
       "        }\n",
       "        </script>\n",
       "        "
      ]
     },
     "metadata": {},
     "output_type": "display_data"
    }
   ],
   "source": [
    "import pandas as pd\n",
    "import io\n",
    "import numpy as np\n",
    "\n",
    "\n",
    "import matplotlib.pyplot as plt\n",
    "#import matplotlib.patches as mpatches\n",
    "\n",
    "import plotly\n",
    "import plotly.graph_objs as go\n",
    "import plotly.express as px\n",
    "import plotly.figure_factory as ff\n",
    "from plotly.offline import init_notebook_mode\n",
    "init_notebook_mode(connected=True) # to show plots in notebook\n",
    "\n",
    "from sklearn.linear_model import LinearRegression, LogisticRegression\n",
    "from sklearn.svm import SVC\n",
    "from sklearn.tree import DecisionTreeClassifier, plot_tree\n",
    "from sklearn.ensemble import RandomForestClassifier\n",
    "from sklearn.model_selection import train_test_split, cross_val_score, GridSearchCV\n",
    "from sklearn.feature_selection import VarianceThreshold, f_classif, SelectKBest, RFE\n",
    "from sklearn.preprocessing import StandardScaler\n",
    "\n",
    "from sklearn.metrics import mean_squared_error, r2_score, f1_score, classification_report, confusion_matrix\n",
    "from sklearn.metrics import plot_confusion_matrix, auc, roc_auc_score, roc_curve\n",
    "from sklearn.metrics import precision_score, recall_score, f1_score, accuracy_score\n",
    "\n",
    "import statsmodels.api as sm\n",
    "#import graphviz \n",
    "from collections import defaultdict"
   ]
  },
  {
   "cell_type": "code",
   "execution_count": 3,
   "metadata": {},
   "outputs": [
    {
     "name": "stdout",
     "output_type": "stream",
     "text": [
      "The dataset about Mathematics has 395 rows and 33 columns and has no missing values.\n",
      "The dataset about Portuguese language has 649 rows and 33 columns and has no missing values.\n"
     ]
    }
   ],
   "source": [
    "\n",
    "dataMat = pd.read_csv(\"/Users/matti/OneDrive/Desktop/Università/DataSpaces/student/student-mat.csv\", sep=';')\n",
    "dataPor = pd.read_csv(\"/Users/matti/OneDrive/Desktop/Università/DataSpaces/student/student-por.csv\", sep=';')\n",
    "\n",
    "print(\"The dataset about Mathematics has %d rows and %d columns \" % dataMat.shape + \"and has \" + (\"some\" if dataMat.isnull().values.any() else \"no\")  + \" missing values.\")\n",
    "print(\"The dataset about Portuguese language has %d rows and %d columns \" % dataPor.shape + \"and has \" + (\"some\" if dataPor.isnull().values.any() else \"no\")  + \" missing values.\")\n",
    "\n"
   ]
  },
  {
   "cell_type": "code",
   "execution_count": 4,
   "metadata": {},
   "outputs": [],
   "source": [
    "best_estimators = {}\n",
    "\n",
    "value_comparison_w = { 'Weighted average': ['Logistic Regression', 'Decision Tree', 'Random Forest', 'Support Vector Classifier'], 'accuracy': [], 'precision': [], 'recall': [], 'f1': [], 'roc' :[]}\n",
    "value_comparison_macro = {'Macro average': ['Logistic Regression', 'Decision Tree', 'Random Forest', 'Support Vector Classifier'], 'accuracy': [], 'precision': [], 'recall': [], 'f1': [], 'roc' :[]}\n",
    "value_comparison_micro = {'Classifier / Measures': ['Logistic Regression', 'Decision Tree', 'Random Forest', 'Support Vector Classifier'], 'accuracy': [], 'precision': [], 'recall': [], 'f1': [], 'roc' :[]}"
   ]
  },
  {
   "cell_type": "markdown",
   "metadata": {},
   "source": [
    "First of all it can be interesting how the grades of the students contained in these datasets are distributed so that we can better understand the results. Following the suggestion of Paulo Cortez and Alice Silva's paper [2] it was decided to analyze the students' grades in three ways:\n",
    "- Using their grades, which range from 1 to 20;\n",
    "\n",
    "\n",
    "- Using a 5-level classification based on the Erasmus1\n",
    "grade conversion system;\n",
    "    * grades between 0-9 = 1 \n",
    "    * grades between 10-11 = 2\n",
    "    * grades between 12-13 = 3\n",
    "    * grades between 14-15 = 4\n",
    "    * grades between 16-20 = 5\n",
    "    \n",
    "    \n",
    "- Using a binary grade system, success/failure.\n",
    "    * grades between 0-9 (year failed) = 1 \n",
    "    * grades between 10-20 (year passed) = 2 \n",
    "\n",
    "They are all represented below so that we can compare them quickly and clearly.\n"
   ]
  },
  {
   "cell_type": "code",
   "execution_count": 5,
   "metadata": {},
   "outputs": [],
   "source": [
    "gradesMat = dataMat[\"G3\"].value_counts().sort_index()\n",
    "#print(gradesMat.values)\n",
    "#print(gradesMat.index)\n",
    "\n",
    "yMat = gradesMat.values\n",
    "xMat =[]\n",
    "for n in gradesMat.index:\n",
    "  xMat.append(str(n))\n",
    "\n",
    "gradesPor = dataPor[\"G3\"].value_counts().sort_index()\n",
    "#print(gradesPor.values)\n",
    "#print(gradesPor.index)\n",
    "\n",
    "yPor = gradesPor.values\n",
    "xPor =[]\n",
    "for n in gradesPor.index:\n",
    "  xPor.append(str(n))\n",
    "\n",
    "def valueToSwitch(n):\n",
    "    if(n<=9):\n",
    "      return 0\n",
    "    if(n==10 or n==11):\n",
    "      return 1\n",
    "    if(n==12 or n==13):\n",
    "      return 2\n",
    "    if(n==14 or n==15):\n",
    "      return 3\n",
    "    else:\n",
    "      return 4\n",
    "\n",
    "\n",
    "fiveLevelGradesMat = [0,0,0,0,0]\n",
    "fiveLevelGradesPor = [0,0,0,0,0]\n",
    "\n",
    "for grade, quantity in gradesMat.items():\n",
    "    level = valueToSwitch(grade)\n",
    "    fiveLevelGradesMat[level] = fiveLevelGradesMat[level] + quantity\n",
    "\n",
    "for grade, quantity in gradesPor.items():\n",
    "    level = valueToSwitch(grade)\n",
    "    fiveLevelGradesPor[level] = fiveLevelGradesPor[level] + quantity\n",
    "    \n",
    "  \n"
   ]
  },
  {
   "cell_type": "code",
   "execution_count": 6,
   "metadata": {
    "scrolled": false
   },
   "outputs": [
    {
     "data": {
      "application/vnd.plotly.v1+json": {
       "config": {
        "plotlyServerURL": "https://plot.ly"
       },
       "data": [
        {
         "marker": {
          "color": [
           "rgb(214, 39, 40)",
           "rgb(214, 39, 40)",
           "rgb(214, 39, 40)",
           "rgb(214, 39, 40)",
           "rgb(214, 39, 40)",
           "rgb(214, 39, 40)",
           "rgb(214, 39, 40)",
           "rgb(44, 160, 44)",
           "rgb(44, 160, 44)",
           "rgb(44, 160, 44)",
           "rgb(44, 160, 44)",
           "rgb(44, 160, 44)",
           "rgb(44, 160, 44)",
           "rgb(44, 160, 44)",
           "rgb(44, 160, 44)",
           "rgb(44, 160, 44)",
           "rgb(44, 160, 44)",
           "rgb(44, 160, 44)"
          ]
         },
         "name": "20Level Mat",
         "text": [
          38,
          1,
          7,
          15,
          9,
          32,
          28,
          56,
          47,
          31,
          31,
          27,
          33,
          16,
          6,
          12,
          5,
          1
         ],
         "textposition": "auto",
         "type": "bar",
         "visible": true,
         "x": [
          "0",
          "4",
          "5",
          "6",
          "7",
          "8",
          "9",
          "10",
          "11",
          "12",
          "13",
          "14",
          "15",
          "16",
          "17",
          "18",
          "19",
          "20"
         ],
         "y": [
          38,
          1,
          7,
          15,
          9,
          32,
          28,
          56,
          47,
          31,
          31,
          27,
          33,
          16,
          6,
          12,
          5,
          1
         ]
        },
        {
         "marker": {
          "color": [
           "rgb(214, 39, 40)",
           "rgb(44, 160, 44)",
           "rgb(44, 160, 44)",
           "rgb(44, 160, 44)",
           "rgb(44, 160, 44)"
          ]
         },
         "name": "5Level Mat",
         "text": [
          "130",
          "103",
          "62",
          "60",
          "40"
         ],
         "textposition": "auto",
         "type": "bar",
         "visible": false,
         "x": [
          1,
          2,
          3,
          4,
          5
         ],
         "y": [
          130,
          103,
          62,
          60,
          40
         ]
        },
        {
         "marker": {
          "color": [
           "rgb(214, 39, 40)",
           "rgb(44, 160, 44)"
          ]
         },
         "name": "2Level Mat",
         "text": [
          "130",
          "265"
         ],
         "textposition": "auto",
         "type": "bar",
         "visible": false,
         "x": [
          1,
          2
         ],
         "y": [
          130,
          265
         ]
        },
        {
         "marker": {
          "color": [
           "rgb(214, 39, 40)",
           "rgb(214, 39, 40)",
           "rgb(214, 39, 40)",
           "rgb(214, 39, 40)",
           "rgb(214, 39, 40)",
           "rgb(214, 39, 40)",
           "rgb(214, 39, 40)",
           "rgb(44, 160, 44)",
           "rgb(44, 160, 44)",
           "rgb(44, 160, 44)",
           "rgb(44, 160, 44)",
           "rgb(44, 160, 44)",
           "rgb(44, 160, 44)",
           "rgb(44, 160, 44)",
           "rgb(44, 160, 44)",
           "rgb(44, 160, 44)",
           "rgb(44, 160, 44)",
           "rgb(44, 160, 44)"
          ]
         },
         "name": "20Level Por",
         "text": [
          15,
          1,
          1,
          3,
          10,
          35,
          35,
          97,
          104,
          72,
          82,
          63,
          49,
          36,
          29,
          15,
          2
         ],
         "textposition": "auto",
         "type": "bar",
         "visible": false,
         "x": [
          "0",
          "1",
          "5",
          "6",
          "7",
          "8",
          "9",
          "10",
          "11",
          "12",
          "13",
          "14",
          "15",
          "16",
          "17",
          "18",
          "19"
         ],
         "y": [
          15,
          1,
          1,
          3,
          10,
          35,
          35,
          97,
          104,
          72,
          82,
          63,
          49,
          36,
          29,
          15,
          2
         ]
        },
        {
         "marker": {
          "color": [
           "rgb(214, 39, 40)",
           "rgb(44, 160, 44)",
           "rgb(44, 160, 44)",
           "rgb(44, 160, 44)",
           "rgb(44, 160, 44)"
          ]
         },
         "name": "5Level Por",
         "text": [
          "100",
          "201",
          "154",
          "112",
          "82"
         ],
         "textposition": "auto",
         "type": "bar",
         "visible": false,
         "x": [
          1,
          2,
          3,
          4,
          5
         ],
         "y": [
          100,
          201,
          154,
          112,
          82
         ]
        },
        {
         "marker": {
          "color": [
           "rgb(214, 39, 40)",
           "rgb(44, 160, 44)"
          ]
         },
         "name": "2Level Por",
         "text": [
          "100",
          "549"
         ],
         "textposition": "auto",
         "type": "bar",
         "visible": false,
         "x": [
          1,
          2
         ],
         "y": [
          100,
          549
         ]
        }
       ],
       "layout": {
        "barmode": "group",
        "sliders": [
         {
          "active": 0,
          "currentvalue": {
           "prefix": "Grades: "
          },
          "pad": {
           "t": 50
          },
          "steps": [
           {
            "args": [
             "visible",
             [
              true,
              false,
              false,
              false,
              false,
              false
             ]
            ],
            "label": "20 Level Mat",
            "method": "restyle"
           },
           {
            "args": [
             "visible",
             [
              false,
              true,
              false,
              false,
              false,
              false
             ]
            ],
            "label": "5 Level Mat",
            "method": "restyle"
           },
           {
            "args": [
             "visible",
             [
              false,
              false,
              true,
              false,
              false,
              false
             ]
            ],
            "label": "2 Level Mat",
            "method": "restyle"
           },
           {
            "args": [
             "visible",
             [
              false,
              false,
              false,
              true,
              false,
              false
             ]
            ],
            "label": "20 Level Por",
            "method": "restyle"
           },
           {
            "args": [
             "visible",
             [
              false,
              false,
              false,
              false,
              true,
              false
             ]
            ],
            "label": "5 Level Por",
            "method": "restyle"
           },
           {
            "args": [
             "visible",
             [
              false,
              false,
              false,
              false,
              false,
              true
             ]
            ],
            "label": "2 Level Por",
            "method": "restyle"
           }
          ]
         }
        ],
        "template": {
         "data": {
          "bar": [
           {
            "error_x": {
             "color": "#2a3f5f"
            },
            "error_y": {
             "color": "#2a3f5f"
            },
            "marker": {
             "line": {
              "color": "#E5ECF6",
              "width": 0.5
             }
            },
            "type": "bar"
           }
          ],
          "barpolar": [
           {
            "marker": {
             "line": {
              "color": "#E5ECF6",
              "width": 0.5
             }
            },
            "type": "barpolar"
           }
          ],
          "carpet": [
           {
            "aaxis": {
             "endlinecolor": "#2a3f5f",
             "gridcolor": "white",
             "linecolor": "white",
             "minorgridcolor": "white",
             "startlinecolor": "#2a3f5f"
            },
            "baxis": {
             "endlinecolor": "#2a3f5f",
             "gridcolor": "white",
             "linecolor": "white",
             "minorgridcolor": "white",
             "startlinecolor": "#2a3f5f"
            },
            "type": "carpet"
           }
          ],
          "choropleth": [
           {
            "colorbar": {
             "outlinewidth": 0,
             "ticks": ""
            },
            "type": "choropleth"
           }
          ],
          "contour": [
           {
            "colorbar": {
             "outlinewidth": 0,
             "ticks": ""
            },
            "colorscale": [
             [
              0,
              "#0d0887"
             ],
             [
              0.1111111111111111,
              "#46039f"
             ],
             [
              0.2222222222222222,
              "#7201a8"
             ],
             [
              0.3333333333333333,
              "#9c179e"
             ],
             [
              0.4444444444444444,
              "#bd3786"
             ],
             [
              0.5555555555555556,
              "#d8576b"
             ],
             [
              0.6666666666666666,
              "#ed7953"
             ],
             [
              0.7777777777777778,
              "#fb9f3a"
             ],
             [
              0.8888888888888888,
              "#fdca26"
             ],
             [
              1,
              "#f0f921"
             ]
            ],
            "type": "contour"
           }
          ],
          "contourcarpet": [
           {
            "colorbar": {
             "outlinewidth": 0,
             "ticks": ""
            },
            "type": "contourcarpet"
           }
          ],
          "heatmap": [
           {
            "colorbar": {
             "outlinewidth": 0,
             "ticks": ""
            },
            "colorscale": [
             [
              0,
              "#0d0887"
             ],
             [
              0.1111111111111111,
              "#46039f"
             ],
             [
              0.2222222222222222,
              "#7201a8"
             ],
             [
              0.3333333333333333,
              "#9c179e"
             ],
             [
              0.4444444444444444,
              "#bd3786"
             ],
             [
              0.5555555555555556,
              "#d8576b"
             ],
             [
              0.6666666666666666,
              "#ed7953"
             ],
             [
              0.7777777777777778,
              "#fb9f3a"
             ],
             [
              0.8888888888888888,
              "#fdca26"
             ],
             [
              1,
              "#f0f921"
             ]
            ],
            "type": "heatmap"
           }
          ],
          "heatmapgl": [
           {
            "colorbar": {
             "outlinewidth": 0,
             "ticks": ""
            },
            "colorscale": [
             [
              0,
              "#0d0887"
             ],
             [
              0.1111111111111111,
              "#46039f"
             ],
             [
              0.2222222222222222,
              "#7201a8"
             ],
             [
              0.3333333333333333,
              "#9c179e"
             ],
             [
              0.4444444444444444,
              "#bd3786"
             ],
             [
              0.5555555555555556,
              "#d8576b"
             ],
             [
              0.6666666666666666,
              "#ed7953"
             ],
             [
              0.7777777777777778,
              "#fb9f3a"
             ],
             [
              0.8888888888888888,
              "#fdca26"
             ],
             [
              1,
              "#f0f921"
             ]
            ],
            "type": "heatmapgl"
           }
          ],
          "histogram": [
           {
            "marker": {
             "colorbar": {
              "outlinewidth": 0,
              "ticks": ""
             }
            },
            "type": "histogram"
           }
          ],
          "histogram2d": [
           {
            "colorbar": {
             "outlinewidth": 0,
             "ticks": ""
            },
            "colorscale": [
             [
              0,
              "#0d0887"
             ],
             [
              0.1111111111111111,
              "#46039f"
             ],
             [
              0.2222222222222222,
              "#7201a8"
             ],
             [
              0.3333333333333333,
              "#9c179e"
             ],
             [
              0.4444444444444444,
              "#bd3786"
             ],
             [
              0.5555555555555556,
              "#d8576b"
             ],
             [
              0.6666666666666666,
              "#ed7953"
             ],
             [
              0.7777777777777778,
              "#fb9f3a"
             ],
             [
              0.8888888888888888,
              "#fdca26"
             ],
             [
              1,
              "#f0f921"
             ]
            ],
            "type": "histogram2d"
           }
          ],
          "histogram2dcontour": [
           {
            "colorbar": {
             "outlinewidth": 0,
             "ticks": ""
            },
            "colorscale": [
             [
              0,
              "#0d0887"
             ],
             [
              0.1111111111111111,
              "#46039f"
             ],
             [
              0.2222222222222222,
              "#7201a8"
             ],
             [
              0.3333333333333333,
              "#9c179e"
             ],
             [
              0.4444444444444444,
              "#bd3786"
             ],
             [
              0.5555555555555556,
              "#d8576b"
             ],
             [
              0.6666666666666666,
              "#ed7953"
             ],
             [
              0.7777777777777778,
              "#fb9f3a"
             ],
             [
              0.8888888888888888,
              "#fdca26"
             ],
             [
              1,
              "#f0f921"
             ]
            ],
            "type": "histogram2dcontour"
           }
          ],
          "mesh3d": [
           {
            "colorbar": {
             "outlinewidth": 0,
             "ticks": ""
            },
            "type": "mesh3d"
           }
          ],
          "parcoords": [
           {
            "line": {
             "colorbar": {
              "outlinewidth": 0,
              "ticks": ""
             }
            },
            "type": "parcoords"
           }
          ],
          "pie": [
           {
            "automargin": true,
            "type": "pie"
           }
          ],
          "scatter": [
           {
            "marker": {
             "colorbar": {
              "outlinewidth": 0,
              "ticks": ""
             }
            },
            "type": "scatter"
           }
          ],
          "scatter3d": [
           {
            "line": {
             "colorbar": {
              "outlinewidth": 0,
              "ticks": ""
             }
            },
            "marker": {
             "colorbar": {
              "outlinewidth": 0,
              "ticks": ""
             }
            },
            "type": "scatter3d"
           }
          ],
          "scattercarpet": [
           {
            "marker": {
             "colorbar": {
              "outlinewidth": 0,
              "ticks": ""
             }
            },
            "type": "scattercarpet"
           }
          ],
          "scattergeo": [
           {
            "marker": {
             "colorbar": {
              "outlinewidth": 0,
              "ticks": ""
             }
            },
            "type": "scattergeo"
           }
          ],
          "scattergl": [
           {
            "marker": {
             "colorbar": {
              "outlinewidth": 0,
              "ticks": ""
             }
            },
            "type": "scattergl"
           }
          ],
          "scattermapbox": [
           {
            "marker": {
             "colorbar": {
              "outlinewidth": 0,
              "ticks": ""
             }
            },
            "type": "scattermapbox"
           }
          ],
          "scatterpolar": [
           {
            "marker": {
             "colorbar": {
              "outlinewidth": 0,
              "ticks": ""
             }
            },
            "type": "scatterpolar"
           }
          ],
          "scatterpolargl": [
           {
            "marker": {
             "colorbar": {
              "outlinewidth": 0,
              "ticks": ""
             }
            },
            "type": "scatterpolargl"
           }
          ],
          "scatterternary": [
           {
            "marker": {
             "colorbar": {
              "outlinewidth": 0,
              "ticks": ""
             }
            },
            "type": "scatterternary"
           }
          ],
          "surface": [
           {
            "colorbar": {
             "outlinewidth": 0,
             "ticks": ""
            },
            "colorscale": [
             [
              0,
              "#0d0887"
             ],
             [
              0.1111111111111111,
              "#46039f"
             ],
             [
              0.2222222222222222,
              "#7201a8"
             ],
             [
              0.3333333333333333,
              "#9c179e"
             ],
             [
              0.4444444444444444,
              "#bd3786"
             ],
             [
              0.5555555555555556,
              "#d8576b"
             ],
             [
              0.6666666666666666,
              "#ed7953"
             ],
             [
              0.7777777777777778,
              "#fb9f3a"
             ],
             [
              0.8888888888888888,
              "#fdca26"
             ],
             [
              1,
              "#f0f921"
             ]
            ],
            "type": "surface"
           }
          ],
          "table": [
           {
            "cells": {
             "fill": {
              "color": "#EBF0F8"
             },
             "line": {
              "color": "white"
             }
            },
            "header": {
             "fill": {
              "color": "#C8D4E3"
             },
             "line": {
              "color": "white"
             }
            },
            "type": "table"
           }
          ]
         },
         "layout": {
          "annotationdefaults": {
           "arrowcolor": "#2a3f5f",
           "arrowhead": 0,
           "arrowwidth": 1
          },
          "coloraxis": {
           "colorbar": {
            "outlinewidth": 0,
            "ticks": ""
           }
          },
          "colorscale": {
           "diverging": [
            [
             0,
             "#8e0152"
            ],
            [
             0.1,
             "#c51b7d"
            ],
            [
             0.2,
             "#de77ae"
            ],
            [
             0.3,
             "#f1b6da"
            ],
            [
             0.4,
             "#fde0ef"
            ],
            [
             0.5,
             "#f7f7f7"
            ],
            [
             0.6,
             "#e6f5d0"
            ],
            [
             0.7,
             "#b8e186"
            ],
            [
             0.8,
             "#7fbc41"
            ],
            [
             0.9,
             "#4d9221"
            ],
            [
             1,
             "#276419"
            ]
           ],
           "sequential": [
            [
             0,
             "#0d0887"
            ],
            [
             0.1111111111111111,
             "#46039f"
            ],
            [
             0.2222222222222222,
             "#7201a8"
            ],
            [
             0.3333333333333333,
             "#9c179e"
            ],
            [
             0.4444444444444444,
             "#bd3786"
            ],
            [
             0.5555555555555556,
             "#d8576b"
            ],
            [
             0.6666666666666666,
             "#ed7953"
            ],
            [
             0.7777777777777778,
             "#fb9f3a"
            ],
            [
             0.8888888888888888,
             "#fdca26"
            ],
            [
             1,
             "#f0f921"
            ]
           ],
           "sequentialminus": [
            [
             0,
             "#0d0887"
            ],
            [
             0.1111111111111111,
             "#46039f"
            ],
            [
             0.2222222222222222,
             "#7201a8"
            ],
            [
             0.3333333333333333,
             "#9c179e"
            ],
            [
             0.4444444444444444,
             "#bd3786"
            ],
            [
             0.5555555555555556,
             "#d8576b"
            ],
            [
             0.6666666666666666,
             "#ed7953"
            ],
            [
             0.7777777777777778,
             "#fb9f3a"
            ],
            [
             0.8888888888888888,
             "#fdca26"
            ],
            [
             1,
             "#f0f921"
            ]
           ]
          },
          "colorway": [
           "#636efa",
           "#EF553B",
           "#00cc96",
           "#ab63fa",
           "#FFA15A",
           "#19d3f3",
           "#FF6692",
           "#B6E880",
           "#FF97FF",
           "#FECB52"
          ],
          "font": {
           "color": "#2a3f5f"
          },
          "geo": {
           "bgcolor": "white",
           "lakecolor": "white",
           "landcolor": "#E5ECF6",
           "showlakes": true,
           "showland": true,
           "subunitcolor": "white"
          },
          "hoverlabel": {
           "align": "left"
          },
          "hovermode": "closest",
          "mapbox": {
           "style": "light"
          },
          "paper_bgcolor": "white",
          "plot_bgcolor": "#E5ECF6",
          "polar": {
           "angularaxis": {
            "gridcolor": "white",
            "linecolor": "white",
            "ticks": ""
           },
           "bgcolor": "#E5ECF6",
           "radialaxis": {
            "gridcolor": "white",
            "linecolor": "white",
            "ticks": ""
           }
          },
          "scene": {
           "xaxis": {
            "backgroundcolor": "#E5ECF6",
            "gridcolor": "white",
            "gridwidth": 2,
            "linecolor": "white",
            "showbackground": true,
            "ticks": "",
            "zerolinecolor": "white"
           },
           "yaxis": {
            "backgroundcolor": "#E5ECF6",
            "gridcolor": "white",
            "gridwidth": 2,
            "linecolor": "white",
            "showbackground": true,
            "ticks": "",
            "zerolinecolor": "white"
           },
           "zaxis": {
            "backgroundcolor": "#E5ECF6",
            "gridcolor": "white",
            "gridwidth": 2,
            "linecolor": "white",
            "showbackground": true,
            "ticks": "",
            "zerolinecolor": "white"
           }
          },
          "shapedefaults": {
           "line": {
            "color": "#2a3f5f"
           }
          },
          "ternary": {
           "aaxis": {
            "gridcolor": "white",
            "linecolor": "white",
            "ticks": ""
           },
           "baxis": {
            "gridcolor": "white",
            "linecolor": "white",
            "ticks": ""
           },
           "bgcolor": "#E5ECF6",
           "caxis": {
            "gridcolor": "white",
            "linecolor": "white",
            "ticks": ""
           }
          },
          "title": {
           "x": 0.05
          },
          "xaxis": {
           "automargin": true,
           "gridcolor": "white",
           "linecolor": "white",
           "ticks": "",
           "title": {
            "standoff": 15
           },
           "zerolinecolor": "white",
           "zerolinewidth": 2
          },
          "yaxis": {
           "automargin": true,
           "gridcolor": "white",
           "linecolor": "white",
           "ticks": "",
           "title": {
            "standoff": 15
           },
           "zerolinecolor": "white",
           "zerolinewidth": 2
          }
         }
        },
        "title": {
         "text": "Various rappresentation of G3 grades in Mathematics and Portuguese Lanaguage"
        },
        "xaxis": {
         "tickmode": "linear",
         "title": {
          "text": "Grade"
         }
        },
        "yaxis": {
         "title": {
          "text": "#student"
         }
        }
       }
      },
      "text/html": [
       "<div>\n",
       "        \n",
       "        \n",
       "            <div id=\"93566856-9d69-486a-981b-3cf96bb057b1\" class=\"plotly-graph-div\" style=\"height:525px; width:100%;\"></div>\n",
       "            <script type=\"text/javascript\">\n",
       "                require([\"plotly\"], function(Plotly) {\n",
       "                    window.PLOTLYENV=window.PLOTLYENV || {};\n",
       "                    \n",
       "                if (document.getElementById(\"93566856-9d69-486a-981b-3cf96bb057b1\")) {\n",
       "                    Plotly.newPlot(\n",
       "                        '93566856-9d69-486a-981b-3cf96bb057b1',\n",
       "                        [{\"marker\": {\"color\": [\"rgb(214, 39, 40)\", \"rgb(214, 39, 40)\", \"rgb(214, 39, 40)\", \"rgb(214, 39, 40)\", \"rgb(214, 39, 40)\", \"rgb(214, 39, 40)\", \"rgb(214, 39, 40)\", \"rgb(44, 160, 44)\", \"rgb(44, 160, 44)\", \"rgb(44, 160, 44)\", \"rgb(44, 160, 44)\", \"rgb(44, 160, 44)\", \"rgb(44, 160, 44)\", \"rgb(44, 160, 44)\", \"rgb(44, 160, 44)\", \"rgb(44, 160, 44)\", \"rgb(44, 160, 44)\", \"rgb(44, 160, 44)\"]}, \"name\": \"20Level Mat\", \"text\": [38.0, 1.0, 7.0, 15.0, 9.0, 32.0, 28.0, 56.0, 47.0, 31.0, 31.0, 27.0, 33.0, 16.0, 6.0, 12.0, 5.0, 1.0], \"textposition\": \"auto\", \"type\": \"bar\", \"visible\": true, \"x\": [\"0\", \"4\", \"5\", \"6\", \"7\", \"8\", \"9\", \"10\", \"11\", \"12\", \"13\", \"14\", \"15\", \"16\", \"17\", \"18\", \"19\", \"20\"], \"y\": [38, 1, 7, 15, 9, 32, 28, 56, 47, 31, 31, 27, 33, 16, 6, 12, 5, 1]}, {\"marker\": {\"color\": [\"rgb(214, 39, 40)\", \"rgb(44, 160, 44)\", \"rgb(44, 160, 44)\", \"rgb(44, 160, 44)\", \"rgb(44, 160, 44)\"]}, \"name\": \"5Level Mat\", \"text\": [\"130\", \"103\", \"62\", \"60\", \"40\"], \"textposition\": \"auto\", \"type\": \"bar\", \"visible\": false, \"x\": [1, 2, 3, 4, 5], \"y\": [130, 103, 62, 60, 40]}, {\"marker\": {\"color\": [\"rgb(214, 39, 40)\", \"rgb(44, 160, 44)\"]}, \"name\": \"2Level Mat\", \"text\": [\"130\", \"265\"], \"textposition\": \"auto\", \"type\": \"bar\", \"visible\": false, \"x\": [1, 2], \"y\": [130, 265]}, {\"marker\": {\"color\": [\"rgb(214, 39, 40)\", \"rgb(214, 39, 40)\", \"rgb(214, 39, 40)\", \"rgb(214, 39, 40)\", \"rgb(214, 39, 40)\", \"rgb(214, 39, 40)\", \"rgb(214, 39, 40)\", \"rgb(44, 160, 44)\", \"rgb(44, 160, 44)\", \"rgb(44, 160, 44)\", \"rgb(44, 160, 44)\", \"rgb(44, 160, 44)\", \"rgb(44, 160, 44)\", \"rgb(44, 160, 44)\", \"rgb(44, 160, 44)\", \"rgb(44, 160, 44)\", \"rgb(44, 160, 44)\", \"rgb(44, 160, 44)\"]}, \"name\": \"20Level Por\", \"text\": [15.0, 1.0, 1.0, 3.0, 10.0, 35.0, 35.0, 97.0, 104.0, 72.0, 82.0, 63.0, 49.0, 36.0, 29.0, 15.0, 2.0], \"textposition\": \"auto\", \"type\": \"bar\", \"visible\": false, \"x\": [\"0\", \"1\", \"5\", \"6\", \"7\", \"8\", \"9\", \"10\", \"11\", \"12\", \"13\", \"14\", \"15\", \"16\", \"17\", \"18\", \"19\"], \"y\": [15, 1, 1, 3, 10, 35, 35, 97, 104, 72, 82, 63, 49, 36, 29, 15, 2]}, {\"marker\": {\"color\": [\"rgb(214, 39, 40)\", \"rgb(44, 160, 44)\", \"rgb(44, 160, 44)\", \"rgb(44, 160, 44)\", \"rgb(44, 160, 44)\"]}, \"name\": \"5Level Por\", \"text\": [\"100\", \"201\", \"154\", \"112\", \"82\"], \"textposition\": \"auto\", \"type\": \"bar\", \"visible\": false, \"x\": [1, 2, 3, 4, 5], \"y\": [100, 201, 154, 112, 82]}, {\"marker\": {\"color\": [\"rgb(214, 39, 40)\", \"rgb(44, 160, 44)\"]}, \"name\": \"2Level Por\", \"text\": [\"100\", \"549\"], \"textposition\": \"auto\", \"type\": \"bar\", \"visible\": false, \"x\": [1, 2], \"y\": [100, 549]}],\n",
       "                        {\"barmode\": \"group\", \"sliders\": [{\"active\": 0, \"currentvalue\": {\"prefix\": \"Grades: \"}, \"pad\": {\"t\": 50}, \"steps\": [{\"args\": [\"visible\", [true, false, false, false, false, false]], \"label\": \"20 Level Mat\", \"method\": \"restyle\"}, {\"args\": [\"visible\", [false, true, false, false, false, false]], \"label\": \"5 Level Mat\", \"method\": \"restyle\"}, {\"args\": [\"visible\", [false, false, true, false, false, false]], \"label\": \"2 Level Mat\", \"method\": \"restyle\"}, {\"args\": [\"visible\", [false, false, false, true, false, false]], \"label\": \"20 Level Por\", \"method\": \"restyle\"}, {\"args\": [\"visible\", [false, false, false, false, true, false]], \"label\": \"5 Level Por\", \"method\": \"restyle\"}, {\"args\": [\"visible\", [false, false, false, false, false, true]], \"label\": \"2 Level Por\", \"method\": \"restyle\"}]}], \"template\": {\"data\": {\"bar\": [{\"error_x\": {\"color\": \"#2a3f5f\"}, \"error_y\": {\"color\": \"#2a3f5f\"}, \"marker\": {\"line\": {\"color\": \"#E5ECF6\", \"width\": 0.5}}, \"type\": \"bar\"}], \"barpolar\": [{\"marker\": {\"line\": {\"color\": \"#E5ECF6\", \"width\": 0.5}}, \"type\": \"barpolar\"}], \"carpet\": [{\"aaxis\": {\"endlinecolor\": \"#2a3f5f\", \"gridcolor\": \"white\", \"linecolor\": \"white\", \"minorgridcolor\": \"white\", \"startlinecolor\": \"#2a3f5f\"}, \"baxis\": {\"endlinecolor\": \"#2a3f5f\", \"gridcolor\": \"white\", \"linecolor\": \"white\", \"minorgridcolor\": \"white\", \"startlinecolor\": \"#2a3f5f\"}, \"type\": \"carpet\"}], \"choropleth\": [{\"colorbar\": {\"outlinewidth\": 0, \"ticks\": \"\"}, \"type\": \"choropleth\"}], \"contour\": [{\"colorbar\": {\"outlinewidth\": 0, \"ticks\": \"\"}, \"colorscale\": [[0.0, \"#0d0887\"], [0.1111111111111111, \"#46039f\"], [0.2222222222222222, \"#7201a8\"], [0.3333333333333333, \"#9c179e\"], [0.4444444444444444, \"#bd3786\"], [0.5555555555555556, \"#d8576b\"], [0.6666666666666666, \"#ed7953\"], [0.7777777777777778, \"#fb9f3a\"], [0.8888888888888888, \"#fdca26\"], [1.0, \"#f0f921\"]], \"type\": \"contour\"}], \"contourcarpet\": [{\"colorbar\": {\"outlinewidth\": 0, \"ticks\": \"\"}, \"type\": \"contourcarpet\"}], \"heatmap\": [{\"colorbar\": {\"outlinewidth\": 0, \"ticks\": \"\"}, \"colorscale\": [[0.0, \"#0d0887\"], [0.1111111111111111, \"#46039f\"], [0.2222222222222222, \"#7201a8\"], [0.3333333333333333, \"#9c179e\"], [0.4444444444444444, \"#bd3786\"], [0.5555555555555556, \"#d8576b\"], [0.6666666666666666, \"#ed7953\"], [0.7777777777777778, \"#fb9f3a\"], [0.8888888888888888, \"#fdca26\"], [1.0, \"#f0f921\"]], \"type\": \"heatmap\"}], \"heatmapgl\": [{\"colorbar\": {\"outlinewidth\": 0, \"ticks\": \"\"}, \"colorscale\": [[0.0, \"#0d0887\"], [0.1111111111111111, \"#46039f\"], [0.2222222222222222, \"#7201a8\"], [0.3333333333333333, \"#9c179e\"], [0.4444444444444444, \"#bd3786\"], [0.5555555555555556, \"#d8576b\"], [0.6666666666666666, \"#ed7953\"], [0.7777777777777778, \"#fb9f3a\"], [0.8888888888888888, \"#fdca26\"], [1.0, \"#f0f921\"]], \"type\": \"heatmapgl\"}], \"histogram\": [{\"marker\": {\"colorbar\": {\"outlinewidth\": 0, \"ticks\": \"\"}}, \"type\": \"histogram\"}], \"histogram2d\": [{\"colorbar\": {\"outlinewidth\": 0, \"ticks\": \"\"}, \"colorscale\": [[0.0, \"#0d0887\"], [0.1111111111111111, \"#46039f\"], [0.2222222222222222, \"#7201a8\"], [0.3333333333333333, \"#9c179e\"], [0.4444444444444444, \"#bd3786\"], [0.5555555555555556, \"#d8576b\"], [0.6666666666666666, \"#ed7953\"], [0.7777777777777778, \"#fb9f3a\"], [0.8888888888888888, \"#fdca26\"], [1.0, \"#f0f921\"]], \"type\": \"histogram2d\"}], \"histogram2dcontour\": [{\"colorbar\": {\"outlinewidth\": 0, \"ticks\": \"\"}, \"colorscale\": [[0.0, \"#0d0887\"], [0.1111111111111111, \"#46039f\"], [0.2222222222222222, \"#7201a8\"], [0.3333333333333333, \"#9c179e\"], [0.4444444444444444, \"#bd3786\"], [0.5555555555555556, \"#d8576b\"], [0.6666666666666666, \"#ed7953\"], [0.7777777777777778, \"#fb9f3a\"], [0.8888888888888888, \"#fdca26\"], [1.0, \"#f0f921\"]], \"type\": \"histogram2dcontour\"}], \"mesh3d\": [{\"colorbar\": {\"outlinewidth\": 0, \"ticks\": \"\"}, \"type\": \"mesh3d\"}], \"parcoords\": [{\"line\": {\"colorbar\": {\"outlinewidth\": 0, \"ticks\": \"\"}}, \"type\": \"parcoords\"}], \"pie\": [{\"automargin\": true, \"type\": \"pie\"}], \"scatter\": [{\"marker\": {\"colorbar\": {\"outlinewidth\": 0, \"ticks\": \"\"}}, \"type\": \"scatter\"}], \"scatter3d\": [{\"line\": {\"colorbar\": {\"outlinewidth\": 0, \"ticks\": \"\"}}, \"marker\": {\"colorbar\": {\"outlinewidth\": 0, \"ticks\": \"\"}}, \"type\": \"scatter3d\"}], \"scattercarpet\": [{\"marker\": {\"colorbar\": {\"outlinewidth\": 0, \"ticks\": \"\"}}, \"type\": \"scattercarpet\"}], \"scattergeo\": [{\"marker\": {\"colorbar\": {\"outlinewidth\": 0, \"ticks\": \"\"}}, \"type\": \"scattergeo\"}], \"scattergl\": [{\"marker\": {\"colorbar\": {\"outlinewidth\": 0, \"ticks\": \"\"}}, \"type\": \"scattergl\"}], \"scattermapbox\": [{\"marker\": {\"colorbar\": {\"outlinewidth\": 0, \"ticks\": \"\"}}, \"type\": \"scattermapbox\"}], \"scatterpolar\": [{\"marker\": {\"colorbar\": {\"outlinewidth\": 0, \"ticks\": \"\"}}, \"type\": \"scatterpolar\"}], \"scatterpolargl\": [{\"marker\": {\"colorbar\": {\"outlinewidth\": 0, \"ticks\": \"\"}}, \"type\": \"scatterpolargl\"}], \"scatterternary\": [{\"marker\": {\"colorbar\": {\"outlinewidth\": 0, \"ticks\": \"\"}}, \"type\": \"scatterternary\"}], \"surface\": [{\"colorbar\": {\"outlinewidth\": 0, \"ticks\": \"\"}, \"colorscale\": [[0.0, \"#0d0887\"], [0.1111111111111111, \"#46039f\"], [0.2222222222222222, \"#7201a8\"], [0.3333333333333333, \"#9c179e\"], [0.4444444444444444, \"#bd3786\"], [0.5555555555555556, \"#d8576b\"], [0.6666666666666666, \"#ed7953\"], [0.7777777777777778, \"#fb9f3a\"], [0.8888888888888888, \"#fdca26\"], [1.0, \"#f0f921\"]], \"type\": \"surface\"}], \"table\": [{\"cells\": {\"fill\": {\"color\": \"#EBF0F8\"}, \"line\": {\"color\": \"white\"}}, \"header\": {\"fill\": {\"color\": \"#C8D4E3\"}, \"line\": {\"color\": \"white\"}}, \"type\": \"table\"}]}, \"layout\": {\"annotationdefaults\": {\"arrowcolor\": \"#2a3f5f\", \"arrowhead\": 0, \"arrowwidth\": 1}, \"coloraxis\": {\"colorbar\": {\"outlinewidth\": 0, \"ticks\": \"\"}}, \"colorscale\": {\"diverging\": [[0, \"#8e0152\"], [0.1, \"#c51b7d\"], [0.2, \"#de77ae\"], [0.3, \"#f1b6da\"], [0.4, \"#fde0ef\"], [0.5, \"#f7f7f7\"], [0.6, \"#e6f5d0\"], [0.7, \"#b8e186\"], [0.8, \"#7fbc41\"], [0.9, \"#4d9221\"], [1, \"#276419\"]], \"sequential\": [[0.0, \"#0d0887\"], [0.1111111111111111, \"#46039f\"], [0.2222222222222222, \"#7201a8\"], [0.3333333333333333, \"#9c179e\"], [0.4444444444444444, \"#bd3786\"], [0.5555555555555556, \"#d8576b\"], [0.6666666666666666, \"#ed7953\"], [0.7777777777777778, \"#fb9f3a\"], [0.8888888888888888, \"#fdca26\"], [1.0, \"#f0f921\"]], \"sequentialminus\": [[0.0, \"#0d0887\"], [0.1111111111111111, \"#46039f\"], [0.2222222222222222, \"#7201a8\"], [0.3333333333333333, \"#9c179e\"], [0.4444444444444444, \"#bd3786\"], [0.5555555555555556, \"#d8576b\"], [0.6666666666666666, \"#ed7953\"], [0.7777777777777778, \"#fb9f3a\"], [0.8888888888888888, \"#fdca26\"], [1.0, \"#f0f921\"]]}, \"colorway\": [\"#636efa\", \"#EF553B\", \"#00cc96\", \"#ab63fa\", \"#FFA15A\", \"#19d3f3\", \"#FF6692\", \"#B6E880\", \"#FF97FF\", \"#FECB52\"], \"font\": {\"color\": \"#2a3f5f\"}, \"geo\": {\"bgcolor\": \"white\", \"lakecolor\": \"white\", \"landcolor\": \"#E5ECF6\", \"showlakes\": true, \"showland\": true, \"subunitcolor\": \"white\"}, \"hoverlabel\": {\"align\": \"left\"}, \"hovermode\": \"closest\", \"mapbox\": {\"style\": \"light\"}, \"paper_bgcolor\": \"white\", \"plot_bgcolor\": \"#E5ECF6\", \"polar\": {\"angularaxis\": {\"gridcolor\": \"white\", \"linecolor\": \"white\", \"ticks\": \"\"}, \"bgcolor\": \"#E5ECF6\", \"radialaxis\": {\"gridcolor\": \"white\", \"linecolor\": \"white\", \"ticks\": \"\"}}, \"scene\": {\"xaxis\": {\"backgroundcolor\": \"#E5ECF6\", \"gridcolor\": \"white\", \"gridwidth\": 2, \"linecolor\": \"white\", \"showbackground\": true, \"ticks\": \"\", \"zerolinecolor\": \"white\"}, \"yaxis\": {\"backgroundcolor\": \"#E5ECF6\", \"gridcolor\": \"white\", \"gridwidth\": 2, \"linecolor\": \"white\", \"showbackground\": true, \"ticks\": \"\", \"zerolinecolor\": \"white\"}, \"zaxis\": {\"backgroundcolor\": \"#E5ECF6\", \"gridcolor\": \"white\", \"gridwidth\": 2, \"linecolor\": \"white\", \"showbackground\": true, \"ticks\": \"\", \"zerolinecolor\": \"white\"}}, \"shapedefaults\": {\"line\": {\"color\": \"#2a3f5f\"}}, \"ternary\": {\"aaxis\": {\"gridcolor\": \"white\", \"linecolor\": \"white\", \"ticks\": \"\"}, \"baxis\": {\"gridcolor\": \"white\", \"linecolor\": \"white\", \"ticks\": \"\"}, \"bgcolor\": \"#E5ECF6\", \"caxis\": {\"gridcolor\": \"white\", \"linecolor\": \"white\", \"ticks\": \"\"}}, \"title\": {\"x\": 0.05}, \"xaxis\": {\"automargin\": true, \"gridcolor\": \"white\", \"linecolor\": \"white\", \"ticks\": \"\", \"title\": {\"standoff\": 15}, \"zerolinecolor\": \"white\", \"zerolinewidth\": 2}, \"yaxis\": {\"automargin\": true, \"gridcolor\": \"white\", \"linecolor\": \"white\", \"ticks\": \"\", \"title\": {\"standoff\": 15}, \"zerolinecolor\": \"white\", \"zerolinewidth\": 2}}}, \"title\": {\"text\": \"Various rappresentation of G3 grades in Mathematics and Portuguese Lanaguage\"}, \"xaxis\": {\"tickmode\": \"linear\", \"title\": {\"text\": \"Grade\"}}, \"yaxis\": {\"title\": {\"text\": \"#student\"}}},\n",
       "                        {\"responsive\": true}\n",
       "                    ).then(function(){\n",
       "                            \n",
       "var gd = document.getElementById('93566856-9d69-486a-981b-3cf96bb057b1');\n",
       "var x = new MutationObserver(function (mutations, observer) {{\n",
       "        var display = window.getComputedStyle(gd).display;\n",
       "        if (!display || display === 'none') {{\n",
       "            console.log([gd, 'removed!']);\n",
       "            Plotly.purge(gd);\n",
       "            observer.disconnect();\n",
       "        }}\n",
       "}});\n",
       "\n",
       "// Listen for the removal of the full notebook cells\n",
       "var notebookContainer = gd.closest('#notebook-container');\n",
       "if (notebookContainer) {{\n",
       "    x.observe(notebookContainer, {childList: true});\n",
       "}}\n",
       "\n",
       "// Listen for the clearing of the current output cell\n",
       "var outputEl = gd.closest('.output');\n",
       "if (outputEl) {{\n",
       "    x.observe(outputEl, {childList: true});\n",
       "}}\n",
       "\n",
       "                        })\n",
       "                };\n",
       "                });\n",
       "            </script>\n",
       "        </div>"
      ]
     },
     "metadata": {},
     "output_type": "display_data"
    }
   ],
   "source": [
    "colors = plotly.colors.DEFAULT_PLOTLY_COLORS\n",
    "\n",
    "binaryGradesMat = [fiveLevelGradesMat[0], fiveLevelGradesMat[1]+fiveLevelGradesMat[2]+fiveLevelGradesMat[3]+fiveLevelGradesMat[4]]\n",
    "binaryGradesPor = [fiveLevelGradesPor[0], fiveLevelGradesPor[1]+fiveLevelGradesPor[2]+fiveLevelGradesPor[3]+fiveLevelGradesPor[4]]\n",
    "\n",
    "# Create figure\n",
    "fig = go.Figure()\n",
    "\n",
    "fiveLevel = ['0-9', '10-11', '12-13', '14-15', '16-20']\n",
    "twoLevel = ['Fail', 'Pass']\n",
    "\n",
    "colors20L = [colors[2]]*len(xMat)\n",
    "for i in list(range(0,7)):\n",
    "    colors20L[i] = colors[3]\n",
    "\n",
    "    \n",
    "colors5L = [colors[2]]*5\n",
    "colors5L[0] = colors[3]\n",
    "\n",
    "colors2L = [colors[3],colors[2]]\n",
    "\n",
    "fig.add_trace(\n",
    "        go.Bar(\n",
    "            visible=False,\n",
    "            marker_color=colors20L,\n",
    "            name='20Level Mat',\n",
    "            x=xMat,\n",
    "            y=yMat,\n",
    "            text=yMat,\n",
    "            textposition='auto'))\n",
    "\n",
    "fig.add_trace(\n",
    "        go.Bar(\n",
    "            visible=False,\n",
    "             marker_color=colors5L,\n",
    "            name='5Level Mat',\n",
    "            x=list(range(1,6)),\n",
    "            y=fiveLevelGradesMat,\n",
    "            text=fiveLevelGradesMat,\n",
    "            textposition='auto'))\n",
    "\n",
    "fig.add_trace(\n",
    "        go.Bar(\n",
    "            visible=False,\n",
    "            marker_color=colors2L,\n",
    "            name='2Level Mat',\n",
    "            x=list(range(1,3)),\n",
    "            y=binaryGradesMat,\n",
    "            text=binaryGradesMat,\n",
    "            textposition='auto'))\n",
    "\n",
    "fig.add_trace(\n",
    "         go.Bar(\n",
    "            visible=False,\n",
    "            marker_color=colors20L,\n",
    "            name='20Level Por',\n",
    "            x=xPor,\n",
    "            y=yPor,\n",
    "            text=yPor,\n",
    "            textposition='auto'))\n",
    "fig.add_trace(\n",
    "         go.Bar(\n",
    "            visible=False,\n",
    "            marker_color=colors5L,\n",
    "            name='5Level Por',\n",
    "            x=list(range(1,6)),\n",
    "            y=fiveLevelGradesPor,\n",
    "            text=fiveLevelGradesPor,\n",
    "            textposition='auto'))\n",
    "\n",
    "fig.add_trace(\n",
    "         go.Bar(\n",
    "            visible=False,\n",
    "            marker_color=colors2L,\n",
    "            name='2Level Por',\n",
    "            x=list(range(1,3)),\n",
    "            y=binaryGradesPor,\n",
    "            text=binaryGradesPor,\n",
    "            textposition='auto'))\n",
    "\n",
    "\n",
    "fig.data[0].visible = True\n",
    "\n",
    "# Create and add slider\n",
    "steps = []\n",
    "labels = ['20 Level Mat', '5 Level Mat', '2 Level Mat', '20 Level Por', '5 Level Por', '2 Level Por']\n",
    "for i in range(len(fig.data)):\n",
    "    step = dict(\n",
    "        method=\"restyle\",\n",
    "        args=[\"visible\", [False] * len(fig.data)],\n",
    "        label = labels[i]\n",
    "    )\n",
    "    step[\"args\"][1][i] = True  # Toggle i'th trace to \"visible\"\n",
    "    steps.append(step)\n",
    "\n",
    "sliders = [dict(\n",
    "    active=0,\n",
    "    currentvalue={\"prefix\": \"Grades: \"},\n",
    "    pad={\"t\": 50},\n",
    "    steps=steps\n",
    ")]\n",
    "\n",
    "fig.update_layout(\n",
    "    xaxis = dict(\n",
    "        tickmode='linear'),\n",
    "    sliders=sliders,\n",
    "    barmode='group',\n",
    "    title='Various rappresentation of G3 grades in Mathematics and Portuguese Lanaguage',\n",
    "    xaxis_title=\"Grade\",\n",
    "    yaxis_title=\"#student\"\n",
    ")\n",
    "\n",
    "fig.show()"
   ]
  },
  {
   "cell_type": "markdown",
   "metadata": {},
   "source": [
    "We can see from the graphs how the situation is complicated especially in mathematics where 1/3 of the students fail to get a sufficient evaluation at the end of the year. Even looking at the graph with the representation at twenty levels we can see that the majority of the students get a barely sufficient evaluation and therefore can not reach a good level on the subject.\n",
    "As for the Portuguese, the results are certainly better, even looking at the insufficient grades you can see that they all group around the sufficiency, indicating less serious situations.\n",
    "Of interest are certainly the many boys who have zero assessment, the reason has not been specified, but it is likely to indicate some boys who have left school, so it is important to understand which factors influenced them more.\n",
    "\n",
    "I have therefore decided to bring the grades for all three periods of teaching (G1, G2, G3) to a simple track so that I can understand what most influences a failure. Before, however, I had to transform all the binary columns that were expressed with yes/no through a 1/0 correspondence, but above all the categorical attributes were transformed by hot encoding. \n",
    "To give a practical example before this action the Mjob attribute, representing the mother's job, was an attribute that could have 5 values ('teacher', 'health' care related, civil 'services', 'at_home' or 'other'), after the use of hot encoding, there will be 5 different columns each binary and only the column indicating the mother's job will have a 1 inside. \n",
    "All this work will allow us to calculate a correlation matrix and understand more clearly which value of a given attribute will most influence the success or failure of the school year.\n",
    "\n",
    "I then calculated a correlation matrix and from this I took the attributes that had an absolute correlation (both positive and negative) with the highest G3, at least 10%."
   ]
  },
  {
   "cell_type": "code",
   "execution_count": 7,
   "metadata": {},
   "outputs": [
    {
     "data": {
      "application/vnd.plotly.v1+json": {
       "config": {
        "plotlyServerURL": "https://plot.ly"
       },
       "data": [
        {
         "base": 0,
         "hoverinfo": "text",
         "hovertext": [
          "('higher', 0.15770763492363796)",
          "('Medu', 0.1153961717905148)",
          "('Fedu', 0.10805700850955999)",
          "('paid', 0.0926654599637454)"
         ],
         "marker": {
          "color": "rgb(23, 190, 207)"
         },
         "name": "positive correlation Mat",
         "type": "bar",
         "x": [
          "higher",
          "Medu",
          "Fedu",
          "paid"
         ],
         "y": [
          0.15770763492363796,
          0.1153961717905148,
          0.10805700850955999,
          0.0926654599637454
         ]
        },
        {
         "base": [
          -0.09224367359659331,
          -0.0925335308502545,
          -0.09773660457276945,
          -0.09986023276080189,
          -0.10797689541630659,
          -0.17964488578240712,
          -0.18339868866900055,
          -0.33773129596942547
         ],
         "hoverinfo": "text",
         "hovertext": [
          "('absences', -0.09224367359659331)",
          "('reason_course', -0.0925335308502545)",
          "('romantic', -0.09773660457276945)",
          "('schoolsup', -0.09986023276080189)",
          "('guardian_other', -0.10797689541630659)",
          "('age', -0.17964488578240712)",
          "('goout', -0.18339868866900055)",
          "('failures', -0.33773129596942547)"
         ],
         "marker": {
          "color": "rgb(188, 189, 34)"
         },
         "name": "negative correlation Mat",
         "type": "bar",
         "x": [
          "absences",
          "reason_course",
          "romantic",
          "schoolsup",
          "guardian_other",
          "age",
          "goout",
          "failures"
         ],
         "y": [
          0.09224367359659331,
          0.0925335308502545,
          0.09773660457276945,
          0.09986023276080189,
          0.10797689541630659,
          0.17964488578240712,
          0.18339868866900055,
          0.33773129596942547
         ]
        },
        {
         "base": 0,
         "hoverinfo": "text",
         "hovertext": [
          "('higher', 0.30970781372016326)",
          "('school', 0.29721710224528736)",
          "('studytime', 0.16511081549233864)",
          "('Fedu', 0.14624905788370415)",
          "('Medu', 0.1448025958537624)",
          "('reason_reputation', 0.12391434469098536)",
          "('Mjob_teacher', 0.09640398532552164)"
         ],
         "marker": {
          "color": "rgb(255, 127, 14)"
         },
         "name": "positive correlation Por",
         "type": "bar",
         "visible": false,
         "x": [
          "higher",
          "school",
          "studytime",
          "Fedu",
          "Medu",
          "reason_reputation",
          "Mjob_teacher"
         ],
         "y": [
          0.30970781372016326,
          0.29721710224528736,
          0.16511081549233864,
          0.14624905788370415,
          0.1448025958537624,
          0.12391434469098536,
          0.09640398532552164
         ]
        },
        {
         "base": [
          -0.09334939826896368,
          -0.09384940534947651,
          -0.09533920017945056,
          -0.11072210799523269,
          -0.11624854416801662,
          -0.12362742012257043,
          -0.12666280608818514,
          -0.3802371663305359
         ],
         "hoverinfo": "text",
         "hovertext": [
          "('freetime', -0.09334939826896368)",
          "('reason_other', -0.09384940534947651)",
          "('reason_course', -0.09533920017945056)",
          "('age', -0.11072210799523269)",
          "('Walc', -0.11624854416801662)",
          "('Dalc', -0.12362742012257043)",
          "('address', -0.12666280608818514)",
          "('failures', -0.3802371663305359)"
         ],
         "marker": {
          "color": "rgb(31, 119, 180)"
         },
         "name": "negative correlation Por",
         "type": "bar",
         "visible": false,
         "x": [
          "freetime",
          "reason_other",
          "reason_course",
          "age",
          "Walc",
          "Dalc",
          "address",
          "failures"
         ],
         "y": [
          0.09334939826896368,
          0.09384940534947651,
          0.09533920017945056,
          0.11072210799523269,
          0.11624854416801662,
          0.12362742012257043,
          0.12666280608818514,
          0.3802371663305359
         ]
        }
       ],
       "layout": {
        "barmode": "group",
        "sliders": [
         {
          "active": 0,
          "currentvalue": {
           "prefix": "Subject:   "
          },
          "pad": {
           "t": 70
          },
          "steps": [
           {
            "args": [
             "visible",
             [
              true,
              true,
              false,
              false
             ]
            ],
            "label": "Mathematic",
            "method": "restyle"
           },
           {
            "args": [
             "visible",
             [
              false,
              false,
              true,
              true
             ]
            ],
            "label": "Portuguese Language",
            "method": "restyle"
           }
          ]
         }
        ],
        "template": {
         "data": {
          "bar": [
           {
            "error_x": {
             "color": "#2a3f5f"
            },
            "error_y": {
             "color": "#2a3f5f"
            },
            "marker": {
             "line": {
              "color": "#E5ECF6",
              "width": 0.5
             }
            },
            "type": "bar"
           }
          ],
          "barpolar": [
           {
            "marker": {
             "line": {
              "color": "#E5ECF6",
              "width": 0.5
             }
            },
            "type": "barpolar"
           }
          ],
          "carpet": [
           {
            "aaxis": {
             "endlinecolor": "#2a3f5f",
             "gridcolor": "white",
             "linecolor": "white",
             "minorgridcolor": "white",
             "startlinecolor": "#2a3f5f"
            },
            "baxis": {
             "endlinecolor": "#2a3f5f",
             "gridcolor": "white",
             "linecolor": "white",
             "minorgridcolor": "white",
             "startlinecolor": "#2a3f5f"
            },
            "type": "carpet"
           }
          ],
          "choropleth": [
           {
            "colorbar": {
             "outlinewidth": 0,
             "ticks": ""
            },
            "type": "choropleth"
           }
          ],
          "contour": [
           {
            "colorbar": {
             "outlinewidth": 0,
             "ticks": ""
            },
            "colorscale": [
             [
              0,
              "#0d0887"
             ],
             [
              0.1111111111111111,
              "#46039f"
             ],
             [
              0.2222222222222222,
              "#7201a8"
             ],
             [
              0.3333333333333333,
              "#9c179e"
             ],
             [
              0.4444444444444444,
              "#bd3786"
             ],
             [
              0.5555555555555556,
              "#d8576b"
             ],
             [
              0.6666666666666666,
              "#ed7953"
             ],
             [
              0.7777777777777778,
              "#fb9f3a"
             ],
             [
              0.8888888888888888,
              "#fdca26"
             ],
             [
              1,
              "#f0f921"
             ]
            ],
            "type": "contour"
           }
          ],
          "contourcarpet": [
           {
            "colorbar": {
             "outlinewidth": 0,
             "ticks": ""
            },
            "type": "contourcarpet"
           }
          ],
          "heatmap": [
           {
            "colorbar": {
             "outlinewidth": 0,
             "ticks": ""
            },
            "colorscale": [
             [
              0,
              "#0d0887"
             ],
             [
              0.1111111111111111,
              "#46039f"
             ],
             [
              0.2222222222222222,
              "#7201a8"
             ],
             [
              0.3333333333333333,
              "#9c179e"
             ],
             [
              0.4444444444444444,
              "#bd3786"
             ],
             [
              0.5555555555555556,
              "#d8576b"
             ],
             [
              0.6666666666666666,
              "#ed7953"
             ],
             [
              0.7777777777777778,
              "#fb9f3a"
             ],
             [
              0.8888888888888888,
              "#fdca26"
             ],
             [
              1,
              "#f0f921"
             ]
            ],
            "type": "heatmap"
           }
          ],
          "heatmapgl": [
           {
            "colorbar": {
             "outlinewidth": 0,
             "ticks": ""
            },
            "colorscale": [
             [
              0,
              "#0d0887"
             ],
             [
              0.1111111111111111,
              "#46039f"
             ],
             [
              0.2222222222222222,
              "#7201a8"
             ],
             [
              0.3333333333333333,
              "#9c179e"
             ],
             [
              0.4444444444444444,
              "#bd3786"
             ],
             [
              0.5555555555555556,
              "#d8576b"
             ],
             [
              0.6666666666666666,
              "#ed7953"
             ],
             [
              0.7777777777777778,
              "#fb9f3a"
             ],
             [
              0.8888888888888888,
              "#fdca26"
             ],
             [
              1,
              "#f0f921"
             ]
            ],
            "type": "heatmapgl"
           }
          ],
          "histogram": [
           {
            "marker": {
             "colorbar": {
              "outlinewidth": 0,
              "ticks": ""
             }
            },
            "type": "histogram"
           }
          ],
          "histogram2d": [
           {
            "colorbar": {
             "outlinewidth": 0,
             "ticks": ""
            },
            "colorscale": [
             [
              0,
              "#0d0887"
             ],
             [
              0.1111111111111111,
              "#46039f"
             ],
             [
              0.2222222222222222,
              "#7201a8"
             ],
             [
              0.3333333333333333,
              "#9c179e"
             ],
             [
              0.4444444444444444,
              "#bd3786"
             ],
             [
              0.5555555555555556,
              "#d8576b"
             ],
             [
              0.6666666666666666,
              "#ed7953"
             ],
             [
              0.7777777777777778,
              "#fb9f3a"
             ],
             [
              0.8888888888888888,
              "#fdca26"
             ],
             [
              1,
              "#f0f921"
             ]
            ],
            "type": "histogram2d"
           }
          ],
          "histogram2dcontour": [
           {
            "colorbar": {
             "outlinewidth": 0,
             "ticks": ""
            },
            "colorscale": [
             [
              0,
              "#0d0887"
             ],
             [
              0.1111111111111111,
              "#46039f"
             ],
             [
              0.2222222222222222,
              "#7201a8"
             ],
             [
              0.3333333333333333,
              "#9c179e"
             ],
             [
              0.4444444444444444,
              "#bd3786"
             ],
             [
              0.5555555555555556,
              "#d8576b"
             ],
             [
              0.6666666666666666,
              "#ed7953"
             ],
             [
              0.7777777777777778,
              "#fb9f3a"
             ],
             [
              0.8888888888888888,
              "#fdca26"
             ],
             [
              1,
              "#f0f921"
             ]
            ],
            "type": "histogram2dcontour"
           }
          ],
          "mesh3d": [
           {
            "colorbar": {
             "outlinewidth": 0,
             "ticks": ""
            },
            "type": "mesh3d"
           }
          ],
          "parcoords": [
           {
            "line": {
             "colorbar": {
              "outlinewidth": 0,
              "ticks": ""
             }
            },
            "type": "parcoords"
           }
          ],
          "pie": [
           {
            "automargin": true,
            "type": "pie"
           }
          ],
          "scatter": [
           {
            "marker": {
             "colorbar": {
              "outlinewidth": 0,
              "ticks": ""
             }
            },
            "type": "scatter"
           }
          ],
          "scatter3d": [
           {
            "line": {
             "colorbar": {
              "outlinewidth": 0,
              "ticks": ""
             }
            },
            "marker": {
             "colorbar": {
              "outlinewidth": 0,
              "ticks": ""
             }
            },
            "type": "scatter3d"
           }
          ],
          "scattercarpet": [
           {
            "marker": {
             "colorbar": {
              "outlinewidth": 0,
              "ticks": ""
             }
            },
            "type": "scattercarpet"
           }
          ],
          "scattergeo": [
           {
            "marker": {
             "colorbar": {
              "outlinewidth": 0,
              "ticks": ""
             }
            },
            "type": "scattergeo"
           }
          ],
          "scattergl": [
           {
            "marker": {
             "colorbar": {
              "outlinewidth": 0,
              "ticks": ""
             }
            },
            "type": "scattergl"
           }
          ],
          "scattermapbox": [
           {
            "marker": {
             "colorbar": {
              "outlinewidth": 0,
              "ticks": ""
             }
            },
            "type": "scattermapbox"
           }
          ],
          "scatterpolar": [
           {
            "marker": {
             "colorbar": {
              "outlinewidth": 0,
              "ticks": ""
             }
            },
            "type": "scatterpolar"
           }
          ],
          "scatterpolargl": [
           {
            "marker": {
             "colorbar": {
              "outlinewidth": 0,
              "ticks": ""
             }
            },
            "type": "scatterpolargl"
           }
          ],
          "scatterternary": [
           {
            "marker": {
             "colorbar": {
              "outlinewidth": 0,
              "ticks": ""
             }
            },
            "type": "scatterternary"
           }
          ],
          "surface": [
           {
            "colorbar": {
             "outlinewidth": 0,
             "ticks": ""
            },
            "colorscale": [
             [
              0,
              "#0d0887"
             ],
             [
              0.1111111111111111,
              "#46039f"
             ],
             [
              0.2222222222222222,
              "#7201a8"
             ],
             [
              0.3333333333333333,
              "#9c179e"
             ],
             [
              0.4444444444444444,
              "#bd3786"
             ],
             [
              0.5555555555555556,
              "#d8576b"
             ],
             [
              0.6666666666666666,
              "#ed7953"
             ],
             [
              0.7777777777777778,
              "#fb9f3a"
             ],
             [
              0.8888888888888888,
              "#fdca26"
             ],
             [
              1,
              "#f0f921"
             ]
            ],
            "type": "surface"
           }
          ],
          "table": [
           {
            "cells": {
             "fill": {
              "color": "#EBF0F8"
             },
             "line": {
              "color": "white"
             }
            },
            "header": {
             "fill": {
              "color": "#C8D4E3"
             },
             "line": {
              "color": "white"
             }
            },
            "type": "table"
           }
          ]
         },
         "layout": {
          "annotationdefaults": {
           "arrowcolor": "#2a3f5f",
           "arrowhead": 0,
           "arrowwidth": 1
          },
          "coloraxis": {
           "colorbar": {
            "outlinewidth": 0,
            "ticks": ""
           }
          },
          "colorscale": {
           "diverging": [
            [
             0,
             "#8e0152"
            ],
            [
             0.1,
             "#c51b7d"
            ],
            [
             0.2,
             "#de77ae"
            ],
            [
             0.3,
             "#f1b6da"
            ],
            [
             0.4,
             "#fde0ef"
            ],
            [
             0.5,
             "#f7f7f7"
            ],
            [
             0.6,
             "#e6f5d0"
            ],
            [
             0.7,
             "#b8e186"
            ],
            [
             0.8,
             "#7fbc41"
            ],
            [
             0.9,
             "#4d9221"
            ],
            [
             1,
             "#276419"
            ]
           ],
           "sequential": [
            [
             0,
             "#0d0887"
            ],
            [
             0.1111111111111111,
             "#46039f"
            ],
            [
             0.2222222222222222,
             "#7201a8"
            ],
            [
             0.3333333333333333,
             "#9c179e"
            ],
            [
             0.4444444444444444,
             "#bd3786"
            ],
            [
             0.5555555555555556,
             "#d8576b"
            ],
            [
             0.6666666666666666,
             "#ed7953"
            ],
            [
             0.7777777777777778,
             "#fb9f3a"
            ],
            [
             0.8888888888888888,
             "#fdca26"
            ],
            [
             1,
             "#f0f921"
            ]
           ],
           "sequentialminus": [
            [
             0,
             "#0d0887"
            ],
            [
             0.1111111111111111,
             "#46039f"
            ],
            [
             0.2222222222222222,
             "#7201a8"
            ],
            [
             0.3333333333333333,
             "#9c179e"
            ],
            [
             0.4444444444444444,
             "#bd3786"
            ],
            [
             0.5555555555555556,
             "#d8576b"
            ],
            [
             0.6666666666666666,
             "#ed7953"
            ],
            [
             0.7777777777777778,
             "#fb9f3a"
            ],
            [
             0.8888888888888888,
             "#fdca26"
            ],
            [
             1,
             "#f0f921"
            ]
           ]
          },
          "colorway": [
           "#636efa",
           "#EF553B",
           "#00cc96",
           "#ab63fa",
           "#FFA15A",
           "#19d3f3",
           "#FF6692",
           "#B6E880",
           "#FF97FF",
           "#FECB52"
          ],
          "font": {
           "color": "#2a3f5f"
          },
          "geo": {
           "bgcolor": "white",
           "lakecolor": "white",
           "landcolor": "#E5ECF6",
           "showlakes": true,
           "showland": true,
           "subunitcolor": "white"
          },
          "hoverlabel": {
           "align": "left"
          },
          "hovermode": "closest",
          "mapbox": {
           "style": "light"
          },
          "paper_bgcolor": "white",
          "plot_bgcolor": "#E5ECF6",
          "polar": {
           "angularaxis": {
            "gridcolor": "white",
            "linecolor": "white",
            "ticks": ""
           },
           "bgcolor": "#E5ECF6",
           "radialaxis": {
            "gridcolor": "white",
            "linecolor": "white",
            "ticks": ""
           }
          },
          "scene": {
           "xaxis": {
            "backgroundcolor": "#E5ECF6",
            "gridcolor": "white",
            "gridwidth": 2,
            "linecolor": "white",
            "showbackground": true,
            "ticks": "",
            "zerolinecolor": "white"
           },
           "yaxis": {
            "backgroundcolor": "#E5ECF6",
            "gridcolor": "white",
            "gridwidth": 2,
            "linecolor": "white",
            "showbackground": true,
            "ticks": "",
            "zerolinecolor": "white"
           },
           "zaxis": {
            "backgroundcolor": "#E5ECF6",
            "gridcolor": "white",
            "gridwidth": 2,
            "linecolor": "white",
            "showbackground": true,
            "ticks": "",
            "zerolinecolor": "white"
           }
          },
          "shapedefaults": {
           "line": {
            "color": "#2a3f5f"
           }
          },
          "ternary": {
           "aaxis": {
            "gridcolor": "white",
            "linecolor": "white",
            "ticks": ""
           },
           "baxis": {
            "gridcolor": "white",
            "linecolor": "white",
            "ticks": ""
           },
           "bgcolor": "#E5ECF6",
           "caxis": {
            "gridcolor": "white",
            "linecolor": "white",
            "ticks": ""
           }
          },
          "title": {
           "x": 0.05
          },
          "xaxis": {
           "automargin": true,
           "gridcolor": "white",
           "linecolor": "white",
           "ticks": "",
           "title": {
            "standoff": 15
           },
           "zerolinecolor": "white",
           "zerolinewidth": 2
          },
          "yaxis": {
           "automargin": true,
           "gridcolor": "white",
           "linecolor": "white",
           "ticks": "",
           "title": {
            "standoff": 15
           },
           "zerolinecolor": "white",
           "zerolinewidth": 2
          }
         }
        },
        "title": {
         "text": "Most important attributes correlated to Grade"
        },
        "xaxis": {
         "title": {
          "text": "Attribute"
         }
        },
        "yaxis": {
         "title": {
          "text": "Correlation with G3"
         }
        }
       }
      },
      "text/html": [
       "<div>\n",
       "        \n",
       "        \n",
       "            <div id=\"cf1c7261-994b-4915-b513-1ca8d64727d2\" class=\"plotly-graph-div\" style=\"height:525px; width:100%;\"></div>\n",
       "            <script type=\"text/javascript\">\n",
       "                require([\"plotly\"], function(Plotly) {\n",
       "                    window.PLOTLYENV=window.PLOTLYENV || {};\n",
       "                    \n",
       "                if (document.getElementById(\"cf1c7261-994b-4915-b513-1ca8d64727d2\")) {\n",
       "                    Plotly.newPlot(\n",
       "                        'cf1c7261-994b-4915-b513-1ca8d64727d2',\n",
       "                        [{\"base\": 0, \"hoverinfo\": \"text\", \"hovertext\": [\"('higher', 0.15770763492363796)\", \"('Medu', 0.1153961717905148)\", \"('Fedu', 0.10805700850955999)\", \"('paid', 0.0926654599637454)\"], \"marker\": {\"color\": \"rgb(23, 190, 207)\"}, \"name\": \"positive correlation Mat\", \"type\": \"bar\", \"x\": [\"higher\", \"Medu\", \"Fedu\", \"paid\"], \"y\": [0.15770763492363796, 0.1153961717905148, 0.10805700850955999, 0.0926654599637454]}, {\"base\": [-0.09224367359659331, -0.0925335308502545, -0.09773660457276945, -0.09986023276080189, -0.10797689541630659, -0.17964488578240712, -0.18339868866900055, -0.33773129596942547], \"hoverinfo\": \"text\", \"hovertext\": [\"('absences', -0.09224367359659331)\", \"('reason_course', -0.0925335308502545)\", \"('romantic', -0.09773660457276945)\", \"('schoolsup', -0.09986023276080189)\", \"('guardian_other', -0.10797689541630659)\", \"('age', -0.17964488578240712)\", \"('goout', -0.18339868866900055)\", \"('failures', -0.33773129596942547)\"], \"marker\": {\"color\": \"rgb(188, 189, 34)\"}, \"name\": \"negative correlation Mat\", \"type\": \"bar\", \"x\": [\"absences\", \"reason_course\", \"romantic\", \"schoolsup\", \"guardian_other\", \"age\", \"goout\", \"failures\"], \"y\": [0.09224367359659331, 0.0925335308502545, 0.09773660457276945, 0.09986023276080189, 0.10797689541630659, 0.17964488578240712, 0.18339868866900055, 0.33773129596942547]}, {\"base\": 0, \"hoverinfo\": \"text\", \"hovertext\": [\"('higher', 0.30970781372016326)\", \"('school', 0.29721710224528736)\", \"('studytime', 0.16511081549233864)\", \"('Fedu', 0.14624905788370415)\", \"('Medu', 0.1448025958537624)\", \"('reason_reputation', 0.12391434469098536)\", \"('Mjob_teacher', 0.09640398532552164)\"], \"marker\": {\"color\": \"rgb(255, 127, 14)\"}, \"name\": \"positive correlation Por\", \"type\": \"bar\", \"visible\": false, \"x\": [\"higher\", \"school\", \"studytime\", \"Fedu\", \"Medu\", \"reason_reputation\", \"Mjob_teacher\"], \"y\": [0.30970781372016326, 0.29721710224528736, 0.16511081549233864, 0.14624905788370415, 0.1448025958537624, 0.12391434469098536, 0.09640398532552164]}, {\"base\": [-0.09334939826896368, -0.09384940534947651, -0.09533920017945056, -0.11072210799523269, -0.11624854416801662, -0.12362742012257043, -0.12666280608818514, -0.3802371663305359], \"hoverinfo\": \"text\", \"hovertext\": [\"('freetime', -0.09334939826896368)\", \"('reason_other', -0.09384940534947651)\", \"('reason_course', -0.09533920017945056)\", \"('age', -0.11072210799523269)\", \"('Walc', -0.11624854416801662)\", \"('Dalc', -0.12362742012257043)\", \"('address', -0.12666280608818514)\", \"('failures', -0.3802371663305359)\"], \"marker\": {\"color\": \"rgb(31, 119, 180)\"}, \"name\": \"negative correlation Por\", \"type\": \"bar\", \"visible\": false, \"x\": [\"freetime\", \"reason_other\", \"reason_course\", \"age\", \"Walc\", \"Dalc\", \"address\", \"failures\"], \"y\": [0.09334939826896368, 0.09384940534947651, 0.09533920017945056, 0.11072210799523269, 0.11624854416801662, 0.12362742012257043, 0.12666280608818514, 0.3802371663305359]}],\n",
       "                        {\"barmode\": \"group\", \"sliders\": [{\"active\": 0, \"currentvalue\": {\"prefix\": \"Subject:   \"}, \"pad\": {\"t\": 70}, \"steps\": [{\"args\": [\"visible\", [true, true, false, false]], \"label\": \"Mathematic\", \"method\": \"restyle\"}, {\"args\": [\"visible\", [false, false, true, true]], \"label\": \"Portuguese Language\", \"method\": \"restyle\"}]}], \"template\": {\"data\": {\"bar\": [{\"error_x\": {\"color\": \"#2a3f5f\"}, \"error_y\": {\"color\": \"#2a3f5f\"}, \"marker\": {\"line\": {\"color\": \"#E5ECF6\", \"width\": 0.5}}, \"type\": \"bar\"}], \"barpolar\": [{\"marker\": {\"line\": {\"color\": \"#E5ECF6\", \"width\": 0.5}}, \"type\": \"barpolar\"}], \"carpet\": [{\"aaxis\": {\"endlinecolor\": \"#2a3f5f\", \"gridcolor\": \"white\", \"linecolor\": \"white\", \"minorgridcolor\": \"white\", \"startlinecolor\": \"#2a3f5f\"}, \"baxis\": {\"endlinecolor\": \"#2a3f5f\", \"gridcolor\": \"white\", \"linecolor\": \"white\", \"minorgridcolor\": \"white\", \"startlinecolor\": \"#2a3f5f\"}, \"type\": \"carpet\"}], \"choropleth\": [{\"colorbar\": {\"outlinewidth\": 0, \"ticks\": \"\"}, \"type\": \"choropleth\"}], \"contour\": [{\"colorbar\": {\"outlinewidth\": 0, \"ticks\": \"\"}, \"colorscale\": [[0.0, \"#0d0887\"], [0.1111111111111111, \"#46039f\"], [0.2222222222222222, \"#7201a8\"], [0.3333333333333333, \"#9c179e\"], [0.4444444444444444, \"#bd3786\"], [0.5555555555555556, \"#d8576b\"], [0.6666666666666666, \"#ed7953\"], [0.7777777777777778, \"#fb9f3a\"], [0.8888888888888888, \"#fdca26\"], [1.0, \"#f0f921\"]], \"type\": \"contour\"}], \"contourcarpet\": [{\"colorbar\": {\"outlinewidth\": 0, \"ticks\": \"\"}, \"type\": \"contourcarpet\"}], \"heatmap\": [{\"colorbar\": {\"outlinewidth\": 0, \"ticks\": \"\"}, \"colorscale\": [[0.0, \"#0d0887\"], [0.1111111111111111, \"#46039f\"], [0.2222222222222222, \"#7201a8\"], [0.3333333333333333, \"#9c179e\"], [0.4444444444444444, \"#bd3786\"], [0.5555555555555556, \"#d8576b\"], [0.6666666666666666, \"#ed7953\"], [0.7777777777777778, \"#fb9f3a\"], [0.8888888888888888, \"#fdca26\"], [1.0, \"#f0f921\"]], \"type\": \"heatmap\"}], \"heatmapgl\": [{\"colorbar\": {\"outlinewidth\": 0, \"ticks\": \"\"}, \"colorscale\": [[0.0, \"#0d0887\"], [0.1111111111111111, \"#46039f\"], [0.2222222222222222, \"#7201a8\"], [0.3333333333333333, \"#9c179e\"], [0.4444444444444444, \"#bd3786\"], [0.5555555555555556, \"#d8576b\"], [0.6666666666666666, \"#ed7953\"], [0.7777777777777778, \"#fb9f3a\"], [0.8888888888888888, \"#fdca26\"], [1.0, \"#f0f921\"]], \"type\": \"heatmapgl\"}], \"histogram\": [{\"marker\": {\"colorbar\": {\"outlinewidth\": 0, \"ticks\": \"\"}}, \"type\": \"histogram\"}], \"histogram2d\": [{\"colorbar\": {\"outlinewidth\": 0, \"ticks\": \"\"}, \"colorscale\": [[0.0, \"#0d0887\"], [0.1111111111111111, \"#46039f\"], [0.2222222222222222, \"#7201a8\"], [0.3333333333333333, \"#9c179e\"], [0.4444444444444444, \"#bd3786\"], [0.5555555555555556, \"#d8576b\"], [0.6666666666666666, \"#ed7953\"], [0.7777777777777778, \"#fb9f3a\"], [0.8888888888888888, \"#fdca26\"], [1.0, \"#f0f921\"]], \"type\": \"histogram2d\"}], \"histogram2dcontour\": [{\"colorbar\": {\"outlinewidth\": 0, \"ticks\": \"\"}, \"colorscale\": [[0.0, \"#0d0887\"], [0.1111111111111111, \"#46039f\"], [0.2222222222222222, \"#7201a8\"], [0.3333333333333333, \"#9c179e\"], [0.4444444444444444, \"#bd3786\"], [0.5555555555555556, \"#d8576b\"], [0.6666666666666666, \"#ed7953\"], [0.7777777777777778, \"#fb9f3a\"], [0.8888888888888888, \"#fdca26\"], [1.0, \"#f0f921\"]], \"type\": \"histogram2dcontour\"}], \"mesh3d\": [{\"colorbar\": {\"outlinewidth\": 0, \"ticks\": \"\"}, \"type\": \"mesh3d\"}], \"parcoords\": [{\"line\": {\"colorbar\": {\"outlinewidth\": 0, \"ticks\": \"\"}}, \"type\": \"parcoords\"}], \"pie\": [{\"automargin\": true, \"type\": \"pie\"}], \"scatter\": [{\"marker\": {\"colorbar\": {\"outlinewidth\": 0, \"ticks\": \"\"}}, \"type\": \"scatter\"}], \"scatter3d\": [{\"line\": {\"colorbar\": {\"outlinewidth\": 0, \"ticks\": \"\"}}, \"marker\": {\"colorbar\": {\"outlinewidth\": 0, \"ticks\": \"\"}}, \"type\": \"scatter3d\"}], \"scattercarpet\": [{\"marker\": {\"colorbar\": {\"outlinewidth\": 0, \"ticks\": \"\"}}, \"type\": \"scattercarpet\"}], \"scattergeo\": [{\"marker\": {\"colorbar\": {\"outlinewidth\": 0, \"ticks\": \"\"}}, \"type\": \"scattergeo\"}], \"scattergl\": [{\"marker\": {\"colorbar\": {\"outlinewidth\": 0, \"ticks\": \"\"}}, \"type\": \"scattergl\"}], \"scattermapbox\": [{\"marker\": {\"colorbar\": {\"outlinewidth\": 0, \"ticks\": \"\"}}, \"type\": \"scattermapbox\"}], \"scatterpolar\": [{\"marker\": {\"colorbar\": {\"outlinewidth\": 0, \"ticks\": \"\"}}, \"type\": \"scatterpolar\"}], \"scatterpolargl\": [{\"marker\": {\"colorbar\": {\"outlinewidth\": 0, \"ticks\": \"\"}}, \"type\": \"scatterpolargl\"}], \"scatterternary\": [{\"marker\": {\"colorbar\": {\"outlinewidth\": 0, \"ticks\": \"\"}}, \"type\": \"scatterternary\"}], \"surface\": [{\"colorbar\": {\"outlinewidth\": 0, \"ticks\": \"\"}, \"colorscale\": [[0.0, \"#0d0887\"], [0.1111111111111111, \"#46039f\"], [0.2222222222222222, \"#7201a8\"], [0.3333333333333333, \"#9c179e\"], [0.4444444444444444, \"#bd3786\"], [0.5555555555555556, \"#d8576b\"], [0.6666666666666666, \"#ed7953\"], [0.7777777777777778, \"#fb9f3a\"], [0.8888888888888888, \"#fdca26\"], [1.0, \"#f0f921\"]], \"type\": \"surface\"}], \"table\": [{\"cells\": {\"fill\": {\"color\": \"#EBF0F8\"}, \"line\": {\"color\": \"white\"}}, \"header\": {\"fill\": {\"color\": \"#C8D4E3\"}, \"line\": {\"color\": \"white\"}}, \"type\": \"table\"}]}, \"layout\": {\"annotationdefaults\": {\"arrowcolor\": \"#2a3f5f\", \"arrowhead\": 0, \"arrowwidth\": 1}, \"coloraxis\": {\"colorbar\": {\"outlinewidth\": 0, \"ticks\": \"\"}}, \"colorscale\": {\"diverging\": [[0, \"#8e0152\"], [0.1, \"#c51b7d\"], [0.2, \"#de77ae\"], [0.3, \"#f1b6da\"], [0.4, \"#fde0ef\"], [0.5, \"#f7f7f7\"], [0.6, \"#e6f5d0\"], [0.7, \"#b8e186\"], [0.8, \"#7fbc41\"], [0.9, \"#4d9221\"], [1, \"#276419\"]], \"sequential\": [[0.0, \"#0d0887\"], [0.1111111111111111, \"#46039f\"], [0.2222222222222222, \"#7201a8\"], [0.3333333333333333, \"#9c179e\"], [0.4444444444444444, \"#bd3786\"], [0.5555555555555556, \"#d8576b\"], [0.6666666666666666, \"#ed7953\"], [0.7777777777777778, \"#fb9f3a\"], [0.8888888888888888, \"#fdca26\"], [1.0, \"#f0f921\"]], \"sequentialminus\": [[0.0, \"#0d0887\"], [0.1111111111111111, \"#46039f\"], [0.2222222222222222, \"#7201a8\"], [0.3333333333333333, \"#9c179e\"], [0.4444444444444444, \"#bd3786\"], [0.5555555555555556, \"#d8576b\"], [0.6666666666666666, \"#ed7953\"], [0.7777777777777778, \"#fb9f3a\"], [0.8888888888888888, \"#fdca26\"], [1.0, \"#f0f921\"]]}, \"colorway\": [\"#636efa\", \"#EF553B\", \"#00cc96\", \"#ab63fa\", \"#FFA15A\", \"#19d3f3\", \"#FF6692\", \"#B6E880\", \"#FF97FF\", \"#FECB52\"], \"font\": {\"color\": \"#2a3f5f\"}, \"geo\": {\"bgcolor\": \"white\", \"lakecolor\": \"white\", \"landcolor\": \"#E5ECF6\", \"showlakes\": true, \"showland\": true, \"subunitcolor\": \"white\"}, \"hoverlabel\": {\"align\": \"left\"}, \"hovermode\": \"closest\", \"mapbox\": {\"style\": \"light\"}, \"paper_bgcolor\": \"white\", \"plot_bgcolor\": \"#E5ECF6\", \"polar\": {\"angularaxis\": {\"gridcolor\": \"white\", \"linecolor\": \"white\", \"ticks\": \"\"}, \"bgcolor\": \"#E5ECF6\", \"radialaxis\": {\"gridcolor\": \"white\", \"linecolor\": \"white\", \"ticks\": \"\"}}, \"scene\": {\"xaxis\": {\"backgroundcolor\": \"#E5ECF6\", \"gridcolor\": \"white\", \"gridwidth\": 2, \"linecolor\": \"white\", \"showbackground\": true, \"ticks\": \"\", \"zerolinecolor\": \"white\"}, \"yaxis\": {\"backgroundcolor\": \"#E5ECF6\", \"gridcolor\": \"white\", \"gridwidth\": 2, \"linecolor\": \"white\", \"showbackground\": true, \"ticks\": \"\", \"zerolinecolor\": \"white\"}, \"zaxis\": {\"backgroundcolor\": \"#E5ECF6\", \"gridcolor\": \"white\", \"gridwidth\": 2, \"linecolor\": \"white\", \"showbackground\": true, \"ticks\": \"\", \"zerolinecolor\": \"white\"}}, \"shapedefaults\": {\"line\": {\"color\": \"#2a3f5f\"}}, \"ternary\": {\"aaxis\": {\"gridcolor\": \"white\", \"linecolor\": \"white\", \"ticks\": \"\"}, \"baxis\": {\"gridcolor\": \"white\", \"linecolor\": \"white\", \"ticks\": \"\"}, \"bgcolor\": \"#E5ECF6\", \"caxis\": {\"gridcolor\": \"white\", \"linecolor\": \"white\", \"ticks\": \"\"}}, \"title\": {\"x\": 0.05}, \"xaxis\": {\"automargin\": true, \"gridcolor\": \"white\", \"linecolor\": \"white\", \"ticks\": \"\", \"title\": {\"standoff\": 15}, \"zerolinecolor\": \"white\", \"zerolinewidth\": 2}, \"yaxis\": {\"automargin\": true, \"gridcolor\": \"white\", \"linecolor\": \"white\", \"ticks\": \"\", \"title\": {\"standoff\": 15}, \"zerolinecolor\": \"white\", \"zerolinewidth\": 2}}}, \"title\": {\"text\": \"Most important attributes correlated to Grade\"}, \"xaxis\": {\"title\": {\"text\": \"Attribute\"}}, \"yaxis\": {\"title\": {\"text\": \"Correlation with G3\"}}},\n",
       "                        {\"responsive\": true}\n",
       "                    ).then(function(){\n",
       "                            \n",
       "var gd = document.getElementById('cf1c7261-994b-4915-b513-1ca8d64727d2');\n",
       "var x = new MutationObserver(function (mutations, observer) {{\n",
       "        var display = window.getComputedStyle(gd).display;\n",
       "        if (!display || display === 'none') {{\n",
       "            console.log([gd, 'removed!']);\n",
       "            Plotly.purge(gd);\n",
       "            observer.disconnect();\n",
       "        }}\n",
       "}});\n",
       "\n",
       "// Listen for the removal of the full notebook cells\n",
       "var notebookContainer = gd.closest('#notebook-container');\n",
       "if (notebookContainer) {{\n",
       "    x.observe(notebookContainer, {childList: true});\n",
       "}}\n",
       "\n",
       "// Listen for the clearing of the current output cell\n",
       "var outputEl = gd.closest('.output');\n",
       "if (outputEl) {{\n",
       "    x.observe(outputEl, {childList: true});\n",
       "}}\n",
       "\n",
       "                        })\n",
       "                };\n",
       "                });\n",
       "            </script>\n",
       "        </div>"
      ]
     },
     "metadata": {},
     "output_type": "display_data"
    }
   ],
   "source": [
    "#CAPIRE SE ALCUNE CATEGORIE BINARIE VANNO CODIFICATE COME 1/0 OPPURE COME DUMMY\n",
    "\n",
    "#cleanup_nums = {\"yes\": 1, \"no\": 0}\n",
    "cleanup_nums = {\"yes\": 1, \"no\": 0, \"F\": 1, \"M\": 0, \"GP\": 1, \"MS\": 0, \"R\": 1, \"U\" : 0, \"GT3\": 1, \"LE3\" :0, \"A\":1, \"T\":0}\n",
    "\n",
    "dataMat.replace(cleanup_nums, inplace=True)\n",
    "dataPor.replace(cleanup_nums, inplace=True)\n",
    "\n",
    "\n",
    "#dataMatExt= pd.get_dummies(dataMat, columns=[\"school\", \"sex\", \"address\", \"famsize\", \"Pstatus\", \"Mjob\", \"Fjob\", \"reason\", \"guardian\"])\n",
    "#dataPorExt= pd.get_dummies(dataPor, columns=[\"school\", \"sex\", \"address\", \"famsize\", \"Pstatus\", \"Mjob\", \"Fjob\", \"reason\", \"guardian\"])\n",
    "\n",
    "dataMatExt= pd.get_dummies(dataMat, columns=[ \"Mjob\", \"Fjob\", \"reason\", \"guardian\"])\n",
    "dataPorExt= pd.get_dummies(dataPor, columns=[\"Mjob\", \"Fjob\", \"reason\", \"guardian\"])\n",
    "\n",
    "#print(dataMatExt.columns)\n",
    "\n",
    "#G1, G2, e G3 li faccio diventare binari così da semplificare e capire meglio quali attributi siano collegati a una promozione o bocciatura\n",
    "def gradesToBinary(x):\n",
    "  if(x>9):\n",
    "    return 1\n",
    "  else:\n",
    "    return 0\n",
    "\n",
    "fiveLevel = ['0-9', '10-11', '12-13', '14-15', '16-20']\n",
    "\n",
    "def gradesTo5L(x):\n",
    "    if(x<10):\n",
    "        return 0\n",
    "    elif (x==10 or x==11):\n",
    "        return 1\n",
    "    elif (x==12 or x==13):\n",
    "        return 2\n",
    "    elif (x==14 or x==15):\n",
    "        return 3\n",
    "    else:\n",
    "        return 4\n",
    "    \n",
    "\n",
    "dataMat20L = dataMatExt.copy()\n",
    "dataPor20L = dataPorExt.copy()\n",
    "\n",
    "dataMat5L = dataMatExt.copy()\n",
    "dataPor5L = dataPorExt.copy()\n",
    "\n",
    "dataMat5L['G3'] = dataMat5L['G3'].map(gradesTo5L)\n",
    "dataMat5L['G2'] = dataMat5L['G2'].map(gradesTo5L)\n",
    "dataMat5L['G1'] = dataMat5L['G1'].map(gradesTo5L)\n",
    "\n",
    "dataPor5L['G3'] = dataPor5L['G3'].map(gradesTo5L)\n",
    "dataPor5L['G2'] = dataPor5L['G2'].map(gradesTo5L)\n",
    "dataPor5L['G1'] = dataPor5L['G1'].map(gradesTo5L)\n",
    "\n",
    "\n",
    "dataMatExt['G1'] = dataMatExt['G1'].map(gradesToBinary)\n",
    "dataMatExt['G2'] = dataMatExt['G2'].map(gradesToBinary)\n",
    "dataMatExt['G3'] = dataMatExt['G3'].map(gradesToBinary)\n",
    "\n",
    "dataPorExt['G1'] = dataPorExt['G1'].map(gradesToBinary)\n",
    "dataPorExt['G2'] = dataPorExt['G2'].map(gradesToBinary)\n",
    "dataPorExt['G3'] = dataPorExt['G3'].map(gradesToBinary)\n",
    "\n",
    "#calculate correlation matrix\n",
    "cor1 =dataMatExt.corr()\n",
    "\n",
    "cor2 = dataPorExt.corr()\n",
    "\n",
    "\n",
    "def get_redundant_pairs(df):\n",
    "    '''Get diagonal and lower triangular pairs of correlation matrix'''\n",
    "    pairs_to_drop = set()\n",
    "    cols = df.columns\n",
    "    for i in range(0, df.shape[1]):\n",
    "        for j in range(0, i+1):\n",
    "            pairs_to_drop.add((cols[i], cols[j]))\n",
    "    return pairs_to_drop\n",
    "\n",
    "\n",
    "#take the lower trinagular pairs\n",
    "correlationCouple = cor1.unstack().drop(labels=get_redundant_pairs(cor1))\n",
    "\n",
    "correlationCouplePor = cor2.unstack().drop(labels=get_redundant_pairs(cor1))\n",
    "\n",
    "#Stampa le coppie maggiormente correlate\n",
    "#cc = correlationCouple.sort_values(ascending=False)\n",
    "#print(cc)\n",
    "\n",
    "#for x,y in zip(cc.index, cc):\n",
    "#    print(x,y)\n",
    "\n",
    "#take only the value associated with G3\n",
    "correlationCoupleG3 = correlationCouple.xs('G3', level=0, drop_level=False).append(correlationCouple.xs('G3', level=1, drop_level=False)).sort_values(ascending=False)\n",
    "\n",
    "\n",
    "correlationCoupleG3Por = correlationCouplePor.xs('G3', level=0, drop_level=False).append(correlationCouplePor.xs('G3', level=1, drop_level=False)).sort_values(ascending=False)\n",
    "#print(correlationCoupleG3) \n",
    "\n",
    "def top_correlated(data, s):\n",
    "    i = 0\n",
    "    topIndex =  []\n",
    "    topValue = []\n",
    "    if(s==\"M\"):\n",
    "        value = 0.09\n",
    "    else:\n",
    "        value = 0.1\n",
    "    \n",
    "    for x in data:\n",
    "        if(x>value or x< -value):\n",
    "          #print(x)\n",
    "          tmp1 =x\n",
    "          tmp2 = data.index[i]\n",
    "          topIndex.append(tmp2)\n",
    "          topValue.append(tmp1)\n",
    "        i = i +1\n",
    "\n",
    "    top = dict(zip(topValue, topIndex))\n",
    "    return top\n",
    "   \n",
    "\n",
    "#topCorrelated = correlationCoupleG3.iloc[:5].append(correlationCoupleG3.iloc[correlationCoupleG3.size-5:])\n",
    "\n",
    "#Coppie con correlazione > |0.09|\n",
    "topCorrelated = top_correlated(correlationCoupleG3, \"M\")\n",
    "\n",
    "topCorrelatedPor = top_correlated(correlationCoupleG3Por, \"M\")\n",
    "\n",
    "topValuePos= []\n",
    "topValueNeg= []\n",
    "topIndexPos=[]\n",
    "topIndexNeg = []\n",
    "\n",
    "for x, y in topCorrelated.items():\n",
    "  if(x>0):\n",
    "    topValuePos.append(x)\n",
    "    if(y[0]=='G3'):\n",
    "      topIndexPos.append(y[1])\n",
    "    else:\n",
    "      topIndexPos.append(y[0])\n",
    "  else:\n",
    "    topValueNeg.append(x) \n",
    "    if(y[0]=='G3'):\n",
    "      topIndexNeg.append(y[1])\n",
    "    else:\n",
    "      topIndexNeg.append(y[0])\n",
    "    \n",
    "topValuePosPor= []\n",
    "topValueNegPor= []\n",
    "topIndexPosPor=[]\n",
    "topIndexNegPor = []\n",
    "\n",
    "for x, y in topCorrelatedPor.items():\n",
    "  if(x>0):\n",
    "    topValuePosPor.append(x)\n",
    "    if(y[0]=='G3'):\n",
    "      topIndexPosPor.append(y[1])\n",
    "    else:\n",
    "      topIndexPosPor.append(y[0])\n",
    "  else:\n",
    "    topValueNegPor.append(x) \n",
    "    if(y[0]=='G3'):\n",
    "      topIndexNegPor.append(y[1])\n",
    "    else:\n",
    "      topIndexNegPor.append(y[0])    \n",
    "\n",
    "#Non rappresentiamo G1 e G2 perchè la loro correlazione è evidente e non permettono una buona rappresentazione degli altri elementi\n",
    "\n",
    "\n",
    "fig = go.Figure()\n",
    "\n",
    "fig.add_trace(go.Bar(x=topIndexPos[2:], y=topValuePos[2:],\n",
    "                base=0,\n",
    "                marker_color=colors[9],\n",
    "                name='positive correlation Mat',\n",
    "                hoverinfo='text',\n",
    "                hovertext = [(x,y) for (x,y) in zip(topIndexPos[2:], topValuePos[2:])]\n",
    "                ))\n",
    "\n",
    "fig.add_trace(go.Bar(x=topIndexNeg, y=[abs(ele) for ele in topValueNeg],\n",
    "                base=topValueNeg,\n",
    "                marker_color= colors[8],\n",
    "                name='negative correlation Mat',\n",
    "                hoverinfo='text',\n",
    "                hovertext =[(x,y) for (x,y) in zip(topIndexNeg, topValueNeg)]))\n",
    "\n",
    "fig.add_trace(go.Bar(x=topIndexPosPor[2:], y=topValuePosPor[2:],\n",
    "                base=0,\n",
    "                marker_color=colors[1],\n",
    "                name='positive correlation Por',\n",
    "                hoverinfo='text',\n",
    "                hovertext = [(x,y) for (x,y) in zip(topIndexPosPor[2:], topValuePosPor[2:])]\n",
    "                ))\n",
    "\n",
    "fig.add_trace(go.Bar(x=topIndexNegPor, y=[abs(ele) for ele in topValueNegPor],\n",
    "                base=topValueNegPor,\n",
    "                marker_color= colors[0],\n",
    "                name='negative correlation Por',\n",
    "                hoverinfo='text',\n",
    "                hovertext =[(x,y) for (x,y) in zip(topIndexNegPor, topValueNegPor)]))\n",
    "\n",
    "fig.data[2].visible = False\n",
    "fig.data[3].visible = False\n",
    "\n",
    "stepsG3 = []\n",
    "labels = ['Mathematic', 'Mathematic', 'Portuguese Language']\n",
    "for i in range(len(fig.data)):\n",
    "    if(i==0 or i==2):\n",
    "        step = dict(\n",
    "        method=\"restyle\",\n",
    "        args=[\"visible\", [False] * len(fig.data)],\n",
    "        label = labels[i]\n",
    "        )\n",
    "        step[\"args\"][1][i] = True  # Toggle i'th trace to \"visible\"\n",
    "        step[\"args\"][1][i+1] = True  # Toggle i'th trace to \"visible\"\n",
    "        stepsG3.append(step)\n",
    "    \n",
    "\n",
    "sliders = [dict(\n",
    "    active=0,\n",
    "    currentvalue={\"prefix\": \"Subject:   \"},\n",
    "    pad={\"t\": 70},\n",
    "    steps=stepsG3\n",
    ")]\n",
    "\n",
    "fig.update_layout(\n",
    "    sliders=sliders,\n",
    "    barmode='group',\n",
    "    title='Most important attributes correlated to Grade',\n",
    "    xaxis_title=\"Attribute\",\n",
    "    yaxis_title=\"Correlation with G3\"\n",
    ")\n",
    "\n",
    "fig.show()\n",
    "\n"
   ]
  },
  {
   "cell_type": "markdown",
   "metadata": {},
   "source": [
    "In this graph I chose not to represent what were the two attributes with the highest correlation, I'm obviously talking about G1 and G2 that had a correlation between 0.8 and 0.6. Such a high correlation was predictable as it's easy to guess that if a boy has a positive grade during the year he's likely to pass it. However, I decided not to represent them because such high values would have made the others less understandable.\n",
    "\n",
    "A high positive correlation means that the attribute and G3=1 are present in the same record a large number of times, or that as the value of that attribute increases the possibility that the value of G3 is positive. On the contrary, a negative correlation indicates that as a given attribute increases, it is likely that the final grade will not be sufficient.\n",
    "\n",
    "Looking at both graphs we can see that the most negatively correlated value to the final grade are the number of previous failures, an indicator of a boy who has already shown to have difficulties in school. Other common value are age (in case of higher age the boy has already met failures) and  among the positive correlated attributes we can identify the desire to continue the studies (higher) and education of both father and mother.\n",
    "The other values are different to a graph from another, this could indicate either that there are different factors influencing the trend in different subjects, or that they are values that could change significantly by changing samples because we are facing very low correlations.\n",
    "\n",
    "Looking at the differences between the graphs, however, we could make some hypothesis, for example it may be interesting to see, in the Math's one, how it seems to be relevant the fact that a boy is entrusted to guardians who are neither the father nor the mother (guardian_other), this is may reflect a situation that does not favor the boy's tranquility. \n",
    "On the other hand, with regard to the values in the graph of the Portuguese language we can see how alcohol consumption is negatively correlated to the grade, in the case of higher correlation values we could hypothesize that while mathematics requires more natural predisposition, the Portuguese language simply requires a lifestyle appropriate to a student that allows him to concentrate on studying and obviously alcohol consumption conflicts with this.\n",
    "\n",
    "This can be a good start to identify patterns and try to better understand which behavioural and environmental factors influence the boy's success at school more clearly. Obviously, in order to make the hypotheses I have proposed even considerable, higher correlation values would certainly be needed, but I believe that this could still be a good exercise to understand the importance of correlation and to reason about it.\n",
    "\n",
    "\n",
    "\n"
   ]
  },
  {
   "cell_type": "markdown",
   "metadata": {},
   "source": [
    "### k-Fold Cross-validation\n",
    "\n",
    "Before introducing the various models used, I would like to say a few words about a technique that I used to improve the results. It is the k-Fold Cross-validation, through which I can estimate the test error more accurately and then understand which configuration optimizes the parameters in question.\n",
    "K-Fold because the test set is divided into K sets and in each iteration one of them is used as validation set and the others as train set, in this way you get a series of MSE (if we are talking about regression) or accuracies (for the classification) of which the average is made, thus obtaining a result less dependent on the choice of input data.\n",
    "For the models I kept some fairly standard choices choosing k = 5 or 10."
   ]
  },
  {
   "cell_type": "code",
   "execution_count": 8,
   "metadata": {},
   "outputs": [],
   "source": [
    "\n",
    "df_merge20 = pd.concat([dataMat20L, dataPor20L])\n",
    "df_merge5 = pd.concat([dataMat5L, dataPor5L])\n",
    "df_merge = pd.concat([dataMatExt, dataPorExt])"
   ]
  },
  {
   "cell_type": "markdown",
   "metadata": {},
   "source": [
    "The dataset lends itself to be analyzed both through regression and classification, in particular I decided to treat the dataset differently depending on which model I'm going to apply. \n",
    "First we will deal with regression.\n",
    "\n",
    "## Linear Regression\n",
    "\n",
    "The Linear Regression is one of the simplest supervised models to apply to a data set, it allows to give a quantitative response to the data that is submitted to it through a linear function of one or more features that approximates the arrangement of samples in multidimensional space, in fact the model that we will use is a **Multiple Linear Regression**\n",
    "\n",
    "If we want to define it more strictly we can say that given $x = x_1, x_2, ... , x_n$ a vector of $n$ features and $n+1$ coefficients or parameters $\\beta = \\beta_0, \\beta_1, ... , \\beta_n$ . The relation that links the result $Y$ with the features in input $X$ is \n",
    "\n",
    "$$\\hat{y} = \\hat{\\beta_0} + \\hat{\\beta_1} x_1 + ... + \\hat{\\beta_n} x_n + \\epsilon$$\n",
    "\n",
    "Where the vector $\\hat{\\beta}$ is the vector of the model parameters that must therefore be estimated, to allow a quantitative estimate $\\hat{y}$ as close as possible to the real value of $y$ of the sample under examination. The constants have the role to parameterize the importance of the various features, in case of null hypothesis the prediction will be just $\\hat{\\beta_0}$, called *intercept*.\n",
    "The term $\\epsilon$  represent the error of the model and serves to collect all the inaccuracies of the regression, often due mainly to the fact that a relationship is almost always linearly approximated.\n",
    "\n",
    "To apply Linear Regression I have chosen to merge the datasets for both subjects and use the grades from all three periods in the 20 level and 5 level form to see which one we would have better results on, so given a student's data the Linear Regression should give us his grade (so it is a quantitative result) on the scale we are analysing.\n",
    "\n",
    "\n",
    "In order to try to improve the results obtained, I decided to try to decrease the number of features used for the regression, as we have seen from the correlation graphs, most of them are completely disconnected from the final result. That's why I decided to apply a form of *subset selection*. Having a fairly high $p$ (number of predictors), a best subset selection would have needed a lot of computational resources or a lot of time, so I opted for **Forward Stepwise Selection**. Whose algorithm taken from the source [1] is shown below:\n",
    "\n",
    "1. Let $M_0$ denote the null model, which contains no predictors.\n",
    "2. For $k$ = 0, . . . , $p$ − 1:\n",
    "    a.  Consider all $p − k$ models that augment the predictors in $M_k$ with one additional predictor.\n",
    "    b. Choose the best among these $p − k$ models, and call it $M_k+1$. Here best is defined as having smallest RSS or highest R2.\n",
    "3. Select a single best model from among $M_0, . . . ,M_p$ using crossvalidated prediction error, Cp (AIC), BIC, or adjusted R2.\n",
    "\n",
    "I then implemented the algorithm described above, choosing for the last point to use cross validation, because if computationally feasible it turns out to be the most reliable solution to select the model that will perform best on a test set.\n",
    "\n",
    "Finally, after obtaining sub-optimal results, I returned to observe the data with the help of the data exploration phase, what I noticed is that the large amount of records in which $G3 = 0$ could have numerous meanings, both of data not collected, but also and above all of a boy who had not finished the school year or who had retired. They are records so certainly useful to try to see the reasons behind the failure of a year (which will be done later with the classification), but certainly not optimal if we talk about perform regression more accuratly possible on the grade, these data are in fact outliers for our model, heavily influencing the choice. That's why I decided to apply the *Linear Regression* without this data and see if the results would have improved.\n",
    "\n",
    "Finally I fit the models also used as predictors only G1 and G2 that are the two features more correlated with G3 to see how much the other features really affect them.\n",
    "\n"
   ]
  },
  {
   "cell_type": "code",
   "execution_count": 9,
   "metadata": {},
   "outputs": [],
   "source": [
    "import itertools\n",
    "#from tqdm import tnrange, tqdm_notebook\n",
    "\n",
    "def fit_linear_reg(X,Y):\n",
    "        #Fit linear regression model and return RSS and R squared values\n",
    "        model_k = LinearRegression()\n",
    "        model_k.fit(X,Y)\n",
    "        RSS = mean_squared_error(Y,model_k.predict(X)) * len(Y)\n",
    "        R_squared = model_k.score(X,Y)\n",
    "        return RSS, R_squared\n",
    "\n",
    "\n",
    "def Forward_stepwise_selection(data2):\n",
    "\n",
    "    \n",
    "    y_data = data2.loc[:,['G3']]\n",
    "    x_data = data2.loc[:, data2.columns != 'G3']\n",
    "\n",
    "    x_train, x_test, y_train, y_test = train_test_split(x_data, y_data, test_size=0.25, random_state=42)\n",
    "\n",
    "    k = 45\n",
    "\n",
    "    remaining_features = list(x_data.columns.values)\n",
    "    features = []\n",
    "    RSS_list, R_squared_list = [np.inf], [np.inf] #Due to 1 indexing of the loop...\n",
    "    features_list = dict()\n",
    "\n",
    "    for i in range(1,k+1):\n",
    "        best_RSS = np.inf\n",
    "        best_R_squared = np.inf\n",
    "\n",
    "        for combo in itertools.combinations(remaining_features,1):\n",
    "\n",
    "                RSS = fit_linear_reg(x_data[list(combo) + features],y_data)   #Store temp result \n",
    "\n",
    "                if RSS[0] < best_RSS:\n",
    "                    best_RSS = RSS[0]\n",
    "                    best_R_squared = RSS[1] \n",
    "                    best_feature = combo[0]\n",
    "\n",
    "        #Updating variables for next loop\n",
    "        features.append(best_feature)\n",
    "        remaining_features.remove(best_feature)\n",
    "\n",
    "        #Saving values for plotting\n",
    "        RSS_list.append(best_RSS)\n",
    "        R_squared_list.append(best_R_squared)\n",
    "        features_list[i] = features.copy()\n",
    "\n",
    "    #print('Forward stepwise subset selection')\n",
    "    #print('Number of features |', 'Features |', 'RSS |', 'R^2')\n",
    "    #display([(i,features_list[i], round(RSS_list[i]), round(R_squared_list[i])) for i in range(1,6)])\n",
    "\n",
    "\n",
    "    scores = list()\n",
    "    scores_std = list()\n",
    "    for lst in list(features_list.values()):\n",
    "        lr = LinearRegression()\n",
    "        x_tmp = x_data.loc[:,lst]\n",
    "\n",
    "        this_scores = cross_val_score(lr, x_tmp, y_data, cv=10, scoring='r2')\n",
    "        \n",
    "        #this_scores = cross_val_score(lr, x_tmp, y_data, cv=10, scoring='neg_mean_squared_error')\n",
    "        scores.append(np.mean(this_scores))\n",
    "        scores_std.append(np.std(this_scores))\n",
    "\n",
    "    max_score = max(scores)\n",
    "    max_index = scores.index(max_score)\n",
    "\n",
    "    #print('Best score on crossvalidation: ', features_list[max_index], ' = ', round(max_score, 4))\n",
    "    \n",
    "    return(features_list[max_index])\n",
    "    \n",
    "    "
   ]
  },
  {
   "cell_type": "code",
   "execution_count": 10,
   "metadata": {
    "scrolled": false
   },
   "outputs": [],
   "source": [
    "features = set()\n",
    "result_lr = {}\n",
    "\n",
    "def linReg(data, selection, label) :\n",
    "    \n",
    "    y_Mat20L = data.loc[:,['G3']]\n",
    "    x_Mat20L = data.loc[:, data.columns != 'G3']\n",
    "    \n",
    "    x_train, x_test, y_train, y_test = train_test_split(x_Mat20L, y_Mat20L, test_size=0.2, random_state=42)\n",
    "    \n",
    "    #print(x_train.shape, x_test.shape, y_train.shape, y_test.shape)\n",
    "    \n",
    "    train_set = x_train.join(y_train)\n",
    "    \n",
    "    #print(train_set.shape)\n",
    "    \n",
    "    if(selection):\n",
    "        best_features = Forward_stepwise_selection(train_set)\n",
    "    else:\n",
    "        best_features = list(train_set.columns)\n",
    "        best_features.remove('G3')\n",
    "    \n",
    "    features.update(best_features)\n",
    "    \n",
    "    #y_Mat20L = data.loc[:,['G3']]\n",
    "    #x_Mat20L = data.loc[:, data.columns != 'G3']\n",
    "    #x_Mat20L = x_Mat20L.loc[:, best_features]\n",
    "    \n",
    "    x_train = x_train.loc[:, best_features]\n",
    "    x_test = x_test.loc[:, best_features]\n",
    "    \n",
    "    #print(x_train.shape, x_test.shape, y_train.shape, y_test.shape)\n",
    "    \n",
    "    #x_train, x_test, y_train, y_test = train_test_split(x_Mat20L, y_Mat20L, test_size=0.2, random_state=42)\n",
    "    \n",
    "\n",
    "    regr = LinearRegression()\n",
    "\n",
    "    # Train the model using the training sets\n",
    "    regr.fit(x_train, y_train)\n",
    "\n",
    "    # Make predictions using the testing set\n",
    "    y_pred = regr.predict(x_test)\n",
    "\n",
    "    #print('Results on test dataset ')\n",
    "\n",
    "    # The coefficients\n",
    "    #print('Coefficients: \\n', regr.coef_)\n",
    "    # The mean squared error\n",
    "    #print('Mean squared error: %.2f'% mean_squared_error(y_test, y_pred))\n",
    "    # The coefficient of determination: 1 is perfect prediction\n",
    "    #print('R^2 statistic: %.2f'% r2_score(y_test, y_pred))\n",
    "    # F-statistic\n",
    "    #print('F-statistic: %.2f'% f1_score(y_test, y_pred))\n",
    "    \n",
    "    result_lr[label] = (mean_squared_error(y_test, y_pred), r2_score(y_test, y_pred))\n",
    "    \n",
    "    \n",
    "\n"
   ]
  },
  {
   "cell_type": "code",
   "execution_count": 11,
   "metadata": {
    "scrolled": false
   },
   "outputs": [],
   "source": [
    "'''\n",
    "indToDrop = dataMat20L[dataMat20L['G3'] == 0].index\n",
    "dataMat20LNoOut = dataMat20L.drop(indToDrop)\n",
    "\n",
    "linReg(dataMat20LNoOut, True)\n",
    "\n",
    "indToDrop = dataMat5L[dataMat5L['G3'] == 0].index\n",
    "dataMat5LNoOut = dataMat5L.drop(indToDrop)\n",
    "\n",
    "linReg(dataMat5LNoOut, True)\n",
    "'''\n",
    "#print('Linear Regression with grades on 20 Levels')\n",
    "linReg(df_merge20, False, '20L noSelection')\n",
    "#print()\n",
    "\n",
    "#print('Linear Regression with grades on 20 Levels')\n",
    "linReg(df_merge20, True, '20L')\n",
    "#print()\n",
    "\n",
    "linReg(df_merge20.loc[:,['G1','G2', 'G3']], False, '20L features(G1,G2)')\n",
    "#print()\n",
    "\n",
    "indToDrop = df_merge20[df_merge20['G3'] == 0].index\n",
    "df_merge20NoOut = df_merge20.drop(indToDrop)\n",
    "\n",
    "linReg(df_merge20NoOut, True, '20L NoOutliers')\n",
    "\n",
    "\n",
    "#print()\n",
    "\n",
    "#print('Linear Regression with grades on 5 Levels')\n",
    "linReg(df_merge5, False, '5L noSelection')\n",
    "#print()\n",
    "\n",
    "\n",
    "#print('Linear Regression with grades on 5 Levels')\n",
    "linReg(df_merge5, True, '5L')\n",
    "#print()\n",
    "\n",
    "linReg(df_merge5.loc[:,['G1','G2', 'G3']], False, '5L features(G1,G2)')\n",
    "\n",
    "\n",
    "\n",
    "#print()\n",
    "\n",
    "df_merge5NoOut = df_merge5.drop(indToDrop)\n",
    "linReg(df_merge5NoOut, True, '5L NoOutliers')\n",
    "\n",
    "\n",
    "r2_list = []\n",
    "mse_list = []\n",
    "model_list = []\n",
    "for k,v in result_lr.items():\n",
    "    mse_list.append(v[0])\n",
    "    r2_list.append(v[1])\n",
    "    model_list.append(k)\n",
    "\n",
    "    \n",
    "\n",
    "    \n",
    "\n"
   ]
  },
  {
   "cell_type": "code",
   "execution_count": 12,
   "metadata": {},
   "outputs": [
    {
     "data": {
      "application/vnd.plotly.v1+json": {
       "config": {
        "plotlyServerURL": "https://plot.ly"
       },
       "data": [
        {
         "marker": {
          "color": "crimson",
          "size": 12
         },
         "mode": "lines+markers",
         "name": "MSE",
         "type": "scatter",
         "x": [
          "20L noSelection",
          "20L",
          "20L features(G1,G2)",
          "20L NoOutliers",
          "5L noSelection",
          "5L",
          "5L features(G1,G2)",
          "5L NoOutliers"
         ],
         "y": [
          3.203397239823089,
          3.1099064198654363,
          2.978726475816173,
          0.7383917802208884,
          0.26352116097049993,
          0.24261622606758917,
          0.24080824746645543,
          0.2065996411977785
         ]
        },
        {
         "marker": {
          "color": "gold",
          "size": 12
         },
         "mode": "lines+markers",
         "name": "R^2",
         "type": "scatter",
         "visible": false,
         "x": [
          "20L noSelection",
          "20L",
          "20L features(G1,G2)",
          "20L NoOutliers",
          "5L noSelection",
          "5L",
          "5L features(G1,G2)",
          "5L NoOutliers"
         ],
         "y": [
          0.7928054519878576,
          0.7988524036252013,
          0.8073370738614303,
          0.9051116986718581,
          0.8518740466818633,
          0.8636247668143306,
          0.8646410364485622,
          0.8627147265840409
         ]
        }
       ],
       "layout": {
        "barmode": "group",
        "sliders": [
         {
          "active": 0,
          "currentvalue": {
           "prefix": "Evaluation Method:   "
          },
          "pad": {
           "t": 90
          },
          "steps": [
           {
            "args": [
             "visible",
             [
              true,
              false
             ]
            ],
            "label": "MSE",
            "method": "restyle"
           },
           {
            "args": [
             "visible",
             [
              false,
              true
             ]
            ],
            "label": "R^2",
            "method": "restyle"
           }
          ]
         }
        ],
        "template": {
         "data": {
          "bar": [
           {
            "error_x": {
             "color": "#2a3f5f"
            },
            "error_y": {
             "color": "#2a3f5f"
            },
            "marker": {
             "line": {
              "color": "#E5ECF6",
              "width": 0.5
             }
            },
            "type": "bar"
           }
          ],
          "barpolar": [
           {
            "marker": {
             "line": {
              "color": "#E5ECF6",
              "width": 0.5
             }
            },
            "type": "barpolar"
           }
          ],
          "carpet": [
           {
            "aaxis": {
             "endlinecolor": "#2a3f5f",
             "gridcolor": "white",
             "linecolor": "white",
             "minorgridcolor": "white",
             "startlinecolor": "#2a3f5f"
            },
            "baxis": {
             "endlinecolor": "#2a3f5f",
             "gridcolor": "white",
             "linecolor": "white",
             "minorgridcolor": "white",
             "startlinecolor": "#2a3f5f"
            },
            "type": "carpet"
           }
          ],
          "choropleth": [
           {
            "colorbar": {
             "outlinewidth": 0,
             "ticks": ""
            },
            "type": "choropleth"
           }
          ],
          "contour": [
           {
            "colorbar": {
             "outlinewidth": 0,
             "ticks": ""
            },
            "colorscale": [
             [
              0,
              "#0d0887"
             ],
             [
              0.1111111111111111,
              "#46039f"
             ],
             [
              0.2222222222222222,
              "#7201a8"
             ],
             [
              0.3333333333333333,
              "#9c179e"
             ],
             [
              0.4444444444444444,
              "#bd3786"
             ],
             [
              0.5555555555555556,
              "#d8576b"
             ],
             [
              0.6666666666666666,
              "#ed7953"
             ],
             [
              0.7777777777777778,
              "#fb9f3a"
             ],
             [
              0.8888888888888888,
              "#fdca26"
             ],
             [
              1,
              "#f0f921"
             ]
            ],
            "type": "contour"
           }
          ],
          "contourcarpet": [
           {
            "colorbar": {
             "outlinewidth": 0,
             "ticks": ""
            },
            "type": "contourcarpet"
           }
          ],
          "heatmap": [
           {
            "colorbar": {
             "outlinewidth": 0,
             "ticks": ""
            },
            "colorscale": [
             [
              0,
              "#0d0887"
             ],
             [
              0.1111111111111111,
              "#46039f"
             ],
             [
              0.2222222222222222,
              "#7201a8"
             ],
             [
              0.3333333333333333,
              "#9c179e"
             ],
             [
              0.4444444444444444,
              "#bd3786"
             ],
             [
              0.5555555555555556,
              "#d8576b"
             ],
             [
              0.6666666666666666,
              "#ed7953"
             ],
             [
              0.7777777777777778,
              "#fb9f3a"
             ],
             [
              0.8888888888888888,
              "#fdca26"
             ],
             [
              1,
              "#f0f921"
             ]
            ],
            "type": "heatmap"
           }
          ],
          "heatmapgl": [
           {
            "colorbar": {
             "outlinewidth": 0,
             "ticks": ""
            },
            "colorscale": [
             [
              0,
              "#0d0887"
             ],
             [
              0.1111111111111111,
              "#46039f"
             ],
             [
              0.2222222222222222,
              "#7201a8"
             ],
             [
              0.3333333333333333,
              "#9c179e"
             ],
             [
              0.4444444444444444,
              "#bd3786"
             ],
             [
              0.5555555555555556,
              "#d8576b"
             ],
             [
              0.6666666666666666,
              "#ed7953"
             ],
             [
              0.7777777777777778,
              "#fb9f3a"
             ],
             [
              0.8888888888888888,
              "#fdca26"
             ],
             [
              1,
              "#f0f921"
             ]
            ],
            "type": "heatmapgl"
           }
          ],
          "histogram": [
           {
            "marker": {
             "colorbar": {
              "outlinewidth": 0,
              "ticks": ""
             }
            },
            "type": "histogram"
           }
          ],
          "histogram2d": [
           {
            "colorbar": {
             "outlinewidth": 0,
             "ticks": ""
            },
            "colorscale": [
             [
              0,
              "#0d0887"
             ],
             [
              0.1111111111111111,
              "#46039f"
             ],
             [
              0.2222222222222222,
              "#7201a8"
             ],
             [
              0.3333333333333333,
              "#9c179e"
             ],
             [
              0.4444444444444444,
              "#bd3786"
             ],
             [
              0.5555555555555556,
              "#d8576b"
             ],
             [
              0.6666666666666666,
              "#ed7953"
             ],
             [
              0.7777777777777778,
              "#fb9f3a"
             ],
             [
              0.8888888888888888,
              "#fdca26"
             ],
             [
              1,
              "#f0f921"
             ]
            ],
            "type": "histogram2d"
           }
          ],
          "histogram2dcontour": [
           {
            "colorbar": {
             "outlinewidth": 0,
             "ticks": ""
            },
            "colorscale": [
             [
              0,
              "#0d0887"
             ],
             [
              0.1111111111111111,
              "#46039f"
             ],
             [
              0.2222222222222222,
              "#7201a8"
             ],
             [
              0.3333333333333333,
              "#9c179e"
             ],
             [
              0.4444444444444444,
              "#bd3786"
             ],
             [
              0.5555555555555556,
              "#d8576b"
             ],
             [
              0.6666666666666666,
              "#ed7953"
             ],
             [
              0.7777777777777778,
              "#fb9f3a"
             ],
             [
              0.8888888888888888,
              "#fdca26"
             ],
             [
              1,
              "#f0f921"
             ]
            ],
            "type": "histogram2dcontour"
           }
          ],
          "mesh3d": [
           {
            "colorbar": {
             "outlinewidth": 0,
             "ticks": ""
            },
            "type": "mesh3d"
           }
          ],
          "parcoords": [
           {
            "line": {
             "colorbar": {
              "outlinewidth": 0,
              "ticks": ""
             }
            },
            "type": "parcoords"
           }
          ],
          "pie": [
           {
            "automargin": true,
            "type": "pie"
           }
          ],
          "scatter": [
           {
            "marker": {
             "colorbar": {
              "outlinewidth": 0,
              "ticks": ""
             }
            },
            "type": "scatter"
           }
          ],
          "scatter3d": [
           {
            "line": {
             "colorbar": {
              "outlinewidth": 0,
              "ticks": ""
             }
            },
            "marker": {
             "colorbar": {
              "outlinewidth": 0,
              "ticks": ""
             }
            },
            "type": "scatter3d"
           }
          ],
          "scattercarpet": [
           {
            "marker": {
             "colorbar": {
              "outlinewidth": 0,
              "ticks": ""
             }
            },
            "type": "scattercarpet"
           }
          ],
          "scattergeo": [
           {
            "marker": {
             "colorbar": {
              "outlinewidth": 0,
              "ticks": ""
             }
            },
            "type": "scattergeo"
           }
          ],
          "scattergl": [
           {
            "marker": {
             "colorbar": {
              "outlinewidth": 0,
              "ticks": ""
             }
            },
            "type": "scattergl"
           }
          ],
          "scattermapbox": [
           {
            "marker": {
             "colorbar": {
              "outlinewidth": 0,
              "ticks": ""
             }
            },
            "type": "scattermapbox"
           }
          ],
          "scatterpolar": [
           {
            "marker": {
             "colorbar": {
              "outlinewidth": 0,
              "ticks": ""
             }
            },
            "type": "scatterpolar"
           }
          ],
          "scatterpolargl": [
           {
            "marker": {
             "colorbar": {
              "outlinewidth": 0,
              "ticks": ""
             }
            },
            "type": "scatterpolargl"
           }
          ],
          "scatterternary": [
           {
            "marker": {
             "colorbar": {
              "outlinewidth": 0,
              "ticks": ""
             }
            },
            "type": "scatterternary"
           }
          ],
          "surface": [
           {
            "colorbar": {
             "outlinewidth": 0,
             "ticks": ""
            },
            "colorscale": [
             [
              0,
              "#0d0887"
             ],
             [
              0.1111111111111111,
              "#46039f"
             ],
             [
              0.2222222222222222,
              "#7201a8"
             ],
             [
              0.3333333333333333,
              "#9c179e"
             ],
             [
              0.4444444444444444,
              "#bd3786"
             ],
             [
              0.5555555555555556,
              "#d8576b"
             ],
             [
              0.6666666666666666,
              "#ed7953"
             ],
             [
              0.7777777777777778,
              "#fb9f3a"
             ],
             [
              0.8888888888888888,
              "#fdca26"
             ],
             [
              1,
              "#f0f921"
             ]
            ],
            "type": "surface"
           }
          ],
          "table": [
           {
            "cells": {
             "fill": {
              "color": "#EBF0F8"
             },
             "line": {
              "color": "white"
             }
            },
            "header": {
             "fill": {
              "color": "#C8D4E3"
             },
             "line": {
              "color": "white"
             }
            },
            "type": "table"
           }
          ]
         },
         "layout": {
          "annotationdefaults": {
           "arrowcolor": "#2a3f5f",
           "arrowhead": 0,
           "arrowwidth": 1
          },
          "coloraxis": {
           "colorbar": {
            "outlinewidth": 0,
            "ticks": ""
           }
          },
          "colorscale": {
           "diverging": [
            [
             0,
             "#8e0152"
            ],
            [
             0.1,
             "#c51b7d"
            ],
            [
             0.2,
             "#de77ae"
            ],
            [
             0.3,
             "#f1b6da"
            ],
            [
             0.4,
             "#fde0ef"
            ],
            [
             0.5,
             "#f7f7f7"
            ],
            [
             0.6,
             "#e6f5d0"
            ],
            [
             0.7,
             "#b8e186"
            ],
            [
             0.8,
             "#7fbc41"
            ],
            [
             0.9,
             "#4d9221"
            ],
            [
             1,
             "#276419"
            ]
           ],
           "sequential": [
            [
             0,
             "#0d0887"
            ],
            [
             0.1111111111111111,
             "#46039f"
            ],
            [
             0.2222222222222222,
             "#7201a8"
            ],
            [
             0.3333333333333333,
             "#9c179e"
            ],
            [
             0.4444444444444444,
             "#bd3786"
            ],
            [
             0.5555555555555556,
             "#d8576b"
            ],
            [
             0.6666666666666666,
             "#ed7953"
            ],
            [
             0.7777777777777778,
             "#fb9f3a"
            ],
            [
             0.8888888888888888,
             "#fdca26"
            ],
            [
             1,
             "#f0f921"
            ]
           ],
           "sequentialminus": [
            [
             0,
             "#0d0887"
            ],
            [
             0.1111111111111111,
             "#46039f"
            ],
            [
             0.2222222222222222,
             "#7201a8"
            ],
            [
             0.3333333333333333,
             "#9c179e"
            ],
            [
             0.4444444444444444,
             "#bd3786"
            ],
            [
             0.5555555555555556,
             "#d8576b"
            ],
            [
             0.6666666666666666,
             "#ed7953"
            ],
            [
             0.7777777777777778,
             "#fb9f3a"
            ],
            [
             0.8888888888888888,
             "#fdca26"
            ],
            [
             1,
             "#f0f921"
            ]
           ]
          },
          "colorway": [
           "#636efa",
           "#EF553B",
           "#00cc96",
           "#ab63fa",
           "#FFA15A",
           "#19d3f3",
           "#FF6692",
           "#B6E880",
           "#FF97FF",
           "#FECB52"
          ],
          "font": {
           "color": "#2a3f5f"
          },
          "geo": {
           "bgcolor": "white",
           "lakecolor": "white",
           "landcolor": "#E5ECF6",
           "showlakes": true,
           "showland": true,
           "subunitcolor": "white"
          },
          "hoverlabel": {
           "align": "left"
          },
          "hovermode": "closest",
          "mapbox": {
           "style": "light"
          },
          "paper_bgcolor": "white",
          "plot_bgcolor": "#E5ECF6",
          "polar": {
           "angularaxis": {
            "gridcolor": "white",
            "linecolor": "white",
            "ticks": ""
           },
           "bgcolor": "#E5ECF6",
           "radialaxis": {
            "gridcolor": "white",
            "linecolor": "white",
            "ticks": ""
           }
          },
          "scene": {
           "xaxis": {
            "backgroundcolor": "#E5ECF6",
            "gridcolor": "white",
            "gridwidth": 2,
            "linecolor": "white",
            "showbackground": true,
            "ticks": "",
            "zerolinecolor": "white"
           },
           "yaxis": {
            "backgroundcolor": "#E5ECF6",
            "gridcolor": "white",
            "gridwidth": 2,
            "linecolor": "white",
            "showbackground": true,
            "ticks": "",
            "zerolinecolor": "white"
           },
           "zaxis": {
            "backgroundcolor": "#E5ECF6",
            "gridcolor": "white",
            "gridwidth": 2,
            "linecolor": "white",
            "showbackground": true,
            "ticks": "",
            "zerolinecolor": "white"
           }
          },
          "shapedefaults": {
           "line": {
            "color": "#2a3f5f"
           }
          },
          "ternary": {
           "aaxis": {
            "gridcolor": "white",
            "linecolor": "white",
            "ticks": ""
           },
           "baxis": {
            "gridcolor": "white",
            "linecolor": "white",
            "ticks": ""
           },
           "bgcolor": "#E5ECF6",
           "caxis": {
            "gridcolor": "white",
            "linecolor": "white",
            "ticks": ""
           }
          },
          "title": {
           "x": 0.05
          },
          "xaxis": {
           "automargin": true,
           "gridcolor": "white",
           "linecolor": "white",
           "ticks": "",
           "title": {
            "standoff": 15
           },
           "zerolinecolor": "white",
           "zerolinewidth": 2
          },
          "yaxis": {
           "automargin": true,
           "gridcolor": "white",
           "linecolor": "white",
           "ticks": "",
           "title": {
            "standoff": 15
           },
           "zerolinecolor": "white",
           "zerolinewidth": 2
          }
         }
        },
        "title": {
         "text": "MSE and R^2 in every model"
        },
        "xaxis": {
         "title": {
          "text": "Model"
         }
        },
        "yaxis": {
         "title": {
          "text": "Value"
         }
        }
       }
      },
      "text/html": [
       "<div>\n",
       "        \n",
       "        \n",
       "            <div id=\"3df57ee6-f9bb-43d2-88cb-c01bb62f7822\" class=\"plotly-graph-div\" style=\"height:525px; width:100%;\"></div>\n",
       "            <script type=\"text/javascript\">\n",
       "                require([\"plotly\"], function(Plotly) {\n",
       "                    window.PLOTLYENV=window.PLOTLYENV || {};\n",
       "                    \n",
       "                if (document.getElementById(\"3df57ee6-f9bb-43d2-88cb-c01bb62f7822\")) {\n",
       "                    Plotly.newPlot(\n",
       "                        '3df57ee6-f9bb-43d2-88cb-c01bb62f7822',\n",
       "                        [{\"marker\": {\"color\": \"crimson\", \"size\": 12}, \"mode\": \"lines+markers\", \"name\": \"MSE\", \"type\": \"scatter\", \"x\": [\"20L noSelection\", \"20L\", \"20L features(G1,G2)\", \"20L NoOutliers\", \"5L noSelection\", \"5L\", \"5L features(G1,G2)\", \"5L NoOutliers\"], \"y\": [3.203397239823089, 3.1099064198654363, 2.978726475816173, 0.7383917802208884, 0.26352116097049993, 0.24261622606758917, 0.24080824746645543, 0.2065996411977785]}, {\"marker\": {\"color\": \"gold\", \"size\": 12}, \"mode\": \"lines+markers\", \"name\": \"R^2\", \"type\": \"scatter\", \"visible\": false, \"x\": [\"20L noSelection\", \"20L\", \"20L features(G1,G2)\", \"20L NoOutliers\", \"5L noSelection\", \"5L\", \"5L features(G1,G2)\", \"5L NoOutliers\"], \"y\": [0.7928054519878576, 0.7988524036252013, 0.8073370738614303, 0.9051116986718581, 0.8518740466818633, 0.8636247668143306, 0.8646410364485622, 0.8627147265840409]}],\n",
       "                        {\"barmode\": \"group\", \"sliders\": [{\"active\": 0, \"currentvalue\": {\"prefix\": \"Evaluation Method:   \"}, \"pad\": {\"t\": 90}, \"steps\": [{\"args\": [\"visible\", [true, false]], \"label\": \"MSE\", \"method\": \"restyle\"}, {\"args\": [\"visible\", [false, true]], \"label\": \"R^2\", \"method\": \"restyle\"}]}], \"template\": {\"data\": {\"bar\": [{\"error_x\": {\"color\": \"#2a3f5f\"}, \"error_y\": {\"color\": \"#2a3f5f\"}, \"marker\": {\"line\": {\"color\": \"#E5ECF6\", \"width\": 0.5}}, \"type\": \"bar\"}], \"barpolar\": [{\"marker\": {\"line\": {\"color\": \"#E5ECF6\", \"width\": 0.5}}, \"type\": \"barpolar\"}], \"carpet\": [{\"aaxis\": {\"endlinecolor\": \"#2a3f5f\", \"gridcolor\": \"white\", \"linecolor\": \"white\", \"minorgridcolor\": \"white\", \"startlinecolor\": \"#2a3f5f\"}, \"baxis\": {\"endlinecolor\": \"#2a3f5f\", \"gridcolor\": \"white\", \"linecolor\": \"white\", \"minorgridcolor\": \"white\", \"startlinecolor\": \"#2a3f5f\"}, \"type\": \"carpet\"}], \"choropleth\": [{\"colorbar\": {\"outlinewidth\": 0, \"ticks\": \"\"}, \"type\": \"choropleth\"}], \"contour\": [{\"colorbar\": {\"outlinewidth\": 0, \"ticks\": \"\"}, \"colorscale\": [[0.0, \"#0d0887\"], [0.1111111111111111, \"#46039f\"], [0.2222222222222222, \"#7201a8\"], [0.3333333333333333, \"#9c179e\"], [0.4444444444444444, \"#bd3786\"], [0.5555555555555556, \"#d8576b\"], [0.6666666666666666, \"#ed7953\"], [0.7777777777777778, \"#fb9f3a\"], [0.8888888888888888, \"#fdca26\"], [1.0, \"#f0f921\"]], \"type\": \"contour\"}], \"contourcarpet\": [{\"colorbar\": {\"outlinewidth\": 0, \"ticks\": \"\"}, \"type\": \"contourcarpet\"}], \"heatmap\": [{\"colorbar\": {\"outlinewidth\": 0, \"ticks\": \"\"}, \"colorscale\": [[0.0, \"#0d0887\"], [0.1111111111111111, \"#46039f\"], [0.2222222222222222, \"#7201a8\"], [0.3333333333333333, \"#9c179e\"], [0.4444444444444444, \"#bd3786\"], [0.5555555555555556, \"#d8576b\"], [0.6666666666666666, \"#ed7953\"], [0.7777777777777778, \"#fb9f3a\"], [0.8888888888888888, \"#fdca26\"], [1.0, \"#f0f921\"]], \"type\": \"heatmap\"}], \"heatmapgl\": [{\"colorbar\": {\"outlinewidth\": 0, \"ticks\": \"\"}, \"colorscale\": [[0.0, \"#0d0887\"], [0.1111111111111111, \"#46039f\"], [0.2222222222222222, \"#7201a8\"], [0.3333333333333333, \"#9c179e\"], [0.4444444444444444, \"#bd3786\"], [0.5555555555555556, \"#d8576b\"], [0.6666666666666666, \"#ed7953\"], [0.7777777777777778, \"#fb9f3a\"], [0.8888888888888888, \"#fdca26\"], [1.0, \"#f0f921\"]], \"type\": \"heatmapgl\"}], \"histogram\": [{\"marker\": {\"colorbar\": {\"outlinewidth\": 0, \"ticks\": \"\"}}, \"type\": \"histogram\"}], \"histogram2d\": [{\"colorbar\": {\"outlinewidth\": 0, \"ticks\": \"\"}, \"colorscale\": [[0.0, \"#0d0887\"], [0.1111111111111111, \"#46039f\"], [0.2222222222222222, \"#7201a8\"], [0.3333333333333333, \"#9c179e\"], [0.4444444444444444, \"#bd3786\"], [0.5555555555555556, \"#d8576b\"], [0.6666666666666666, \"#ed7953\"], [0.7777777777777778, \"#fb9f3a\"], [0.8888888888888888, \"#fdca26\"], [1.0, \"#f0f921\"]], \"type\": \"histogram2d\"}], \"histogram2dcontour\": [{\"colorbar\": {\"outlinewidth\": 0, \"ticks\": \"\"}, \"colorscale\": [[0.0, \"#0d0887\"], [0.1111111111111111, \"#46039f\"], [0.2222222222222222, \"#7201a8\"], [0.3333333333333333, \"#9c179e\"], [0.4444444444444444, \"#bd3786\"], [0.5555555555555556, \"#d8576b\"], [0.6666666666666666, \"#ed7953\"], [0.7777777777777778, \"#fb9f3a\"], [0.8888888888888888, \"#fdca26\"], [1.0, \"#f0f921\"]], \"type\": \"histogram2dcontour\"}], \"mesh3d\": [{\"colorbar\": {\"outlinewidth\": 0, \"ticks\": \"\"}, \"type\": \"mesh3d\"}], \"parcoords\": [{\"line\": {\"colorbar\": {\"outlinewidth\": 0, \"ticks\": \"\"}}, \"type\": \"parcoords\"}], \"pie\": [{\"automargin\": true, \"type\": \"pie\"}], \"scatter\": [{\"marker\": {\"colorbar\": {\"outlinewidth\": 0, \"ticks\": \"\"}}, \"type\": \"scatter\"}], \"scatter3d\": [{\"line\": {\"colorbar\": {\"outlinewidth\": 0, \"ticks\": \"\"}}, \"marker\": {\"colorbar\": {\"outlinewidth\": 0, \"ticks\": \"\"}}, \"type\": \"scatter3d\"}], \"scattercarpet\": [{\"marker\": {\"colorbar\": {\"outlinewidth\": 0, \"ticks\": \"\"}}, \"type\": \"scattercarpet\"}], \"scattergeo\": [{\"marker\": {\"colorbar\": {\"outlinewidth\": 0, \"ticks\": \"\"}}, \"type\": \"scattergeo\"}], \"scattergl\": [{\"marker\": {\"colorbar\": {\"outlinewidth\": 0, \"ticks\": \"\"}}, \"type\": \"scattergl\"}], \"scattermapbox\": [{\"marker\": {\"colorbar\": {\"outlinewidth\": 0, \"ticks\": \"\"}}, \"type\": \"scattermapbox\"}], \"scatterpolar\": [{\"marker\": {\"colorbar\": {\"outlinewidth\": 0, \"ticks\": \"\"}}, \"type\": \"scatterpolar\"}], \"scatterpolargl\": [{\"marker\": {\"colorbar\": {\"outlinewidth\": 0, \"ticks\": \"\"}}, \"type\": \"scatterpolargl\"}], \"scatterternary\": [{\"marker\": {\"colorbar\": {\"outlinewidth\": 0, \"ticks\": \"\"}}, \"type\": \"scatterternary\"}], \"surface\": [{\"colorbar\": {\"outlinewidth\": 0, \"ticks\": \"\"}, \"colorscale\": [[0.0, \"#0d0887\"], [0.1111111111111111, \"#46039f\"], [0.2222222222222222, \"#7201a8\"], [0.3333333333333333, \"#9c179e\"], [0.4444444444444444, \"#bd3786\"], [0.5555555555555556, \"#d8576b\"], [0.6666666666666666, \"#ed7953\"], [0.7777777777777778, \"#fb9f3a\"], [0.8888888888888888, \"#fdca26\"], [1.0, \"#f0f921\"]], \"type\": \"surface\"}], \"table\": [{\"cells\": {\"fill\": {\"color\": \"#EBF0F8\"}, \"line\": {\"color\": \"white\"}}, \"header\": {\"fill\": {\"color\": \"#C8D4E3\"}, \"line\": {\"color\": \"white\"}}, \"type\": \"table\"}]}, \"layout\": {\"annotationdefaults\": {\"arrowcolor\": \"#2a3f5f\", \"arrowhead\": 0, \"arrowwidth\": 1}, \"coloraxis\": {\"colorbar\": {\"outlinewidth\": 0, \"ticks\": \"\"}}, \"colorscale\": {\"diverging\": [[0, \"#8e0152\"], [0.1, \"#c51b7d\"], [0.2, \"#de77ae\"], [0.3, \"#f1b6da\"], [0.4, \"#fde0ef\"], [0.5, \"#f7f7f7\"], [0.6, \"#e6f5d0\"], [0.7, \"#b8e186\"], [0.8, \"#7fbc41\"], [0.9, \"#4d9221\"], [1, \"#276419\"]], \"sequential\": [[0.0, \"#0d0887\"], [0.1111111111111111, \"#46039f\"], [0.2222222222222222, \"#7201a8\"], [0.3333333333333333, \"#9c179e\"], [0.4444444444444444, \"#bd3786\"], [0.5555555555555556, \"#d8576b\"], [0.6666666666666666, \"#ed7953\"], [0.7777777777777778, \"#fb9f3a\"], [0.8888888888888888, \"#fdca26\"], [1.0, \"#f0f921\"]], \"sequentialminus\": [[0.0, \"#0d0887\"], [0.1111111111111111, \"#46039f\"], [0.2222222222222222, \"#7201a8\"], [0.3333333333333333, \"#9c179e\"], [0.4444444444444444, \"#bd3786\"], [0.5555555555555556, \"#d8576b\"], [0.6666666666666666, \"#ed7953\"], [0.7777777777777778, \"#fb9f3a\"], [0.8888888888888888, \"#fdca26\"], [1.0, \"#f0f921\"]]}, \"colorway\": [\"#636efa\", \"#EF553B\", \"#00cc96\", \"#ab63fa\", \"#FFA15A\", \"#19d3f3\", \"#FF6692\", \"#B6E880\", \"#FF97FF\", \"#FECB52\"], \"font\": {\"color\": \"#2a3f5f\"}, \"geo\": {\"bgcolor\": \"white\", \"lakecolor\": \"white\", \"landcolor\": \"#E5ECF6\", \"showlakes\": true, \"showland\": true, \"subunitcolor\": \"white\"}, \"hoverlabel\": {\"align\": \"left\"}, \"hovermode\": \"closest\", \"mapbox\": {\"style\": \"light\"}, \"paper_bgcolor\": \"white\", \"plot_bgcolor\": \"#E5ECF6\", \"polar\": {\"angularaxis\": {\"gridcolor\": \"white\", \"linecolor\": \"white\", \"ticks\": \"\"}, \"bgcolor\": \"#E5ECF6\", \"radialaxis\": {\"gridcolor\": \"white\", \"linecolor\": \"white\", \"ticks\": \"\"}}, \"scene\": {\"xaxis\": {\"backgroundcolor\": \"#E5ECF6\", \"gridcolor\": \"white\", \"gridwidth\": 2, \"linecolor\": \"white\", \"showbackground\": true, \"ticks\": \"\", \"zerolinecolor\": \"white\"}, \"yaxis\": {\"backgroundcolor\": \"#E5ECF6\", \"gridcolor\": \"white\", \"gridwidth\": 2, \"linecolor\": \"white\", \"showbackground\": true, \"ticks\": \"\", \"zerolinecolor\": \"white\"}, \"zaxis\": {\"backgroundcolor\": \"#E5ECF6\", \"gridcolor\": \"white\", \"gridwidth\": 2, \"linecolor\": \"white\", \"showbackground\": true, \"ticks\": \"\", \"zerolinecolor\": \"white\"}}, \"shapedefaults\": {\"line\": {\"color\": \"#2a3f5f\"}}, \"ternary\": {\"aaxis\": {\"gridcolor\": \"white\", \"linecolor\": \"white\", \"ticks\": \"\"}, \"baxis\": {\"gridcolor\": \"white\", \"linecolor\": \"white\", \"ticks\": \"\"}, \"bgcolor\": \"#E5ECF6\", \"caxis\": {\"gridcolor\": \"white\", \"linecolor\": \"white\", \"ticks\": \"\"}}, \"title\": {\"x\": 0.05}, \"xaxis\": {\"automargin\": true, \"gridcolor\": \"white\", \"linecolor\": \"white\", \"ticks\": \"\", \"title\": {\"standoff\": 15}, \"zerolinecolor\": \"white\", \"zerolinewidth\": 2}, \"yaxis\": {\"automargin\": true, \"gridcolor\": \"white\", \"linecolor\": \"white\", \"ticks\": \"\", \"title\": {\"standoff\": 15}, \"zerolinecolor\": \"white\", \"zerolinewidth\": 2}}}, \"title\": {\"text\": \"MSE and R^2 in every model\"}, \"xaxis\": {\"title\": {\"text\": \"Model\"}}, \"yaxis\": {\"title\": {\"text\": \"Value\"}}},\n",
       "                        {\"responsive\": true}\n",
       "                    ).then(function(){\n",
       "                            \n",
       "var gd = document.getElementById('3df57ee6-f9bb-43d2-88cb-c01bb62f7822');\n",
       "var x = new MutationObserver(function (mutations, observer) {{\n",
       "        var display = window.getComputedStyle(gd).display;\n",
       "        if (!display || display === 'none') {{\n",
       "            console.log([gd, 'removed!']);\n",
       "            Plotly.purge(gd);\n",
       "            observer.disconnect();\n",
       "        }}\n",
       "}});\n",
       "\n",
       "// Listen for the removal of the full notebook cells\n",
       "var notebookContainer = gd.closest('#notebook-container');\n",
       "if (notebookContainer) {{\n",
       "    x.observe(notebookContainer, {childList: true});\n",
       "}}\n",
       "\n",
       "// Listen for the clearing of the current output cell\n",
       "var outputEl = gd.closest('.output');\n",
       "if (outputEl) {{\n",
       "    x.observe(outputEl, {childList: true});\n",
       "}}\n",
       "\n",
       "                        })\n",
       "                };\n",
       "                });\n",
       "            </script>\n",
       "        </div>"
      ]
     },
     "metadata": {},
     "output_type": "display_data"
    }
   ],
   "source": [
    "\n",
    "fig = go.Figure()\n",
    "fig.add_trace(go.Scatter(\n",
    "    x=model_list,\n",
    "    y=mse_list,\n",
    "    marker=dict(color=\"crimson\", size=12),\n",
    "    mode='lines+markers',\n",
    "    name=\"MSE\",\n",
    "))\n",
    "\n",
    "fig.add_trace(go.Scatter(\n",
    "    x=model_list,\n",
    "    y=r2_list,\n",
    "    marker=dict(color=\"gold\", size=12),\n",
    "    mode='lines+markers',\n",
    "    name=\"R^2\",\n",
    "))\n",
    "\n",
    "fig.data[1].visible = False\n",
    "\n",
    "stepsG3 = []\n",
    "labels = ['MSE', 'R^2']\n",
    "for i in range(len(fig.data)):\n",
    "    \n",
    "    step = dict(\n",
    "    method=\"restyle\",\n",
    "    args=[\"visible\", [False] * len(fig.data)],\n",
    "    label = labels[i]\n",
    "    )\n",
    "    step[\"args\"][1][i] = True  # Toggle i'th trace to \"visible\"\n",
    "    #step[\"args\"][1][i+1] = True  # Toggle i'th trace to \"visible\"\n",
    "    stepsG3.append(step)\n",
    "    \n",
    "\n",
    "sliders = [dict(\n",
    "    active=0,\n",
    "    currentvalue={\"prefix\": \"Evaluation Method:   \"},\n",
    "    pad={\"t\": 90},\n",
    "    steps=stepsG3\n",
    ")]\n",
    "\n",
    "fig.update_layout(\n",
    "    sliders=sliders,\n",
    "    barmode='group',\n",
    "    title=\"MSE and R^2 in every model\",\n",
    "    xaxis_title=\"Model\",\n",
    "    yaxis_title=\"Value\"\n",
    ")\n",
    "\n",
    "\n",
    "fig.show()"
   ]
  },
  {
   "cell_type": "markdown",
   "metadata": {},
   "source": [
    "The graph allows us to see the two evaluation metrics chosen to see the effectiveness of the various trained models, $MSE$ and $R^2$.\n",
    "\n",
    "$MSE$ or *Mean Squared Error*, allows us to see how far on average the points are from our linear function which should approximate their trend, so obviously it must be as small as possible. However, it is relative to the reference system, in fact as we can see the MSE of the 20 level model is always much higher than the 5 level model, this is because between two quite close grades in the first model there can be 2 or 3 classes (there is a class for each grade from 1 to 20), on the contrary in the 5 level model more grades are crushed in the same class, so a lower MSE must be scaled because miss by one class does not correspond to miss the regression of a pure grade, but also of 3-4 grades or more.\n",
    "\n",
    "$R^2$ is, instead, the proportion of variance exposed using X, so it is independent from the Y set and is therefore easier to control, it always varies between 0 and 1 and obviously the closer it is to 1 the more the model expresses all the necessary variance and is therefore theoretically better.\n",
    "\n",
    "As we can see comparing on the basis of the $MSE$ two models with $Y$ in different scale is not easy, but we can see the improvements on the single model. Here we can see how the 20-level model performates better using only $G1$ and $G2$, indicating that the other features are almost completely irrelevant and in some cases they are a source of noise and above all how much the model benefits from the removal of outliers, so that the line indicating the value drops so dizzyingly. On the other hand, for the 5-level model we have, as we expected, a lower MSE value, but it remains constant despite the attempts to improve it.\n",
    "\n",
    "As far as $R^2$ is concerned, instead, the trend of the single models remains the same, even if inverted (where the $MSE$ dropped $R^2$ shows an increase), but now we can also compare the two models and we can see that while initially the 5-level model seems much better, after removing the outliers the 20-level model is able to express a greater amount of variance, thus resulting the optimal one in this analysis.\n",
    "\n",
    "\n",
    "\n",
    "## Classification\n",
    "\n",
    "While with regression we try to build a model that gives us a quantitative answer and therefore approximates the real distribution of Y, with classification we try to assign the right label corresponding to a given vector X, we are therefore looking for a qualitative answer.\n",
    "For this it makes more sense to scale the grades in the third method described in the data exploration part, so they will be divided in a binary way, where 1 will mean a positive or sufficient grade and 0 a not sufficient grade. The various grading models will then only have to assign the correct label to the Record. \n",
    "\n",
    "Given the results obtained previously and a first exploratory run with the various classifiers it was considered more interesting to remove both G1 and G2 from the set of X, these values in fact proved to be too important for the final evaluation surely allowing an excellent accuracy, but not at all interesting results to work on, as they overshadowed all the other predictors.\n",
    "\n",
    "I also decided to apply all the classifiers on the same set of predictors by applying feature selections only once at the beginning of this paragraph and then using the results in all subsequent ones.\n",
    "\n",
    "\n",
    "### Features selection for classification\n",
    "\n",
    "In this part we applied two types of feature selections so that we could compare them and get more reliable results, but also to emphasize how they were left out of features that could still have a certain statistical relevance.\n",
    "\n",
    "First I decided to apply *Univariate feature selection* also called **ANOVA** (variance analysis), this method works by comparing each feature with the target variable, to see if there is a statistically significant relationship between them. However, it should be remembered that when we analyze the relationship between a feature and the target variable, we ignore the other features and therefore the various relationships that may exist between two of these features. Once the scores related to each feature are obtained, the most significant N are selected.\n",
    "\n",
    "The second method is called **RFE** (*recursive feature elimination*). Given a model, in our case a Random Forest, which assigns a weight to the features, we train this model on the initial set of features, this will provide a coefficient of importance for each feature, we will just prune the feature with the lowest coefficient and repeat the process iteratively until we get the desired number of features. The model was not chosen at random, but was chosen because it was the one that got the best performance both in the paper [2] and in a first run of classifications on the whole dataset. \n",
    "\n",
    "The results obtained are represented below."
   ]
  },
  {
   "cell_type": "code",
   "execution_count": 13,
   "metadata": {
    "scrolled": false
   },
   "outputs": [],
   "source": [
    "#sel_variance_threshold = VarianceThreshold() \n",
    "\n",
    "y_fs = df_merge.loc[:,['G3']]\n",
    "x_fs = df_merge.loc[:, df_merge.columns != 'G3']\n",
    "x_fs = x_fs.loc[:, x_fs.columns != 'G2']\n",
    "x_fs = x_fs.loc[:, x_fs.columns != 'G1']\n",
    "\n",
    "#print(x_fs.shape)\n",
    "\n",
    "x_train_fs, x_test_fs, y_train_fs, y_test_fs = train_test_split(x_fs, y_fs, test_size=0.25, random_state=42)\n",
    "#x_remove_variance = sel_variance_threshold.fit_transform(x_train_fs)\n",
    "\n",
    "#print(x_remove_variance.shape)\n",
    "\n",
    "#print('no feature with zero variance')\n",
    "\n",
    "\n",
    "\n",
    "X_indices = np.arange(x_fs.shape[-1])\n",
    "\n",
    "sel_f = SelectKBest(f_classif, k=8)\n",
    "sel_f.fit_transform(x_fs, y_fs.values.ravel())\n",
    "support = sel_f.get_support()\n",
    "scores = -np.log10(sel_f.pvalues_)\n",
    "max_score = scores.max()\n",
    "scores /= max_score\n",
    "\n",
    "'''\n",
    "plt.bar(X_indices - .45, scores, width=.2,\n",
    "        label=r'Univariate score ($-Log(p_{value})$)', color='darkorange',\n",
    "        edgecolor='black')\n",
    "plt.title(\"Feature selection\")\n",
    "plt.xlabel('Feature number')\n",
    "plt.legend(loc='upper right')\n",
    "plt.show()\n",
    "'''\n",
    "\n",
    "\n",
    "sorted_dict = {}\n",
    "for value, name, p in zip(support, x_fs.columns, sel_f.pvalues_):\n",
    "    #print(name, ' : ', round(p, 4), ' --> ', value)\n",
    "    if(p<0.02):\n",
    "        #sorted_dict[name] = round(p, 4)\n",
    "        sorted_dict[name] = (-np.log10(p))/max_score\n",
    "\n",
    "sorted_dict =  {k: v for k, v in sorted(sorted_dict.items(), reverse=True, key=lambda item: item[1])}\n",
    "#print(sorted_dict)\n",
    "    \n",
    "\n",
    "#per guardare i p-value. per farlo funzionare devo pero inserire drop_first = true quando creo le dummy variable\n",
    "#logit_model=sm.Logit(y_fs,x_fs)\n",
    "#result=logit_model.fit()\n",
    "#print(result.summary2())\n",
    "\n",
    "\n",
    "model_tree = RandomForestClassifier(random_state=100, bootstrap = True, n_estimators=100)\n",
    "sel_rfe_tree = RFE(estimator=model_tree, n_features_to_select=8, step=1)\n",
    "X_train_rfe_tree = sel_rfe_tree.fit_transform(x_fs, y_fs.values.ravel())\n",
    "support = sel_rfe_tree.get_support()\n",
    "\n",
    "sorted_dict2 = {}\n",
    "for value, name, rank in zip(support, x_fs.columns, sel_rfe_tree.ranking_):\n",
    "    #print(name, ' : ', rank, ' --> ', value)\n",
    "    \n",
    "    if(rank<10):\n",
    "        sorted_dict2[name] = rank\n",
    "\n",
    "sorted_dict2 =  {k: v for k, v in sorted(sorted_dict2.items(), key=lambda item: item[1])}\n",
    "#print(sorted_dict2)\n",
    "    \n",
    "    \n",
    "features_for_classification = list(sorted_dict2.keys())\n",
    "features_for_classification = features_for_classification[:8]\n",
    "features_for_classification.append('G3')\n",
    "\n",
    "#print(features_for_classification)\n",
    "\n",
    "finalData = df_merge[features_for_classification]\n",
    "\n",
    "#scaler = StandardScaler()\n",
    "#scaler.fit(finalData)\n",
    "#norm_data = scaler.transform(finalData)"
   ]
  },
  {
   "cell_type": "code",
   "execution_count": 14,
   "metadata": {},
   "outputs": [
    {
     "data": {
      "application/vnd.plotly.v1+json": {
       "config": {
        "plotlyServerURL": "https://plot.ly"
       },
       "data": [
        {
         "marker": {
          "color": "rgb(23, 190, 207)"
         },
         "name": "-Log(p_values)",
         "type": "bar",
         "x": [
          "failures",
          "higher",
          "age",
          "school",
          "absences",
          "studytime",
          "goout",
          "Medu",
          "Fedu",
          "Dalc",
          "reason_reputation",
          "guardian_other",
          "romantic",
          "Walc",
          "reason_course",
          "address"
         ],
         "y": [
          1,
          0.3540033323891281,
          0.14354019078301844,
          0.13930023830061347,
          0.1161699396655538,
          0.09882898124189587,
          0.09564715618993427,
          0.09557593018722879,
          0.09422255240768303,
          0.07140452665955134,
          0.06535964584055722,
          0.060284034444757,
          0.05755814403436754,
          0.055266940028186724,
          0.055033765775514214,
          0.05199505187615875
         ]
        },
        {
         "marker": {
          "color": "gold",
          "size": 12
         },
         "mode": "lines+markers",
         "name": "Features ranking",
         "type": "scatter",
         "visible": false,
         "x": [
          "age",
          "Medu",
          "failures",
          "freetime",
          "goout",
          "Walc",
          "health",
          "absences",
          "famrel",
          "Fedu",
          "studytime",
          "traveltime",
          "Dalc",
          "paid",
          "higher",
          "reason_course"
         ],
         "y": [
          1,
          1,
          1,
          1,
          1,
          1,
          1,
          1,
          2,
          3,
          4,
          5,
          6,
          7,
          8,
          9
         ]
        }
       ],
       "layout": {
        "barmode": "group",
        "showlegend": true,
        "sliders": [
         {
          "active": 0,
          "currentvalue": {
           "prefix": "Feature Selection Method:   "
          },
          "pad": {
           "t": 90
          },
          "steps": [
           {
            "args": [
             "visible",
             [
              true,
              false
             ]
            ],
            "label": "ANOVA",
            "method": "restyle"
           },
           {
            "args": [
             "visible",
             [
              false,
              true
             ]
            ],
            "label": "RFE",
            "method": "restyle"
           },
           {
            "args": [
             "visible",
             [
              true,
              true
             ]
            ],
            "label": "Comparison",
            "method": "restyle"
           }
          ]
         }
        ],
        "template": {
         "data": {
          "bar": [
           {
            "error_x": {
             "color": "#2a3f5f"
            },
            "error_y": {
             "color": "#2a3f5f"
            },
            "marker": {
             "line": {
              "color": "#E5ECF6",
              "width": 0.5
             }
            },
            "type": "bar"
           }
          ],
          "barpolar": [
           {
            "marker": {
             "line": {
              "color": "#E5ECF6",
              "width": 0.5
             }
            },
            "type": "barpolar"
           }
          ],
          "carpet": [
           {
            "aaxis": {
             "endlinecolor": "#2a3f5f",
             "gridcolor": "white",
             "linecolor": "white",
             "minorgridcolor": "white",
             "startlinecolor": "#2a3f5f"
            },
            "baxis": {
             "endlinecolor": "#2a3f5f",
             "gridcolor": "white",
             "linecolor": "white",
             "minorgridcolor": "white",
             "startlinecolor": "#2a3f5f"
            },
            "type": "carpet"
           }
          ],
          "choropleth": [
           {
            "colorbar": {
             "outlinewidth": 0,
             "ticks": ""
            },
            "type": "choropleth"
           }
          ],
          "contour": [
           {
            "colorbar": {
             "outlinewidth": 0,
             "ticks": ""
            },
            "colorscale": [
             [
              0,
              "#0d0887"
             ],
             [
              0.1111111111111111,
              "#46039f"
             ],
             [
              0.2222222222222222,
              "#7201a8"
             ],
             [
              0.3333333333333333,
              "#9c179e"
             ],
             [
              0.4444444444444444,
              "#bd3786"
             ],
             [
              0.5555555555555556,
              "#d8576b"
             ],
             [
              0.6666666666666666,
              "#ed7953"
             ],
             [
              0.7777777777777778,
              "#fb9f3a"
             ],
             [
              0.8888888888888888,
              "#fdca26"
             ],
             [
              1,
              "#f0f921"
             ]
            ],
            "type": "contour"
           }
          ],
          "contourcarpet": [
           {
            "colorbar": {
             "outlinewidth": 0,
             "ticks": ""
            },
            "type": "contourcarpet"
           }
          ],
          "heatmap": [
           {
            "colorbar": {
             "outlinewidth": 0,
             "ticks": ""
            },
            "colorscale": [
             [
              0,
              "#0d0887"
             ],
             [
              0.1111111111111111,
              "#46039f"
             ],
             [
              0.2222222222222222,
              "#7201a8"
             ],
             [
              0.3333333333333333,
              "#9c179e"
             ],
             [
              0.4444444444444444,
              "#bd3786"
             ],
             [
              0.5555555555555556,
              "#d8576b"
             ],
             [
              0.6666666666666666,
              "#ed7953"
             ],
             [
              0.7777777777777778,
              "#fb9f3a"
             ],
             [
              0.8888888888888888,
              "#fdca26"
             ],
             [
              1,
              "#f0f921"
             ]
            ],
            "type": "heatmap"
           }
          ],
          "heatmapgl": [
           {
            "colorbar": {
             "outlinewidth": 0,
             "ticks": ""
            },
            "colorscale": [
             [
              0,
              "#0d0887"
             ],
             [
              0.1111111111111111,
              "#46039f"
             ],
             [
              0.2222222222222222,
              "#7201a8"
             ],
             [
              0.3333333333333333,
              "#9c179e"
             ],
             [
              0.4444444444444444,
              "#bd3786"
             ],
             [
              0.5555555555555556,
              "#d8576b"
             ],
             [
              0.6666666666666666,
              "#ed7953"
             ],
             [
              0.7777777777777778,
              "#fb9f3a"
             ],
             [
              0.8888888888888888,
              "#fdca26"
             ],
             [
              1,
              "#f0f921"
             ]
            ],
            "type": "heatmapgl"
           }
          ],
          "histogram": [
           {
            "marker": {
             "colorbar": {
              "outlinewidth": 0,
              "ticks": ""
             }
            },
            "type": "histogram"
           }
          ],
          "histogram2d": [
           {
            "colorbar": {
             "outlinewidth": 0,
             "ticks": ""
            },
            "colorscale": [
             [
              0,
              "#0d0887"
             ],
             [
              0.1111111111111111,
              "#46039f"
             ],
             [
              0.2222222222222222,
              "#7201a8"
             ],
             [
              0.3333333333333333,
              "#9c179e"
             ],
             [
              0.4444444444444444,
              "#bd3786"
             ],
             [
              0.5555555555555556,
              "#d8576b"
             ],
             [
              0.6666666666666666,
              "#ed7953"
             ],
             [
              0.7777777777777778,
              "#fb9f3a"
             ],
             [
              0.8888888888888888,
              "#fdca26"
             ],
             [
              1,
              "#f0f921"
             ]
            ],
            "type": "histogram2d"
           }
          ],
          "histogram2dcontour": [
           {
            "colorbar": {
             "outlinewidth": 0,
             "ticks": ""
            },
            "colorscale": [
             [
              0,
              "#0d0887"
             ],
             [
              0.1111111111111111,
              "#46039f"
             ],
             [
              0.2222222222222222,
              "#7201a8"
             ],
             [
              0.3333333333333333,
              "#9c179e"
             ],
             [
              0.4444444444444444,
              "#bd3786"
             ],
             [
              0.5555555555555556,
              "#d8576b"
             ],
             [
              0.6666666666666666,
              "#ed7953"
             ],
             [
              0.7777777777777778,
              "#fb9f3a"
             ],
             [
              0.8888888888888888,
              "#fdca26"
             ],
             [
              1,
              "#f0f921"
             ]
            ],
            "type": "histogram2dcontour"
           }
          ],
          "mesh3d": [
           {
            "colorbar": {
             "outlinewidth": 0,
             "ticks": ""
            },
            "type": "mesh3d"
           }
          ],
          "parcoords": [
           {
            "line": {
             "colorbar": {
              "outlinewidth": 0,
              "ticks": ""
             }
            },
            "type": "parcoords"
           }
          ],
          "pie": [
           {
            "automargin": true,
            "type": "pie"
           }
          ],
          "scatter": [
           {
            "marker": {
             "colorbar": {
              "outlinewidth": 0,
              "ticks": ""
             }
            },
            "type": "scatter"
           }
          ],
          "scatter3d": [
           {
            "line": {
             "colorbar": {
              "outlinewidth": 0,
              "ticks": ""
             }
            },
            "marker": {
             "colorbar": {
              "outlinewidth": 0,
              "ticks": ""
             }
            },
            "type": "scatter3d"
           }
          ],
          "scattercarpet": [
           {
            "marker": {
             "colorbar": {
              "outlinewidth": 0,
              "ticks": ""
             }
            },
            "type": "scattercarpet"
           }
          ],
          "scattergeo": [
           {
            "marker": {
             "colorbar": {
              "outlinewidth": 0,
              "ticks": ""
             }
            },
            "type": "scattergeo"
           }
          ],
          "scattergl": [
           {
            "marker": {
             "colorbar": {
              "outlinewidth": 0,
              "ticks": ""
             }
            },
            "type": "scattergl"
           }
          ],
          "scattermapbox": [
           {
            "marker": {
             "colorbar": {
              "outlinewidth": 0,
              "ticks": ""
             }
            },
            "type": "scattermapbox"
           }
          ],
          "scatterpolar": [
           {
            "marker": {
             "colorbar": {
              "outlinewidth": 0,
              "ticks": ""
             }
            },
            "type": "scatterpolar"
           }
          ],
          "scatterpolargl": [
           {
            "marker": {
             "colorbar": {
              "outlinewidth": 0,
              "ticks": ""
             }
            },
            "type": "scatterpolargl"
           }
          ],
          "scatterternary": [
           {
            "marker": {
             "colorbar": {
              "outlinewidth": 0,
              "ticks": ""
             }
            },
            "type": "scatterternary"
           }
          ],
          "surface": [
           {
            "colorbar": {
             "outlinewidth": 0,
             "ticks": ""
            },
            "colorscale": [
             [
              0,
              "#0d0887"
             ],
             [
              0.1111111111111111,
              "#46039f"
             ],
             [
              0.2222222222222222,
              "#7201a8"
             ],
             [
              0.3333333333333333,
              "#9c179e"
             ],
             [
              0.4444444444444444,
              "#bd3786"
             ],
             [
              0.5555555555555556,
              "#d8576b"
             ],
             [
              0.6666666666666666,
              "#ed7953"
             ],
             [
              0.7777777777777778,
              "#fb9f3a"
             ],
             [
              0.8888888888888888,
              "#fdca26"
             ],
             [
              1,
              "#f0f921"
             ]
            ],
            "type": "surface"
           }
          ],
          "table": [
           {
            "cells": {
             "fill": {
              "color": "#EBF0F8"
             },
             "line": {
              "color": "white"
             }
            },
            "header": {
             "fill": {
              "color": "#C8D4E3"
             },
             "line": {
              "color": "white"
             }
            },
            "type": "table"
           }
          ]
         },
         "layout": {
          "annotationdefaults": {
           "arrowcolor": "#2a3f5f",
           "arrowhead": 0,
           "arrowwidth": 1
          },
          "coloraxis": {
           "colorbar": {
            "outlinewidth": 0,
            "ticks": ""
           }
          },
          "colorscale": {
           "diverging": [
            [
             0,
             "#8e0152"
            ],
            [
             0.1,
             "#c51b7d"
            ],
            [
             0.2,
             "#de77ae"
            ],
            [
             0.3,
             "#f1b6da"
            ],
            [
             0.4,
             "#fde0ef"
            ],
            [
             0.5,
             "#f7f7f7"
            ],
            [
             0.6,
             "#e6f5d0"
            ],
            [
             0.7,
             "#b8e186"
            ],
            [
             0.8,
             "#7fbc41"
            ],
            [
             0.9,
             "#4d9221"
            ],
            [
             1,
             "#276419"
            ]
           ],
           "sequential": [
            [
             0,
             "#0d0887"
            ],
            [
             0.1111111111111111,
             "#46039f"
            ],
            [
             0.2222222222222222,
             "#7201a8"
            ],
            [
             0.3333333333333333,
             "#9c179e"
            ],
            [
             0.4444444444444444,
             "#bd3786"
            ],
            [
             0.5555555555555556,
             "#d8576b"
            ],
            [
             0.6666666666666666,
             "#ed7953"
            ],
            [
             0.7777777777777778,
             "#fb9f3a"
            ],
            [
             0.8888888888888888,
             "#fdca26"
            ],
            [
             1,
             "#f0f921"
            ]
           ],
           "sequentialminus": [
            [
             0,
             "#0d0887"
            ],
            [
             0.1111111111111111,
             "#46039f"
            ],
            [
             0.2222222222222222,
             "#7201a8"
            ],
            [
             0.3333333333333333,
             "#9c179e"
            ],
            [
             0.4444444444444444,
             "#bd3786"
            ],
            [
             0.5555555555555556,
             "#d8576b"
            ],
            [
             0.6666666666666666,
             "#ed7953"
            ],
            [
             0.7777777777777778,
             "#fb9f3a"
            ],
            [
             0.8888888888888888,
             "#fdca26"
            ],
            [
             1,
             "#f0f921"
            ]
           ]
          },
          "colorway": [
           "#636efa",
           "#EF553B",
           "#00cc96",
           "#ab63fa",
           "#FFA15A",
           "#19d3f3",
           "#FF6692",
           "#B6E880",
           "#FF97FF",
           "#FECB52"
          ],
          "font": {
           "color": "#2a3f5f"
          },
          "geo": {
           "bgcolor": "white",
           "lakecolor": "white",
           "landcolor": "#E5ECF6",
           "showlakes": true,
           "showland": true,
           "subunitcolor": "white"
          },
          "hoverlabel": {
           "align": "left"
          },
          "hovermode": "closest",
          "mapbox": {
           "style": "light"
          },
          "paper_bgcolor": "white",
          "plot_bgcolor": "#E5ECF6",
          "polar": {
           "angularaxis": {
            "gridcolor": "white",
            "linecolor": "white",
            "ticks": ""
           },
           "bgcolor": "#E5ECF6",
           "radialaxis": {
            "gridcolor": "white",
            "linecolor": "white",
            "ticks": ""
           }
          },
          "scene": {
           "xaxis": {
            "backgroundcolor": "#E5ECF6",
            "gridcolor": "white",
            "gridwidth": 2,
            "linecolor": "white",
            "showbackground": true,
            "ticks": "",
            "zerolinecolor": "white"
           },
           "yaxis": {
            "backgroundcolor": "#E5ECF6",
            "gridcolor": "white",
            "gridwidth": 2,
            "linecolor": "white",
            "showbackground": true,
            "ticks": "",
            "zerolinecolor": "white"
           },
           "zaxis": {
            "backgroundcolor": "#E5ECF6",
            "gridcolor": "white",
            "gridwidth": 2,
            "linecolor": "white",
            "showbackground": true,
            "ticks": "",
            "zerolinecolor": "white"
           }
          },
          "shapedefaults": {
           "line": {
            "color": "#2a3f5f"
           }
          },
          "ternary": {
           "aaxis": {
            "gridcolor": "white",
            "linecolor": "white",
            "ticks": ""
           },
           "baxis": {
            "gridcolor": "white",
            "linecolor": "white",
            "ticks": ""
           },
           "bgcolor": "#E5ECF6",
           "caxis": {
            "gridcolor": "white",
            "linecolor": "white",
            "ticks": ""
           }
          },
          "title": {
           "x": 0.05
          },
          "xaxis": {
           "automargin": true,
           "gridcolor": "white",
           "linecolor": "white",
           "ticks": "",
           "title": {
            "standoff": 15
           },
           "zerolinecolor": "white",
           "zerolinewidth": 2
          },
          "yaxis": {
           "automargin": true,
           "gridcolor": "white",
           "linecolor": "white",
           "ticks": "",
           "title": {
            "standoff": 15
           },
           "zerolinecolor": "white",
           "zerolinewidth": 2
          }
         }
        },
        "title": {
         "text": "Feature Selection"
        },
        "xaxis": {
         "title": {
          "text": "Features"
         }
        }
       }
      },
      "text/html": [
       "<div>\n",
       "        \n",
       "        \n",
       "            <div id=\"4e164c53-4bf9-401b-9571-063a87d65cf3\" class=\"plotly-graph-div\" style=\"height:525px; width:100%;\"></div>\n",
       "            <script type=\"text/javascript\">\n",
       "                require([\"plotly\"], function(Plotly) {\n",
       "                    window.PLOTLYENV=window.PLOTLYENV || {};\n",
       "                    \n",
       "                if (document.getElementById(\"4e164c53-4bf9-401b-9571-063a87d65cf3\")) {\n",
       "                    Plotly.newPlot(\n",
       "                        '4e164c53-4bf9-401b-9571-063a87d65cf3',\n",
       "                        [{\"marker\": {\"color\": \"rgb(23, 190, 207)\"}, \"name\": \"-Log(p_values)\", \"type\": \"bar\", \"x\": [\"failures\", \"higher\", \"age\", \"school\", \"absences\", \"studytime\", \"goout\", \"Medu\", \"Fedu\", \"Dalc\", \"reason_reputation\", \"guardian_other\", \"romantic\", \"Walc\", \"reason_course\", \"address\"], \"y\": [1.0, 0.3540033323891281, 0.14354019078301844, 0.13930023830061347, 0.1161699396655538, 0.09882898124189587, 0.09564715618993427, 0.09557593018722879, 0.09422255240768303, 0.07140452665955134, 0.06535964584055722, 0.060284034444757, 0.05755814403436754, 0.055266940028186724, 0.055033765775514214, 0.05199505187615875]}, {\"marker\": {\"color\": \"gold\", \"size\": 12}, \"mode\": \"lines+markers\", \"name\": \"Features ranking\", \"type\": \"scatter\", \"visible\": false, \"x\": [\"age\", \"Medu\", \"failures\", \"freetime\", \"goout\", \"Walc\", \"health\", \"absences\", \"famrel\", \"Fedu\", \"studytime\", \"traveltime\", \"Dalc\", \"paid\", \"higher\", \"reason_course\"], \"y\": [1, 1, 1, 1, 1, 1, 1, 1, 2, 3, 4, 5, 6, 7, 8, 9]}],\n",
       "                        {\"barmode\": \"group\", \"showlegend\": true, \"sliders\": [{\"active\": 0, \"currentvalue\": {\"prefix\": \"Feature Selection Method:   \"}, \"pad\": {\"t\": 90}, \"steps\": [{\"args\": [\"visible\", [true, false]], \"label\": \"ANOVA\", \"method\": \"restyle\"}, {\"args\": [\"visible\", [false, true]], \"label\": \"RFE\", \"method\": \"restyle\"}, {\"args\": [\"visible\", [true, true]], \"label\": \"Comparison\", \"method\": \"restyle\"}]}], \"template\": {\"data\": {\"bar\": [{\"error_x\": {\"color\": \"#2a3f5f\"}, \"error_y\": {\"color\": \"#2a3f5f\"}, \"marker\": {\"line\": {\"color\": \"#E5ECF6\", \"width\": 0.5}}, \"type\": \"bar\"}], \"barpolar\": [{\"marker\": {\"line\": {\"color\": \"#E5ECF6\", \"width\": 0.5}}, \"type\": \"barpolar\"}], \"carpet\": [{\"aaxis\": {\"endlinecolor\": \"#2a3f5f\", \"gridcolor\": \"white\", \"linecolor\": \"white\", \"minorgridcolor\": \"white\", \"startlinecolor\": \"#2a3f5f\"}, \"baxis\": {\"endlinecolor\": \"#2a3f5f\", \"gridcolor\": \"white\", \"linecolor\": \"white\", \"minorgridcolor\": \"white\", \"startlinecolor\": \"#2a3f5f\"}, \"type\": \"carpet\"}], \"choropleth\": [{\"colorbar\": {\"outlinewidth\": 0, \"ticks\": \"\"}, \"type\": \"choropleth\"}], \"contour\": [{\"colorbar\": {\"outlinewidth\": 0, \"ticks\": \"\"}, \"colorscale\": [[0.0, \"#0d0887\"], [0.1111111111111111, \"#46039f\"], [0.2222222222222222, \"#7201a8\"], [0.3333333333333333, \"#9c179e\"], [0.4444444444444444, \"#bd3786\"], [0.5555555555555556, \"#d8576b\"], [0.6666666666666666, \"#ed7953\"], [0.7777777777777778, \"#fb9f3a\"], [0.8888888888888888, \"#fdca26\"], [1.0, \"#f0f921\"]], \"type\": \"contour\"}], \"contourcarpet\": [{\"colorbar\": {\"outlinewidth\": 0, \"ticks\": \"\"}, \"type\": \"contourcarpet\"}], \"heatmap\": [{\"colorbar\": {\"outlinewidth\": 0, \"ticks\": \"\"}, \"colorscale\": [[0.0, \"#0d0887\"], [0.1111111111111111, \"#46039f\"], [0.2222222222222222, \"#7201a8\"], [0.3333333333333333, \"#9c179e\"], [0.4444444444444444, \"#bd3786\"], [0.5555555555555556, \"#d8576b\"], [0.6666666666666666, \"#ed7953\"], [0.7777777777777778, \"#fb9f3a\"], [0.8888888888888888, \"#fdca26\"], [1.0, \"#f0f921\"]], \"type\": \"heatmap\"}], \"heatmapgl\": [{\"colorbar\": {\"outlinewidth\": 0, \"ticks\": \"\"}, \"colorscale\": [[0.0, \"#0d0887\"], [0.1111111111111111, \"#46039f\"], [0.2222222222222222, \"#7201a8\"], [0.3333333333333333, \"#9c179e\"], [0.4444444444444444, \"#bd3786\"], [0.5555555555555556, \"#d8576b\"], [0.6666666666666666, \"#ed7953\"], [0.7777777777777778, \"#fb9f3a\"], [0.8888888888888888, \"#fdca26\"], [1.0, \"#f0f921\"]], \"type\": \"heatmapgl\"}], \"histogram\": [{\"marker\": {\"colorbar\": {\"outlinewidth\": 0, \"ticks\": \"\"}}, \"type\": \"histogram\"}], \"histogram2d\": [{\"colorbar\": {\"outlinewidth\": 0, \"ticks\": \"\"}, \"colorscale\": [[0.0, \"#0d0887\"], [0.1111111111111111, \"#46039f\"], [0.2222222222222222, \"#7201a8\"], [0.3333333333333333, \"#9c179e\"], [0.4444444444444444, \"#bd3786\"], [0.5555555555555556, \"#d8576b\"], [0.6666666666666666, \"#ed7953\"], [0.7777777777777778, \"#fb9f3a\"], [0.8888888888888888, \"#fdca26\"], [1.0, \"#f0f921\"]], \"type\": \"histogram2d\"}], \"histogram2dcontour\": [{\"colorbar\": {\"outlinewidth\": 0, \"ticks\": \"\"}, \"colorscale\": [[0.0, \"#0d0887\"], [0.1111111111111111, \"#46039f\"], [0.2222222222222222, \"#7201a8\"], [0.3333333333333333, \"#9c179e\"], [0.4444444444444444, \"#bd3786\"], [0.5555555555555556, \"#d8576b\"], [0.6666666666666666, \"#ed7953\"], [0.7777777777777778, \"#fb9f3a\"], [0.8888888888888888, \"#fdca26\"], [1.0, \"#f0f921\"]], \"type\": \"histogram2dcontour\"}], \"mesh3d\": [{\"colorbar\": {\"outlinewidth\": 0, \"ticks\": \"\"}, \"type\": \"mesh3d\"}], \"parcoords\": [{\"line\": {\"colorbar\": {\"outlinewidth\": 0, \"ticks\": \"\"}}, \"type\": \"parcoords\"}], \"pie\": [{\"automargin\": true, \"type\": \"pie\"}], \"scatter\": [{\"marker\": {\"colorbar\": {\"outlinewidth\": 0, \"ticks\": \"\"}}, \"type\": \"scatter\"}], \"scatter3d\": [{\"line\": {\"colorbar\": {\"outlinewidth\": 0, \"ticks\": \"\"}}, \"marker\": {\"colorbar\": {\"outlinewidth\": 0, \"ticks\": \"\"}}, \"type\": \"scatter3d\"}], \"scattercarpet\": [{\"marker\": {\"colorbar\": {\"outlinewidth\": 0, \"ticks\": \"\"}}, \"type\": \"scattercarpet\"}], \"scattergeo\": [{\"marker\": {\"colorbar\": {\"outlinewidth\": 0, \"ticks\": \"\"}}, \"type\": \"scattergeo\"}], \"scattergl\": [{\"marker\": {\"colorbar\": {\"outlinewidth\": 0, \"ticks\": \"\"}}, \"type\": \"scattergl\"}], \"scattermapbox\": [{\"marker\": {\"colorbar\": {\"outlinewidth\": 0, \"ticks\": \"\"}}, \"type\": \"scattermapbox\"}], \"scatterpolar\": [{\"marker\": {\"colorbar\": {\"outlinewidth\": 0, \"ticks\": \"\"}}, \"type\": \"scatterpolar\"}], \"scatterpolargl\": [{\"marker\": {\"colorbar\": {\"outlinewidth\": 0, \"ticks\": \"\"}}, \"type\": \"scatterpolargl\"}], \"scatterternary\": [{\"marker\": {\"colorbar\": {\"outlinewidth\": 0, \"ticks\": \"\"}}, \"type\": \"scatterternary\"}], \"surface\": [{\"colorbar\": {\"outlinewidth\": 0, \"ticks\": \"\"}, \"colorscale\": [[0.0, \"#0d0887\"], [0.1111111111111111, \"#46039f\"], [0.2222222222222222, \"#7201a8\"], [0.3333333333333333, \"#9c179e\"], [0.4444444444444444, \"#bd3786\"], [0.5555555555555556, \"#d8576b\"], [0.6666666666666666, \"#ed7953\"], [0.7777777777777778, \"#fb9f3a\"], [0.8888888888888888, \"#fdca26\"], [1.0, \"#f0f921\"]], \"type\": \"surface\"}], \"table\": [{\"cells\": {\"fill\": {\"color\": \"#EBF0F8\"}, \"line\": {\"color\": \"white\"}}, \"header\": {\"fill\": {\"color\": \"#C8D4E3\"}, \"line\": {\"color\": \"white\"}}, \"type\": \"table\"}]}, \"layout\": {\"annotationdefaults\": {\"arrowcolor\": \"#2a3f5f\", \"arrowhead\": 0, \"arrowwidth\": 1}, \"coloraxis\": {\"colorbar\": {\"outlinewidth\": 0, \"ticks\": \"\"}}, \"colorscale\": {\"diverging\": [[0, \"#8e0152\"], [0.1, \"#c51b7d\"], [0.2, \"#de77ae\"], [0.3, \"#f1b6da\"], [0.4, \"#fde0ef\"], [0.5, \"#f7f7f7\"], [0.6, \"#e6f5d0\"], [0.7, \"#b8e186\"], [0.8, \"#7fbc41\"], [0.9, \"#4d9221\"], [1, \"#276419\"]], \"sequential\": [[0.0, \"#0d0887\"], [0.1111111111111111, \"#46039f\"], [0.2222222222222222, \"#7201a8\"], [0.3333333333333333, \"#9c179e\"], [0.4444444444444444, \"#bd3786\"], [0.5555555555555556, \"#d8576b\"], [0.6666666666666666, \"#ed7953\"], [0.7777777777777778, \"#fb9f3a\"], [0.8888888888888888, \"#fdca26\"], [1.0, \"#f0f921\"]], \"sequentialminus\": [[0.0, \"#0d0887\"], [0.1111111111111111, \"#46039f\"], [0.2222222222222222, \"#7201a8\"], [0.3333333333333333, \"#9c179e\"], [0.4444444444444444, \"#bd3786\"], [0.5555555555555556, \"#d8576b\"], [0.6666666666666666, \"#ed7953\"], [0.7777777777777778, \"#fb9f3a\"], [0.8888888888888888, \"#fdca26\"], [1.0, \"#f0f921\"]]}, \"colorway\": [\"#636efa\", \"#EF553B\", \"#00cc96\", \"#ab63fa\", \"#FFA15A\", \"#19d3f3\", \"#FF6692\", \"#B6E880\", \"#FF97FF\", \"#FECB52\"], \"font\": {\"color\": \"#2a3f5f\"}, \"geo\": {\"bgcolor\": \"white\", \"lakecolor\": \"white\", \"landcolor\": \"#E5ECF6\", \"showlakes\": true, \"showland\": true, \"subunitcolor\": \"white\"}, \"hoverlabel\": {\"align\": \"left\"}, \"hovermode\": \"closest\", \"mapbox\": {\"style\": \"light\"}, \"paper_bgcolor\": \"white\", \"plot_bgcolor\": \"#E5ECF6\", \"polar\": {\"angularaxis\": {\"gridcolor\": \"white\", \"linecolor\": \"white\", \"ticks\": \"\"}, \"bgcolor\": \"#E5ECF6\", \"radialaxis\": {\"gridcolor\": \"white\", \"linecolor\": \"white\", \"ticks\": \"\"}}, \"scene\": {\"xaxis\": {\"backgroundcolor\": \"#E5ECF6\", \"gridcolor\": \"white\", \"gridwidth\": 2, \"linecolor\": \"white\", \"showbackground\": true, \"ticks\": \"\", \"zerolinecolor\": \"white\"}, \"yaxis\": {\"backgroundcolor\": \"#E5ECF6\", \"gridcolor\": \"white\", \"gridwidth\": 2, \"linecolor\": \"white\", \"showbackground\": true, \"ticks\": \"\", \"zerolinecolor\": \"white\"}, \"zaxis\": {\"backgroundcolor\": \"#E5ECF6\", \"gridcolor\": \"white\", \"gridwidth\": 2, \"linecolor\": \"white\", \"showbackground\": true, \"ticks\": \"\", \"zerolinecolor\": \"white\"}}, \"shapedefaults\": {\"line\": {\"color\": \"#2a3f5f\"}}, \"ternary\": {\"aaxis\": {\"gridcolor\": \"white\", \"linecolor\": \"white\", \"ticks\": \"\"}, \"baxis\": {\"gridcolor\": \"white\", \"linecolor\": \"white\", \"ticks\": \"\"}, \"bgcolor\": \"#E5ECF6\", \"caxis\": {\"gridcolor\": \"white\", \"linecolor\": \"white\", \"ticks\": \"\"}}, \"title\": {\"x\": 0.05}, \"xaxis\": {\"automargin\": true, \"gridcolor\": \"white\", \"linecolor\": \"white\", \"ticks\": \"\", \"title\": {\"standoff\": 15}, \"zerolinecolor\": \"white\", \"zerolinewidth\": 2}, \"yaxis\": {\"automargin\": true, \"gridcolor\": \"white\", \"linecolor\": \"white\", \"ticks\": \"\", \"title\": {\"standoff\": 15}, \"zerolinecolor\": \"white\", \"zerolinewidth\": 2}}}, \"title\": {\"text\": \"Feature Selection\"}, \"xaxis\": {\"title\": {\"text\": \"Features\"}}},\n",
       "                        {\"responsive\": true}\n",
       "                    ).then(function(){\n",
       "                            \n",
       "var gd = document.getElementById('4e164c53-4bf9-401b-9571-063a87d65cf3');\n",
       "var x = new MutationObserver(function (mutations, observer) {{\n",
       "        var display = window.getComputedStyle(gd).display;\n",
       "        if (!display || display === 'none') {{\n",
       "            console.log([gd, 'removed!']);\n",
       "            Plotly.purge(gd);\n",
       "            observer.disconnect();\n",
       "        }}\n",
       "}});\n",
       "\n",
       "// Listen for the removal of the full notebook cells\n",
       "var notebookContainer = gd.closest('#notebook-container');\n",
       "if (notebookContainer) {{\n",
       "    x.observe(notebookContainer, {childList: true});\n",
       "}}\n",
       "\n",
       "// Listen for the clearing of the current output cell\n",
       "var outputEl = gd.closest('.output');\n",
       "if (outputEl) {{\n",
       "    x.observe(outputEl, {childList: true});\n",
       "}}\n",
       "\n",
       "                        })\n",
       "                };\n",
       "                });\n",
       "            </script>\n",
       "        </div>"
      ]
     },
     "metadata": {},
     "output_type": "display_data"
    }
   ],
   "source": [
    "fig = go.Figure()\n",
    "    \n",
    "\n",
    "fig.add_trace(go.Bar(x=list(sorted_dict.keys()), y= list(sorted_dict.values()),\n",
    "                marker_color=colors[9],\n",
    "                name='-Log(p_values)'\n",
    "                ))\n",
    "\n",
    "fig.add_trace(go.Scatter(\n",
    "    x=list(sorted_dict2.keys()),\n",
    "    y=list(sorted_dict2.values()),\n",
    "    marker=dict(color=\"gold\", size=12),\n",
    "    mode='lines+markers',\n",
    "    name=\"Features ranking\",\n",
    "))\n",
    "\n",
    "fig.data[1].visible = False\n",
    "\n",
    "stepsG3 = []\n",
    "labels = ['ANOVA', 'RFE', 'Comparison']\n",
    "for i in range(len(fig.data)+1):\n",
    "    if(i == 2):\n",
    "        step = dict(\n",
    "        method=\"restyle\",\n",
    "        args=[\"visible\", [False] * len(fig.data)],\n",
    "        label = labels[i]\n",
    "        )\n",
    "        step[\"args\"][1][0] = True  # Toggle i'th trace to \"visible\"\n",
    "        step[\"args\"][1][1] = True  # Toggle i'th trace to \"visible\"\n",
    "        stepsG3.append(step)\n",
    "        \n",
    "    else :\n",
    "        step = dict(\n",
    "        method=\"restyle\",\n",
    "        args=[\"visible\", [False] * len(fig.data)],\n",
    "        label = labels[i]\n",
    "        )\n",
    "        step[\"args\"][1][i] = True  # Toggle i'th trace to \"visible\"\n",
    "        #step[\"args\"][1][i+1] = True  # Toggle i'th trace to \"visible\"\n",
    "        stepsG3.append(step)\n",
    "    \n",
    "\n",
    "sliders = [dict(\n",
    "    active=0,\n",
    "    currentvalue={\"prefix\": \"Feature Selection Method:   \"},\n",
    "    pad={\"t\": 90},\n",
    "    steps=stepsG3\n",
    ")]\n",
    "\n",
    "fig.update_layout(\n",
    "    sliders=sliders,\n",
    "    barmode='group',\n",
    "    title=\"Feature Selection\",\n",
    "    xaxis_title=\"Features\",\n",
    "    showlegend=True\n",
    ")\n",
    "\n",
    "\n",
    "fig.show()"
   ]
  },
  {
   "cell_type": "markdown",
   "metadata": {},
   "source": [
    "The results provided by **ANOVA** allow to obtain the p-values related to the individual features, which are represented in the graph in the form **-Log<sub>10</sub>(pvalue)** so as to be more easily represented (all values are also divided by the largest one so as to normalize the results between 0 and 1). Given the transformation, the closer the value is to 1 the more the feature should be linked to the outcome. \n",
    "\n",
    "For the **RFE** what is represented is the ranking, i.e. the features with value 1 are those in the optimal set chosen, the more the number rises the more have been eliminated first. I have chosen to put the first 8 features in the set. \n",
    "\n",
    "The last panel instead puts in relation the two results to allow us to see the values taken from both and if the two analysis correspond. You can see how most of the features are the same, but others are taken into account only by one method and not by the other, even if some seemed to have very good results in ANOVA.\n",
    "\n",
    "For all the classifiers will then be taken into account only the set obtained by the RFE, because compared to the other type of analysis also takes into account the relationships between the various features.\n",
    "\n",
    "\n",
    "\n",
    "Very often it is possible to understand if a feature is relevant by already observing the data distribution, maybe tracking boxplots that can allow a clear statistical representation of the data distribution in relation to the binary outcome we are observing. In our case this was not possible because the features that turned out to be important have very small and close values (ex: *failures*) or are categorical features. Below is shown a boxplots of the feature *age*, in the only dataset about Math because there was a more marked difference, which although representing a very limited range, still allows us to understand how a higher age is linked to an increase in the insufficiencies in the matter considered. This is easily observed by seeing the difference between the medians and the various quartiles.\n"
   ]
  },
  {
   "cell_type": "code",
   "execution_count": 15,
   "metadata": {},
   "outputs": [
    {
     "data": {
      "application/vnd.plotly.v1+json": {
       "config": {
        "plotlyServerURL": "https://plot.ly"
       },
       "data": [
        {
         "name": "Passed",
         "type": "box",
         "y": [
          15,
          15,
          16,
          16,
          16,
          15,
          15,
          15,
          15,
          15,
          15,
          16,
          16,
          16,
          16,
          15,
          15,
          16,
          16,
          15,
          15,
          16,
          16,
          15,
          15,
          15,
          15,
          16,
          15,
          16,
          15,
          15,
          16,
          15,
          15,
          15,
          16,
          16,
          15,
          16,
          15,
          15,
          15,
          15,
          16,
          15,
          15,
          16,
          16,
          16,
          15,
          16,
          15,
          15,
          16,
          15,
          16,
          16,
          15,
          15,
          16,
          17,
          15,
          15,
          15,
          15,
          15,
          16,
          15,
          16,
          15,
          15,
          16,
          16,
          16,
          16,
          15,
          15,
          15,
          16,
          15,
          16,
          15,
          16,
          16,
          15,
          16,
          15,
          16,
          15,
          15,
          15,
          16,
          16,
          15,
          15,
          16,
          17,
          16,
          16,
          15,
          15,
          16,
          15,
          15,
          15,
          16,
          15,
          17,
          17,
          18,
          16,
          16,
          17,
          16,
          16,
          16,
          16,
          16,
          17,
          16,
          17,
          16,
          17,
          16,
          17,
          16,
          16,
          17,
          16,
          16,
          16,
          17,
          17,
          16,
          17,
          16,
          16,
          16,
          17,
          16,
          16,
          16,
          17,
          16,
          17,
          17,
          17,
          16,
          18,
          16,
          17,
          17,
          17,
          17,
          17,
          16,
          16,
          17,
          16,
          17,
          17,
          17,
          16,
          16,
          17,
          16,
          16,
          17,
          17,
          19,
          18,
          18,
          18,
          18,
          17,
          18,
          18,
          18,
          18,
          17,
          17,
          17,
          18,
          17,
          18,
          18,
          17,
          17,
          18,
          17,
          18,
          18,
          18,
          17,
          18,
          17,
          18,
          17,
          18,
          18,
          18,
          17,
          17,
          17,
          19,
          18,
          20,
          19,
          19,
          19,
          19,
          19,
          19,
          19,
          17,
          18,
          17,
          17,
          17,
          17,
          18,
          17,
          17,
          17,
          17,
          17,
          19,
          18,
          17,
          19,
          18,
          18,
          18,
          18,
          17,
          18,
          17,
          17,
          17,
          17,
          18,
          18,
          18,
          18,
          18,
          17,
          17,
          18,
          18,
          18,
          18,
          18,
          17,
          18,
          18,
          20,
          18,
          18,
          17,
          18,
          17,
          18,
          17,
          18
         ]
        },
        {
         "name": "Failed",
         "type": "box",
         "y": [
          18,
          17,
          17,
          15,
          17,
          15,
          16,
          15,
          16,
          15,
          15,
          15,
          16,
          16,
          16,
          15,
          15,
          16,
          15,
          15,
          16,
          16,
          16,
          16,
          16,
          16,
          15,
          15,
          15,
          17,
          16,
          19,
          18,
          15,
          15,
          15,
          15,
          17,
          16,
          15,
          16,
          17,
          15,
          16,
          18,
          19,
          15,
          17,
          15,
          16,
          17,
          16,
          16,
          16,
          16,
          17,
          17,
          16,
          16,
          17,
          17,
          17,
          17,
          17,
          17,
          16,
          17,
          19,
          18,
          17,
          18,
          17,
          17,
          17,
          18,
          18,
          17,
          16,
          18,
          16,
          18,
          22,
          18,
          18,
          18,
          16,
          17,
          17,
          18,
          17,
          18,
          18,
          19,
          18,
          18,
          18,
          17,
          19,
          18,
          19,
          19,
          18,
          18,
          17,
          17,
          18,
          18,
          18,
          18,
          17,
          18,
          17,
          18,
          19,
          18,
          19,
          18,
          17,
          19,
          17,
          18,
          19,
          18,
          18,
          19,
          18,
          18,
          20,
          21,
          19
         ]
        }
       ],
       "layout": {
        "template": {
         "data": {
          "bar": [
           {
            "error_x": {
             "color": "#2a3f5f"
            },
            "error_y": {
             "color": "#2a3f5f"
            },
            "marker": {
             "line": {
              "color": "#E5ECF6",
              "width": 0.5
             }
            },
            "type": "bar"
           }
          ],
          "barpolar": [
           {
            "marker": {
             "line": {
              "color": "#E5ECF6",
              "width": 0.5
             }
            },
            "type": "barpolar"
           }
          ],
          "carpet": [
           {
            "aaxis": {
             "endlinecolor": "#2a3f5f",
             "gridcolor": "white",
             "linecolor": "white",
             "minorgridcolor": "white",
             "startlinecolor": "#2a3f5f"
            },
            "baxis": {
             "endlinecolor": "#2a3f5f",
             "gridcolor": "white",
             "linecolor": "white",
             "minorgridcolor": "white",
             "startlinecolor": "#2a3f5f"
            },
            "type": "carpet"
           }
          ],
          "choropleth": [
           {
            "colorbar": {
             "outlinewidth": 0,
             "ticks": ""
            },
            "type": "choropleth"
           }
          ],
          "contour": [
           {
            "colorbar": {
             "outlinewidth": 0,
             "ticks": ""
            },
            "colorscale": [
             [
              0,
              "#0d0887"
             ],
             [
              0.1111111111111111,
              "#46039f"
             ],
             [
              0.2222222222222222,
              "#7201a8"
             ],
             [
              0.3333333333333333,
              "#9c179e"
             ],
             [
              0.4444444444444444,
              "#bd3786"
             ],
             [
              0.5555555555555556,
              "#d8576b"
             ],
             [
              0.6666666666666666,
              "#ed7953"
             ],
             [
              0.7777777777777778,
              "#fb9f3a"
             ],
             [
              0.8888888888888888,
              "#fdca26"
             ],
             [
              1,
              "#f0f921"
             ]
            ],
            "type": "contour"
           }
          ],
          "contourcarpet": [
           {
            "colorbar": {
             "outlinewidth": 0,
             "ticks": ""
            },
            "type": "contourcarpet"
           }
          ],
          "heatmap": [
           {
            "colorbar": {
             "outlinewidth": 0,
             "ticks": ""
            },
            "colorscale": [
             [
              0,
              "#0d0887"
             ],
             [
              0.1111111111111111,
              "#46039f"
             ],
             [
              0.2222222222222222,
              "#7201a8"
             ],
             [
              0.3333333333333333,
              "#9c179e"
             ],
             [
              0.4444444444444444,
              "#bd3786"
             ],
             [
              0.5555555555555556,
              "#d8576b"
             ],
             [
              0.6666666666666666,
              "#ed7953"
             ],
             [
              0.7777777777777778,
              "#fb9f3a"
             ],
             [
              0.8888888888888888,
              "#fdca26"
             ],
             [
              1,
              "#f0f921"
             ]
            ],
            "type": "heatmap"
           }
          ],
          "heatmapgl": [
           {
            "colorbar": {
             "outlinewidth": 0,
             "ticks": ""
            },
            "colorscale": [
             [
              0,
              "#0d0887"
             ],
             [
              0.1111111111111111,
              "#46039f"
             ],
             [
              0.2222222222222222,
              "#7201a8"
             ],
             [
              0.3333333333333333,
              "#9c179e"
             ],
             [
              0.4444444444444444,
              "#bd3786"
             ],
             [
              0.5555555555555556,
              "#d8576b"
             ],
             [
              0.6666666666666666,
              "#ed7953"
             ],
             [
              0.7777777777777778,
              "#fb9f3a"
             ],
             [
              0.8888888888888888,
              "#fdca26"
             ],
             [
              1,
              "#f0f921"
             ]
            ],
            "type": "heatmapgl"
           }
          ],
          "histogram": [
           {
            "marker": {
             "colorbar": {
              "outlinewidth": 0,
              "ticks": ""
             }
            },
            "type": "histogram"
           }
          ],
          "histogram2d": [
           {
            "colorbar": {
             "outlinewidth": 0,
             "ticks": ""
            },
            "colorscale": [
             [
              0,
              "#0d0887"
             ],
             [
              0.1111111111111111,
              "#46039f"
             ],
             [
              0.2222222222222222,
              "#7201a8"
             ],
             [
              0.3333333333333333,
              "#9c179e"
             ],
             [
              0.4444444444444444,
              "#bd3786"
             ],
             [
              0.5555555555555556,
              "#d8576b"
             ],
             [
              0.6666666666666666,
              "#ed7953"
             ],
             [
              0.7777777777777778,
              "#fb9f3a"
             ],
             [
              0.8888888888888888,
              "#fdca26"
             ],
             [
              1,
              "#f0f921"
             ]
            ],
            "type": "histogram2d"
           }
          ],
          "histogram2dcontour": [
           {
            "colorbar": {
             "outlinewidth": 0,
             "ticks": ""
            },
            "colorscale": [
             [
              0,
              "#0d0887"
             ],
             [
              0.1111111111111111,
              "#46039f"
             ],
             [
              0.2222222222222222,
              "#7201a8"
             ],
             [
              0.3333333333333333,
              "#9c179e"
             ],
             [
              0.4444444444444444,
              "#bd3786"
             ],
             [
              0.5555555555555556,
              "#d8576b"
             ],
             [
              0.6666666666666666,
              "#ed7953"
             ],
             [
              0.7777777777777778,
              "#fb9f3a"
             ],
             [
              0.8888888888888888,
              "#fdca26"
             ],
             [
              1,
              "#f0f921"
             ]
            ],
            "type": "histogram2dcontour"
           }
          ],
          "mesh3d": [
           {
            "colorbar": {
             "outlinewidth": 0,
             "ticks": ""
            },
            "type": "mesh3d"
           }
          ],
          "parcoords": [
           {
            "line": {
             "colorbar": {
              "outlinewidth": 0,
              "ticks": ""
             }
            },
            "type": "parcoords"
           }
          ],
          "pie": [
           {
            "automargin": true,
            "type": "pie"
           }
          ],
          "scatter": [
           {
            "marker": {
             "colorbar": {
              "outlinewidth": 0,
              "ticks": ""
             }
            },
            "type": "scatter"
           }
          ],
          "scatter3d": [
           {
            "line": {
             "colorbar": {
              "outlinewidth": 0,
              "ticks": ""
             }
            },
            "marker": {
             "colorbar": {
              "outlinewidth": 0,
              "ticks": ""
             }
            },
            "type": "scatter3d"
           }
          ],
          "scattercarpet": [
           {
            "marker": {
             "colorbar": {
              "outlinewidth": 0,
              "ticks": ""
             }
            },
            "type": "scattercarpet"
           }
          ],
          "scattergeo": [
           {
            "marker": {
             "colorbar": {
              "outlinewidth": 0,
              "ticks": ""
             }
            },
            "type": "scattergeo"
           }
          ],
          "scattergl": [
           {
            "marker": {
             "colorbar": {
              "outlinewidth": 0,
              "ticks": ""
             }
            },
            "type": "scattergl"
           }
          ],
          "scattermapbox": [
           {
            "marker": {
             "colorbar": {
              "outlinewidth": 0,
              "ticks": ""
             }
            },
            "type": "scattermapbox"
           }
          ],
          "scatterpolar": [
           {
            "marker": {
             "colorbar": {
              "outlinewidth": 0,
              "ticks": ""
             }
            },
            "type": "scatterpolar"
           }
          ],
          "scatterpolargl": [
           {
            "marker": {
             "colorbar": {
              "outlinewidth": 0,
              "ticks": ""
             }
            },
            "type": "scatterpolargl"
           }
          ],
          "scatterternary": [
           {
            "marker": {
             "colorbar": {
              "outlinewidth": 0,
              "ticks": ""
             }
            },
            "type": "scatterternary"
           }
          ],
          "surface": [
           {
            "colorbar": {
             "outlinewidth": 0,
             "ticks": ""
            },
            "colorscale": [
             [
              0,
              "#0d0887"
             ],
             [
              0.1111111111111111,
              "#46039f"
             ],
             [
              0.2222222222222222,
              "#7201a8"
             ],
             [
              0.3333333333333333,
              "#9c179e"
             ],
             [
              0.4444444444444444,
              "#bd3786"
             ],
             [
              0.5555555555555556,
              "#d8576b"
             ],
             [
              0.6666666666666666,
              "#ed7953"
             ],
             [
              0.7777777777777778,
              "#fb9f3a"
             ],
             [
              0.8888888888888888,
              "#fdca26"
             ],
             [
              1,
              "#f0f921"
             ]
            ],
            "type": "surface"
           }
          ],
          "table": [
           {
            "cells": {
             "fill": {
              "color": "#EBF0F8"
             },
             "line": {
              "color": "white"
             }
            },
            "header": {
             "fill": {
              "color": "#C8D4E3"
             },
             "line": {
              "color": "white"
             }
            },
            "type": "table"
           }
          ]
         },
         "layout": {
          "annotationdefaults": {
           "arrowcolor": "#2a3f5f",
           "arrowhead": 0,
           "arrowwidth": 1
          },
          "coloraxis": {
           "colorbar": {
            "outlinewidth": 0,
            "ticks": ""
           }
          },
          "colorscale": {
           "diverging": [
            [
             0,
             "#8e0152"
            ],
            [
             0.1,
             "#c51b7d"
            ],
            [
             0.2,
             "#de77ae"
            ],
            [
             0.3,
             "#f1b6da"
            ],
            [
             0.4,
             "#fde0ef"
            ],
            [
             0.5,
             "#f7f7f7"
            ],
            [
             0.6,
             "#e6f5d0"
            ],
            [
             0.7,
             "#b8e186"
            ],
            [
             0.8,
             "#7fbc41"
            ],
            [
             0.9,
             "#4d9221"
            ],
            [
             1,
             "#276419"
            ]
           ],
           "sequential": [
            [
             0,
             "#0d0887"
            ],
            [
             0.1111111111111111,
             "#46039f"
            ],
            [
             0.2222222222222222,
             "#7201a8"
            ],
            [
             0.3333333333333333,
             "#9c179e"
            ],
            [
             0.4444444444444444,
             "#bd3786"
            ],
            [
             0.5555555555555556,
             "#d8576b"
            ],
            [
             0.6666666666666666,
             "#ed7953"
            ],
            [
             0.7777777777777778,
             "#fb9f3a"
            ],
            [
             0.8888888888888888,
             "#fdca26"
            ],
            [
             1,
             "#f0f921"
            ]
           ],
           "sequentialminus": [
            [
             0,
             "#0d0887"
            ],
            [
             0.1111111111111111,
             "#46039f"
            ],
            [
             0.2222222222222222,
             "#7201a8"
            ],
            [
             0.3333333333333333,
             "#9c179e"
            ],
            [
             0.4444444444444444,
             "#bd3786"
            ],
            [
             0.5555555555555556,
             "#d8576b"
            ],
            [
             0.6666666666666666,
             "#ed7953"
            ],
            [
             0.7777777777777778,
             "#fb9f3a"
            ],
            [
             0.8888888888888888,
             "#fdca26"
            ],
            [
             1,
             "#f0f921"
            ]
           ]
          },
          "colorway": [
           "#636efa",
           "#EF553B",
           "#00cc96",
           "#ab63fa",
           "#FFA15A",
           "#19d3f3",
           "#FF6692",
           "#B6E880",
           "#FF97FF",
           "#FECB52"
          ],
          "font": {
           "color": "#2a3f5f"
          },
          "geo": {
           "bgcolor": "white",
           "lakecolor": "white",
           "landcolor": "#E5ECF6",
           "showlakes": true,
           "showland": true,
           "subunitcolor": "white"
          },
          "hoverlabel": {
           "align": "left"
          },
          "hovermode": "closest",
          "mapbox": {
           "style": "light"
          },
          "paper_bgcolor": "white",
          "plot_bgcolor": "#E5ECF6",
          "polar": {
           "angularaxis": {
            "gridcolor": "white",
            "linecolor": "white",
            "ticks": ""
           },
           "bgcolor": "#E5ECF6",
           "radialaxis": {
            "gridcolor": "white",
            "linecolor": "white",
            "ticks": ""
           }
          },
          "scene": {
           "xaxis": {
            "backgroundcolor": "#E5ECF6",
            "gridcolor": "white",
            "gridwidth": 2,
            "linecolor": "white",
            "showbackground": true,
            "ticks": "",
            "zerolinecolor": "white"
           },
           "yaxis": {
            "backgroundcolor": "#E5ECF6",
            "gridcolor": "white",
            "gridwidth": 2,
            "linecolor": "white",
            "showbackground": true,
            "ticks": "",
            "zerolinecolor": "white"
           },
           "zaxis": {
            "backgroundcolor": "#E5ECF6",
            "gridcolor": "white",
            "gridwidth": 2,
            "linecolor": "white",
            "showbackground": true,
            "ticks": "",
            "zerolinecolor": "white"
           }
          },
          "shapedefaults": {
           "line": {
            "color": "#2a3f5f"
           }
          },
          "ternary": {
           "aaxis": {
            "gridcolor": "white",
            "linecolor": "white",
            "ticks": ""
           },
           "baxis": {
            "gridcolor": "white",
            "linecolor": "white",
            "ticks": ""
           },
           "bgcolor": "#E5ECF6",
           "caxis": {
            "gridcolor": "white",
            "linecolor": "white",
            "ticks": ""
           }
          },
          "title": {
           "x": 0.05
          },
          "xaxis": {
           "automargin": true,
           "gridcolor": "white",
           "linecolor": "white",
           "ticks": "",
           "title": {
            "standoff": 15
           },
           "zerolinecolor": "white",
           "zerolinewidth": 2
          },
          "yaxis": {
           "automargin": true,
           "gridcolor": "white",
           "linecolor": "white",
           "ticks": "",
           "title": {
            "standoff": 15
           },
           "zerolinecolor": "white",
           "zerolinewidth": 2
          }
         }
        },
        "yaxis": {
         "title": {
          "text": "age"
         }
        }
       }
      },
      "text/html": [
       "<div>\n",
       "        \n",
       "        \n",
       "            <div id=\"b9180c72-1865-4a41-9ad9-f55101d223f9\" class=\"plotly-graph-div\" style=\"height:525px; width:100%;\"></div>\n",
       "            <script type=\"text/javascript\">\n",
       "                require([\"plotly\"], function(Plotly) {\n",
       "                    window.PLOTLYENV=window.PLOTLYENV || {};\n",
       "                    \n",
       "                if (document.getElementById(\"b9180c72-1865-4a41-9ad9-f55101d223f9\")) {\n",
       "                    Plotly.newPlot(\n",
       "                        'b9180c72-1865-4a41-9ad9-f55101d223f9',\n",
       "                        [{\"name\": \"Passed\", \"type\": \"box\", \"y\": [15, 15, 16, 16, 16, 15, 15, 15, 15, 15, 15, 16, 16, 16, 16, 15, 15, 16, 16, 15, 15, 16, 16, 15, 15, 15, 15, 16, 15, 16, 15, 15, 16, 15, 15, 15, 16, 16, 15, 16, 15, 15, 15, 15, 16, 15, 15, 16, 16, 16, 15, 16, 15, 15, 16, 15, 16, 16, 15, 15, 16, 17, 15, 15, 15, 15, 15, 16, 15, 16, 15, 15, 16, 16, 16, 16, 15, 15, 15, 16, 15, 16, 15, 16, 16, 15, 16, 15, 16, 15, 15, 15, 16, 16, 15, 15, 16, 17, 16, 16, 15, 15, 16, 15, 15, 15, 16, 15, 17, 17, 18, 16, 16, 17, 16, 16, 16, 16, 16, 17, 16, 17, 16, 17, 16, 17, 16, 16, 17, 16, 16, 16, 17, 17, 16, 17, 16, 16, 16, 17, 16, 16, 16, 17, 16, 17, 17, 17, 16, 18, 16, 17, 17, 17, 17, 17, 16, 16, 17, 16, 17, 17, 17, 16, 16, 17, 16, 16, 17, 17, 19, 18, 18, 18, 18, 17, 18, 18, 18, 18, 17, 17, 17, 18, 17, 18, 18, 17, 17, 18, 17, 18, 18, 18, 17, 18, 17, 18, 17, 18, 18, 18, 17, 17, 17, 19, 18, 20, 19, 19, 19, 19, 19, 19, 19, 17, 18, 17, 17, 17, 17, 18, 17, 17, 17, 17, 17, 19, 18, 17, 19, 18, 18, 18, 18, 17, 18, 17, 17, 17, 17, 18, 18, 18, 18, 18, 17, 17, 18, 18, 18, 18, 18, 17, 18, 18, 20, 18, 18, 17, 18, 17, 18, 17, 18]}, {\"name\": \"Failed\", \"type\": \"box\", \"y\": [18, 17, 17, 15, 17, 15, 16, 15, 16, 15, 15, 15, 16, 16, 16, 15, 15, 16, 15, 15, 16, 16, 16, 16, 16, 16, 15, 15, 15, 17, 16, 19, 18, 15, 15, 15, 15, 17, 16, 15, 16, 17, 15, 16, 18, 19, 15, 17, 15, 16, 17, 16, 16, 16, 16, 17, 17, 16, 16, 17, 17, 17, 17, 17, 17, 16, 17, 19, 18, 17, 18, 17, 17, 17, 18, 18, 17, 16, 18, 16, 18, 22, 18, 18, 18, 16, 17, 17, 18, 17, 18, 18, 19, 18, 18, 18, 17, 19, 18, 19, 19, 18, 18, 17, 17, 18, 18, 18, 18, 17, 18, 17, 18, 19, 18, 19, 18, 17, 19, 17, 18, 19, 18, 18, 19, 18, 18, 20, 21, 19]}],\n",
       "                        {\"template\": {\"data\": {\"bar\": [{\"error_x\": {\"color\": \"#2a3f5f\"}, \"error_y\": {\"color\": \"#2a3f5f\"}, \"marker\": {\"line\": {\"color\": \"#E5ECF6\", \"width\": 0.5}}, \"type\": \"bar\"}], \"barpolar\": [{\"marker\": {\"line\": {\"color\": \"#E5ECF6\", \"width\": 0.5}}, \"type\": \"barpolar\"}], \"carpet\": [{\"aaxis\": {\"endlinecolor\": \"#2a3f5f\", \"gridcolor\": \"white\", \"linecolor\": \"white\", \"minorgridcolor\": \"white\", \"startlinecolor\": \"#2a3f5f\"}, \"baxis\": {\"endlinecolor\": \"#2a3f5f\", \"gridcolor\": \"white\", \"linecolor\": \"white\", \"minorgridcolor\": \"white\", \"startlinecolor\": \"#2a3f5f\"}, \"type\": \"carpet\"}], \"choropleth\": [{\"colorbar\": {\"outlinewidth\": 0, \"ticks\": \"\"}, \"type\": \"choropleth\"}], \"contour\": [{\"colorbar\": {\"outlinewidth\": 0, \"ticks\": \"\"}, \"colorscale\": [[0.0, \"#0d0887\"], [0.1111111111111111, \"#46039f\"], [0.2222222222222222, \"#7201a8\"], [0.3333333333333333, \"#9c179e\"], [0.4444444444444444, \"#bd3786\"], [0.5555555555555556, \"#d8576b\"], [0.6666666666666666, \"#ed7953\"], [0.7777777777777778, \"#fb9f3a\"], [0.8888888888888888, \"#fdca26\"], [1.0, \"#f0f921\"]], \"type\": \"contour\"}], \"contourcarpet\": [{\"colorbar\": {\"outlinewidth\": 0, \"ticks\": \"\"}, \"type\": \"contourcarpet\"}], \"heatmap\": [{\"colorbar\": {\"outlinewidth\": 0, \"ticks\": \"\"}, \"colorscale\": [[0.0, \"#0d0887\"], [0.1111111111111111, \"#46039f\"], [0.2222222222222222, \"#7201a8\"], [0.3333333333333333, \"#9c179e\"], [0.4444444444444444, \"#bd3786\"], [0.5555555555555556, \"#d8576b\"], [0.6666666666666666, \"#ed7953\"], [0.7777777777777778, \"#fb9f3a\"], [0.8888888888888888, \"#fdca26\"], [1.0, \"#f0f921\"]], \"type\": \"heatmap\"}], \"heatmapgl\": [{\"colorbar\": {\"outlinewidth\": 0, \"ticks\": \"\"}, \"colorscale\": [[0.0, \"#0d0887\"], [0.1111111111111111, \"#46039f\"], [0.2222222222222222, \"#7201a8\"], [0.3333333333333333, \"#9c179e\"], [0.4444444444444444, \"#bd3786\"], [0.5555555555555556, \"#d8576b\"], [0.6666666666666666, \"#ed7953\"], [0.7777777777777778, \"#fb9f3a\"], [0.8888888888888888, \"#fdca26\"], [1.0, \"#f0f921\"]], \"type\": \"heatmapgl\"}], \"histogram\": [{\"marker\": {\"colorbar\": {\"outlinewidth\": 0, \"ticks\": \"\"}}, \"type\": \"histogram\"}], \"histogram2d\": [{\"colorbar\": {\"outlinewidth\": 0, \"ticks\": \"\"}, \"colorscale\": [[0.0, \"#0d0887\"], [0.1111111111111111, \"#46039f\"], [0.2222222222222222, \"#7201a8\"], [0.3333333333333333, \"#9c179e\"], [0.4444444444444444, \"#bd3786\"], [0.5555555555555556, \"#d8576b\"], [0.6666666666666666, \"#ed7953\"], [0.7777777777777778, \"#fb9f3a\"], [0.8888888888888888, \"#fdca26\"], [1.0, \"#f0f921\"]], \"type\": \"histogram2d\"}], \"histogram2dcontour\": [{\"colorbar\": {\"outlinewidth\": 0, \"ticks\": \"\"}, \"colorscale\": [[0.0, \"#0d0887\"], [0.1111111111111111, \"#46039f\"], [0.2222222222222222, \"#7201a8\"], [0.3333333333333333, \"#9c179e\"], [0.4444444444444444, \"#bd3786\"], [0.5555555555555556, \"#d8576b\"], [0.6666666666666666, \"#ed7953\"], [0.7777777777777778, \"#fb9f3a\"], [0.8888888888888888, \"#fdca26\"], [1.0, \"#f0f921\"]], \"type\": \"histogram2dcontour\"}], \"mesh3d\": [{\"colorbar\": {\"outlinewidth\": 0, \"ticks\": \"\"}, \"type\": \"mesh3d\"}], \"parcoords\": [{\"line\": {\"colorbar\": {\"outlinewidth\": 0, \"ticks\": \"\"}}, \"type\": \"parcoords\"}], \"pie\": [{\"automargin\": true, \"type\": \"pie\"}], \"scatter\": [{\"marker\": {\"colorbar\": {\"outlinewidth\": 0, \"ticks\": \"\"}}, \"type\": \"scatter\"}], \"scatter3d\": [{\"line\": {\"colorbar\": {\"outlinewidth\": 0, \"ticks\": \"\"}}, \"marker\": {\"colorbar\": {\"outlinewidth\": 0, \"ticks\": \"\"}}, \"type\": \"scatter3d\"}], \"scattercarpet\": [{\"marker\": {\"colorbar\": {\"outlinewidth\": 0, \"ticks\": \"\"}}, \"type\": \"scattercarpet\"}], \"scattergeo\": [{\"marker\": {\"colorbar\": {\"outlinewidth\": 0, \"ticks\": \"\"}}, \"type\": \"scattergeo\"}], \"scattergl\": [{\"marker\": {\"colorbar\": {\"outlinewidth\": 0, \"ticks\": \"\"}}, \"type\": \"scattergl\"}], \"scattermapbox\": [{\"marker\": {\"colorbar\": {\"outlinewidth\": 0, \"ticks\": \"\"}}, \"type\": \"scattermapbox\"}], \"scatterpolar\": [{\"marker\": {\"colorbar\": {\"outlinewidth\": 0, \"ticks\": \"\"}}, \"type\": \"scatterpolar\"}], \"scatterpolargl\": [{\"marker\": {\"colorbar\": {\"outlinewidth\": 0, \"ticks\": \"\"}}, \"type\": \"scatterpolargl\"}], \"scatterternary\": [{\"marker\": {\"colorbar\": {\"outlinewidth\": 0, \"ticks\": \"\"}}, \"type\": \"scatterternary\"}], \"surface\": [{\"colorbar\": {\"outlinewidth\": 0, \"ticks\": \"\"}, \"colorscale\": [[0.0, \"#0d0887\"], [0.1111111111111111, \"#46039f\"], [0.2222222222222222, \"#7201a8\"], [0.3333333333333333, \"#9c179e\"], [0.4444444444444444, \"#bd3786\"], [0.5555555555555556, \"#d8576b\"], [0.6666666666666666, \"#ed7953\"], [0.7777777777777778, \"#fb9f3a\"], [0.8888888888888888, \"#fdca26\"], [1.0, \"#f0f921\"]], \"type\": \"surface\"}], \"table\": [{\"cells\": {\"fill\": {\"color\": \"#EBF0F8\"}, \"line\": {\"color\": \"white\"}}, \"header\": {\"fill\": {\"color\": \"#C8D4E3\"}, \"line\": {\"color\": \"white\"}}, \"type\": \"table\"}]}, \"layout\": {\"annotationdefaults\": {\"arrowcolor\": \"#2a3f5f\", \"arrowhead\": 0, \"arrowwidth\": 1}, \"coloraxis\": {\"colorbar\": {\"outlinewidth\": 0, \"ticks\": \"\"}}, \"colorscale\": {\"diverging\": [[0, \"#8e0152\"], [0.1, \"#c51b7d\"], [0.2, \"#de77ae\"], [0.3, \"#f1b6da\"], [0.4, \"#fde0ef\"], [0.5, \"#f7f7f7\"], [0.6, \"#e6f5d0\"], [0.7, \"#b8e186\"], [0.8, \"#7fbc41\"], [0.9, \"#4d9221\"], [1, \"#276419\"]], \"sequential\": [[0.0, \"#0d0887\"], [0.1111111111111111, \"#46039f\"], [0.2222222222222222, \"#7201a8\"], [0.3333333333333333, \"#9c179e\"], [0.4444444444444444, \"#bd3786\"], [0.5555555555555556, \"#d8576b\"], [0.6666666666666666, \"#ed7953\"], [0.7777777777777778, \"#fb9f3a\"], [0.8888888888888888, \"#fdca26\"], [1.0, \"#f0f921\"]], \"sequentialminus\": [[0.0, \"#0d0887\"], [0.1111111111111111, \"#46039f\"], [0.2222222222222222, \"#7201a8\"], [0.3333333333333333, \"#9c179e\"], [0.4444444444444444, \"#bd3786\"], [0.5555555555555556, \"#d8576b\"], [0.6666666666666666, \"#ed7953\"], [0.7777777777777778, \"#fb9f3a\"], [0.8888888888888888, \"#fdca26\"], [1.0, \"#f0f921\"]]}, \"colorway\": [\"#636efa\", \"#EF553B\", \"#00cc96\", \"#ab63fa\", \"#FFA15A\", \"#19d3f3\", \"#FF6692\", \"#B6E880\", \"#FF97FF\", \"#FECB52\"], \"font\": {\"color\": \"#2a3f5f\"}, \"geo\": {\"bgcolor\": \"white\", \"lakecolor\": \"white\", \"landcolor\": \"#E5ECF6\", \"showlakes\": true, \"showland\": true, \"subunitcolor\": \"white\"}, \"hoverlabel\": {\"align\": \"left\"}, \"hovermode\": \"closest\", \"mapbox\": {\"style\": \"light\"}, \"paper_bgcolor\": \"white\", \"plot_bgcolor\": \"#E5ECF6\", \"polar\": {\"angularaxis\": {\"gridcolor\": \"white\", \"linecolor\": \"white\", \"ticks\": \"\"}, \"bgcolor\": \"#E5ECF6\", \"radialaxis\": {\"gridcolor\": \"white\", \"linecolor\": \"white\", \"ticks\": \"\"}}, \"scene\": {\"xaxis\": {\"backgroundcolor\": \"#E5ECF6\", \"gridcolor\": \"white\", \"gridwidth\": 2, \"linecolor\": \"white\", \"showbackground\": true, \"ticks\": \"\", \"zerolinecolor\": \"white\"}, \"yaxis\": {\"backgroundcolor\": \"#E5ECF6\", \"gridcolor\": \"white\", \"gridwidth\": 2, \"linecolor\": \"white\", \"showbackground\": true, \"ticks\": \"\", \"zerolinecolor\": \"white\"}, \"zaxis\": {\"backgroundcolor\": \"#E5ECF6\", \"gridcolor\": \"white\", \"gridwidth\": 2, \"linecolor\": \"white\", \"showbackground\": true, \"ticks\": \"\", \"zerolinecolor\": \"white\"}}, \"shapedefaults\": {\"line\": {\"color\": \"#2a3f5f\"}}, \"ternary\": {\"aaxis\": {\"gridcolor\": \"white\", \"linecolor\": \"white\", \"ticks\": \"\"}, \"baxis\": {\"gridcolor\": \"white\", \"linecolor\": \"white\", \"ticks\": \"\"}, \"bgcolor\": \"#E5ECF6\", \"caxis\": {\"gridcolor\": \"white\", \"linecolor\": \"white\", \"ticks\": \"\"}}, \"title\": {\"x\": 0.05}, \"xaxis\": {\"automargin\": true, \"gridcolor\": \"white\", \"linecolor\": \"white\", \"ticks\": \"\", \"title\": {\"standoff\": 15}, \"zerolinecolor\": \"white\", \"zerolinewidth\": 2}, \"yaxis\": {\"automargin\": true, \"gridcolor\": \"white\", \"linecolor\": \"white\", \"ticks\": \"\", \"title\": {\"standoff\": 15}, \"zerolinecolor\": \"white\", \"zerolinewidth\": 2}}}, \"yaxis\": {\"title\": {\"text\": \"age\"}}},\n",
       "                        {\"responsive\": true}\n",
       "                    ).then(function(){\n",
       "                            \n",
       "var gd = document.getElementById('b9180c72-1865-4a41-9ad9-f55101d223f9');\n",
       "var x = new MutationObserver(function (mutations, observer) {{\n",
       "        var display = window.getComputedStyle(gd).display;\n",
       "        if (!display || display === 'none') {{\n",
       "            console.log([gd, 'removed!']);\n",
       "            Plotly.purge(gd);\n",
       "            observer.disconnect();\n",
       "        }}\n",
       "}});\n",
       "\n",
       "// Listen for the removal of the full notebook cells\n",
       "var notebookContainer = gd.closest('#notebook-container');\n",
       "if (notebookContainer) {{\n",
       "    x.observe(notebookContainer, {childList: true});\n",
       "}}\n",
       "\n",
       "// Listen for the clearing of the current output cell\n",
       "var outputEl = gd.closest('.output');\n",
       "if (outputEl) {{\n",
       "    x.observe(outputEl, {childList: true});\n",
       "}}\n",
       "\n",
       "                        })\n",
       "                };\n",
       "                });\n",
       "            </script>\n",
       "        </div>"
      ]
     },
     "metadata": {},
     "output_type": "display_data"
    }
   ],
   "source": [
    "\n",
    "failuresPass = []\n",
    "failuresFail = []\n",
    "\n",
    "for x,y in dataMatExt.loc[:, ['age','G3']].values:\n",
    "    if(y>0):\n",
    "        failuresPass.append(x)\n",
    "    else:\n",
    "        failuresFail.append(x)\n",
    "\n",
    "fig = go.Figure()\n",
    "fig.add_trace(go.Box(y=failuresPass, name= 'Passed'))\n",
    "fig.add_trace(go.Box(y=failuresFail, name= 'Failed'))\n",
    "\n",
    "fig.update_layout(\n",
    "    yaxis_title = 'age'\n",
    ")\n",
    "fig.show()"
   ]
  },
  {
   "cell_type": "markdown",
   "metadata": {},
   "source": [
    "For example, for the feature *absences* this difference, even if present, is definitely less marked and therefore it would not be absolutely sufficient as a basis for any observation, if not a more in-depth analysis like the one that has been made."
   ]
  },
  {
   "cell_type": "code",
   "execution_count": 16,
   "metadata": {},
   "outputs": [
    {
     "data": {
      "application/vnd.plotly.v1+json": {
       "config": {
        "plotlyServerURL": "https://plot.ly"
       },
       "data": [
        {
         "name": "Passed",
         "type": "box",
         "y": [
          10,
          2,
          4,
          10,
          0,
          0,
          0,
          4,
          2,
          2,
          0,
          4,
          6,
          4,
          4,
          0,
          0,
          2,
          0,
          2,
          4,
          4,
          16,
          0,
          0,
          0,
          0,
          0,
          2,
          7,
          2,
          8,
          25,
          8,
          2,
          0,
          12,
          4,
          2,
          2,
          2,
          6,
          0,
          6,
          8,
          0,
          4,
          2,
          6,
          6,
          0,
          2,
          4,
          12,
          0,
          0,
          2,
          54,
          6,
          8,
          0,
          2,
          2,
          4,
          4,
          2,
          4,
          12,
          4,
          0,
          6,
          2,
          2,
          2,
          6,
          0,
          4,
          0,
          10,
          2,
          6,
          4,
          6,
          0,
          6,
          10,
          2,
          2,
          0,
          6,
          2,
          6,
          2,
          18,
          0,
          0,
          8,
          12,
          16,
          0,
          0,
          2,
          2,
          0,
          2,
          0,
          6,
          8,
          0,
          8,
          6,
          2,
          4,
          2,
          16,
          4,
          0,
          0,
          2,
          0,
          2,
          4,
          2,
          0,
          14,
          12,
          2,
          0,
          4,
          10,
          8,
          0,
          0,
          4,
          8,
          24,
          0,
          2,
          6,
          4,
          6,
          10,
          6,
          13,
          0,
          12,
          2,
          4,
          2,
          0,
          0,
          10,
          2,
          10,
          14,
          4,
          2,
          10,
          4,
          20,
          2,
          14,
          2,
          0,
          6,
          4,
          0,
          6,
          0,
          6,
          12,
          8,
          21,
          1,
          13,
          2,
          8,
          10,
          4,
          2,
          2,
          2,
          6,
          8,
          19,
          1,
          4,
          4,
          2,
          5,
          6,
          6,
          9,
          11,
          0,
          12,
          6,
          8,
          4,
          0,
          5,
          14,
          0,
          0,
          0,
          20,
          8,
          0,
          0,
          18,
          20,
          3,
          22,
          14,
          40,
          0,
          2,
          23,
          3,
          1,
          0,
          3,
          3,
          8,
          4,
          7,
          16,
          12,
          7,
          4,
          4,
          11,
          4,
          7,
          9,
          0,
          10,
          2,
          4,
          4,
          2,
          4,
          0,
          0,
          2,
          0,
          0,
          0,
          4,
          0,
          0,
          10,
          3,
          8,
          0,
          2,
          4,
          4,
          0,
          17,
          4,
          2,
          2,
          3,
          0,
          4,
          2,
          6,
          0,
          0,
          6,
          0,
          2,
          0,
          0,
          2,
          0,
          0,
          0,
          0,
          6,
          10,
          2,
          6,
          0,
          0,
          0,
          2,
          2,
          6,
          8,
          0,
          2,
          4,
          0,
          2,
          0,
          0,
          4,
          4,
          0,
          4,
          2,
          8,
          16,
          8,
          0,
          0,
          14,
          4,
          6,
          2,
          4,
          2,
          0,
          0,
          0,
          0,
          2,
          0,
          8,
          0,
          2,
          0,
          0,
          0,
          0,
          0,
          2,
          0,
          0,
          0,
          6,
          2,
          0,
          2,
          0,
          4,
          0,
          0,
          1,
          0,
          14,
          0,
          4,
          2,
          2,
          4,
          6,
          4,
          6,
          6,
          2,
          6,
          0,
          2,
          2,
          4,
          6,
          0,
          4,
          2,
          0,
          2,
          16,
          0,
          10,
          4,
          4,
          8,
          2,
          4,
          4,
          12,
          10,
          4,
          6,
          4,
          6,
          14,
          2,
          0,
          6,
          2,
          4,
          0,
          0,
          0,
          8,
          4,
          0,
          8,
          6,
          2,
          12,
          4,
          12,
          2,
          4,
          2,
          0,
          2,
          10,
          8,
          4,
          0,
          6,
          6,
          0,
          4,
          2,
          4,
          0,
          0,
          2,
          6,
          6,
          0,
          6,
          2,
          6,
          0,
          14,
          6,
          4,
          0,
          2,
          0,
          0,
          0,
          0,
          4,
          0,
          0,
          0,
          0,
          0,
          0,
          4,
          8,
          4,
          4,
          0,
          0,
          32,
          8,
          6,
          0,
          0,
          10,
          6,
          6,
          0,
          16,
          0,
          0,
          8,
          4,
          16,
          30,
          0,
          2,
          4,
          0,
          21,
          6,
          2,
          4,
          2,
          0,
          4,
          15,
          0,
          10,
          6,
          2,
          16,
          10,
          4,
          0,
          0,
          12,
          0,
          9,
          4,
          2,
          0,
          2,
          0,
          0,
          0,
          0,
          0,
          0,
          0,
          4,
          0,
          18,
          16,
          4,
          10,
          4,
          2,
          8,
          4,
          4,
          8,
          0,
          7,
          4,
          2,
          2,
          10,
          10,
          10,
          7,
          4,
          2,
          8,
          0,
          4,
          2,
          0,
          0,
          2,
          2,
          0,
          4,
          2,
          4,
          4,
          4,
          2,
          0,
          2,
          8,
          2,
          2,
          2,
          2,
          0,
          6,
          0,
          8,
          4,
          12,
          16,
          10,
          2,
          2,
          8,
          6,
          6,
          15,
          6,
          2,
          8,
          0,
          0,
          10,
          22,
          18,
          2,
          0,
          12,
          10,
          0,
          0,
          0,
          0,
          0,
          2,
          0,
          0,
          0,
          0,
          2,
          0,
          0,
          0,
          0,
          0,
          0,
          0,
          0,
          0,
          0,
          2,
          2,
          2,
          2,
          2,
          8,
          2,
          8,
          9,
          0,
          4,
          2,
          14,
          0,
          2,
          2,
          12,
          2,
          4,
          0,
          0,
          0,
          0,
          0,
          0,
          2,
          0,
          4,
          2,
          0,
          0,
          2,
          0,
          6,
          8,
          0,
          6,
          8,
          0,
          4,
          0,
          0,
          6,
          18,
          0,
          4,
          4,
          0,
          0,
          10,
          4,
          16,
          6,
          0,
          11,
          9,
          0,
          2,
          0,
          21,
          8,
          5,
          10,
          5,
          13,
          10,
          10,
          5,
          4,
          11,
          0,
          6,
          4,
          0,
          5,
          0,
          0,
          0,
          4,
          0,
          0,
          2,
          0,
          0,
          4,
          0,
          6,
          3,
          2,
          0,
          4,
          0,
          4,
          0,
          2,
          1,
          0,
          0,
          2,
          6,
          0,
          1,
          1,
          0,
          4,
          2,
          0,
          4,
          2,
          0,
          11,
          4,
          0,
          2,
          1,
          0,
          1,
          6,
          0,
          4,
          2,
          5,
          0,
          2,
          0,
          0,
          0,
          8,
          0,
          0,
          0,
          8,
          0,
          0,
          0,
          1,
          8,
          0,
          0,
          0,
          0,
          1,
          0,
          1,
          0,
          0,
          0,
          11,
          8,
          11,
          2,
          8,
          5,
          0,
          1,
          2,
          0,
          0,
          2,
          0,
          0,
          0,
          2,
          4,
          3,
          5,
          4,
          2,
          0,
          0,
          0,
          6,
          0,
          2,
          9,
          12,
          8,
          8,
          8,
          4,
          4,
          0,
          0,
          2,
          0,
          0,
          0,
          3,
          0,
          8,
          5,
          4,
          4,
          0,
          2,
          0,
          5,
          2,
          0,
          5,
          4,
          0,
          2,
          0,
          2,
          0,
          0,
          6,
          4,
          0,
          0,
          0,
          3,
          8,
          0,
          4,
          1,
          1,
          4,
          4,
          0,
          0,
          4,
          4,
          4,
          6,
          4
         ]
        },
        {
         "name": "Failed",
         "type": "box",
         "y": [
          6,
          4,
          6,
          0,
          16,
          2,
          14,
          0,
          14,
          8,
          2,
          2,
          4,
          2,
          4,
          2,
          2,
          12,
          10,
          6,
          4,
          18,
          0,
          4,
          0,
          14,
          26,
          8,
          8,
          20,
          0,
          2,
          0,
          0,
          0,
          0,
          0,
          0,
          0,
          0,
          8,
          0,
          0,
          0,
          0,
          0,
          2,
          0,
          6,
          0,
          0,
          0,
          0,
          0,
          4,
          4,
          4,
          10,
          10,
          56,
          6,
          0,
          12,
          18,
          28,
          5,
          6,
          10,
          15,
          22,
          13,
          3,
          2,
          0,
          16,
          14,
          14,
          18,
          0,
          0,
          0,
          16,
          8,
          0,
          4,
          0,
          2,
          0,
          2,
          4,
          0,
          0,
          15,
          75,
          22,
          15,
          30,
          0,
          10,
          38,
          0,
          0,
          9,
          12,
          7,
          2,
          0,
          0,
          0,
          0,
          0,
          0,
          0,
          8,
          7,
          4,
          0,
          0,
          4,
          14,
          5,
          0,
          14,
          7,
          0,
          0,
          0,
          11,
          3,
          5,
          2,
          4,
          2,
          12,
          2,
          10,
          2,
          24,
          22,
          16,
          0,
          0,
          0,
          8,
          4,
          2,
          0,
          10,
          14,
          4,
          2,
          14,
          26,
          6,
          14,
          16,
          12,
          8,
          4,
          8,
          0,
          2,
          0,
          0,
          4,
          0,
          4,
          7,
          8,
          8,
          0,
          3,
          0,
          9,
          2,
          0,
          0,
          6,
          6,
          12,
          0,
          12,
          2,
          0,
          9,
          0,
          2,
          8,
          0,
          6,
          4,
          2,
          2,
          5,
          8,
          2,
          2,
          8,
          0,
          0,
          2,
          0,
          4,
          9,
          6,
          4,
          8,
          0,
          2,
          0,
          0,
          5,
          0,
          3,
          0,
          3,
          0,
          0,
          0,
          0,
          0,
          0,
          0,
          4,
          4,
          10,
          0,
          0,
          0,
          6
         ]
        }
       ],
       "layout": {
        "template": {
         "data": {
          "bar": [
           {
            "error_x": {
             "color": "#2a3f5f"
            },
            "error_y": {
             "color": "#2a3f5f"
            },
            "marker": {
             "line": {
              "color": "#E5ECF6",
              "width": 0.5
             }
            },
            "type": "bar"
           }
          ],
          "barpolar": [
           {
            "marker": {
             "line": {
              "color": "#E5ECF6",
              "width": 0.5
             }
            },
            "type": "barpolar"
           }
          ],
          "carpet": [
           {
            "aaxis": {
             "endlinecolor": "#2a3f5f",
             "gridcolor": "white",
             "linecolor": "white",
             "minorgridcolor": "white",
             "startlinecolor": "#2a3f5f"
            },
            "baxis": {
             "endlinecolor": "#2a3f5f",
             "gridcolor": "white",
             "linecolor": "white",
             "minorgridcolor": "white",
             "startlinecolor": "#2a3f5f"
            },
            "type": "carpet"
           }
          ],
          "choropleth": [
           {
            "colorbar": {
             "outlinewidth": 0,
             "ticks": ""
            },
            "type": "choropleth"
           }
          ],
          "contour": [
           {
            "colorbar": {
             "outlinewidth": 0,
             "ticks": ""
            },
            "colorscale": [
             [
              0,
              "#0d0887"
             ],
             [
              0.1111111111111111,
              "#46039f"
             ],
             [
              0.2222222222222222,
              "#7201a8"
             ],
             [
              0.3333333333333333,
              "#9c179e"
             ],
             [
              0.4444444444444444,
              "#bd3786"
             ],
             [
              0.5555555555555556,
              "#d8576b"
             ],
             [
              0.6666666666666666,
              "#ed7953"
             ],
             [
              0.7777777777777778,
              "#fb9f3a"
             ],
             [
              0.8888888888888888,
              "#fdca26"
             ],
             [
              1,
              "#f0f921"
             ]
            ],
            "type": "contour"
           }
          ],
          "contourcarpet": [
           {
            "colorbar": {
             "outlinewidth": 0,
             "ticks": ""
            },
            "type": "contourcarpet"
           }
          ],
          "heatmap": [
           {
            "colorbar": {
             "outlinewidth": 0,
             "ticks": ""
            },
            "colorscale": [
             [
              0,
              "#0d0887"
             ],
             [
              0.1111111111111111,
              "#46039f"
             ],
             [
              0.2222222222222222,
              "#7201a8"
             ],
             [
              0.3333333333333333,
              "#9c179e"
             ],
             [
              0.4444444444444444,
              "#bd3786"
             ],
             [
              0.5555555555555556,
              "#d8576b"
             ],
             [
              0.6666666666666666,
              "#ed7953"
             ],
             [
              0.7777777777777778,
              "#fb9f3a"
             ],
             [
              0.8888888888888888,
              "#fdca26"
             ],
             [
              1,
              "#f0f921"
             ]
            ],
            "type": "heatmap"
           }
          ],
          "heatmapgl": [
           {
            "colorbar": {
             "outlinewidth": 0,
             "ticks": ""
            },
            "colorscale": [
             [
              0,
              "#0d0887"
             ],
             [
              0.1111111111111111,
              "#46039f"
             ],
             [
              0.2222222222222222,
              "#7201a8"
             ],
             [
              0.3333333333333333,
              "#9c179e"
             ],
             [
              0.4444444444444444,
              "#bd3786"
             ],
             [
              0.5555555555555556,
              "#d8576b"
             ],
             [
              0.6666666666666666,
              "#ed7953"
             ],
             [
              0.7777777777777778,
              "#fb9f3a"
             ],
             [
              0.8888888888888888,
              "#fdca26"
             ],
             [
              1,
              "#f0f921"
             ]
            ],
            "type": "heatmapgl"
           }
          ],
          "histogram": [
           {
            "marker": {
             "colorbar": {
              "outlinewidth": 0,
              "ticks": ""
             }
            },
            "type": "histogram"
           }
          ],
          "histogram2d": [
           {
            "colorbar": {
             "outlinewidth": 0,
             "ticks": ""
            },
            "colorscale": [
             [
              0,
              "#0d0887"
             ],
             [
              0.1111111111111111,
              "#46039f"
             ],
             [
              0.2222222222222222,
              "#7201a8"
             ],
             [
              0.3333333333333333,
              "#9c179e"
             ],
             [
              0.4444444444444444,
              "#bd3786"
             ],
             [
              0.5555555555555556,
              "#d8576b"
             ],
             [
              0.6666666666666666,
              "#ed7953"
             ],
             [
              0.7777777777777778,
              "#fb9f3a"
             ],
             [
              0.8888888888888888,
              "#fdca26"
             ],
             [
              1,
              "#f0f921"
             ]
            ],
            "type": "histogram2d"
           }
          ],
          "histogram2dcontour": [
           {
            "colorbar": {
             "outlinewidth": 0,
             "ticks": ""
            },
            "colorscale": [
             [
              0,
              "#0d0887"
             ],
             [
              0.1111111111111111,
              "#46039f"
             ],
             [
              0.2222222222222222,
              "#7201a8"
             ],
             [
              0.3333333333333333,
              "#9c179e"
             ],
             [
              0.4444444444444444,
              "#bd3786"
             ],
             [
              0.5555555555555556,
              "#d8576b"
             ],
             [
              0.6666666666666666,
              "#ed7953"
             ],
             [
              0.7777777777777778,
              "#fb9f3a"
             ],
             [
              0.8888888888888888,
              "#fdca26"
             ],
             [
              1,
              "#f0f921"
             ]
            ],
            "type": "histogram2dcontour"
           }
          ],
          "mesh3d": [
           {
            "colorbar": {
             "outlinewidth": 0,
             "ticks": ""
            },
            "type": "mesh3d"
           }
          ],
          "parcoords": [
           {
            "line": {
             "colorbar": {
              "outlinewidth": 0,
              "ticks": ""
             }
            },
            "type": "parcoords"
           }
          ],
          "pie": [
           {
            "automargin": true,
            "type": "pie"
           }
          ],
          "scatter": [
           {
            "marker": {
             "colorbar": {
              "outlinewidth": 0,
              "ticks": ""
             }
            },
            "type": "scatter"
           }
          ],
          "scatter3d": [
           {
            "line": {
             "colorbar": {
              "outlinewidth": 0,
              "ticks": ""
             }
            },
            "marker": {
             "colorbar": {
              "outlinewidth": 0,
              "ticks": ""
             }
            },
            "type": "scatter3d"
           }
          ],
          "scattercarpet": [
           {
            "marker": {
             "colorbar": {
              "outlinewidth": 0,
              "ticks": ""
             }
            },
            "type": "scattercarpet"
           }
          ],
          "scattergeo": [
           {
            "marker": {
             "colorbar": {
              "outlinewidth": 0,
              "ticks": ""
             }
            },
            "type": "scattergeo"
           }
          ],
          "scattergl": [
           {
            "marker": {
             "colorbar": {
              "outlinewidth": 0,
              "ticks": ""
             }
            },
            "type": "scattergl"
           }
          ],
          "scattermapbox": [
           {
            "marker": {
             "colorbar": {
              "outlinewidth": 0,
              "ticks": ""
             }
            },
            "type": "scattermapbox"
           }
          ],
          "scatterpolar": [
           {
            "marker": {
             "colorbar": {
              "outlinewidth": 0,
              "ticks": ""
             }
            },
            "type": "scatterpolar"
           }
          ],
          "scatterpolargl": [
           {
            "marker": {
             "colorbar": {
              "outlinewidth": 0,
              "ticks": ""
             }
            },
            "type": "scatterpolargl"
           }
          ],
          "scatterternary": [
           {
            "marker": {
             "colorbar": {
              "outlinewidth": 0,
              "ticks": ""
             }
            },
            "type": "scatterternary"
           }
          ],
          "surface": [
           {
            "colorbar": {
             "outlinewidth": 0,
             "ticks": ""
            },
            "colorscale": [
             [
              0,
              "#0d0887"
             ],
             [
              0.1111111111111111,
              "#46039f"
             ],
             [
              0.2222222222222222,
              "#7201a8"
             ],
             [
              0.3333333333333333,
              "#9c179e"
             ],
             [
              0.4444444444444444,
              "#bd3786"
             ],
             [
              0.5555555555555556,
              "#d8576b"
             ],
             [
              0.6666666666666666,
              "#ed7953"
             ],
             [
              0.7777777777777778,
              "#fb9f3a"
             ],
             [
              0.8888888888888888,
              "#fdca26"
             ],
             [
              1,
              "#f0f921"
             ]
            ],
            "type": "surface"
           }
          ],
          "table": [
           {
            "cells": {
             "fill": {
              "color": "#EBF0F8"
             },
             "line": {
              "color": "white"
             }
            },
            "header": {
             "fill": {
              "color": "#C8D4E3"
             },
             "line": {
              "color": "white"
             }
            },
            "type": "table"
           }
          ]
         },
         "layout": {
          "annotationdefaults": {
           "arrowcolor": "#2a3f5f",
           "arrowhead": 0,
           "arrowwidth": 1
          },
          "coloraxis": {
           "colorbar": {
            "outlinewidth": 0,
            "ticks": ""
           }
          },
          "colorscale": {
           "diverging": [
            [
             0,
             "#8e0152"
            ],
            [
             0.1,
             "#c51b7d"
            ],
            [
             0.2,
             "#de77ae"
            ],
            [
             0.3,
             "#f1b6da"
            ],
            [
             0.4,
             "#fde0ef"
            ],
            [
             0.5,
             "#f7f7f7"
            ],
            [
             0.6,
             "#e6f5d0"
            ],
            [
             0.7,
             "#b8e186"
            ],
            [
             0.8,
             "#7fbc41"
            ],
            [
             0.9,
             "#4d9221"
            ],
            [
             1,
             "#276419"
            ]
           ],
           "sequential": [
            [
             0,
             "#0d0887"
            ],
            [
             0.1111111111111111,
             "#46039f"
            ],
            [
             0.2222222222222222,
             "#7201a8"
            ],
            [
             0.3333333333333333,
             "#9c179e"
            ],
            [
             0.4444444444444444,
             "#bd3786"
            ],
            [
             0.5555555555555556,
             "#d8576b"
            ],
            [
             0.6666666666666666,
             "#ed7953"
            ],
            [
             0.7777777777777778,
             "#fb9f3a"
            ],
            [
             0.8888888888888888,
             "#fdca26"
            ],
            [
             1,
             "#f0f921"
            ]
           ],
           "sequentialminus": [
            [
             0,
             "#0d0887"
            ],
            [
             0.1111111111111111,
             "#46039f"
            ],
            [
             0.2222222222222222,
             "#7201a8"
            ],
            [
             0.3333333333333333,
             "#9c179e"
            ],
            [
             0.4444444444444444,
             "#bd3786"
            ],
            [
             0.5555555555555556,
             "#d8576b"
            ],
            [
             0.6666666666666666,
             "#ed7953"
            ],
            [
             0.7777777777777778,
             "#fb9f3a"
            ],
            [
             0.8888888888888888,
             "#fdca26"
            ],
            [
             1,
             "#f0f921"
            ]
           ]
          },
          "colorway": [
           "#636efa",
           "#EF553B",
           "#00cc96",
           "#ab63fa",
           "#FFA15A",
           "#19d3f3",
           "#FF6692",
           "#B6E880",
           "#FF97FF",
           "#FECB52"
          ],
          "font": {
           "color": "#2a3f5f"
          },
          "geo": {
           "bgcolor": "white",
           "lakecolor": "white",
           "landcolor": "#E5ECF6",
           "showlakes": true,
           "showland": true,
           "subunitcolor": "white"
          },
          "hoverlabel": {
           "align": "left"
          },
          "hovermode": "closest",
          "mapbox": {
           "style": "light"
          },
          "paper_bgcolor": "white",
          "plot_bgcolor": "#E5ECF6",
          "polar": {
           "angularaxis": {
            "gridcolor": "white",
            "linecolor": "white",
            "ticks": ""
           },
           "bgcolor": "#E5ECF6",
           "radialaxis": {
            "gridcolor": "white",
            "linecolor": "white",
            "ticks": ""
           }
          },
          "scene": {
           "xaxis": {
            "backgroundcolor": "#E5ECF6",
            "gridcolor": "white",
            "gridwidth": 2,
            "linecolor": "white",
            "showbackground": true,
            "ticks": "",
            "zerolinecolor": "white"
           },
           "yaxis": {
            "backgroundcolor": "#E5ECF6",
            "gridcolor": "white",
            "gridwidth": 2,
            "linecolor": "white",
            "showbackground": true,
            "ticks": "",
            "zerolinecolor": "white"
           },
           "zaxis": {
            "backgroundcolor": "#E5ECF6",
            "gridcolor": "white",
            "gridwidth": 2,
            "linecolor": "white",
            "showbackground": true,
            "ticks": "",
            "zerolinecolor": "white"
           }
          },
          "shapedefaults": {
           "line": {
            "color": "#2a3f5f"
           }
          },
          "ternary": {
           "aaxis": {
            "gridcolor": "white",
            "linecolor": "white",
            "ticks": ""
           },
           "baxis": {
            "gridcolor": "white",
            "linecolor": "white",
            "ticks": ""
           },
           "bgcolor": "#E5ECF6",
           "caxis": {
            "gridcolor": "white",
            "linecolor": "white",
            "ticks": ""
           }
          },
          "title": {
           "x": 0.05
          },
          "xaxis": {
           "automargin": true,
           "gridcolor": "white",
           "linecolor": "white",
           "ticks": "",
           "title": {
            "standoff": 15
           },
           "zerolinecolor": "white",
           "zerolinewidth": 2
          },
          "yaxis": {
           "automargin": true,
           "gridcolor": "white",
           "linecolor": "white",
           "ticks": "",
           "title": {
            "standoff": 15
           },
           "zerolinecolor": "white",
           "zerolinewidth": 2
          }
         }
        },
        "yaxis": {
         "title": {
          "text": "absences"
         }
        }
       }
      },
      "text/html": [
       "<div>\n",
       "        \n",
       "        \n",
       "            <div id=\"c41d4ca3-ef09-47b8-bded-7cf697db4e71\" class=\"plotly-graph-div\" style=\"height:525px; width:100%;\"></div>\n",
       "            <script type=\"text/javascript\">\n",
       "                require([\"plotly\"], function(Plotly) {\n",
       "                    window.PLOTLYENV=window.PLOTLYENV || {};\n",
       "                    \n",
       "                if (document.getElementById(\"c41d4ca3-ef09-47b8-bded-7cf697db4e71\")) {\n",
       "                    Plotly.newPlot(\n",
       "                        'c41d4ca3-ef09-47b8-bded-7cf697db4e71',\n",
       "                        [{\"name\": \"Passed\", \"type\": \"box\", \"y\": [10, 2, 4, 10, 0, 0, 0, 4, 2, 2, 0, 4, 6, 4, 4, 0, 0, 2, 0, 2, 4, 4, 16, 0, 0, 0, 0, 0, 2, 7, 2, 8, 25, 8, 2, 0, 12, 4, 2, 2, 2, 6, 0, 6, 8, 0, 4, 2, 6, 6, 0, 2, 4, 12, 0, 0, 2, 54, 6, 8, 0, 2, 2, 4, 4, 2, 4, 12, 4, 0, 6, 2, 2, 2, 6, 0, 4, 0, 10, 2, 6, 4, 6, 0, 6, 10, 2, 2, 0, 6, 2, 6, 2, 18, 0, 0, 8, 12, 16, 0, 0, 2, 2, 0, 2, 0, 6, 8, 0, 8, 6, 2, 4, 2, 16, 4, 0, 0, 2, 0, 2, 4, 2, 0, 14, 12, 2, 0, 4, 10, 8, 0, 0, 4, 8, 24, 0, 2, 6, 4, 6, 10, 6, 13, 0, 12, 2, 4, 2, 0, 0, 10, 2, 10, 14, 4, 2, 10, 4, 20, 2, 14, 2, 0, 6, 4, 0, 6, 0, 6, 12, 8, 21, 1, 13, 2, 8, 10, 4, 2, 2, 2, 6, 8, 19, 1, 4, 4, 2, 5, 6, 6, 9, 11, 0, 12, 6, 8, 4, 0, 5, 14, 0, 0, 0, 20, 8, 0, 0, 18, 20, 3, 22, 14, 40, 0, 2, 23, 3, 1, 0, 3, 3, 8, 4, 7, 16, 12, 7, 4, 4, 11, 4, 7, 9, 0, 10, 2, 4, 4, 2, 4, 0, 0, 2, 0, 0, 0, 4, 0, 0, 10, 3, 8, 0, 2, 4, 4, 0, 17, 4, 2, 2, 3, 0, 4, 2, 6, 0, 0, 6, 0, 2, 0, 0, 2, 0, 0, 0, 0, 6, 10, 2, 6, 0, 0, 0, 2, 2, 6, 8, 0, 2, 4, 0, 2, 0, 0, 4, 4, 0, 4, 2, 8, 16, 8, 0, 0, 14, 4, 6, 2, 4, 2, 0, 0, 0, 0, 2, 0, 8, 0, 2, 0, 0, 0, 0, 0, 2, 0, 0, 0, 6, 2, 0, 2, 0, 4, 0, 0, 1, 0, 14, 0, 4, 2, 2, 4, 6, 4, 6, 6, 2, 6, 0, 2, 2, 4, 6, 0, 4, 2, 0, 2, 16, 0, 10, 4, 4, 8, 2, 4, 4, 12, 10, 4, 6, 4, 6, 14, 2, 0, 6, 2, 4, 0, 0, 0, 8, 4, 0, 8, 6, 2, 12, 4, 12, 2, 4, 2, 0, 2, 10, 8, 4, 0, 6, 6, 0, 4, 2, 4, 0, 0, 2, 6, 6, 0, 6, 2, 6, 0, 14, 6, 4, 0, 2, 0, 0, 0, 0, 4, 0, 0, 0, 0, 0, 0, 4, 8, 4, 4, 0, 0, 32, 8, 6, 0, 0, 10, 6, 6, 0, 16, 0, 0, 8, 4, 16, 30, 0, 2, 4, 0, 21, 6, 2, 4, 2, 0, 4, 15, 0, 10, 6, 2, 16, 10, 4, 0, 0, 12, 0, 9, 4, 2, 0, 2, 0, 0, 0, 0, 0, 0, 0, 4, 0, 18, 16, 4, 10, 4, 2, 8, 4, 4, 8, 0, 7, 4, 2, 2, 10, 10, 10, 7, 4, 2, 8, 0, 4, 2, 0, 0, 2, 2, 0, 4, 2, 4, 4, 4, 2, 0, 2, 8, 2, 2, 2, 2, 0, 6, 0, 8, 4, 12, 16, 10, 2, 2, 8, 6, 6, 15, 6, 2, 8, 0, 0, 10, 22, 18, 2, 0, 12, 10, 0, 0, 0, 0, 0, 2, 0, 0, 0, 0, 2, 0, 0, 0, 0, 0, 0, 0, 0, 0, 0, 2, 2, 2, 2, 2, 8, 2, 8, 9, 0, 4, 2, 14, 0, 2, 2, 12, 2, 4, 0, 0, 0, 0, 0, 0, 2, 0, 4, 2, 0, 0, 2, 0, 6, 8, 0, 6, 8, 0, 4, 0, 0, 6, 18, 0, 4, 4, 0, 0, 10, 4, 16, 6, 0, 11, 9, 0, 2, 0, 21, 8, 5, 10, 5, 13, 10, 10, 5, 4, 11, 0, 6, 4, 0, 5, 0, 0, 0, 4, 0, 0, 2, 0, 0, 4, 0, 6, 3, 2, 0, 4, 0, 4, 0, 2, 1, 0, 0, 2, 6, 0, 1, 1, 0, 4, 2, 0, 4, 2, 0, 11, 4, 0, 2, 1, 0, 1, 6, 0, 4, 2, 5, 0, 2, 0, 0, 0, 8, 0, 0, 0, 8, 0, 0, 0, 1, 8, 0, 0, 0, 0, 1, 0, 1, 0, 0, 0, 11, 8, 11, 2, 8, 5, 0, 1, 2, 0, 0, 2, 0, 0, 0, 2, 4, 3, 5, 4, 2, 0, 0, 0, 6, 0, 2, 9, 12, 8, 8, 8, 4, 4, 0, 0, 2, 0, 0, 0, 3, 0, 8, 5, 4, 4, 0, 2, 0, 5, 2, 0, 5, 4, 0, 2, 0, 2, 0, 0, 6, 4, 0, 0, 0, 3, 8, 0, 4, 1, 1, 4, 4, 0, 0, 4, 4, 4, 6, 4]}, {\"name\": \"Failed\", \"type\": \"box\", \"y\": [6, 4, 6, 0, 16, 2, 14, 0, 14, 8, 2, 2, 4, 2, 4, 2, 2, 12, 10, 6, 4, 18, 0, 4, 0, 14, 26, 8, 8, 20, 0, 2, 0, 0, 0, 0, 0, 0, 0, 0, 8, 0, 0, 0, 0, 0, 2, 0, 6, 0, 0, 0, 0, 0, 4, 4, 4, 10, 10, 56, 6, 0, 12, 18, 28, 5, 6, 10, 15, 22, 13, 3, 2, 0, 16, 14, 14, 18, 0, 0, 0, 16, 8, 0, 4, 0, 2, 0, 2, 4, 0, 0, 15, 75, 22, 15, 30, 0, 10, 38, 0, 0, 9, 12, 7, 2, 0, 0, 0, 0, 0, 0, 0, 8, 7, 4, 0, 0, 4, 14, 5, 0, 14, 7, 0, 0, 0, 11, 3, 5, 2, 4, 2, 12, 2, 10, 2, 24, 22, 16, 0, 0, 0, 8, 4, 2, 0, 10, 14, 4, 2, 14, 26, 6, 14, 16, 12, 8, 4, 8, 0, 2, 0, 0, 4, 0, 4, 7, 8, 8, 0, 3, 0, 9, 2, 0, 0, 6, 6, 12, 0, 12, 2, 0, 9, 0, 2, 8, 0, 6, 4, 2, 2, 5, 8, 2, 2, 8, 0, 0, 2, 0, 4, 9, 6, 4, 8, 0, 2, 0, 0, 5, 0, 3, 0, 3, 0, 0, 0, 0, 0, 0, 0, 4, 4, 10, 0, 0, 0, 6]}],\n",
       "                        {\"template\": {\"data\": {\"bar\": [{\"error_x\": {\"color\": \"#2a3f5f\"}, \"error_y\": {\"color\": \"#2a3f5f\"}, \"marker\": {\"line\": {\"color\": \"#E5ECF6\", \"width\": 0.5}}, \"type\": \"bar\"}], \"barpolar\": [{\"marker\": {\"line\": {\"color\": \"#E5ECF6\", \"width\": 0.5}}, \"type\": \"barpolar\"}], \"carpet\": [{\"aaxis\": {\"endlinecolor\": \"#2a3f5f\", \"gridcolor\": \"white\", \"linecolor\": \"white\", \"minorgridcolor\": \"white\", \"startlinecolor\": \"#2a3f5f\"}, \"baxis\": {\"endlinecolor\": \"#2a3f5f\", \"gridcolor\": \"white\", \"linecolor\": \"white\", \"minorgridcolor\": \"white\", \"startlinecolor\": \"#2a3f5f\"}, \"type\": \"carpet\"}], \"choropleth\": [{\"colorbar\": {\"outlinewidth\": 0, \"ticks\": \"\"}, \"type\": \"choropleth\"}], \"contour\": [{\"colorbar\": {\"outlinewidth\": 0, \"ticks\": \"\"}, \"colorscale\": [[0.0, \"#0d0887\"], [0.1111111111111111, \"#46039f\"], [0.2222222222222222, \"#7201a8\"], [0.3333333333333333, \"#9c179e\"], [0.4444444444444444, \"#bd3786\"], [0.5555555555555556, \"#d8576b\"], [0.6666666666666666, \"#ed7953\"], [0.7777777777777778, \"#fb9f3a\"], [0.8888888888888888, \"#fdca26\"], [1.0, \"#f0f921\"]], \"type\": \"contour\"}], \"contourcarpet\": [{\"colorbar\": {\"outlinewidth\": 0, \"ticks\": \"\"}, \"type\": \"contourcarpet\"}], \"heatmap\": [{\"colorbar\": {\"outlinewidth\": 0, \"ticks\": \"\"}, \"colorscale\": [[0.0, \"#0d0887\"], [0.1111111111111111, \"#46039f\"], [0.2222222222222222, \"#7201a8\"], [0.3333333333333333, \"#9c179e\"], [0.4444444444444444, \"#bd3786\"], [0.5555555555555556, \"#d8576b\"], [0.6666666666666666, \"#ed7953\"], [0.7777777777777778, \"#fb9f3a\"], [0.8888888888888888, \"#fdca26\"], [1.0, \"#f0f921\"]], \"type\": \"heatmap\"}], \"heatmapgl\": [{\"colorbar\": {\"outlinewidth\": 0, \"ticks\": \"\"}, \"colorscale\": [[0.0, \"#0d0887\"], [0.1111111111111111, \"#46039f\"], [0.2222222222222222, \"#7201a8\"], [0.3333333333333333, \"#9c179e\"], [0.4444444444444444, \"#bd3786\"], [0.5555555555555556, \"#d8576b\"], [0.6666666666666666, \"#ed7953\"], [0.7777777777777778, \"#fb9f3a\"], [0.8888888888888888, \"#fdca26\"], [1.0, \"#f0f921\"]], \"type\": \"heatmapgl\"}], \"histogram\": [{\"marker\": {\"colorbar\": {\"outlinewidth\": 0, \"ticks\": \"\"}}, \"type\": \"histogram\"}], \"histogram2d\": [{\"colorbar\": {\"outlinewidth\": 0, \"ticks\": \"\"}, \"colorscale\": [[0.0, \"#0d0887\"], [0.1111111111111111, \"#46039f\"], [0.2222222222222222, \"#7201a8\"], [0.3333333333333333, \"#9c179e\"], [0.4444444444444444, \"#bd3786\"], [0.5555555555555556, \"#d8576b\"], [0.6666666666666666, \"#ed7953\"], [0.7777777777777778, \"#fb9f3a\"], [0.8888888888888888, \"#fdca26\"], [1.0, \"#f0f921\"]], \"type\": \"histogram2d\"}], \"histogram2dcontour\": [{\"colorbar\": {\"outlinewidth\": 0, \"ticks\": \"\"}, \"colorscale\": [[0.0, \"#0d0887\"], [0.1111111111111111, \"#46039f\"], [0.2222222222222222, \"#7201a8\"], [0.3333333333333333, \"#9c179e\"], [0.4444444444444444, \"#bd3786\"], [0.5555555555555556, \"#d8576b\"], [0.6666666666666666, \"#ed7953\"], [0.7777777777777778, \"#fb9f3a\"], [0.8888888888888888, \"#fdca26\"], [1.0, \"#f0f921\"]], \"type\": \"histogram2dcontour\"}], \"mesh3d\": [{\"colorbar\": {\"outlinewidth\": 0, \"ticks\": \"\"}, \"type\": \"mesh3d\"}], \"parcoords\": [{\"line\": {\"colorbar\": {\"outlinewidth\": 0, \"ticks\": \"\"}}, \"type\": \"parcoords\"}], \"pie\": [{\"automargin\": true, \"type\": \"pie\"}], \"scatter\": [{\"marker\": {\"colorbar\": {\"outlinewidth\": 0, \"ticks\": \"\"}}, \"type\": \"scatter\"}], \"scatter3d\": [{\"line\": {\"colorbar\": {\"outlinewidth\": 0, \"ticks\": \"\"}}, \"marker\": {\"colorbar\": {\"outlinewidth\": 0, \"ticks\": \"\"}}, \"type\": \"scatter3d\"}], \"scattercarpet\": [{\"marker\": {\"colorbar\": {\"outlinewidth\": 0, \"ticks\": \"\"}}, \"type\": \"scattercarpet\"}], \"scattergeo\": [{\"marker\": {\"colorbar\": {\"outlinewidth\": 0, \"ticks\": \"\"}}, \"type\": \"scattergeo\"}], \"scattergl\": [{\"marker\": {\"colorbar\": {\"outlinewidth\": 0, \"ticks\": \"\"}}, \"type\": \"scattergl\"}], \"scattermapbox\": [{\"marker\": {\"colorbar\": {\"outlinewidth\": 0, \"ticks\": \"\"}}, \"type\": \"scattermapbox\"}], \"scatterpolar\": [{\"marker\": {\"colorbar\": {\"outlinewidth\": 0, \"ticks\": \"\"}}, \"type\": \"scatterpolar\"}], \"scatterpolargl\": [{\"marker\": {\"colorbar\": {\"outlinewidth\": 0, \"ticks\": \"\"}}, \"type\": \"scatterpolargl\"}], \"scatterternary\": [{\"marker\": {\"colorbar\": {\"outlinewidth\": 0, \"ticks\": \"\"}}, \"type\": \"scatterternary\"}], \"surface\": [{\"colorbar\": {\"outlinewidth\": 0, \"ticks\": \"\"}, \"colorscale\": [[0.0, \"#0d0887\"], [0.1111111111111111, \"#46039f\"], [0.2222222222222222, \"#7201a8\"], [0.3333333333333333, \"#9c179e\"], [0.4444444444444444, \"#bd3786\"], [0.5555555555555556, \"#d8576b\"], [0.6666666666666666, \"#ed7953\"], [0.7777777777777778, \"#fb9f3a\"], [0.8888888888888888, \"#fdca26\"], [1.0, \"#f0f921\"]], \"type\": \"surface\"}], \"table\": [{\"cells\": {\"fill\": {\"color\": \"#EBF0F8\"}, \"line\": {\"color\": \"white\"}}, \"header\": {\"fill\": {\"color\": \"#C8D4E3\"}, \"line\": {\"color\": \"white\"}}, \"type\": \"table\"}]}, \"layout\": {\"annotationdefaults\": {\"arrowcolor\": \"#2a3f5f\", \"arrowhead\": 0, \"arrowwidth\": 1}, \"coloraxis\": {\"colorbar\": {\"outlinewidth\": 0, \"ticks\": \"\"}}, \"colorscale\": {\"diverging\": [[0, \"#8e0152\"], [0.1, \"#c51b7d\"], [0.2, \"#de77ae\"], [0.3, \"#f1b6da\"], [0.4, \"#fde0ef\"], [0.5, \"#f7f7f7\"], [0.6, \"#e6f5d0\"], [0.7, \"#b8e186\"], [0.8, \"#7fbc41\"], [0.9, \"#4d9221\"], [1, \"#276419\"]], \"sequential\": [[0.0, \"#0d0887\"], [0.1111111111111111, \"#46039f\"], [0.2222222222222222, \"#7201a8\"], [0.3333333333333333, \"#9c179e\"], [0.4444444444444444, \"#bd3786\"], [0.5555555555555556, \"#d8576b\"], [0.6666666666666666, \"#ed7953\"], [0.7777777777777778, \"#fb9f3a\"], [0.8888888888888888, \"#fdca26\"], [1.0, \"#f0f921\"]], \"sequentialminus\": [[0.0, \"#0d0887\"], [0.1111111111111111, \"#46039f\"], [0.2222222222222222, \"#7201a8\"], [0.3333333333333333, \"#9c179e\"], [0.4444444444444444, \"#bd3786\"], [0.5555555555555556, \"#d8576b\"], [0.6666666666666666, \"#ed7953\"], [0.7777777777777778, \"#fb9f3a\"], [0.8888888888888888, \"#fdca26\"], [1.0, \"#f0f921\"]]}, \"colorway\": [\"#636efa\", \"#EF553B\", \"#00cc96\", \"#ab63fa\", \"#FFA15A\", \"#19d3f3\", \"#FF6692\", \"#B6E880\", \"#FF97FF\", \"#FECB52\"], \"font\": {\"color\": \"#2a3f5f\"}, \"geo\": {\"bgcolor\": \"white\", \"lakecolor\": \"white\", \"landcolor\": \"#E5ECF6\", \"showlakes\": true, \"showland\": true, \"subunitcolor\": \"white\"}, \"hoverlabel\": {\"align\": \"left\"}, \"hovermode\": \"closest\", \"mapbox\": {\"style\": \"light\"}, \"paper_bgcolor\": \"white\", \"plot_bgcolor\": \"#E5ECF6\", \"polar\": {\"angularaxis\": {\"gridcolor\": \"white\", \"linecolor\": \"white\", \"ticks\": \"\"}, \"bgcolor\": \"#E5ECF6\", \"radialaxis\": {\"gridcolor\": \"white\", \"linecolor\": \"white\", \"ticks\": \"\"}}, \"scene\": {\"xaxis\": {\"backgroundcolor\": \"#E5ECF6\", \"gridcolor\": \"white\", \"gridwidth\": 2, \"linecolor\": \"white\", \"showbackground\": true, \"ticks\": \"\", \"zerolinecolor\": \"white\"}, \"yaxis\": {\"backgroundcolor\": \"#E5ECF6\", \"gridcolor\": \"white\", \"gridwidth\": 2, \"linecolor\": \"white\", \"showbackground\": true, \"ticks\": \"\", \"zerolinecolor\": \"white\"}, \"zaxis\": {\"backgroundcolor\": \"#E5ECF6\", \"gridcolor\": \"white\", \"gridwidth\": 2, \"linecolor\": \"white\", \"showbackground\": true, \"ticks\": \"\", \"zerolinecolor\": \"white\"}}, \"shapedefaults\": {\"line\": {\"color\": \"#2a3f5f\"}}, \"ternary\": {\"aaxis\": {\"gridcolor\": \"white\", \"linecolor\": \"white\", \"ticks\": \"\"}, \"baxis\": {\"gridcolor\": \"white\", \"linecolor\": \"white\", \"ticks\": \"\"}, \"bgcolor\": \"#E5ECF6\", \"caxis\": {\"gridcolor\": \"white\", \"linecolor\": \"white\", \"ticks\": \"\"}}, \"title\": {\"x\": 0.05}, \"xaxis\": {\"automargin\": true, \"gridcolor\": \"white\", \"linecolor\": \"white\", \"ticks\": \"\", \"title\": {\"standoff\": 15}, \"zerolinecolor\": \"white\", \"zerolinewidth\": 2}, \"yaxis\": {\"automargin\": true, \"gridcolor\": \"white\", \"linecolor\": \"white\", \"ticks\": \"\", \"title\": {\"standoff\": 15}, \"zerolinecolor\": \"white\", \"zerolinewidth\": 2}}}, \"yaxis\": {\"title\": {\"text\": \"absences\"}}},\n",
       "                        {\"responsive\": true}\n",
       "                    ).then(function(){\n",
       "                            \n",
       "var gd = document.getElementById('c41d4ca3-ef09-47b8-bded-7cf697db4e71');\n",
       "var x = new MutationObserver(function (mutations, observer) {{\n",
       "        var display = window.getComputedStyle(gd).display;\n",
       "        if (!display || display === 'none') {{\n",
       "            console.log([gd, 'removed!']);\n",
       "            Plotly.purge(gd);\n",
       "            observer.disconnect();\n",
       "        }}\n",
       "}});\n",
       "\n",
       "// Listen for the removal of the full notebook cells\n",
       "var notebookContainer = gd.closest('#notebook-container');\n",
       "if (notebookContainer) {{\n",
       "    x.observe(notebookContainer, {childList: true});\n",
       "}}\n",
       "\n",
       "// Listen for the clearing of the current output cell\n",
       "var outputEl = gd.closest('.output');\n",
       "if (outputEl) {{\n",
       "    x.observe(outputEl, {childList: true});\n",
       "}}\n",
       "\n",
       "                        })\n",
       "                };\n",
       "                });\n",
       "            </script>\n",
       "        </div>"
      ]
     },
     "metadata": {},
     "output_type": "display_data"
    }
   ],
   "source": [
    "failuresPass = []\n",
    "failuresFail = []\n",
    "\n",
    "for x,y in finalData.loc[:, ['absences','G3']].values:\n",
    "    if(y>0):\n",
    "        failuresPass.append(x)\n",
    "    else:\n",
    "        failuresFail.append(x)\n",
    "\n",
    "fig = go.Figure()\n",
    "fig.add_trace(go.Box(y=failuresPass, name= 'Passed'))\n",
    "fig.add_trace(go.Box(y=failuresFail, name= 'Failed'))\n",
    "\n",
    "fig.update_layout(\n",
    "    yaxis_title = 'absences'\n",
    ")\n",
    "fig.show()"
   ]
  },
  {
   "cell_type": "markdown",
   "metadata": {},
   "source": [
    "### Results Evaluation\n",
    "\n",
    "Under each classifier will be printed, in addition to the best accuracy obtained on the validation set from the gridsearch, a confusion matrix and a table with different values, both obtained by using a test set, that is the 20% of the original dataset.\n",
    "\n",
    "The confusion matrix doesn't do other than to highlight in a clear and direct way that trend have had the predictions in relation to the class to which the points belonged. The four quadrants obtained represent:\n",
    "\n",
    "|   |      1        |  0             |\n",
    "|---|:-------------:|---------------:|\n",
    "| 1 |  True Positive| False Negative |\n",
    "| 0 |False Positive |   True negative|\n",
    "\n",
    "The rows represent the real label to assign to the sample, while the columns represent the predicted ones, so \n",
    "+ *True Poisitive* or **TP** -> true label 1 predicted 1\n",
    "+ *True Negative* or **TN** -> true label 0 predicted 0\n",
    "+ *False Positive* or **FP** -> true label 0 predicted 1\n",
    "+ *False Negative* or **FN** -> true label 1 predicted 0\n",
    "\n",
    "This representation allows us to understand at a glance how the results are distributed in an intuitive way and therefore, for example, to see if the classifier behaves in a particular way on a specific label, which could distort the results.\n",
    "\n",
    "Precisely to avoid problems of this kind, the following table has been introduced, which shows further measures of accuracy for the classifiers:\n",
    "+ **Accuracy**, obviously it is the most intuitive one, but it can't be the only one used, this because in case of unbalance of the dataset it could cover possible misbehavior of the classifier. For example in our case the samples with label 1 are much more numerous, this creates problems because with the accuracy you reward a classifier that tends to predict label 1 most of times.\n",
    "\n",
    "$$Accuracy = \\frac{TP + TN}{TP + TN + FP + FN}$$\n",
    "\n",
    "\n",
    "+ **Precision** represents the number of samples that are really positive compared to those predicted as positive, so it allows us to understand in case you assign label 1 how many samples actually belong to that class.\n",
    "\n",
    "$$Precision = \\frac{TP}{TP + FP}$$\n",
    "\n",
    "\n",
    "+ **Recall** shows us of all the samples really belonging to class 1, how many in percentage we have assigned the correct label. It allows us to understand how well we can identify a given class.\n",
    "\n",
    "$$Recall = \\frac{TP} {TP + FN}$$\n",
    "\n",
    "\n",
    "+ **F1-score** is an alternative way to calculate the accuracy of a model, particularly useful when we are in the presence of unbalanced datasets or when the weight of false positives and false negatives is not the same, this measure takes into account precision and recall.\n",
    "\n",
    "$$ F1-score = = \\frac{2*(Recall * Precision)}{Recall + Precision}$$\n",
    "\n",
    "\n",
    "All these measurements will be reported in the table provided by sklearn, *classification_report*, and interpreted to have a better understanding of the results than just the accuracy of the model, because as we have already repeated, it may not adequately photograph its effectiveness on a differently distributed dataset.\n",
    "\n",
    "\n",
    "Let's start.\n",
    "\n",
    "\n"
   ]
  },
  {
   "cell_type": "markdown",
   "metadata": {},
   "source": [
    "## Logistic Regression\n",
    "\n",
    "When we are in the presence of a binary classification an easily usable classification model is the *Logistic Regression*, which does not directly model the Y answer, but the probability that the Y answer belongs to a certain category, in our case $Y=1. To achieve this and create the model, we therefore use the *logistic function* :\n",
    "\n",
    "\n",
    "$$P(x)= \\frac{\\text{exp}(\\boldsymbol{\\beta_{0}} + \\boldsymbol{\\beta^T}x)}{1+\\text{exp}(\\boldsymbol{\\beta_{0}} +\\boldsymbol{\\beta^T}x)}$$\n",
    "\n",
    "\n",
    "Obviously $X$ always represents the set of features and $\\beta^T$ the coefficients or parameters of the model. To fit the Logistic Regression and then to proceed to the estimation of the coefficients we use a method called maximum likelihood, that aims to maximize the likelihood functions.\n",
    "\n",
    "\n",
    "$$l(\\beta) = \\prod_{i:y_i=1}p(x_i) \\prod_{i':y_i'= 0}(1 - p(x_i')) $$\n",
    "\n",
    "\n",
    "\n",
    "The classifier was used by tuning some parameters to try to get better results through the use of a gridsearch, these parameters are:\n",
    "\n",
    "+ **C** : default=1.0\n",
    "        Inverse of regularization strength, smaller values specify stronger regularization. \n",
    "        value = (0.1 , 1 , 10)\n",
    "+ **penalty** : default= 'l2'\n",
    "        Used to specify the norm used in the penalization. \n",
    "        value = ('l1' , 'l2')\n",
    "+ **class_weight** : default= None\n",
    "        If None, all classes are supposed to have weight one. If 'balanced' adjust weights inversely proportional to class             frequencies in the input data.\n",
    "        value = ('balanced', None)\n",
    "\n",
    "Finally I use *liblinear* as a **solver** because it perform very well with small dataset.\n",
    "\n",
    "\n"
   ]
  },
  {
   "cell_type": "code",
   "execution_count": 17,
   "metadata": {
    "scrolled": false
   },
   "outputs": [
    {
     "name": "stdout",
     "output_type": "stream",
     "text": [
      "Best accuracy score obtained with cross-validation is: 0.8144  +/- 0.0563  obtained with params: {'C': 0.1, 'class_weight': None, 'penalty': 'l2'}\n",
      "\n",
      "              precision    recall  f1-score   support\n",
      "\n",
      "           0       0.59      0.19      0.28        54\n",
      "           1       0.77      0.95      0.85       155\n",
      "\n",
      "    accuracy                           0.76       209\n",
      "   macro avg       0.68      0.57      0.57       209\n",
      "weighted avg       0.72      0.76      0.71       209\n",
      "\n"
     ]
    },
    {
     "data": {
      "image/png": "[encoded data removed]",
      "text/plain": [
       "<Figure size 432x288 with 2 Axes>"
      ]
     },
     "metadata": {
      "needs_background": "light"
     },
     "output_type": "display_data"
    }
   ],
   "source": [
    "\n",
    "def LogReg(data, label):\n",
    "    \n",
    "    y_data = data.loc[:,['G3']]\n",
    "    x_data = data.loc[:, data.columns != 'G3']\n",
    "    \n",
    "    \n",
    "    #stampa alcune statistiche, le features create tramite dummy non si comportano in maniera corretta\n",
    "    #logit_model=sm.Logit(y_data,x_data)\n",
    "    #result=logit_model.fit()\n",
    "    #print(result.summary2())\n",
    "    \n",
    "    x_train, x_test, y_train, y_test = train_test_split(x_data, y_data, test_size=0.2, random_state=41)\n",
    "\n",
    "    logreg = LogisticRegression(max_iter = 500, solver='liblinear')\n",
    "    \n",
    "    parameters = {'penalty':('l1', 'l2'), 'C':[ 0.1, 1, 10], 'class_weight':(None, 'balanced')}\n",
    "    \n",
    "    #gs = GridSearchCV(logreg, parameters, cv=10, scoring='f1' )\n",
    "    gs = GridSearchCV(logreg, parameters, cv=10 )\n",
    "    \n",
    "    gs.fit(x_train, y_train.values.ravel())\n",
    "    \n",
    "    y_pred = gs.predict(x_test)\n",
    "    \n",
    "    #print('The accuracy of Logistic Regression model is %.5f' %gs.score(x_test, y_test))\n",
    "    \n",
    "    print('Best accuracy score obtained with cross-validation is: %.4f  +/- %.4f  obtained with params: %r' %(gs.best_score_, gs.cv_results_['std_test_score'][gs.best_index_] * 2, gs.best_params_ ))\n",
    "    print()\n",
    "    \n",
    "    print(classification_report(y_test, y_pred))\n",
    "        \n",
    "    best_estimators[label] = gs.best_estimator_\n",
    "    \n",
    "    value_comparison_w['accuracy'].append(round(accuracy_score(y_test, y_pred), 3))\n",
    "    value_comparison_w['precision'].append(round(precision_score(y_test, y_pred, average='weighted'), 3))\n",
    "    value_comparison_w['recall'].append(round(recall_score(y_test, y_pred, average='weighted'),3))\n",
    "    value_comparison_w['f1'].append(round(f1_score(y_test, y_pred, average='weighted'), 3))\n",
    "    \n",
    "    value_comparison_macro['accuracy'].append(round(accuracy_score(y_test, y_pred), 3))\n",
    "    value_comparison_macro['precision'].append(round(precision_score(y_test, y_pred, average='macro'), 3))\n",
    "    value_comparison_macro['recall'].append(round(recall_score(y_test, y_pred, average='macro'),3))\n",
    "    value_comparison_macro['f1'].append(round(f1_score(y_test, y_pred, average='macro'), 3))\n",
    "    \n",
    "\n",
    "    disp = plot_confusion_matrix(gs, x_test, y_test, cmap=plt.cm.YlOrRd, values_format = 'g')\n",
    "    disp.ax_.set_title('Confusion Matrix')\n",
    "    \n",
    "    plt.show()\n",
    "   \n",
    "   \n",
    "    \n",
    "    \n",
    "#print('Logistic regression using value of G1 and G2')\n",
    "\n",
    "#LogReg(dataMatExt, 'lr-mat')\n",
    "\n",
    "dataNoValutation = dataMatExt.loc[:, dataMatExt.columns != 'G2']\n",
    "dataNoValutation = dataNoValutation.loc[:, dataNoValutation.columns != 'G1']\n",
    "\n",
    "#print('Logistic regression without value of G1 and G2')\n",
    "#print()\n",
    "#LogReg(dataNoValutation, 'lr-noVal')\n",
    "\n",
    "#finalData = pd.DataFrame(norm_data, columns = finalData.columns)\n",
    "\n",
    "#print('Logistic regression after feature selection')\n",
    "LogReg(finalData, 'lr-final')\n",
    "\n",
    "#print('Logistic regression Port')\n",
    "#LogReg(dataPorExt, 'lr-por')\n",
    "\n"
   ]
  },
  {
   "cell_type": "markdown",
   "metadata": {
    "scrolled": true
   },
   "source": [
    "Compared to tests done previously and not reported, the feature selection has undoubtedly given benefits, this shows that most of the features present in the initial dataset, were nothing but noise as far as our results are concerned.\n",
    "As we can see from the confusion matrix the model tends to predict the samples as belonging to class 1, so to a sufficient grade, this because they are in a much larger number and then the model has moved in this direction, in fact among the parameters chosen we can observe two things.\n",
    "\n",
    "The first is that the penalty used is l2, which never completely zeros the coefficients of a predictor, a sign that all those chosen have at least a slight influence on the result.\n",
    "\n",
    "The second is the class_weight that has been put to None, this is obvious because the model tending to predict the result as sufficient, benefits from the fact that both classes have the same weight. In fact, if balanced was used, as I did in some runs, the result could be even 10 percentage points lower because the errors on the samples in the minority (those of insufficient grades) would be more considered.\n",
    "\n",
    "\n",
    "\n",
    "### Decision Tree \n",
    "\n",
    "The **Decision Tree** is a prediction algorithm used both for regression and classification, in our case we will use it for the latter. In the construction of a Decision Tree we divide the space where the samples reside in various regions, these splits are made on the value of a predictor for each split, trying to minimize the RSS, if we are talking about regression, or classification error rate, in case of classification.\n",
    "We continue to make splits until the leaves (terminal nodes) have less than a minimum number of samples decided a priori. \n",
    "Then when a new sample arrives to assign a class you follow the split rules and once assigned to a given leaf you give it the most common label inside it. \n",
    "\n",
    "Since the classification error rate is not sensitive enough for tree growing, two other measures are used, Gini index and cross-entropy.\n",
    "\n",
    "Gini index represents a measure of the total variance across k classes, it indicates the purity of a node and therefore a small value indicates that in that given node there are mainly samples of only one class, its formula is:\n",
    "\n",
    "$$G = \\sum_{k=1}^K \\hat{p}_{mk}(1-\\hat{p}_{mk})$$\n",
    "\n",
    "Cross-entropy is an alternative to Gini and also indicates the purity of the node, its formula is:\n",
    "\n",
    "$$D = -\\sum_{k=1}^K \\hat{p}_{mk} log \\hat{p}_{mk}$$\n",
    "\n",
    "The parameters on which the tuning will be performed are:\n",
    "\n",
    "+ **max_depth** : default=None\n",
    "        The maximum depth of the tree. \n",
    "        value = from 10 to 100, step =10\n",
    "\n",
    "\n",
    "+ **criterion** :  default='gini'\n",
    "        The function to measure the quality of a split, 'gini' for the Gini impurity (uses Gini index) and 'entropy' for    the information gain (uses cross-entropy).\n",
    "        value = ('gini', 'entropy')\n",
    "\n",
    "\n",
    "+ **min_samples_split** : default=2\n",
    "        The minimum number of samples required to split an internal node.\n",
    "        value = from 5 to 50, step =5\n",
    "\n",
    "\n"
   ]
  },
  {
   "cell_type": "code",
   "execution_count": 18,
   "metadata": {
    "scrolled": false
   },
   "outputs": [
    {
     "name": "stdout",
     "output_type": "stream",
     "text": [
      "Best accuracy score obtained with cross-validation is: 0.8072  (+/- 0.0700)  obtained with params: {'criterion': 'entropy', 'max_depth': 10, 'min_samples_split': 45}\n",
      "\n",
      "              precision    recall  f1-score   support\n",
      "\n",
      "           0       0.47      0.25      0.33        60\n",
      "           1       0.75      0.89      0.81       149\n",
      "\n",
      "    accuracy                           0.70       209\n",
      "   macro avg       0.61      0.57      0.57       209\n",
      "weighted avg       0.67      0.70      0.67       209\n",
      "\n",
      "\n",
      "\n"
     ]
    },
    {
     "data": {
      "image/png": "[encoded data removed]",
      "text/plain": [
       "<Figure size 432x288 with 2 Axes>"
      ]
     },
     "metadata": {
      "needs_background": "light"
     },
     "output_type": "display_data"
    },
    {
     "data": {
      "application/vnd.plotly.v1+json": {
       "config": {
        "plotlyServerURL": "https://plot.ly"
       },
       "data": [
        {
         "marker": {
          "color": "rgb(44, 160, 44)"
         },
         "name": "features importance",
         "type": "bar",
         "x": [
          "age",
          "Medu",
          "failures",
          "freetime",
          "goout",
          "Walc",
          "health",
          "absences"
         ],
         "y": [
          0.09420159582720918,
          0.04127259096469941,
          0.5007150656583388,
          0.055529357558919384,
          0.06943775122090934,
          0.06045154804841908,
          0.050097204105884224,
          0.12829488661562055
         ]
        }
       ],
       "layout": {
        "template": {
         "data": {
          "bar": [
           {
            "error_x": {
             "color": "#2a3f5f"
            },
            "error_y": {
             "color": "#2a3f5f"
            },
            "marker": {
             "line": {
              "color": "#E5ECF6",
              "width": 0.5
             }
            },
            "type": "bar"
           }
          ],
          "barpolar": [
           {
            "marker": {
             "line": {
              "color": "#E5ECF6",
              "width": 0.5
             }
            },
            "type": "barpolar"
           }
          ],
          "carpet": [
           {
            "aaxis": {
             "endlinecolor": "#2a3f5f",
             "gridcolor": "white",
             "linecolor": "white",
             "minorgridcolor": "white",
             "startlinecolor": "#2a3f5f"
            },
            "baxis": {
             "endlinecolor": "#2a3f5f",
             "gridcolor": "white",
             "linecolor": "white",
             "minorgridcolor": "white",
             "startlinecolor": "#2a3f5f"
            },
            "type": "carpet"
           }
          ],
          "choropleth": [
           {
            "colorbar": {
             "outlinewidth": 0,
             "ticks": ""
            },
            "type": "choropleth"
           }
          ],
          "contour": [
           {
            "colorbar": {
             "outlinewidth": 0,
             "ticks": ""
            },
            "colorscale": [
             [
              0,
              "#0d0887"
             ],
             [
              0.1111111111111111,
              "#46039f"
             ],
             [
              0.2222222222222222,
              "#7201a8"
             ],
             [
              0.3333333333333333,
              "#9c179e"
             ],
             [
              0.4444444444444444,
              "#bd3786"
             ],
             [
              0.5555555555555556,
              "#d8576b"
             ],
             [
              0.6666666666666666,
              "#ed7953"
             ],
             [
              0.7777777777777778,
              "#fb9f3a"
             ],
             [
              0.8888888888888888,
              "#fdca26"
             ],
             [
              1,
              "#f0f921"
             ]
            ],
            "type": "contour"
           }
          ],
          "contourcarpet": [
           {
            "colorbar": {
             "outlinewidth": 0,
             "ticks": ""
            },
            "type": "contourcarpet"
           }
          ],
          "heatmap": [
           {
            "colorbar": {
             "outlinewidth": 0,
             "ticks": ""
            },
            "colorscale": [
             [
              0,
              "#0d0887"
             ],
             [
              0.1111111111111111,
              "#46039f"
             ],
             [
              0.2222222222222222,
              "#7201a8"
             ],
             [
              0.3333333333333333,
              "#9c179e"
             ],
             [
              0.4444444444444444,
              "#bd3786"
             ],
             [
              0.5555555555555556,
              "#d8576b"
             ],
             [
              0.6666666666666666,
              "#ed7953"
             ],
             [
              0.7777777777777778,
              "#fb9f3a"
             ],
             [
              0.8888888888888888,
              "#fdca26"
             ],
             [
              1,
              "#f0f921"
             ]
            ],
            "type": "heatmap"
           }
          ],
          "heatmapgl": [
           {
            "colorbar": {
             "outlinewidth": 0,
             "ticks": ""
            },
            "colorscale": [
             [
              0,
              "#0d0887"
             ],
             [
              0.1111111111111111,
              "#46039f"
             ],
             [
              0.2222222222222222,
              "#7201a8"
             ],
             [
              0.3333333333333333,
              "#9c179e"
             ],
             [
              0.4444444444444444,
              "#bd3786"
             ],
             [
              0.5555555555555556,
              "#d8576b"
             ],
             [
              0.6666666666666666,
              "#ed7953"
             ],
             [
              0.7777777777777778,
              "#fb9f3a"
             ],
             [
              0.8888888888888888,
              "#fdca26"
             ],
             [
              1,
              "#f0f921"
             ]
            ],
            "type": "heatmapgl"
           }
          ],
          "histogram": [
           {
            "marker": {
             "colorbar": {
              "outlinewidth": 0,
              "ticks": ""
             }
            },
            "type": "histogram"
           }
          ],
          "histogram2d": [
           {
            "colorbar": {
             "outlinewidth": 0,
             "ticks": ""
            },
            "colorscale": [
             [
              0,
              "#0d0887"
             ],
             [
              0.1111111111111111,
              "#46039f"
             ],
             [
              0.2222222222222222,
              "#7201a8"
             ],
             [
              0.3333333333333333,
              "#9c179e"
             ],
             [
              0.4444444444444444,
              "#bd3786"
             ],
             [
              0.5555555555555556,
              "#d8576b"
             ],
             [
              0.6666666666666666,
              "#ed7953"
             ],
             [
              0.7777777777777778,
              "#fb9f3a"
             ],
             [
              0.8888888888888888,
              "#fdca26"
             ],
             [
              1,
              "#f0f921"
             ]
            ],
            "type": "histogram2d"
           }
          ],
          "histogram2dcontour": [
           {
            "colorbar": {
             "outlinewidth": 0,
             "ticks": ""
            },
            "colorscale": [
             [
              0,
              "#0d0887"
             ],
             [
              0.1111111111111111,
              "#46039f"
             ],
             [
              0.2222222222222222,
              "#7201a8"
             ],
             [
              0.3333333333333333,
              "#9c179e"
             ],
             [
              0.4444444444444444,
              "#bd3786"
             ],
             [
              0.5555555555555556,
              "#d8576b"
             ],
             [
              0.6666666666666666,
              "#ed7953"
             ],
             [
              0.7777777777777778,
              "#fb9f3a"
             ],
             [
              0.8888888888888888,
              "#fdca26"
             ],
             [
              1,
              "#f0f921"
             ]
            ],
            "type": "histogram2dcontour"
           }
          ],
          "mesh3d": [
           {
            "colorbar": {
             "outlinewidth": 0,
             "ticks": ""
            },
            "type": "mesh3d"
           }
          ],
          "parcoords": [
           {
            "line": {
             "colorbar": {
              "outlinewidth": 0,
              "ticks": ""
             }
            },
            "type": "parcoords"
           }
          ],
          "pie": [
           {
            "automargin": true,
            "type": "pie"
           }
          ],
          "scatter": [
           {
            "marker": {
             "colorbar": {
              "outlinewidth": 0,
              "ticks": ""
             }
            },
            "type": "scatter"
           }
          ],
          "scatter3d": [
           {
            "line": {
             "colorbar": {
              "outlinewidth": 0,
              "ticks": ""
             }
            },
            "marker": {
             "colorbar": {
              "outlinewidth": 0,
              "ticks": ""
             }
            },
            "type": "scatter3d"
           }
          ],
          "scattercarpet": [
           {
            "marker": {
             "colorbar": {
              "outlinewidth": 0,
              "ticks": ""
             }
            },
            "type": "scattercarpet"
           }
          ],
          "scattergeo": [
           {
            "marker": {
             "colorbar": {
              "outlinewidth": 0,
              "ticks": ""
             }
            },
            "type": "scattergeo"
           }
          ],
          "scattergl": [
           {
            "marker": {
             "colorbar": {
              "outlinewidth": 0,
              "ticks": ""
             }
            },
            "type": "scattergl"
           }
          ],
          "scattermapbox": [
           {
            "marker": {
             "colorbar": {
              "outlinewidth": 0,
              "ticks": ""
             }
            },
            "type": "scattermapbox"
           }
          ],
          "scatterpolar": [
           {
            "marker": {
             "colorbar": {
              "outlinewidth": 0,
              "ticks": ""
             }
            },
            "type": "scatterpolar"
           }
          ],
          "scatterpolargl": [
           {
            "marker": {
             "colorbar": {
              "outlinewidth": 0,
              "ticks": ""
             }
            },
            "type": "scatterpolargl"
           }
          ],
          "scatterternary": [
           {
            "marker": {
             "colorbar": {
              "outlinewidth": 0,
              "ticks": ""
             }
            },
            "type": "scatterternary"
           }
          ],
          "surface": [
           {
            "colorbar": {
             "outlinewidth": 0,
             "ticks": ""
            },
            "colorscale": [
             [
              0,
              "#0d0887"
             ],
             [
              0.1111111111111111,
              "#46039f"
             ],
             [
              0.2222222222222222,
              "#7201a8"
             ],
             [
              0.3333333333333333,
              "#9c179e"
             ],
             [
              0.4444444444444444,
              "#bd3786"
             ],
             [
              0.5555555555555556,
              "#d8576b"
             ],
             [
              0.6666666666666666,
              "#ed7953"
             ],
             [
              0.7777777777777778,
              "#fb9f3a"
             ],
             [
              0.8888888888888888,
              "#fdca26"
             ],
             [
              1,
              "#f0f921"
             ]
            ],
            "type": "surface"
           }
          ],
          "table": [
           {
            "cells": {
             "fill": {
              "color": "#EBF0F8"
             },
             "line": {
              "color": "white"
             }
            },
            "header": {
             "fill": {
              "color": "#C8D4E3"
             },
             "line": {
              "color": "white"
             }
            },
            "type": "table"
           }
          ]
         },
         "layout": {
          "annotationdefaults": {
           "arrowcolor": "#2a3f5f",
           "arrowhead": 0,
           "arrowwidth": 1
          },
          "coloraxis": {
           "colorbar": {
            "outlinewidth": 0,
            "ticks": ""
           }
          },
          "colorscale": {
           "diverging": [
            [
             0,
             "#8e0152"
            ],
            [
             0.1,
             "#c51b7d"
            ],
            [
             0.2,
             "#de77ae"
            ],
            [
             0.3,
             "#f1b6da"
            ],
            [
             0.4,
             "#fde0ef"
            ],
            [
             0.5,
             "#f7f7f7"
            ],
            [
             0.6,
             "#e6f5d0"
            ],
            [
             0.7,
             "#b8e186"
            ],
            [
             0.8,
             "#7fbc41"
            ],
            [
             0.9,
             "#4d9221"
            ],
            [
             1,
             "#276419"
            ]
           ],
           "sequential": [
            [
             0,
             "#0d0887"
            ],
            [
             0.1111111111111111,
             "#46039f"
            ],
            [
             0.2222222222222222,
             "#7201a8"
            ],
            [
             0.3333333333333333,
             "#9c179e"
            ],
            [
             0.4444444444444444,
             "#bd3786"
            ],
            [
             0.5555555555555556,
             "#d8576b"
            ],
            [
             0.6666666666666666,
             "#ed7953"
            ],
            [
             0.7777777777777778,
             "#fb9f3a"
            ],
            [
             0.8888888888888888,
             "#fdca26"
            ],
            [
             1,
             "#f0f921"
            ]
           ],
           "sequentialminus": [
            [
             0,
             "#0d0887"
            ],
            [
             0.1111111111111111,
             "#46039f"
            ],
            [
             0.2222222222222222,
             "#7201a8"
            ],
            [
             0.3333333333333333,
             "#9c179e"
            ],
            [
             0.4444444444444444,
             "#bd3786"
            ],
            [
             0.5555555555555556,
             "#d8576b"
            ],
            [
             0.6666666666666666,
             "#ed7953"
            ],
            [
             0.7777777777777778,
             "#fb9f3a"
            ],
            [
             0.8888888888888888,
             "#fdca26"
            ],
            [
             1,
             "#f0f921"
            ]
           ]
          },
          "colorway": [
           "#636efa",
           "#EF553B",
           "#00cc96",
           "#ab63fa",
           "#FFA15A",
           "#19d3f3",
           "#FF6692",
           "#B6E880",
           "#FF97FF",
           "#FECB52"
          ],
          "font": {
           "color": "#2a3f5f"
          },
          "geo": {
           "bgcolor": "white",
           "lakecolor": "white",
           "landcolor": "#E5ECF6",
           "showlakes": true,
           "showland": true,
           "subunitcolor": "white"
          },
          "hoverlabel": {
           "align": "left"
          },
          "hovermode": "closest",
          "mapbox": {
           "style": "light"
          },
          "paper_bgcolor": "white",
          "plot_bgcolor": "#E5ECF6",
          "polar": {
           "angularaxis": {
            "gridcolor": "white",
            "linecolor": "white",
            "ticks": ""
           },
           "bgcolor": "#E5ECF6",
           "radialaxis": {
            "gridcolor": "white",
            "linecolor": "white",
            "ticks": ""
           }
          },
          "scene": {
           "xaxis": {
            "backgroundcolor": "#E5ECF6",
            "gridcolor": "white",
            "gridwidth": 2,
            "linecolor": "white",
            "showbackground": true,
            "ticks": "",
            "zerolinecolor": "white"
           },
           "yaxis": {
            "backgroundcolor": "#E5ECF6",
            "gridcolor": "white",
            "gridwidth": 2,
            "linecolor": "white",
            "showbackground": true,
            "ticks": "",
            "zerolinecolor": "white"
           },
           "zaxis": {
            "backgroundcolor": "#E5ECF6",
            "gridcolor": "white",
            "gridwidth": 2,
            "linecolor": "white",
            "showbackground": true,
            "ticks": "",
            "zerolinecolor": "white"
           }
          },
          "shapedefaults": {
           "line": {
            "color": "#2a3f5f"
           }
          },
          "ternary": {
           "aaxis": {
            "gridcolor": "white",
            "linecolor": "white",
            "ticks": ""
           },
           "baxis": {
            "gridcolor": "white",
            "linecolor": "white",
            "ticks": ""
           },
           "bgcolor": "#E5ECF6",
           "caxis": {
            "gridcolor": "white",
            "linecolor": "white",
            "ticks": ""
           }
          },
          "title": {
           "x": 0.05
          },
          "xaxis": {
           "automargin": true,
           "gridcolor": "white",
           "linecolor": "white",
           "ticks": "",
           "title": {
            "standoff": 15
           },
           "zerolinecolor": "white",
           "zerolinewidth": 2
          },
          "yaxis": {
           "automargin": true,
           "gridcolor": "white",
           "linecolor": "white",
           "ticks": "",
           "title": {
            "standoff": 15
           },
           "zerolinecolor": "white",
           "zerolinewidth": 2
          }
         }
        },
        "title": {
         "text": "Decision Tree features importance"
        },
        "xaxis": {
         "title": {
          "text": "features"
         }
        },
        "yaxis": {
         "title": {
          "text": "features importance"
         }
        }
       }
      },
      "text/html": [
       "<div>\n",
       "        \n",
       "        \n",
       "            <div id=\"7f0a12d7-7f5a-4adf-aecc-5575d885fd03\" class=\"plotly-graph-div\" style=\"height:525px; width:100%;\"></div>\n",
       "            <script type=\"text/javascript\">\n",
       "                require([\"plotly\"], function(Plotly) {\n",
       "                    window.PLOTLYENV=window.PLOTLYENV || {};\n",
       "                    \n",
       "                if (document.getElementById(\"7f0a12d7-7f5a-4adf-aecc-5575d885fd03\")) {\n",
       "                    Plotly.newPlot(\n",
       "                        '7f0a12d7-7f5a-4adf-aecc-5575d885fd03',\n",
       "                        [{\"marker\": {\"color\": \"rgb(44, 160, 44)\"}, \"name\": \"features importance\", \"type\": \"bar\", \"x\": [\"age\", \"Medu\", \"failures\", \"freetime\", \"goout\", \"Walc\", \"health\", \"absences\"], \"y\": [0.09420159582720918, 0.04127259096469941, 0.5007150656583388, 0.055529357558919384, 0.06943775122090934, 0.06045154804841908, 0.050097204105884224, 0.12829488661562055]}],\n",
       "                        {\"template\": {\"data\": {\"bar\": [{\"error_x\": {\"color\": \"#2a3f5f\"}, \"error_y\": {\"color\": \"#2a3f5f\"}, \"marker\": {\"line\": {\"color\": \"#E5ECF6\", \"width\": 0.5}}, \"type\": \"bar\"}], \"barpolar\": [{\"marker\": {\"line\": {\"color\": \"#E5ECF6\", \"width\": 0.5}}, \"type\": \"barpolar\"}], \"carpet\": [{\"aaxis\": {\"endlinecolor\": \"#2a3f5f\", \"gridcolor\": \"white\", \"linecolor\": \"white\", \"minorgridcolor\": \"white\", \"startlinecolor\": \"#2a3f5f\"}, \"baxis\": {\"endlinecolor\": \"#2a3f5f\", \"gridcolor\": \"white\", \"linecolor\": \"white\", \"minorgridcolor\": \"white\", \"startlinecolor\": \"#2a3f5f\"}, \"type\": \"carpet\"}], \"choropleth\": [{\"colorbar\": {\"outlinewidth\": 0, \"ticks\": \"\"}, \"type\": \"choropleth\"}], \"contour\": [{\"colorbar\": {\"outlinewidth\": 0, \"ticks\": \"\"}, \"colorscale\": [[0.0, \"#0d0887\"], [0.1111111111111111, \"#46039f\"], [0.2222222222222222, \"#7201a8\"], [0.3333333333333333, \"#9c179e\"], [0.4444444444444444, \"#bd3786\"], [0.5555555555555556, \"#d8576b\"], [0.6666666666666666, \"#ed7953\"], [0.7777777777777778, \"#fb9f3a\"], [0.8888888888888888, \"#fdca26\"], [1.0, \"#f0f921\"]], \"type\": \"contour\"}], \"contourcarpet\": [{\"colorbar\": {\"outlinewidth\": 0, \"ticks\": \"\"}, \"type\": \"contourcarpet\"}], \"heatmap\": [{\"colorbar\": {\"outlinewidth\": 0, \"ticks\": \"\"}, \"colorscale\": [[0.0, \"#0d0887\"], [0.1111111111111111, \"#46039f\"], [0.2222222222222222, \"#7201a8\"], [0.3333333333333333, \"#9c179e\"], [0.4444444444444444, \"#bd3786\"], [0.5555555555555556, \"#d8576b\"], [0.6666666666666666, \"#ed7953\"], [0.7777777777777778, \"#fb9f3a\"], [0.8888888888888888, \"#fdca26\"], [1.0, \"#f0f921\"]], \"type\": \"heatmap\"}], \"heatmapgl\": [{\"colorbar\": {\"outlinewidth\": 0, \"ticks\": \"\"}, \"colorscale\": [[0.0, \"#0d0887\"], [0.1111111111111111, \"#46039f\"], [0.2222222222222222, \"#7201a8\"], [0.3333333333333333, \"#9c179e\"], [0.4444444444444444, \"#bd3786\"], [0.5555555555555556, \"#d8576b\"], [0.6666666666666666, \"#ed7953\"], [0.7777777777777778, \"#fb9f3a\"], [0.8888888888888888, \"#fdca26\"], [1.0, \"#f0f921\"]], \"type\": \"heatmapgl\"}], \"histogram\": [{\"marker\": {\"colorbar\": {\"outlinewidth\": 0, \"ticks\": \"\"}}, \"type\": \"histogram\"}], \"histogram2d\": [{\"colorbar\": {\"outlinewidth\": 0, \"ticks\": \"\"}, \"colorscale\": [[0.0, \"#0d0887\"], [0.1111111111111111, \"#46039f\"], [0.2222222222222222, \"#7201a8\"], [0.3333333333333333, \"#9c179e\"], [0.4444444444444444, \"#bd3786\"], [0.5555555555555556, \"#d8576b\"], [0.6666666666666666, \"#ed7953\"], [0.7777777777777778, \"#fb9f3a\"], [0.8888888888888888, \"#fdca26\"], [1.0, \"#f0f921\"]], \"type\": \"histogram2d\"}], \"histogram2dcontour\": [{\"colorbar\": {\"outlinewidth\": 0, \"ticks\": \"\"}, \"colorscale\": [[0.0, \"#0d0887\"], [0.1111111111111111, \"#46039f\"], [0.2222222222222222, \"#7201a8\"], [0.3333333333333333, \"#9c179e\"], [0.4444444444444444, \"#bd3786\"], [0.5555555555555556, \"#d8576b\"], [0.6666666666666666, \"#ed7953\"], [0.7777777777777778, \"#fb9f3a\"], [0.8888888888888888, \"#fdca26\"], [1.0, \"#f0f921\"]], \"type\": \"histogram2dcontour\"}], \"mesh3d\": [{\"colorbar\": {\"outlinewidth\": 0, \"ticks\": \"\"}, \"type\": \"mesh3d\"}], \"parcoords\": [{\"line\": {\"colorbar\": {\"outlinewidth\": 0, \"ticks\": \"\"}}, \"type\": \"parcoords\"}], \"pie\": [{\"automargin\": true, \"type\": \"pie\"}], \"scatter\": [{\"marker\": {\"colorbar\": {\"outlinewidth\": 0, \"ticks\": \"\"}}, \"type\": \"scatter\"}], \"scatter3d\": [{\"line\": {\"colorbar\": {\"outlinewidth\": 0, \"ticks\": \"\"}}, \"marker\": {\"colorbar\": {\"outlinewidth\": 0, \"ticks\": \"\"}}, \"type\": \"scatter3d\"}], \"scattercarpet\": [{\"marker\": {\"colorbar\": {\"outlinewidth\": 0, \"ticks\": \"\"}}, \"type\": \"scattercarpet\"}], \"scattergeo\": [{\"marker\": {\"colorbar\": {\"outlinewidth\": 0, \"ticks\": \"\"}}, \"type\": \"scattergeo\"}], \"scattergl\": [{\"marker\": {\"colorbar\": {\"outlinewidth\": 0, \"ticks\": \"\"}}, \"type\": \"scattergl\"}], \"scattermapbox\": [{\"marker\": {\"colorbar\": {\"outlinewidth\": 0, \"ticks\": \"\"}}, \"type\": \"scattermapbox\"}], \"scatterpolar\": [{\"marker\": {\"colorbar\": {\"outlinewidth\": 0, \"ticks\": \"\"}}, \"type\": \"scatterpolar\"}], \"scatterpolargl\": [{\"marker\": {\"colorbar\": {\"outlinewidth\": 0, \"ticks\": \"\"}}, \"type\": \"scatterpolargl\"}], \"scatterternary\": [{\"marker\": {\"colorbar\": {\"outlinewidth\": 0, \"ticks\": \"\"}}, \"type\": \"scatterternary\"}], \"surface\": [{\"colorbar\": {\"outlinewidth\": 0, \"ticks\": \"\"}, \"colorscale\": [[0.0, \"#0d0887\"], [0.1111111111111111, \"#46039f\"], [0.2222222222222222, \"#7201a8\"], [0.3333333333333333, \"#9c179e\"], [0.4444444444444444, \"#bd3786\"], [0.5555555555555556, \"#d8576b\"], [0.6666666666666666, \"#ed7953\"], [0.7777777777777778, \"#fb9f3a\"], [0.8888888888888888, \"#fdca26\"], [1.0, \"#f0f921\"]], \"type\": \"surface\"}], \"table\": [{\"cells\": {\"fill\": {\"color\": \"#EBF0F8\"}, \"line\": {\"color\": \"white\"}}, \"header\": {\"fill\": {\"color\": \"#C8D4E3\"}, \"line\": {\"color\": \"white\"}}, \"type\": \"table\"}]}, \"layout\": {\"annotationdefaults\": {\"arrowcolor\": \"#2a3f5f\", \"arrowhead\": 0, \"arrowwidth\": 1}, \"coloraxis\": {\"colorbar\": {\"outlinewidth\": 0, \"ticks\": \"\"}}, \"colorscale\": {\"diverging\": [[0, \"#8e0152\"], [0.1, \"#c51b7d\"], [0.2, \"#de77ae\"], [0.3, \"#f1b6da\"], [0.4, \"#fde0ef\"], [0.5, \"#f7f7f7\"], [0.6, \"#e6f5d0\"], [0.7, \"#b8e186\"], [0.8, \"#7fbc41\"], [0.9, \"#4d9221\"], [1, \"#276419\"]], \"sequential\": [[0.0, \"#0d0887\"], [0.1111111111111111, \"#46039f\"], [0.2222222222222222, \"#7201a8\"], [0.3333333333333333, \"#9c179e\"], [0.4444444444444444, \"#bd3786\"], [0.5555555555555556, \"#d8576b\"], [0.6666666666666666, \"#ed7953\"], [0.7777777777777778, \"#fb9f3a\"], [0.8888888888888888, \"#fdca26\"], [1.0, \"#f0f921\"]], \"sequentialminus\": [[0.0, \"#0d0887\"], [0.1111111111111111, \"#46039f\"], [0.2222222222222222, \"#7201a8\"], [0.3333333333333333, \"#9c179e\"], [0.4444444444444444, \"#bd3786\"], [0.5555555555555556, \"#d8576b\"], [0.6666666666666666, \"#ed7953\"], [0.7777777777777778, \"#fb9f3a\"], [0.8888888888888888, \"#fdca26\"], [1.0, \"#f0f921\"]]}, \"colorway\": [\"#636efa\", \"#EF553B\", \"#00cc96\", \"#ab63fa\", \"#FFA15A\", \"#19d3f3\", \"#FF6692\", \"#B6E880\", \"#FF97FF\", \"#FECB52\"], \"font\": {\"color\": \"#2a3f5f\"}, \"geo\": {\"bgcolor\": \"white\", \"lakecolor\": \"white\", \"landcolor\": \"#E5ECF6\", \"showlakes\": true, \"showland\": true, \"subunitcolor\": \"white\"}, \"hoverlabel\": {\"align\": \"left\"}, \"hovermode\": \"closest\", \"mapbox\": {\"style\": \"light\"}, \"paper_bgcolor\": \"white\", \"plot_bgcolor\": \"#E5ECF6\", \"polar\": {\"angularaxis\": {\"gridcolor\": \"white\", \"linecolor\": \"white\", \"ticks\": \"\"}, \"bgcolor\": \"#E5ECF6\", \"radialaxis\": {\"gridcolor\": \"white\", \"linecolor\": \"white\", \"ticks\": \"\"}}, \"scene\": {\"xaxis\": {\"backgroundcolor\": \"#E5ECF6\", \"gridcolor\": \"white\", \"gridwidth\": 2, \"linecolor\": \"white\", \"showbackground\": true, \"ticks\": \"\", \"zerolinecolor\": \"white\"}, \"yaxis\": {\"backgroundcolor\": \"#E5ECF6\", \"gridcolor\": \"white\", \"gridwidth\": 2, \"linecolor\": \"white\", \"showbackground\": true, \"ticks\": \"\", \"zerolinecolor\": \"white\"}, \"zaxis\": {\"backgroundcolor\": \"#E5ECF6\", \"gridcolor\": \"white\", \"gridwidth\": 2, \"linecolor\": \"white\", \"showbackground\": true, \"ticks\": \"\", \"zerolinecolor\": \"white\"}}, \"shapedefaults\": {\"line\": {\"color\": \"#2a3f5f\"}}, \"ternary\": {\"aaxis\": {\"gridcolor\": \"white\", \"linecolor\": \"white\", \"ticks\": \"\"}, \"baxis\": {\"gridcolor\": \"white\", \"linecolor\": \"white\", \"ticks\": \"\"}, \"bgcolor\": \"#E5ECF6\", \"caxis\": {\"gridcolor\": \"white\", \"linecolor\": \"white\", \"ticks\": \"\"}}, \"title\": {\"x\": 0.05}, \"xaxis\": {\"automargin\": true, \"gridcolor\": \"white\", \"linecolor\": \"white\", \"ticks\": \"\", \"title\": {\"standoff\": 15}, \"zerolinecolor\": \"white\", \"zerolinewidth\": 2}, \"yaxis\": {\"automargin\": true, \"gridcolor\": \"white\", \"linecolor\": \"white\", \"ticks\": \"\", \"title\": {\"standoff\": 15}, \"zerolinecolor\": \"white\", \"zerolinewidth\": 2}}}, \"title\": {\"text\": \"Decision Tree features importance\"}, \"xaxis\": {\"title\": {\"text\": \"features\"}}, \"yaxis\": {\"title\": {\"text\": \"features importance\"}}},\n",
       "                        {\"responsive\": true}\n",
       "                    ).then(function(){\n",
       "                            \n",
       "var gd = document.getElementById('7f0a12d7-7f5a-4adf-aecc-5575d885fd03');\n",
       "var x = new MutationObserver(function (mutations, observer) {{\n",
       "        var display = window.getComputedStyle(gd).display;\n",
       "        if (!display || display === 'none') {{\n",
       "            console.log([gd, 'removed!']);\n",
       "            Plotly.purge(gd);\n",
       "            observer.disconnect();\n",
       "        }}\n",
       "}});\n",
       "\n",
       "// Listen for the removal of the full notebook cells\n",
       "var notebookContainer = gd.closest('#notebook-container');\n",
       "if (notebookContainer) {{\n",
       "    x.observe(notebookContainer, {childList: true});\n",
       "}}\n",
       "\n",
       "// Listen for the clearing of the current output cell\n",
       "var outputEl = gd.closest('.output');\n",
       "if (outputEl) {{\n",
       "    x.observe(outputEl, {childList: true});\n",
       "}}\n",
       "\n",
       "                        })\n",
       "                };\n",
       "                });\n",
       "            </script>\n",
       "        </div>"
      ]
     },
     "metadata": {},
     "output_type": "display_data"
    }
   ],
   "source": [
    "def DecT(data, label):\n",
    "    \n",
    "    y_data = data.loc[:,['G3']]\n",
    "    x_data = data.loc[:, data.columns != 'G3']\n",
    "    \n",
    "    x_train, x_test, y_train, y_test = train_test_split(x_data, y_data, test_size=0.2, random_state=42)\n",
    "\n",
    "    clf = DecisionTreeClassifier()\n",
    "    \n",
    "    #path = clf.cost_complexity_pruning_path(X_train, y_train)\n",
    "    #ccp_alphas, impurities = path.ccp_alphas, path.impurities\n",
    "    \n",
    "    parameters = {\n",
    "    'max_depth': range(10, 100, 10),\n",
    "    #'max_features': ['sqrt', 'log2', 'auto', None], # just sqrt is used because values of log2 and sqrt are very similar for our number of features (10-19)\n",
    "    'criterion': ['gini', 'entropy'],\n",
    "    'min_samples_split': range(5,50,5)\n",
    "    }\n",
    "    \n",
    "    \n",
    "    #gs = GridSearchCV(clf, parameters, cv=10, scoring='f1' )\n",
    "    gs = GridSearchCV(clf, parameters, cv=10 )\n",
    "    \n",
    "    gs.fit(x_train, y_train.values.ravel())\n",
    "    \n",
    "    y_pred = gs.predict(x_test)\n",
    "    \n",
    "    #print('The accuracy of Decision Tree model is %.5f' %gs.score(x_test, y_test))\n",
    "    print('Best accuracy score obtained with cross-validation is: %.4f  (+/- %.4f)  obtained with params: %r' %(gs.best_score_, gs.cv_results_['std_test_score'][gs.best_index_] *2, gs.best_params_ ))\n",
    "    print()\n",
    "    print(classification_report(y_test, y_pred))\n",
    "    \n",
    "    print()\n",
    "       \n",
    "    means = gs.cv_results_['mean_test_score']\n",
    "    stds = gs.cv_results_['std_test_score']\n",
    "    for mean, std, params in zip(means, stds, gs.cv_results_['params']):\n",
    "        if (mean > 0.91):\n",
    "            print(\"%0.3f (+/-%0.03f) for %r\"\n",
    "              % (mean, std * 2, params))\n",
    "    print()\n",
    "    \n",
    "    \n",
    "    best_estimators[label] = gs.best_estimator_\n",
    "    \n",
    "    value_comparison_w['accuracy'].append(round(accuracy_score(y_test, y_pred), 3))\n",
    "    value_comparison_w['precision'].append(round(precision_score(y_test, y_pred, average='weighted'), 3))\n",
    "    value_comparison_w['recall'].append(round(recall_score(y_test, y_pred, average='weighted'),3))\n",
    "    value_comparison_w['f1'].append(round(f1_score(y_test, y_pred, average='weighted'), 3))\n",
    "    \n",
    "    value_comparison_macro['accuracy'].append(round(accuracy_score(y_test, y_pred), 3))\n",
    "    value_comparison_macro['precision'].append(round(precision_score(y_test, y_pred, average='macro'), 3))\n",
    "    value_comparison_macro['recall'].append(round(recall_score(y_test, y_pred, average='macro'),3))\n",
    "    value_comparison_macro['f1'].append(round(f1_score(y_test, y_pred, average='macro'), 3))\n",
    "    \n",
    "\n",
    "    disp = plot_confusion_matrix(gs, x_test, y_test, cmap=plt.cm.YlOrRd, values_format = 'g')\n",
    "    disp.ax_.set_title('Confusion Matrix')\n",
    "    \n",
    "    plt.show()\n",
    "    \n",
    "    \n",
    "    x_features=[]\n",
    "    y_features = []\n",
    "    for x,y in zip(x_train.columns, gs.best_estimator_.feature_importances_):\n",
    "        if (y>0.0):\n",
    "            x_features.append(x)\n",
    "            y_features.append(y)\n",
    "            \n",
    "    \n",
    "    fig = go.Figure()\n",
    "\n",
    "    fig.add_trace(go.Bar(x=x_features, y=y_features,\n",
    "                    marker_color=colors[2],\n",
    "                    name='features importance'\n",
    "                    ))\n",
    "    fig.update_layout(\n",
    "        yaxis_title = 'features importance',\n",
    "        xaxis_title = 'features',\n",
    "        title = 'Decision Tree features importance'\n",
    "    )\n",
    "    fig.show()\n",
    "    \n",
    "#DecT(dataNoValutation, 'dt-noVal')\n",
    "\n",
    "DecT(finalData, 'dt-final')\n",
    "    \n",
    "    "
   ]
  },
  {
   "cell_type": "markdown",
   "metadata": {},
   "source": [
    "Observing our table we can see that the Decision Tree obtains slightly worse results than the logistic regression in terms of total accuracy and f1-score, but there is an improvement in the values for the class with label 0. This indicates that even with slightly worse results, these results are slightly less affected by the large presence of samples related to class 1.\n",
    "\n",
    "The following table instead shows the features related to their importance compared to the classification, underlining once again how *failures* is the parameter that influences the choice the most.\n",
    "To try to further improve these results I try to use Random Forest.\n",
    "\n",
    "\n",
    "\n",
    "### Random Forest\n",
    "\n",
    "A Random Forest is an ensemble that has Decision Trees as main blocks, this one thickens a chosen number of Decision Tree each iteration on a subsample of the original dataset (like bagging) and each time on a different subset of features. This allows you to remedy the high variance that characterizes Decision Tree and improve its predictive capabilities (especially by preventing over-fitting) in return for a high computational load, especially if you choose to use many trees.\n",
    "\n",
    "The parameters on which you have chosen to operate the tuning are the same as in Decision Tree, with the addition of:\n",
    "\n",
    "+ **n_estimators** : default=100\n",
    "        The number of trees in the forest.\n",
    "        "
   ]
  },
  {
   "cell_type": "code",
   "execution_count": 19,
   "metadata": {
    "scrolled": false
   },
   "outputs": [
    {
     "name": "stdout",
     "output_type": "stream",
     "text": [
      "Best accuracy score obtained with cross-validation is: 0.8228  (+/- 0.0592)  obtained with params: {'max_depth': None, 'min_samples_split': 5, 'n_estimators': 100}\n",
      "\n",
      "              precision    recall  f1-score   support\n",
      "\n",
      "           0       0.53      0.30      0.38        60\n",
      "           1       0.76      0.89      0.82       149\n",
      "\n",
      "    accuracy                           0.72       209\n",
      "   macro avg       0.64      0.60      0.60       209\n",
      "weighted avg       0.69      0.72      0.70       209\n",
      "\n",
      "\n"
     ]
    },
    {
     "data": {
      "image/png": "[encoded data removed]",
      "text/plain": [
       "<Figure size 432x288 with 2 Axes>"
      ]
     },
     "metadata": {
      "needs_background": "light"
     },
     "output_type": "display_data"
    }
   ],
   "source": [
    "rf_params = {}\n",
    "\n",
    "def RandF(data, label):\n",
    "    \n",
    "    y_data = data.loc[:,['G3']]\n",
    "    x_data = data.loc[:, data.columns != 'G3']\n",
    "    \n",
    "    x_train, x_test, y_train, y_test = train_test_split(x_data, y_data, test_size=0.2, random_state=42)\n",
    "\n",
    "    clf = RandomForestClassifier()\n",
    "    \n",
    "    \n",
    "    parameters = {\n",
    "        #'bootstrap': [True, False],\n",
    "        'max_depth': [ 30, 40, 50, 60, 70, None],\n",
    "        #'max_features': ['auto', 'sqrt'],\n",
    "        #'min_samples_leaf': [1, 2, 4],\n",
    "        'min_samples_split': range(5,25,5),\n",
    "        'n_estimators': [100, 200]\n",
    "    }\n",
    "\n",
    "\n",
    "    gs = GridSearchCV(clf, parameters, cv=10 )\n",
    "    #gs = GridSearchCV(clf, parameters, cv=10, scoring='f1' )\n",
    "    \n",
    "    gs.fit(x_train, y_train.values.ravel())\n",
    "    \n",
    "    y_pred = gs.predict(x_test)\n",
    "    \n",
    "    #print('The accuracy of Random Forest model is %.5f' %gs.score(x_test, y_test))\n",
    "    print('Best accuracy score obtained with cross-validation is: %.4f  (+/- %.4f)  obtained with params: %r' %(gs.best_score_, gs.cv_results_['std_test_score'][gs.best_index_] *2, gs.best_params_ ))\n",
    "    print()\n",
    "    #rf_params = gs.best_params_\n",
    "    \n",
    "    for x,y in gs.best_params_.items():\n",
    "        rf_params[x] = [y]\n",
    "    \n",
    "    print(classification_report(y_test, y_pred))\n",
    "    \n",
    "    print()\n",
    "    \n",
    "    best_estimators[label] = gs.best_estimator_\n",
    "    \n",
    "    value_comparison_w['accuracy'].append(round(accuracy_score(y_test, y_pred), 3))\n",
    "    value_comparison_w['precision'].append(round(precision_score(y_test, y_pred, average='weighted'), 3))\n",
    "    value_comparison_w['recall'].append(round(recall_score(y_test, y_pred, average='weighted'),3))\n",
    "    value_comparison_w['f1'].append(round(f1_score(y_test, y_pred, average='weighted'), 3))\n",
    "    \n",
    "    value_comparison_macro['accuracy'].append(round(accuracy_score(y_test, y_pred), 3))\n",
    "    value_comparison_macro['precision'].append(round(precision_score(y_test, y_pred, average='macro'), 3))\n",
    "    value_comparison_macro['recall'].append(round(recall_score(y_test, y_pred, average='macro'),3))\n",
    "    value_comparison_macro['f1'].append(round(f1_score(y_test, y_pred, average='macro'), 3))\n",
    "    \n",
    "\n",
    "    disp = plot_confusion_matrix(gs, x_test, y_test, cmap=plt.cm.YlOrRd, values_format = 'g')\n",
    "    disp.ax_.set_title('Confusion Matrix')\n",
    "    \n",
    "    plt.show()\n",
    "    \n",
    "#RandF(dataMatExt, 'dt-mat')\n",
    " \n",
    "#RandF(dataNoValutation, 'rf-noVal')\n",
    "\n",
    "RandF(finalData, 'rf-final')\n"
   ]
  },
  {
   "cell_type": "markdown",
   "metadata": {},
   "source": [
    "Random forest should decrease the variance of the decision tree, but in our case we can see that the improvement is barely noticeable, so that for the class with label 0, the one that gives us more problems, the results remain virtually identical. This may suggest that the problem with our classifier is not an optimal correlation between the predictors and the outcomes we are looking for, as we assumed at the beginning of this research.\n",
    "\n",
    "However, it may be useful to observe how the optimal parameters found on the validation set are applied with an increasing number of trees (parameter *n_estimator*) and see if this change can lead to improvements of some kind."
   ]
  },
  {
   "cell_type": "code",
   "execution_count": 20,
   "metadata": {},
   "outputs": [
    {
     "name": "stdout",
     "output_type": "stream",
     "text": [
      "\n"
     ]
    },
    {
     "data": {
      "application/vnd.plotly.v1+json": {
       "config": {
        "plotlyServerURL": "https://plot.ly"
       },
       "data": [
        {
         "marker": {
          "color": "blue",
          "size": 12
         },
         "mode": "lines+markers",
         "name": "Features ranking",
         "type": "scatter",
         "x": [
          100,
          200,
          300,
          400,
          500,
          600,
          700,
          800,
          900,
          1000
         ],
         "y": [
          0.8096385542168676,
          0.8144291451520367,
          0.8168244406196212,
          0.8144291451520367,
          0.819219736087206,
          0.8168244406196215,
          0.8168387837062536,
          0.8168244406196215,
          0.8156052782558806,
          0.8168387837062536
         ]
        }
       ],
       "layout": {
        "template": {
         "data": {
          "bar": [
           {
            "error_x": {
             "color": "#2a3f5f"
            },
            "error_y": {
             "color": "#2a3f5f"
            },
            "marker": {
             "line": {
              "color": "#E5ECF6",
              "width": 0.5
             }
            },
            "type": "bar"
           }
          ],
          "barpolar": [
           {
            "marker": {
             "line": {
              "color": "#E5ECF6",
              "width": 0.5
             }
            },
            "type": "barpolar"
           }
          ],
          "carpet": [
           {
            "aaxis": {
             "endlinecolor": "#2a3f5f",
             "gridcolor": "white",
             "linecolor": "white",
             "minorgridcolor": "white",
             "startlinecolor": "#2a3f5f"
            },
            "baxis": {
             "endlinecolor": "#2a3f5f",
             "gridcolor": "white",
             "linecolor": "white",
             "minorgridcolor": "white",
             "startlinecolor": "#2a3f5f"
            },
            "type": "carpet"
           }
          ],
          "choropleth": [
           {
            "colorbar": {
             "outlinewidth": 0,
             "ticks": ""
            },
            "type": "choropleth"
           }
          ],
          "contour": [
           {
            "colorbar": {
             "outlinewidth": 0,
             "ticks": ""
            },
            "colorscale": [
             [
              0,
              "#0d0887"
             ],
             [
              0.1111111111111111,
              "#46039f"
             ],
             [
              0.2222222222222222,
              "#7201a8"
             ],
             [
              0.3333333333333333,
              "#9c179e"
             ],
             [
              0.4444444444444444,
              "#bd3786"
             ],
             [
              0.5555555555555556,
              "#d8576b"
             ],
             [
              0.6666666666666666,
              "#ed7953"
             ],
             [
              0.7777777777777778,
              "#fb9f3a"
             ],
             [
              0.8888888888888888,
              "#fdca26"
             ],
             [
              1,
              "#f0f921"
             ]
            ],
            "type": "contour"
           }
          ],
          "contourcarpet": [
           {
            "colorbar": {
             "outlinewidth": 0,
             "ticks": ""
            },
            "type": "contourcarpet"
           }
          ],
          "heatmap": [
           {
            "colorbar": {
             "outlinewidth": 0,
             "ticks": ""
            },
            "colorscale": [
             [
              0,
              "#0d0887"
             ],
             [
              0.1111111111111111,
              "#46039f"
             ],
             [
              0.2222222222222222,
              "#7201a8"
             ],
             [
              0.3333333333333333,
              "#9c179e"
             ],
             [
              0.4444444444444444,
              "#bd3786"
             ],
             [
              0.5555555555555556,
              "#d8576b"
             ],
             [
              0.6666666666666666,
              "#ed7953"
             ],
             [
              0.7777777777777778,
              "#fb9f3a"
             ],
             [
              0.8888888888888888,
              "#fdca26"
             ],
             [
              1,
              "#f0f921"
             ]
            ],
            "type": "heatmap"
           }
          ],
          "heatmapgl": [
           {
            "colorbar": {
             "outlinewidth": 0,
             "ticks": ""
            },
            "colorscale": [
             [
              0,
              "#0d0887"
             ],
             [
              0.1111111111111111,
              "#46039f"
             ],
             [
              0.2222222222222222,
              "#7201a8"
             ],
             [
              0.3333333333333333,
              "#9c179e"
             ],
             [
              0.4444444444444444,
              "#bd3786"
             ],
             [
              0.5555555555555556,
              "#d8576b"
             ],
             [
              0.6666666666666666,
              "#ed7953"
             ],
             [
              0.7777777777777778,
              "#fb9f3a"
             ],
             [
              0.8888888888888888,
              "#fdca26"
             ],
             [
              1,
              "#f0f921"
             ]
            ],
            "type": "heatmapgl"
           }
          ],
          "histogram": [
           {
            "marker": {
             "colorbar": {
              "outlinewidth": 0,
              "ticks": ""
             }
            },
            "type": "histogram"
           }
          ],
          "histogram2d": [
           {
            "colorbar": {
             "outlinewidth": 0,
             "ticks": ""
            },
            "colorscale": [
             [
              0,
              "#0d0887"
             ],
             [
              0.1111111111111111,
              "#46039f"
             ],
             [
              0.2222222222222222,
              "#7201a8"
             ],
             [
              0.3333333333333333,
              "#9c179e"
             ],
             [
              0.4444444444444444,
              "#bd3786"
             ],
             [
              0.5555555555555556,
              "#d8576b"
             ],
             [
              0.6666666666666666,
              "#ed7953"
             ],
             [
              0.7777777777777778,
              "#fb9f3a"
             ],
             [
              0.8888888888888888,
              "#fdca26"
             ],
             [
              1,
              "#f0f921"
             ]
            ],
            "type": "histogram2d"
           }
          ],
          "histogram2dcontour": [
           {
            "colorbar": {
             "outlinewidth": 0,
             "ticks": ""
            },
            "colorscale": [
             [
              0,
              "#0d0887"
             ],
             [
              0.1111111111111111,
              "#46039f"
             ],
             [
              0.2222222222222222,
              "#7201a8"
             ],
             [
              0.3333333333333333,
              "#9c179e"
             ],
             [
              0.4444444444444444,
              "#bd3786"
             ],
             [
              0.5555555555555556,
              "#d8576b"
             ],
             [
              0.6666666666666666,
              "#ed7953"
             ],
             [
              0.7777777777777778,
              "#fb9f3a"
             ],
             [
              0.8888888888888888,
              "#fdca26"
             ],
             [
              1,
              "#f0f921"
             ]
            ],
            "type": "histogram2dcontour"
           }
          ],
          "mesh3d": [
           {
            "colorbar": {
             "outlinewidth": 0,
             "ticks": ""
            },
            "type": "mesh3d"
           }
          ],
          "parcoords": [
           {
            "line": {
             "colorbar": {
              "outlinewidth": 0,
              "ticks": ""
             }
            },
            "type": "parcoords"
           }
          ],
          "pie": [
           {
            "automargin": true,
            "type": "pie"
           }
          ],
          "scatter": [
           {
            "marker": {
             "colorbar": {
              "outlinewidth": 0,
              "ticks": ""
             }
            },
            "type": "scatter"
           }
          ],
          "scatter3d": [
           {
            "line": {
             "colorbar": {
              "outlinewidth": 0,
              "ticks": ""
             }
            },
            "marker": {
             "colorbar": {
              "outlinewidth": 0,
              "ticks": ""
             }
            },
            "type": "scatter3d"
           }
          ],
          "scattercarpet": [
           {
            "marker": {
             "colorbar": {
              "outlinewidth": 0,
              "ticks": ""
             }
            },
            "type": "scattercarpet"
           }
          ],
          "scattergeo": [
           {
            "marker": {
             "colorbar": {
              "outlinewidth": 0,
              "ticks": ""
             }
            },
            "type": "scattergeo"
           }
          ],
          "scattergl": [
           {
            "marker": {
             "colorbar": {
              "outlinewidth": 0,
              "ticks": ""
             }
            },
            "type": "scattergl"
           }
          ],
          "scattermapbox": [
           {
            "marker": {
             "colorbar": {
              "outlinewidth": 0,
              "ticks": ""
             }
            },
            "type": "scattermapbox"
           }
          ],
          "scatterpolar": [
           {
            "marker": {
             "colorbar": {
              "outlinewidth": 0,
              "ticks": ""
             }
            },
            "type": "scatterpolar"
           }
          ],
          "scatterpolargl": [
           {
            "marker": {
             "colorbar": {
              "outlinewidth": 0,
              "ticks": ""
             }
            },
            "type": "scatterpolargl"
           }
          ],
          "scatterternary": [
           {
            "marker": {
             "colorbar": {
              "outlinewidth": 0,
              "ticks": ""
             }
            },
            "type": "scatterternary"
           }
          ],
          "surface": [
           {
            "colorbar": {
             "outlinewidth": 0,
             "ticks": ""
            },
            "colorscale": [
             [
              0,
              "#0d0887"
             ],
             [
              0.1111111111111111,
              "#46039f"
             ],
             [
              0.2222222222222222,
              "#7201a8"
             ],
             [
              0.3333333333333333,
              "#9c179e"
             ],
             [
              0.4444444444444444,
              "#bd3786"
             ],
             [
              0.5555555555555556,
              "#d8576b"
             ],
             [
              0.6666666666666666,
              "#ed7953"
             ],
             [
              0.7777777777777778,
              "#fb9f3a"
             ],
             [
              0.8888888888888888,
              "#fdca26"
             ],
             [
              1,
              "#f0f921"
             ]
            ],
            "type": "surface"
           }
          ],
          "table": [
           {
            "cells": {
             "fill": {
              "color": "#EBF0F8"
             },
             "line": {
              "color": "white"
             }
            },
            "header": {
             "fill": {
              "color": "#C8D4E3"
             },
             "line": {
              "color": "white"
             }
            },
            "type": "table"
           }
          ]
         },
         "layout": {
          "annotationdefaults": {
           "arrowcolor": "#2a3f5f",
           "arrowhead": 0,
           "arrowwidth": 1
          },
          "coloraxis": {
           "colorbar": {
            "outlinewidth": 0,
            "ticks": ""
           }
          },
          "colorscale": {
           "diverging": [
            [
             0,
             "#8e0152"
            ],
            [
             0.1,
             "#c51b7d"
            ],
            [
             0.2,
             "#de77ae"
            ],
            [
             0.3,
             "#f1b6da"
            ],
            [
             0.4,
             "#fde0ef"
            ],
            [
             0.5,
             "#f7f7f7"
            ],
            [
             0.6,
             "#e6f5d0"
            ],
            [
             0.7,
             "#b8e186"
            ],
            [
             0.8,
             "#7fbc41"
            ],
            [
             0.9,
             "#4d9221"
            ],
            [
             1,
             "#276419"
            ]
           ],
           "sequential": [
            [
             0,
             "#0d0887"
            ],
            [
             0.1111111111111111,
             "#46039f"
            ],
            [
             0.2222222222222222,
             "#7201a8"
            ],
            [
             0.3333333333333333,
             "#9c179e"
            ],
            [
             0.4444444444444444,
             "#bd3786"
            ],
            [
             0.5555555555555556,
             "#d8576b"
            ],
            [
             0.6666666666666666,
             "#ed7953"
            ],
            [
             0.7777777777777778,
             "#fb9f3a"
            ],
            [
             0.8888888888888888,
             "#fdca26"
            ],
            [
             1,
             "#f0f921"
            ]
           ],
           "sequentialminus": [
            [
             0,
             "#0d0887"
            ],
            [
             0.1111111111111111,
             "#46039f"
            ],
            [
             0.2222222222222222,
             "#7201a8"
            ],
            [
             0.3333333333333333,
             "#9c179e"
            ],
            [
             0.4444444444444444,
             "#bd3786"
            ],
            [
             0.5555555555555556,
             "#d8576b"
            ],
            [
             0.6666666666666666,
             "#ed7953"
            ],
            [
             0.7777777777777778,
             "#fb9f3a"
            ],
            [
             0.8888888888888888,
             "#fdca26"
            ],
            [
             1,
             "#f0f921"
            ]
           ]
          },
          "colorway": [
           "#636efa",
           "#EF553B",
           "#00cc96",
           "#ab63fa",
           "#FFA15A",
           "#19d3f3",
           "#FF6692",
           "#B6E880",
           "#FF97FF",
           "#FECB52"
          ],
          "font": {
           "color": "#2a3f5f"
          },
          "geo": {
           "bgcolor": "white",
           "lakecolor": "white",
           "landcolor": "#E5ECF6",
           "showlakes": true,
           "showland": true,
           "subunitcolor": "white"
          },
          "hoverlabel": {
           "align": "left"
          },
          "hovermode": "closest",
          "mapbox": {
           "style": "light"
          },
          "paper_bgcolor": "white",
          "plot_bgcolor": "#E5ECF6",
          "polar": {
           "angularaxis": {
            "gridcolor": "white",
            "linecolor": "white",
            "ticks": ""
           },
           "bgcolor": "#E5ECF6",
           "radialaxis": {
            "gridcolor": "white",
            "linecolor": "white",
            "ticks": ""
           }
          },
          "scene": {
           "xaxis": {
            "backgroundcolor": "#E5ECF6",
            "gridcolor": "white",
            "gridwidth": 2,
            "linecolor": "white",
            "showbackground": true,
            "ticks": "",
            "zerolinecolor": "white"
           },
           "yaxis": {
            "backgroundcolor": "#E5ECF6",
            "gridcolor": "white",
            "gridwidth": 2,
            "linecolor": "white",
            "showbackground": true,
            "ticks": "",
            "zerolinecolor": "white"
           },
           "zaxis": {
            "backgroundcolor": "#E5ECF6",
            "gridcolor": "white",
            "gridwidth": 2,
            "linecolor": "white",
            "showbackground": true,
            "ticks": "",
            "zerolinecolor": "white"
           }
          },
          "shapedefaults": {
           "line": {
            "color": "#2a3f5f"
           }
          },
          "ternary": {
           "aaxis": {
            "gridcolor": "white",
            "linecolor": "white",
            "ticks": ""
           },
           "baxis": {
            "gridcolor": "white",
            "linecolor": "white",
            "ticks": ""
           },
           "bgcolor": "#E5ECF6",
           "caxis": {
            "gridcolor": "white",
            "linecolor": "white",
            "ticks": ""
           }
          },
          "title": {
           "x": 0.05
          },
          "xaxis": {
           "automargin": true,
           "gridcolor": "white",
           "linecolor": "white",
           "ticks": "",
           "title": {
            "standoff": 15
           },
           "zerolinecolor": "white",
           "zerolinewidth": 2
          },
          "yaxis": {
           "automargin": true,
           "gridcolor": "white",
           "linecolor": "white",
           "ticks": "",
           "title": {
            "standoff": 15
           },
           "zerolinecolor": "white",
           "zerolinewidth": 2
          }
         }
        },
        "title": {
         "text": "Random forest results with optimal params"
        },
        "xaxis": {
         "title": {
          "text": "Number of Estimators"
         }
        },
        "yaxis": {
         "title": {
          "text": "Accuracy"
         }
        }
       }
      },
      "text/html": [
       "<div>\n",
       "        \n",
       "        \n",
       "            <div id=\"7003dbd4-c182-420c-aa31-319ebcb9f0f7\" class=\"plotly-graph-div\" style=\"height:525px; width:100%;\"></div>\n",
       "            <script type=\"text/javascript\">\n",
       "                require([\"plotly\"], function(Plotly) {\n",
       "                    window.PLOTLYENV=window.PLOTLYENV || {};\n",
       "                    \n",
       "                if (document.getElementById(\"7003dbd4-c182-420c-aa31-319ebcb9f0f7\")) {\n",
       "                    Plotly.newPlot(\n",
       "                        '7003dbd4-c182-420c-aa31-319ebcb9f0f7',\n",
       "                        [{\"marker\": {\"color\": \"blue\", \"size\": 12}, \"mode\": \"lines+markers\", \"name\": \"Features ranking\", \"type\": \"scatter\", \"x\": [100, 200, 300, 400, 500, 600, 700, 800, 900, 1000], \"y\": [0.8096385542168676, 0.8144291451520367, 0.8168244406196212, 0.8144291451520367, 0.819219736087206, 0.8168244406196215, 0.8168387837062536, 0.8168244406196215, 0.8156052782558806, 0.8168387837062536]}],\n",
       "                        {\"template\": {\"data\": {\"bar\": [{\"error_x\": {\"color\": \"#2a3f5f\"}, \"error_y\": {\"color\": \"#2a3f5f\"}, \"marker\": {\"line\": {\"color\": \"#E5ECF6\", \"width\": 0.5}}, \"type\": \"bar\"}], \"barpolar\": [{\"marker\": {\"line\": {\"color\": \"#E5ECF6\", \"width\": 0.5}}, \"type\": \"barpolar\"}], \"carpet\": [{\"aaxis\": {\"endlinecolor\": \"#2a3f5f\", \"gridcolor\": \"white\", \"linecolor\": \"white\", \"minorgridcolor\": \"white\", \"startlinecolor\": \"#2a3f5f\"}, \"baxis\": {\"endlinecolor\": \"#2a3f5f\", \"gridcolor\": \"white\", \"linecolor\": \"white\", \"minorgridcolor\": \"white\", \"startlinecolor\": \"#2a3f5f\"}, \"type\": \"carpet\"}], \"choropleth\": [{\"colorbar\": {\"outlinewidth\": 0, \"ticks\": \"\"}, \"type\": \"choropleth\"}], \"contour\": [{\"colorbar\": {\"outlinewidth\": 0, \"ticks\": \"\"}, \"colorscale\": [[0.0, \"#0d0887\"], [0.1111111111111111, \"#46039f\"], [0.2222222222222222, \"#7201a8\"], [0.3333333333333333, \"#9c179e\"], [0.4444444444444444, \"#bd3786\"], [0.5555555555555556, \"#d8576b\"], [0.6666666666666666, \"#ed7953\"], [0.7777777777777778, \"#fb9f3a\"], [0.8888888888888888, \"#fdca26\"], [1.0, \"#f0f921\"]], \"type\": \"contour\"}], \"contourcarpet\": [{\"colorbar\": {\"outlinewidth\": 0, \"ticks\": \"\"}, \"type\": \"contourcarpet\"}], \"heatmap\": [{\"colorbar\": {\"outlinewidth\": 0, \"ticks\": \"\"}, \"colorscale\": [[0.0, \"#0d0887\"], [0.1111111111111111, \"#46039f\"], [0.2222222222222222, \"#7201a8\"], [0.3333333333333333, \"#9c179e\"], [0.4444444444444444, \"#bd3786\"], [0.5555555555555556, \"#d8576b\"], [0.6666666666666666, \"#ed7953\"], [0.7777777777777778, \"#fb9f3a\"], [0.8888888888888888, \"#fdca26\"], [1.0, \"#f0f921\"]], \"type\": \"heatmap\"}], \"heatmapgl\": [{\"colorbar\": {\"outlinewidth\": 0, \"ticks\": \"\"}, \"colorscale\": [[0.0, \"#0d0887\"], [0.1111111111111111, \"#46039f\"], [0.2222222222222222, \"#7201a8\"], [0.3333333333333333, \"#9c179e\"], [0.4444444444444444, \"#bd3786\"], [0.5555555555555556, \"#d8576b\"], [0.6666666666666666, \"#ed7953\"], [0.7777777777777778, \"#fb9f3a\"], [0.8888888888888888, \"#fdca26\"], [1.0, \"#f0f921\"]], \"type\": \"heatmapgl\"}], \"histogram\": [{\"marker\": {\"colorbar\": {\"outlinewidth\": 0, \"ticks\": \"\"}}, \"type\": \"histogram\"}], \"histogram2d\": [{\"colorbar\": {\"outlinewidth\": 0, \"ticks\": \"\"}, \"colorscale\": [[0.0, \"#0d0887\"], [0.1111111111111111, \"#46039f\"], [0.2222222222222222, \"#7201a8\"], [0.3333333333333333, \"#9c179e\"], [0.4444444444444444, \"#bd3786\"], [0.5555555555555556, \"#d8576b\"], [0.6666666666666666, \"#ed7953\"], [0.7777777777777778, \"#fb9f3a\"], [0.8888888888888888, \"#fdca26\"], [1.0, \"#f0f921\"]], \"type\": \"histogram2d\"}], \"histogram2dcontour\": [{\"colorbar\": {\"outlinewidth\": 0, \"ticks\": \"\"}, \"colorscale\": [[0.0, \"#0d0887\"], [0.1111111111111111, \"#46039f\"], [0.2222222222222222, \"#7201a8\"], [0.3333333333333333, \"#9c179e\"], [0.4444444444444444, \"#bd3786\"], [0.5555555555555556, \"#d8576b\"], [0.6666666666666666, \"#ed7953\"], [0.7777777777777778, \"#fb9f3a\"], [0.8888888888888888, \"#fdca26\"], [1.0, \"#f0f921\"]], \"type\": \"histogram2dcontour\"}], \"mesh3d\": [{\"colorbar\": {\"outlinewidth\": 0, \"ticks\": \"\"}, \"type\": \"mesh3d\"}], \"parcoords\": [{\"line\": {\"colorbar\": {\"outlinewidth\": 0, \"ticks\": \"\"}}, \"type\": \"parcoords\"}], \"pie\": [{\"automargin\": true, \"type\": \"pie\"}], \"scatter\": [{\"marker\": {\"colorbar\": {\"outlinewidth\": 0, \"ticks\": \"\"}}, \"type\": \"scatter\"}], \"scatter3d\": [{\"line\": {\"colorbar\": {\"outlinewidth\": 0, \"ticks\": \"\"}}, \"marker\": {\"colorbar\": {\"outlinewidth\": 0, \"ticks\": \"\"}}, \"type\": \"scatter3d\"}], \"scattercarpet\": [{\"marker\": {\"colorbar\": {\"outlinewidth\": 0, \"ticks\": \"\"}}, \"type\": \"scattercarpet\"}], \"scattergeo\": [{\"marker\": {\"colorbar\": {\"outlinewidth\": 0, \"ticks\": \"\"}}, \"type\": \"scattergeo\"}], \"scattergl\": [{\"marker\": {\"colorbar\": {\"outlinewidth\": 0, \"ticks\": \"\"}}, \"type\": \"scattergl\"}], \"scattermapbox\": [{\"marker\": {\"colorbar\": {\"outlinewidth\": 0, \"ticks\": \"\"}}, \"type\": \"scattermapbox\"}], \"scatterpolar\": [{\"marker\": {\"colorbar\": {\"outlinewidth\": 0, \"ticks\": \"\"}}, \"type\": \"scatterpolar\"}], \"scatterpolargl\": [{\"marker\": {\"colorbar\": {\"outlinewidth\": 0, \"ticks\": \"\"}}, \"type\": \"scatterpolargl\"}], \"scatterternary\": [{\"marker\": {\"colorbar\": {\"outlinewidth\": 0, \"ticks\": \"\"}}, \"type\": \"scatterternary\"}], \"surface\": [{\"colorbar\": {\"outlinewidth\": 0, \"ticks\": \"\"}, \"colorscale\": [[0.0, \"#0d0887\"], [0.1111111111111111, \"#46039f\"], [0.2222222222222222, \"#7201a8\"], [0.3333333333333333, \"#9c179e\"], [0.4444444444444444, \"#bd3786\"], [0.5555555555555556, \"#d8576b\"], [0.6666666666666666, \"#ed7953\"], [0.7777777777777778, \"#fb9f3a\"], [0.8888888888888888, \"#fdca26\"], [1.0, \"#f0f921\"]], \"type\": \"surface\"}], \"table\": [{\"cells\": {\"fill\": {\"color\": \"#EBF0F8\"}, \"line\": {\"color\": \"white\"}}, \"header\": {\"fill\": {\"color\": \"#C8D4E3\"}, \"line\": {\"color\": \"white\"}}, \"type\": \"table\"}]}, \"layout\": {\"annotationdefaults\": {\"arrowcolor\": \"#2a3f5f\", \"arrowhead\": 0, \"arrowwidth\": 1}, \"coloraxis\": {\"colorbar\": {\"outlinewidth\": 0, \"ticks\": \"\"}}, \"colorscale\": {\"diverging\": [[0, \"#8e0152\"], [0.1, \"#c51b7d\"], [0.2, \"#de77ae\"], [0.3, \"#f1b6da\"], [0.4, \"#fde0ef\"], [0.5, \"#f7f7f7\"], [0.6, \"#e6f5d0\"], [0.7, \"#b8e186\"], [0.8, \"#7fbc41\"], [0.9, \"#4d9221\"], [1, \"#276419\"]], \"sequential\": [[0.0, \"#0d0887\"], [0.1111111111111111, \"#46039f\"], [0.2222222222222222, \"#7201a8\"], [0.3333333333333333, \"#9c179e\"], [0.4444444444444444, \"#bd3786\"], [0.5555555555555556, \"#d8576b\"], [0.6666666666666666, \"#ed7953\"], [0.7777777777777778, \"#fb9f3a\"], [0.8888888888888888, \"#fdca26\"], [1.0, \"#f0f921\"]], \"sequentialminus\": [[0.0, \"#0d0887\"], [0.1111111111111111, \"#46039f\"], [0.2222222222222222, \"#7201a8\"], [0.3333333333333333, \"#9c179e\"], [0.4444444444444444, \"#bd3786\"], [0.5555555555555556, \"#d8576b\"], [0.6666666666666666, \"#ed7953\"], [0.7777777777777778, \"#fb9f3a\"], [0.8888888888888888, \"#fdca26\"], [1.0, \"#f0f921\"]]}, \"colorway\": [\"#636efa\", \"#EF553B\", \"#00cc96\", \"#ab63fa\", \"#FFA15A\", \"#19d3f3\", \"#FF6692\", \"#B6E880\", \"#FF97FF\", \"#FECB52\"], \"font\": {\"color\": \"#2a3f5f\"}, \"geo\": {\"bgcolor\": \"white\", \"lakecolor\": \"white\", \"landcolor\": \"#E5ECF6\", \"showlakes\": true, \"showland\": true, \"subunitcolor\": \"white\"}, \"hoverlabel\": {\"align\": \"left\"}, \"hovermode\": \"closest\", \"mapbox\": {\"style\": \"light\"}, \"paper_bgcolor\": \"white\", \"plot_bgcolor\": \"#E5ECF6\", \"polar\": {\"angularaxis\": {\"gridcolor\": \"white\", \"linecolor\": \"white\", \"ticks\": \"\"}, \"bgcolor\": \"#E5ECF6\", \"radialaxis\": {\"gridcolor\": \"white\", \"linecolor\": \"white\", \"ticks\": \"\"}}, \"scene\": {\"xaxis\": {\"backgroundcolor\": \"#E5ECF6\", \"gridcolor\": \"white\", \"gridwidth\": 2, \"linecolor\": \"white\", \"showbackground\": true, \"ticks\": \"\", \"zerolinecolor\": \"white\"}, \"yaxis\": {\"backgroundcolor\": \"#E5ECF6\", \"gridcolor\": \"white\", \"gridwidth\": 2, \"linecolor\": \"white\", \"showbackground\": true, \"ticks\": \"\", \"zerolinecolor\": \"white\"}, \"zaxis\": {\"backgroundcolor\": \"#E5ECF6\", \"gridcolor\": \"white\", \"gridwidth\": 2, \"linecolor\": \"white\", \"showbackground\": true, \"ticks\": \"\", \"zerolinecolor\": \"white\"}}, \"shapedefaults\": {\"line\": {\"color\": \"#2a3f5f\"}}, \"ternary\": {\"aaxis\": {\"gridcolor\": \"white\", \"linecolor\": \"white\", \"ticks\": \"\"}, \"baxis\": {\"gridcolor\": \"white\", \"linecolor\": \"white\", \"ticks\": \"\"}, \"bgcolor\": \"#E5ECF6\", \"caxis\": {\"gridcolor\": \"white\", \"linecolor\": \"white\", \"ticks\": \"\"}}, \"title\": {\"x\": 0.05}, \"xaxis\": {\"automargin\": true, \"gridcolor\": \"white\", \"linecolor\": \"white\", \"ticks\": \"\", \"title\": {\"standoff\": 15}, \"zerolinecolor\": \"white\", \"zerolinewidth\": 2}, \"yaxis\": {\"automargin\": true, \"gridcolor\": \"white\", \"linecolor\": \"white\", \"ticks\": \"\", \"title\": {\"standoff\": 15}, \"zerolinecolor\": \"white\", \"zerolinewidth\": 2}}}, \"title\": {\"text\": \"Random forest results with optimal params\"}, \"xaxis\": {\"title\": {\"text\": \"Number of Estimators\"}}, \"yaxis\": {\"title\": {\"text\": \"Accuracy\"}}},\n",
       "                        {\"responsive\": true}\n",
       "                    ).then(function(){\n",
       "                            \n",
       "var gd = document.getElementById('7003dbd4-c182-420c-aa31-319ebcb9f0f7');\n",
       "var x = new MutationObserver(function (mutations, observer) {{\n",
       "        var display = window.getComputedStyle(gd).display;\n",
       "        if (!display || display === 'none') {{\n",
       "            console.log([gd, 'removed!']);\n",
       "            Plotly.purge(gd);\n",
       "            observer.disconnect();\n",
       "        }}\n",
       "}});\n",
       "\n",
       "// Listen for the removal of the full notebook cells\n",
       "var notebookContainer = gd.closest('#notebook-container');\n",
       "if (notebookContainer) {{\n",
       "    x.observe(notebookContainer, {childList: true});\n",
       "}}\n",
       "\n",
       "// Listen for the clearing of the current output cell\n",
       "var outputEl = gd.closest('.output');\n",
       "if (outputEl) {{\n",
       "    x.observe(outputEl, {childList: true});\n",
       "}}\n",
       "\n",
       "                        })\n",
       "                };\n",
       "                });\n",
       "            </script>\n",
       "        </div>"
      ]
     },
     "metadata": {},
     "output_type": "display_data"
    }
   ],
   "source": [
    "def RandF_Estimators(data):\n",
    "    \n",
    "    y_data = data.loc[:,['G3']]\n",
    "    x_data = data.loc[:, data.columns != 'G3']\n",
    "    \n",
    "    x_train, x_test, y_train, y_test = train_test_split(x_data, y_data, test_size=0.2, random_state=42)\n",
    "\n",
    "    clf = RandomForestClassifier()\n",
    "    \n",
    "    \n",
    "    parameters = rf_params\n",
    "    parameters['n_estimators'] = [100, 200, 300, 400, 500, 600, 700, 800, 900, 1000]\n",
    "    \n",
    "\n",
    "    gs = GridSearchCV(clf, parameters, cv=10 )\n",
    "    #gs = GridSearchCV(clf, parameters, cv=10, scoring='f1' )\n",
    "    \n",
    "    gs.fit(x_train, y_train.values.ravel())\n",
    "    \n",
    "    y_pred = gs.predict(x_test)\n",
    "    \n",
    "    #print('The accuracy of Random Forest model is %.5f' %gs.score(x_test, y_test))\n",
    "    \n",
    "        \n",
    "    means = gs.cv_results_['mean_test_score']\n",
    "    stds = gs.cv_results_['std_test_score']\n",
    "    xval = []\n",
    "    yval = []\n",
    "    for mean, std, params in zip(means, stds, gs.cv_results_['params']):\n",
    "        xval.append(params['n_estimators'])\n",
    "        yval.append(mean)\n",
    "    print()\n",
    "    \n",
    "    \n",
    "    \n",
    "    fig = go.Figure()\n",
    "\n",
    "    fig.add_trace(go.Scatter(\n",
    "        x=xval,\n",
    "        y=yval,\n",
    "        marker=dict(color=\"blue\", size=12),\n",
    "        mode='lines+markers',\n",
    "        name=\"Features ranking\",\n",
    "    ))\n",
    "\n",
    "    fig.update_layout(\n",
    "        title=\"Random forest results with optimal params\",\n",
    "        xaxis_title=\"Number of Estimators\",\n",
    "        yaxis_title = 'Accuracy'\n",
    "    )\n",
    "    fig.show()\n",
    "    \n",
    "RandF_Estimators(finalData) \n"
   ]
  },
  {
   "cell_type": "markdown",
   "metadata": {},
   "source": [
    "Not even this experiment has led to the hoped-for results, in fact the accuracy variation seems to be quite random and in such a small range that it cannot allow observations worthy of note or justifying changes in the chosen model. I am therefore satisfied with the parameters found in the first phase of the research.\n",
    "\n",
    "\n",
    "### Support Vector Machine\n",
    "\n",
    "**SVM** or *Support Vector Machine* is a model that allows to find the hyperplan that separates the points of our dataset in the two classes we decided, not only separating them but with the maximum possible margin. The points that reside on the margin are called support vector and are the only ones that influence the choice of decision boundaries.\n",
    "\n",
    "The decision boundaries can be simply linear, so we are talking about a linear SVM, or if we are in the presence of data linearly not separable we can use the kernel trick, i.e. bring the data in a space with an extra dimension in which they will be linearly separable $x->\\phi(x)$.\n",
    "To do this we need to map the features in a higher dimensional space, this will obviously imply that in the original dimension the decision boundaries will no longer be linear.\n",
    "\n",
    "To simplify the calculations since the features are only inside the inner product, instead of calculating $\\phi$ for each $x$, you can apply the kernel function whose result corresponds to the inner product of the features, this greatly simplifies the situation. \n",
    "\n",
    "$$Kernel function: K(x1,x2) = \\phi(x_1)^T\\phi(x_2)$$\n",
    "\n",
    "Kernel function used will be one of the parameters that we will be tuning in our SVC (Support Vector Classification), along with the others listed below:\n",
    "\n",
    "+ **kernel** : default='rbf'\n",
    "        Specifies the kernel type to be used in the algorithm. \n",
    "        value = ( \n",
    "            'linear' : linear kernel -> \n",
    "$$K(x1,x2)=x1*x2$$      \n",
    "            'rbf' : radial basis function -> \n",
    "$$K(x1,x2)=exp(−γ(∥x1−x2∥^2)$$\n",
    "            )\n",
    "            \n",
    "+ **C** : default=1.0\n",
    "        Regularization parameter. The strength of the regularization is inversely proportional to C. Must be strictly positive. The penalty is a squared l2 penalty.\n",
    "        value = (0.01, 0.1, 1, 10, 100, 1000)\n",
    "        \n",
    "+ **gamma** : default= 'scale'\n",
    "        Kernel coefficient for 'rbf' and other kernel, ignored by linear kernel.\n",
    "        value = (1e-3, 1e-4, 1e-5)"
   ]
  },
  {
   "cell_type": "code",
   "execution_count": 21,
   "metadata": {},
   "outputs": [
    {
     "name": "stdout",
     "output_type": "stream",
     "text": [
      "Best accuracy score obtained with cross-validation is: 0.8228  (+/- 0.0631)  obtained with params: {'C': 100, 'gamma': 0.0001, 'kernel': 'rbf'}\n",
      "\n",
      "              precision    recall  f1-score   support\n",
      "\n",
      "           0       0.53      0.17      0.25        60\n",
      "           1       0.74      0.94      0.83       149\n",
      "\n",
      "    accuracy                           0.72       209\n",
      "   macro avg       0.63      0.55      0.54       209\n",
      "weighted avg       0.68      0.72      0.66       209\n",
      "\n"
     ]
    },
    {
     "data": {
      "image/png": "[encoded data removed]",
      "text/plain": [
       "<Figure size 432x288 with 2 Axes>"
      ]
     },
     "metadata": {
      "needs_background": "light"
     },
     "output_type": "display_data"
    }
   ],
   "source": [
    "def mySVC(data, label):\n",
    "    \n",
    "    y_data = data.loc[:,['G3']]\n",
    "    x_data = data.loc[:, data.columns != 'G3']\n",
    "    \n",
    "    x_train, x_test, y_train, y_test = train_test_split(x_data, y_data, test_size=0.2, random_state=42)\n",
    "\n",
    "    clf = SVC(probability=True)\n",
    "    \n",
    "    parameters = [{'kernel': ['rbf'], 'gamma': [1e-3, 1e-4, 1e-5], 'C': [0.1, 1, 10, 100, 1000]},\n",
    "                    {'kernel': ['linear'], 'C': [0.01, 0.1, 1, 10, 100]}]\n",
    "    #parameters = [{'kernel': ['linear'], 'C': [1]}]\n",
    "    \n",
    "    #gs = GridSearchCV(clf, parameters, cv=10, scoring='f1' )\n",
    "    gs = GridSearchCV(clf, parameters, cv=10 )\n",
    "    \n",
    "    gs.fit(x_train, y_train.values.ravel())\n",
    "    \n",
    "    y_pred = gs.predict(x_test)\n",
    "    \n",
    "    #print('The accuracy of SVM model is %.5f' %gs.score(x_test, y_test))\n",
    "    print('Best accuracy score obtained with cross-validation is: %.4f  (+/- %.4f)  obtained with params: %r' %(gs.best_score_, gs.cv_results_['std_test_score'][gs.best_index_] *2, gs.best_params_ ))\n",
    "    print()\n",
    "    print(classification_report(y_test, y_pred))\n",
    "    \n",
    "    '''\n",
    "    means = gs.cv_results_['mean_test_score']\n",
    "    stds = gs.cv_results_['std_test_score']\n",
    "    for mean, std, params in zip(means, stds, gs.cv_results_['params']):\n",
    "        print(\"%0.3f (+/-%0.03f) for %r\"\n",
    "              % (mean, std * 2, params))\n",
    "    print()\n",
    "    '''\n",
    "    \n",
    "    best_estimators[label] = gs.best_estimator_\n",
    "    \n",
    "    value_comparison_w['accuracy'].append(round(accuracy_score(y_test, y_pred), 3))\n",
    "    value_comparison_w['precision'].append(round(precision_score(y_test, y_pred, average='weighted'), 3))\n",
    "    value_comparison_w['recall'].append(round(recall_score(y_test, y_pred, average='weighted'),3))\n",
    "    value_comparison_w['f1'].append(round(f1_score(y_test, y_pred, average='weighted'), 3))\n",
    "    \n",
    "    value_comparison_macro['accuracy'].append(round(accuracy_score(y_test, y_pred), 3))\n",
    "    value_comparison_macro['precision'].append(round(precision_score(y_test, y_pred, average='macro'), 3))\n",
    "    value_comparison_macro['recall'].append(round(recall_score(y_test, y_pred, average='macro'),3))\n",
    "    value_comparison_macro['f1'].append(round(f1_score(y_test, y_pred, average='macro'), 3))\n",
    "    \n",
    "    disp = plot_confusion_matrix(gs, x_test, y_test, cmap=plt.cm.YlOrRd, values_format = 'g')\n",
    "    disp.ax_.set_title('Confusion Matrix')\n",
    "    \n",
    "    plt.show()\n",
    "    \n",
    "\n",
    "#mySVC(dataNoValutation, 'svm-noVal')\n",
    "mySVC(finalData, 'svm-final')"
   ]
  },
  {
   "cell_type": "markdown",
   "metadata": {},
   "source": [
    "As it was predictable also our SVC didn't have results that were too far away from the other classifiers, on the contrary from the gridsearch it emerged that between all set of parameters the results always remained very similar, showing that with our dataset we couldn't have obtained better results from our classifier. In particular the recall for class 0 is one of the worst, a symptom of how more complex classifiers do not work at all well on our dataset.\n",
    "\n",
    "\n",
    "\n",
    "\n",
    "## Comparison between classifier\n",
    "\n",
    "Let's go then to analyze at the end of this path what could be the most suitable classifier that I would choose in case this problem was submitted to me and I should get the best possible results. \n",
    "\n",
    "To compare the various results I will use different metrics that I have already shown previously plus a new one, which I will introduce in the next lines.\n",
    "\n",
    "### ROC curve\n",
    "The **ROC curve** or **Receiver Operating Characteristics curve**  is another highly regarded measure when it comes to evaluating the effectiveness of a classifier and is based on the total proportion of correctly classified samples.\n",
    "\n",
    "The two concepts that characterize it are :\n",
    "+ *true positive rate* or *sensitivity*, indicates the proportion of positives identified with respect to samples that are really positive.\n",
    "+ *false positive rate*, which instead indicates the samples identified as positve, but which instead belong to the negative population. It is also called 1-specificity, where specificity equals the true negative rate.\n",
    "\n",
    "The graph representing the ROC curves goes to show the relationship between these two measures without obviously knowing the threshold that will be established to assign the positive class, so in our case it will be 0.50.\n",
    "The measure that indicates the goodness of a classifier is the **AUC** or *Area Under the Curve*, that summarizes his performance over all possible probability cutoffs (various possible threshold), the greater is this area, the better is the performance of the classifier under examination. The AUC of a random classifier is 0.5 and its roc curve is represented by the dashed line, on the contrary the jagged curved lines represent the various classifiers used that tend to the optimal point located at the top left of the graph, where obviously we have 1 of true positive rate and 0 of false positive rate."
   ]
  },
  {
   "cell_type": "code",
   "execution_count": 22,
   "metadata": {
    "scrolled": false
   },
   "outputs": [
    {
     "data": {
      "image/png": "[encoded data removed]",
      "text/plain": [
       "<Figure size 432x288 with 1 Axes>"
      ]
     },
     "metadata": {
      "needs_background": "light"
     },
     "output_type": "display_data"
    }
   ],
   "source": [
    "'''\n",
    " logit_roc_auc = roc_auc_score(y_test, y_pred)\n",
    "    fpr, tpr, thresholds = roc_curve(y_test, gs.predict_proba(x_test)[:,1])\n",
    "    plt.figure()\n",
    "    plt.plot(fpr, tpr, label='Logistic Regression class 1 (area = %0.2f)' % logit_roc_auc)\n",
    "    plt.plot(fnr, tnr, label='Logistic Regression class 0 (area = %0.2f)' % logit_roc_auc)\n",
    "    plt.plot([0, 1], [0, 1],'r--')\n",
    "    plt.xlim([0.0, 1.0])\n",
    "    plt.ylim([0.0, 1.05])\n",
    "    plt.xlabel('False Positive Rate')\n",
    "    plt.ylabel('True Positive Rate')\n",
    "    plt.title('Receiver operating characteristic')\n",
    "    plt.legend(loc=\"lower right\")\n",
    "    plt.show()    \n",
    "'''\n",
    "\n",
    "y_data = finalData.loc[:,['G3']]\n",
    "x_data = finalData.loc[:, finalData.columns != 'G3']\n",
    "\n",
    "x_train, x_test, y_train, y_test = train_test_split(x_data, y_data, test_size=0.2, random_state=42)\n",
    "y_test_roc = []\n",
    "\n",
    "#print(y_test.values.ravel())\n",
    "\n",
    "for n in y_test.values.ravel():\n",
    "    if(n):\n",
    "        y_test_roc.append([0,1])\n",
    "    else:\n",
    "        y_test_roc.append([1,0])\n",
    "#np.array([([0, 1] if y else [1, 0]) for y in y_test])\n",
    "    \n",
    "plt.figure()\n",
    "lw = 2\n",
    "aucs = []\n",
    "\n",
    "#print(y_test_roc)\n",
    "#print(clf.predict_proba(x_test).ravel())\n",
    "#print(clf.predict_proba(x_test))\n",
    "\n",
    "#print(clf.predict_proba(x_test)[:, 0])\n",
    "\n",
    "colors = ['b','g', 'r', 'y', 'k', 'w']\n",
    "cont = 0\n",
    "for label, clf in best_estimators.items():\n",
    "    fpr = dict()\n",
    "    tpr = dict()\n",
    "    roc_auc = dict()\n",
    "    score = clf.predict_proba(x_test)\n",
    "    for i in range(2):\n",
    "        fpr[i], tpr[i], _ = roc_curve([tup[i] for tup in y_test_roc], score[:, i])\n",
    "        roc_auc[i] = auc(fpr[i], tpr[i])\n",
    "        \n",
    "    #print(type(clf.predict_proba(x_test).ravel()))\n",
    "\n",
    "    # Compute micro-average ROC curve and ROC area\n",
    "    y_test_roc_ravel = []\n",
    "    for (f,s) in y_test_roc:\n",
    "        y_test_roc_ravel.append(f)\n",
    "        y_test_roc_ravel.append(s)\n",
    "        \n",
    "    \n",
    "    fpr[\"micro\"], tpr[\"micro\"], _ = roc_curve(y_test_roc_ravel, score.ravel())\n",
    "    roc_auc[\"micro\"] = auc(fpr[\"micro\"], tpr[\"micro\"])\n",
    "    #aucs.append(roc_auc['micro'])\n",
    "    value_comparison_w['roc'].append(round(roc_auc['micro'], 3))\n",
    "    value_comparison_macro['roc'].append(round(roc_auc['micro'], 3))\n",
    "    \n",
    "    plt.plot(fpr['micro'], tpr['micro'], color=colors[cont], label='ROC %s curve (area = %0.2f)' %(label, roc_auc[\"micro\"]))\n",
    "    cont+= 1\n",
    "\n",
    "\n",
    "plt.plot([0, 1], [0, 1], color='navy', lw=lw, linestyle='--')\n",
    "plt.xlim([0.0, 1.0])\n",
    "plt.ylim([0.0, 1.05])\n",
    "plt.xlabel('False Positive Rate')\n",
    "plt.ylabel('True Positive Rate')\n",
    "plt.title('Receiver operating characteristic example')\n",
    "plt.legend(loc=\"lower right\")\n",
    "\n",
    "plt.show()\n",
    "\n"
   ]
  },
  {
   "cell_type": "markdown",
   "metadata": {},
   "source": [
    "As we can see the various classifiers don't stand out too much even in this metric, with Logistic Regression and Random Forest performing slightly better.\n",
    "Let's take all the data collected so far and put them in tables to help us visualize the whole thing.\n"
   ]
  },
  {
   "cell_type": "code",
   "execution_count": 23,
   "metadata": {
    "scrolled": false
   },
   "outputs": [
    {
     "data": {
      "application/vnd.plotly.v1+json": {
       "config": {
        "plotlyServerURL": "https://plot.ly"
       },
       "data": [
        {
         "cells": {
          "align": "left",
          "fill": {
           "color": [
            "paleturquoise",
            "white",
            "rgb(239, 243, 255)",
            "white",
            "rgb(239, 243, 255)"
           ]
          },
          "line": {
           "color": "darkslategray"
          },
          "values": [
           [
            "Logistic Regression",
            "Decision Tree",
            "Random Forest",
            "Support Vector Classifier"
           ],
           [
            0.756,
            0.703,
            0.722,
            0.718
           ],
           [
            0.724,
            0.666,
            0.694,
            0.676
           ],
           [
            0.756,
            0.703,
            0.722,
            0.718
           ],
           [
            0.705,
            0.671,
            0.695,
            0.662
           ],
           [
            0.794,
            0.772,
            0.779,
            0.75
           ]
          ]
         },
         "columnwidth": [
          120,
          80,
          80,
          80,
          80,
          80
         ],
         "header": {
          "align": "center",
          "fill": {
           "color": "paleturquoise"
          },
          "font": {
           "size": 14
          },
          "line": {
           "color": "darkslategray"
          },
          "values": [
           "Weighted average",
           "accuracy",
           "precision",
           "recall",
           "f1",
           "roc"
          ]
         },
         "type": "table"
        }
       ],
       "layout": {
        "height": 300,
        "template": {
         "data": {
          "bar": [
           {
            "error_x": {
             "color": "#2a3f5f"
            },
            "error_y": {
             "color": "#2a3f5f"
            },
            "marker": {
             "line": {
              "color": "#E5ECF6",
              "width": 0.5
             }
            },
            "type": "bar"
           }
          ],
          "barpolar": [
           {
            "marker": {
             "line": {
              "color": "#E5ECF6",
              "width": 0.5
             }
            },
            "type": "barpolar"
           }
          ],
          "carpet": [
           {
            "aaxis": {
             "endlinecolor": "#2a3f5f",
             "gridcolor": "white",
             "linecolor": "white",
             "minorgridcolor": "white",
             "startlinecolor": "#2a3f5f"
            },
            "baxis": {
             "endlinecolor": "#2a3f5f",
             "gridcolor": "white",
             "linecolor": "white",
             "minorgridcolor": "white",
             "startlinecolor": "#2a3f5f"
            },
            "type": "carpet"
           }
          ],
          "choropleth": [
           {
            "colorbar": {
             "outlinewidth": 0,
             "ticks": ""
            },
            "type": "choropleth"
           }
          ],
          "contour": [
           {
            "colorbar": {
             "outlinewidth": 0,
             "ticks": ""
            },
            "colorscale": [
             [
              0,
              "#0d0887"
             ],
             [
              0.1111111111111111,
              "#46039f"
             ],
             [
              0.2222222222222222,
              "#7201a8"
             ],
             [
              0.3333333333333333,
              "#9c179e"
             ],
             [
              0.4444444444444444,
              "#bd3786"
             ],
             [
              0.5555555555555556,
              "#d8576b"
             ],
             [
              0.6666666666666666,
              "#ed7953"
             ],
             [
              0.7777777777777778,
              "#fb9f3a"
             ],
             [
              0.8888888888888888,
              "#fdca26"
             ],
             [
              1,
              "#f0f921"
             ]
            ],
            "type": "contour"
           }
          ],
          "contourcarpet": [
           {
            "colorbar": {
             "outlinewidth": 0,
             "ticks": ""
            },
            "type": "contourcarpet"
           }
          ],
          "heatmap": [
           {
            "colorbar": {
             "outlinewidth": 0,
             "ticks": ""
            },
            "colorscale": [
             [
              0,
              "#0d0887"
             ],
             [
              0.1111111111111111,
              "#46039f"
             ],
             [
              0.2222222222222222,
              "#7201a8"
             ],
             [
              0.3333333333333333,
              "#9c179e"
             ],
             [
              0.4444444444444444,
              "#bd3786"
             ],
             [
              0.5555555555555556,
              "#d8576b"
             ],
             [
              0.6666666666666666,
              "#ed7953"
             ],
             [
              0.7777777777777778,
              "#fb9f3a"
             ],
             [
              0.8888888888888888,
              "#fdca26"
             ],
             [
              1,
              "#f0f921"
             ]
            ],
            "type": "heatmap"
           }
          ],
          "heatmapgl": [
           {
            "colorbar": {
             "outlinewidth": 0,
             "ticks": ""
            },
            "colorscale": [
             [
              0,
              "#0d0887"
             ],
             [
              0.1111111111111111,
              "#46039f"
             ],
             [
              0.2222222222222222,
              "#7201a8"
             ],
             [
              0.3333333333333333,
              "#9c179e"
             ],
             [
              0.4444444444444444,
              "#bd3786"
             ],
             [
              0.5555555555555556,
              "#d8576b"
             ],
             [
              0.6666666666666666,
              "#ed7953"
             ],
             [
              0.7777777777777778,
              "#fb9f3a"
             ],
             [
              0.8888888888888888,
              "#fdca26"
             ],
             [
              1,
              "#f0f921"
             ]
            ],
            "type": "heatmapgl"
           }
          ],
          "histogram": [
           {
            "marker": {
             "colorbar": {
              "outlinewidth": 0,
              "ticks": ""
             }
            },
            "type": "histogram"
           }
          ],
          "histogram2d": [
           {
            "colorbar": {
             "outlinewidth": 0,
             "ticks": ""
            },
            "colorscale": [
             [
              0,
              "#0d0887"
             ],
             [
              0.1111111111111111,
              "#46039f"
             ],
             [
              0.2222222222222222,
              "#7201a8"
             ],
             [
              0.3333333333333333,
              "#9c179e"
             ],
             [
              0.4444444444444444,
              "#bd3786"
             ],
             [
              0.5555555555555556,
              "#d8576b"
             ],
             [
              0.6666666666666666,
              "#ed7953"
             ],
             [
              0.7777777777777778,
              "#fb9f3a"
             ],
             [
              0.8888888888888888,
              "#fdca26"
             ],
             [
              1,
              "#f0f921"
             ]
            ],
            "type": "histogram2d"
           }
          ],
          "histogram2dcontour": [
           {
            "colorbar": {
             "outlinewidth": 0,
             "ticks": ""
            },
            "colorscale": [
             [
              0,
              "#0d0887"
             ],
             [
              0.1111111111111111,
              "#46039f"
             ],
             [
              0.2222222222222222,
              "#7201a8"
             ],
             [
              0.3333333333333333,
              "#9c179e"
             ],
             [
              0.4444444444444444,
              "#bd3786"
             ],
             [
              0.5555555555555556,
              "#d8576b"
             ],
             [
              0.6666666666666666,
              "#ed7953"
             ],
             [
              0.7777777777777778,
              "#fb9f3a"
             ],
             [
              0.8888888888888888,
              "#fdca26"
             ],
             [
              1,
              "#f0f921"
             ]
            ],
            "type": "histogram2dcontour"
           }
          ],
          "mesh3d": [
           {
            "colorbar": {
             "outlinewidth": 0,
             "ticks": ""
            },
            "type": "mesh3d"
           }
          ],
          "parcoords": [
           {
            "line": {
             "colorbar": {
              "outlinewidth": 0,
              "ticks": ""
             }
            },
            "type": "parcoords"
           }
          ],
          "pie": [
           {
            "automargin": true,
            "type": "pie"
           }
          ],
          "scatter": [
           {
            "marker": {
             "colorbar": {
              "outlinewidth": 0,
              "ticks": ""
             }
            },
            "type": "scatter"
           }
          ],
          "scatter3d": [
           {
            "line": {
             "colorbar": {
              "outlinewidth": 0,
              "ticks": ""
             }
            },
            "marker": {
             "colorbar": {
              "outlinewidth": 0,
              "ticks": ""
             }
            },
            "type": "scatter3d"
           }
          ],
          "scattercarpet": [
           {
            "marker": {
             "colorbar": {
              "outlinewidth": 0,
              "ticks": ""
             }
            },
            "type": "scattercarpet"
           }
          ],
          "scattergeo": [
           {
            "marker": {
             "colorbar": {
              "outlinewidth": 0,
              "ticks": ""
             }
            },
            "type": "scattergeo"
           }
          ],
          "scattergl": [
           {
            "marker": {
             "colorbar": {
              "outlinewidth": 0,
              "ticks": ""
             }
            },
            "type": "scattergl"
           }
          ],
          "scattermapbox": [
           {
            "marker": {
             "colorbar": {
              "outlinewidth": 0,
              "ticks": ""
             }
            },
            "type": "scattermapbox"
           }
          ],
          "scatterpolar": [
           {
            "marker": {
             "colorbar": {
              "outlinewidth": 0,
              "ticks": ""
             }
            },
            "type": "scatterpolar"
           }
          ],
          "scatterpolargl": [
           {
            "marker": {
             "colorbar": {
              "outlinewidth": 0,
              "ticks": ""
             }
            },
            "type": "scatterpolargl"
           }
          ],
          "scatterternary": [
           {
            "marker": {
             "colorbar": {
              "outlinewidth": 0,
              "ticks": ""
             }
            },
            "type": "scatterternary"
           }
          ],
          "surface": [
           {
            "colorbar": {
             "outlinewidth": 0,
             "ticks": ""
            },
            "colorscale": [
             [
              0,
              "#0d0887"
             ],
             [
              0.1111111111111111,
              "#46039f"
             ],
             [
              0.2222222222222222,
              "#7201a8"
             ],
             [
              0.3333333333333333,
              "#9c179e"
             ],
             [
              0.4444444444444444,
              "#bd3786"
             ],
             [
              0.5555555555555556,
              "#d8576b"
             ],
             [
              0.6666666666666666,
              "#ed7953"
             ],
             [
              0.7777777777777778,
              "#fb9f3a"
             ],
             [
              0.8888888888888888,
              "#fdca26"
             ],
             [
              1,
              "#f0f921"
             ]
            ],
            "type": "surface"
           }
          ],
          "table": [
           {
            "cells": {
             "fill": {
              "color": "#EBF0F8"
             },
             "line": {
              "color": "white"
             }
            },
            "header": {
             "fill": {
              "color": "#C8D4E3"
             },
             "line": {
              "color": "white"
             }
            },
            "type": "table"
           }
          ]
         },
         "layout": {
          "annotationdefaults": {
           "arrowcolor": "#2a3f5f",
           "arrowhead": 0,
           "arrowwidth": 1
          },
          "coloraxis": {
           "colorbar": {
            "outlinewidth": 0,
            "ticks": ""
           }
          },
          "colorscale": {
           "diverging": [
            [
             0,
             "#8e0152"
            ],
            [
             0.1,
             "#c51b7d"
            ],
            [
             0.2,
             "#de77ae"
            ],
            [
             0.3,
             "#f1b6da"
            ],
            [
             0.4,
             "#fde0ef"
            ],
            [
             0.5,
             "#f7f7f7"
            ],
            [
             0.6,
             "#e6f5d0"
            ],
            [
             0.7,
             "#b8e186"
            ],
            [
             0.8,
             "#7fbc41"
            ],
            [
             0.9,
             "#4d9221"
            ],
            [
             1,
             "#276419"
            ]
           ],
           "sequential": [
            [
             0,
             "#0d0887"
            ],
            [
             0.1111111111111111,
             "#46039f"
            ],
            [
             0.2222222222222222,
             "#7201a8"
            ],
            [
             0.3333333333333333,
             "#9c179e"
            ],
            [
             0.4444444444444444,
             "#bd3786"
            ],
            [
             0.5555555555555556,
             "#d8576b"
            ],
            [
             0.6666666666666666,
             "#ed7953"
            ],
            [
             0.7777777777777778,
             "#fb9f3a"
            ],
            [
             0.8888888888888888,
             "#fdca26"
            ],
            [
             1,
             "#f0f921"
            ]
           ],
           "sequentialminus": [
            [
             0,
             "#0d0887"
            ],
            [
             0.1111111111111111,
             "#46039f"
            ],
            [
             0.2222222222222222,
             "#7201a8"
            ],
            [
             0.3333333333333333,
             "#9c179e"
            ],
            [
             0.4444444444444444,
             "#bd3786"
            ],
            [
             0.5555555555555556,
             "#d8576b"
            ],
            [
             0.6666666666666666,
             "#ed7953"
            ],
            [
             0.7777777777777778,
             "#fb9f3a"
            ],
            [
             0.8888888888888888,
             "#fdca26"
            ],
            [
             1,
             "#f0f921"
            ]
           ]
          },
          "colorway": [
           "#636efa",
           "#EF553B",
           "#00cc96",
           "#ab63fa",
           "#FFA15A",
           "#19d3f3",
           "#FF6692",
           "#B6E880",
           "#FF97FF",
           "#FECB52"
          ],
          "font": {
           "color": "#2a3f5f"
          },
          "geo": {
           "bgcolor": "white",
           "lakecolor": "white",
           "landcolor": "#E5ECF6",
           "showlakes": true,
           "showland": true,
           "subunitcolor": "white"
          },
          "hoverlabel": {
           "align": "left"
          },
          "hovermode": "closest",
          "mapbox": {
           "style": "light"
          },
          "paper_bgcolor": "white",
          "plot_bgcolor": "#E5ECF6",
          "polar": {
           "angularaxis": {
            "gridcolor": "white",
            "linecolor": "white",
            "ticks": ""
           },
           "bgcolor": "#E5ECF6",
           "radialaxis": {
            "gridcolor": "white",
            "linecolor": "white",
            "ticks": ""
           }
          },
          "scene": {
           "xaxis": {
            "backgroundcolor": "#E5ECF6",
            "gridcolor": "white",
            "gridwidth": 2,
            "linecolor": "white",
            "showbackground": true,
            "ticks": "",
            "zerolinecolor": "white"
           },
           "yaxis": {
            "backgroundcolor": "#E5ECF6",
            "gridcolor": "white",
            "gridwidth": 2,
            "linecolor": "white",
            "showbackground": true,
            "ticks": "",
            "zerolinecolor": "white"
           },
           "zaxis": {
            "backgroundcolor": "#E5ECF6",
            "gridcolor": "white",
            "gridwidth": 2,
            "linecolor": "white",
            "showbackground": true,
            "ticks": "",
            "zerolinecolor": "white"
           }
          },
          "shapedefaults": {
           "line": {
            "color": "#2a3f5f"
           }
          },
          "ternary": {
           "aaxis": {
            "gridcolor": "white",
            "linecolor": "white",
            "ticks": ""
           },
           "baxis": {
            "gridcolor": "white",
            "linecolor": "white",
            "ticks": ""
           },
           "bgcolor": "#E5ECF6",
           "caxis": {
            "gridcolor": "white",
            "linecolor": "white",
            "ticks": ""
           }
          },
          "title": {
           "x": 0.05
          },
          "xaxis": {
           "automargin": true,
           "gridcolor": "white",
           "linecolor": "white",
           "ticks": "",
           "title": {
            "standoff": 15
           },
           "zerolinecolor": "white",
           "zerolinewidth": 2
          },
          "yaxis": {
           "automargin": true,
           "gridcolor": "white",
           "linecolor": "white",
           "ticks": "",
           "title": {
            "standoff": 15
           },
           "zerolinecolor": "white",
           "zerolinewidth": 2
          }
         }
        }
       }
      },
      "text/html": [
       "<div>\n",
       "        \n",
       "        \n",
       "            <div id=\"de86afe7-c8ce-47a4-9dca-6169d3048ed0\" class=\"plotly-graph-div\" style=\"height:300px; width:100%;\"></div>\n",
       "            <script type=\"text/javascript\">\n",
       "                require([\"plotly\"], function(Plotly) {\n",
       "                    window.PLOTLYENV=window.PLOTLYENV || {};\n",
       "                    \n",
       "                if (document.getElementById(\"de86afe7-c8ce-47a4-9dca-6169d3048ed0\")) {\n",
       "                    Plotly.newPlot(\n",
       "                        'de86afe7-c8ce-47a4-9dca-6169d3048ed0',\n",
       "                        [{\"cells\": {\"align\": \"left\", \"fill\": {\"color\": [\"paleturquoise\", \"white\", \"rgb(239, 243, 255)\", \"white\", \"rgb(239, 243, 255)\"]}, \"line\": {\"color\": \"darkslategray\"}, \"values\": [[\"Logistic Regression\", \"Decision Tree\", \"Random Forest\", \"Support Vector Classifier\"], [0.756, 0.703, 0.722, 0.718], [0.724, 0.666, 0.694, 0.676], [0.756, 0.703, 0.722, 0.718], [0.705, 0.671, 0.695, 0.662], [0.794, 0.772, 0.779, 0.75]]}, \"columnwidth\": [120, 80, 80, 80, 80, 80], \"header\": {\"align\": \"center\", \"fill\": {\"color\": \"paleturquoise\"}, \"font\": {\"size\": 14}, \"line\": {\"color\": \"darkslategray\"}, \"values\": [\"Weighted average\", \"accuracy\", \"precision\", \"recall\", \"f1\", \"roc\"]}, \"type\": \"table\"}],\n",
       "                        {\"height\": 300, \"template\": {\"data\": {\"bar\": [{\"error_x\": {\"color\": \"#2a3f5f\"}, \"error_y\": {\"color\": \"#2a3f5f\"}, \"marker\": {\"line\": {\"color\": \"#E5ECF6\", \"width\": 0.5}}, \"type\": \"bar\"}], \"barpolar\": [{\"marker\": {\"line\": {\"color\": \"#E5ECF6\", \"width\": 0.5}}, \"type\": \"barpolar\"}], \"carpet\": [{\"aaxis\": {\"endlinecolor\": \"#2a3f5f\", \"gridcolor\": \"white\", \"linecolor\": \"white\", \"minorgridcolor\": \"white\", \"startlinecolor\": \"#2a3f5f\"}, \"baxis\": {\"endlinecolor\": \"#2a3f5f\", \"gridcolor\": \"white\", \"linecolor\": \"white\", \"minorgridcolor\": \"white\", \"startlinecolor\": \"#2a3f5f\"}, \"type\": \"carpet\"}], \"choropleth\": [{\"colorbar\": {\"outlinewidth\": 0, \"ticks\": \"\"}, \"type\": \"choropleth\"}], \"contour\": [{\"colorbar\": {\"outlinewidth\": 0, \"ticks\": \"\"}, \"colorscale\": [[0.0, \"#0d0887\"], [0.1111111111111111, \"#46039f\"], [0.2222222222222222, \"#7201a8\"], [0.3333333333333333, \"#9c179e\"], [0.4444444444444444, \"#bd3786\"], [0.5555555555555556, \"#d8576b\"], [0.6666666666666666, \"#ed7953\"], [0.7777777777777778, \"#fb9f3a\"], [0.8888888888888888, \"#fdca26\"], [1.0, \"#f0f921\"]], \"type\": \"contour\"}], \"contourcarpet\": [{\"colorbar\": {\"outlinewidth\": 0, \"ticks\": \"\"}, \"type\": \"contourcarpet\"}], \"heatmap\": [{\"colorbar\": {\"outlinewidth\": 0, \"ticks\": \"\"}, \"colorscale\": [[0.0, \"#0d0887\"], [0.1111111111111111, \"#46039f\"], [0.2222222222222222, \"#7201a8\"], [0.3333333333333333, \"#9c179e\"], [0.4444444444444444, \"#bd3786\"], [0.5555555555555556, \"#d8576b\"], [0.6666666666666666, \"#ed7953\"], [0.7777777777777778, \"#fb9f3a\"], [0.8888888888888888, \"#fdca26\"], [1.0, \"#f0f921\"]], \"type\": \"heatmap\"}], \"heatmapgl\": [{\"colorbar\": {\"outlinewidth\": 0, \"ticks\": \"\"}, \"colorscale\": [[0.0, \"#0d0887\"], [0.1111111111111111, \"#46039f\"], [0.2222222222222222, \"#7201a8\"], [0.3333333333333333, \"#9c179e\"], [0.4444444444444444, \"#bd3786\"], [0.5555555555555556, \"#d8576b\"], [0.6666666666666666, \"#ed7953\"], [0.7777777777777778, \"#fb9f3a\"], [0.8888888888888888, \"#fdca26\"], [1.0, \"#f0f921\"]], \"type\": \"heatmapgl\"}], \"histogram\": [{\"marker\": {\"colorbar\": {\"outlinewidth\": 0, \"ticks\": \"\"}}, \"type\": \"histogram\"}], \"histogram2d\": [{\"colorbar\": {\"outlinewidth\": 0, \"ticks\": \"\"}, \"colorscale\": [[0.0, \"#0d0887\"], [0.1111111111111111, \"#46039f\"], [0.2222222222222222, \"#7201a8\"], [0.3333333333333333, \"#9c179e\"], [0.4444444444444444, \"#bd3786\"], [0.5555555555555556, \"#d8576b\"], [0.6666666666666666, \"#ed7953\"], [0.7777777777777778, \"#fb9f3a\"], [0.8888888888888888, \"#fdca26\"], [1.0, \"#f0f921\"]], \"type\": \"histogram2d\"}], \"histogram2dcontour\": [{\"colorbar\": {\"outlinewidth\": 0, \"ticks\": \"\"}, \"colorscale\": [[0.0, \"#0d0887\"], [0.1111111111111111, \"#46039f\"], [0.2222222222222222, \"#7201a8\"], [0.3333333333333333, \"#9c179e\"], [0.4444444444444444, \"#bd3786\"], [0.5555555555555556, \"#d8576b\"], [0.6666666666666666, \"#ed7953\"], [0.7777777777777778, \"#fb9f3a\"], [0.8888888888888888, \"#fdca26\"], [1.0, \"#f0f921\"]], \"type\": \"histogram2dcontour\"}], \"mesh3d\": [{\"colorbar\": {\"outlinewidth\": 0, \"ticks\": \"\"}, \"type\": \"mesh3d\"}], \"parcoords\": [{\"line\": {\"colorbar\": {\"outlinewidth\": 0, \"ticks\": \"\"}}, \"type\": \"parcoords\"}], \"pie\": [{\"automargin\": true, \"type\": \"pie\"}], \"scatter\": [{\"marker\": {\"colorbar\": {\"outlinewidth\": 0, \"ticks\": \"\"}}, \"type\": \"scatter\"}], \"scatter3d\": [{\"line\": {\"colorbar\": {\"outlinewidth\": 0, \"ticks\": \"\"}}, \"marker\": {\"colorbar\": {\"outlinewidth\": 0, \"ticks\": \"\"}}, \"type\": \"scatter3d\"}], \"scattercarpet\": [{\"marker\": {\"colorbar\": {\"outlinewidth\": 0, \"ticks\": \"\"}}, \"type\": \"scattercarpet\"}], \"scattergeo\": [{\"marker\": {\"colorbar\": {\"outlinewidth\": 0, \"ticks\": \"\"}}, \"type\": \"scattergeo\"}], \"scattergl\": [{\"marker\": {\"colorbar\": {\"outlinewidth\": 0, \"ticks\": \"\"}}, \"type\": \"scattergl\"}], \"scattermapbox\": [{\"marker\": {\"colorbar\": {\"outlinewidth\": 0, \"ticks\": \"\"}}, \"type\": \"scattermapbox\"}], \"scatterpolar\": [{\"marker\": {\"colorbar\": {\"outlinewidth\": 0, \"ticks\": \"\"}}, \"type\": \"scatterpolar\"}], \"scatterpolargl\": [{\"marker\": {\"colorbar\": {\"outlinewidth\": 0, \"ticks\": \"\"}}, \"type\": \"scatterpolargl\"}], \"scatterternary\": [{\"marker\": {\"colorbar\": {\"outlinewidth\": 0, \"ticks\": \"\"}}, \"type\": \"scatterternary\"}], \"surface\": [{\"colorbar\": {\"outlinewidth\": 0, \"ticks\": \"\"}, \"colorscale\": [[0.0, \"#0d0887\"], [0.1111111111111111, \"#46039f\"], [0.2222222222222222, \"#7201a8\"], [0.3333333333333333, \"#9c179e\"], [0.4444444444444444, \"#bd3786\"], [0.5555555555555556, \"#d8576b\"], [0.6666666666666666, \"#ed7953\"], [0.7777777777777778, \"#fb9f3a\"], [0.8888888888888888, \"#fdca26\"], [1.0, \"#f0f921\"]], \"type\": \"surface\"}], \"table\": [{\"cells\": {\"fill\": {\"color\": \"#EBF0F8\"}, \"line\": {\"color\": \"white\"}}, \"header\": {\"fill\": {\"color\": \"#C8D4E3\"}, \"line\": {\"color\": \"white\"}}, \"type\": \"table\"}]}, \"layout\": {\"annotationdefaults\": {\"arrowcolor\": \"#2a3f5f\", \"arrowhead\": 0, \"arrowwidth\": 1}, \"coloraxis\": {\"colorbar\": {\"outlinewidth\": 0, \"ticks\": \"\"}}, \"colorscale\": {\"diverging\": [[0, \"#8e0152\"], [0.1, \"#c51b7d\"], [0.2, \"#de77ae\"], [0.3, \"#f1b6da\"], [0.4, \"#fde0ef\"], [0.5, \"#f7f7f7\"], [0.6, \"#e6f5d0\"], [0.7, \"#b8e186\"], [0.8, \"#7fbc41\"], [0.9, \"#4d9221\"], [1, \"#276419\"]], \"sequential\": [[0.0, \"#0d0887\"], [0.1111111111111111, \"#46039f\"], [0.2222222222222222, \"#7201a8\"], [0.3333333333333333, \"#9c179e\"], [0.4444444444444444, \"#bd3786\"], [0.5555555555555556, \"#d8576b\"], [0.6666666666666666, \"#ed7953\"], [0.7777777777777778, \"#fb9f3a\"], [0.8888888888888888, \"#fdca26\"], [1.0, \"#f0f921\"]], \"sequentialminus\": [[0.0, \"#0d0887\"], [0.1111111111111111, \"#46039f\"], [0.2222222222222222, \"#7201a8\"], [0.3333333333333333, \"#9c179e\"], [0.4444444444444444, \"#bd3786\"], [0.5555555555555556, \"#d8576b\"], [0.6666666666666666, \"#ed7953\"], [0.7777777777777778, \"#fb9f3a\"], [0.8888888888888888, \"#fdca26\"], [1.0, \"#f0f921\"]]}, \"colorway\": [\"#636efa\", \"#EF553B\", \"#00cc96\", \"#ab63fa\", \"#FFA15A\", \"#19d3f3\", \"#FF6692\", \"#B6E880\", \"#FF97FF\", \"#FECB52\"], \"font\": {\"color\": \"#2a3f5f\"}, \"geo\": {\"bgcolor\": \"white\", \"lakecolor\": \"white\", \"landcolor\": \"#E5ECF6\", \"showlakes\": true, \"showland\": true, \"subunitcolor\": \"white\"}, \"hoverlabel\": {\"align\": \"left\"}, \"hovermode\": \"closest\", \"mapbox\": {\"style\": \"light\"}, \"paper_bgcolor\": \"white\", \"plot_bgcolor\": \"#E5ECF6\", \"polar\": {\"angularaxis\": {\"gridcolor\": \"white\", \"linecolor\": \"white\", \"ticks\": \"\"}, \"bgcolor\": \"#E5ECF6\", \"radialaxis\": {\"gridcolor\": \"white\", \"linecolor\": \"white\", \"ticks\": \"\"}}, \"scene\": {\"xaxis\": {\"backgroundcolor\": \"#E5ECF6\", \"gridcolor\": \"white\", \"gridwidth\": 2, \"linecolor\": \"white\", \"showbackground\": true, \"ticks\": \"\", \"zerolinecolor\": \"white\"}, \"yaxis\": {\"backgroundcolor\": \"#E5ECF6\", \"gridcolor\": \"white\", \"gridwidth\": 2, \"linecolor\": \"white\", \"showbackground\": true, \"ticks\": \"\", \"zerolinecolor\": \"white\"}, \"zaxis\": {\"backgroundcolor\": \"#E5ECF6\", \"gridcolor\": \"white\", \"gridwidth\": 2, \"linecolor\": \"white\", \"showbackground\": true, \"ticks\": \"\", \"zerolinecolor\": \"white\"}}, \"shapedefaults\": {\"line\": {\"color\": \"#2a3f5f\"}}, \"ternary\": {\"aaxis\": {\"gridcolor\": \"white\", \"linecolor\": \"white\", \"ticks\": \"\"}, \"baxis\": {\"gridcolor\": \"white\", \"linecolor\": \"white\", \"ticks\": \"\"}, \"bgcolor\": \"#E5ECF6\", \"caxis\": {\"gridcolor\": \"white\", \"linecolor\": \"white\", \"ticks\": \"\"}}, \"title\": {\"x\": 0.05}, \"xaxis\": {\"automargin\": true, \"gridcolor\": \"white\", \"linecolor\": \"white\", \"ticks\": \"\", \"title\": {\"standoff\": 15}, \"zerolinecolor\": \"white\", \"zerolinewidth\": 2}, \"yaxis\": {\"automargin\": true, \"gridcolor\": \"white\", \"linecolor\": \"white\", \"ticks\": \"\", \"title\": {\"standoff\": 15}, \"zerolinecolor\": \"white\", \"zerolinewidth\": 2}}}},\n",
       "                        {\"responsive\": true}\n",
       "                    ).then(function(){\n",
       "                            \n",
       "var gd = document.getElementById('de86afe7-c8ce-47a4-9dca-6169d3048ed0');\n",
       "var x = new MutationObserver(function (mutations, observer) {{\n",
       "        var display = window.getComputedStyle(gd).display;\n",
       "        if (!display || display === 'none') {{\n",
       "            console.log([gd, 'removed!']);\n",
       "            Plotly.purge(gd);\n",
       "            observer.disconnect();\n",
       "        }}\n",
       "}});\n",
       "\n",
       "// Listen for the removal of the full notebook cells\n",
       "var notebookContainer = gd.closest('#notebook-container');\n",
       "if (notebookContainer) {{\n",
       "    x.observe(notebookContainer, {childList: true});\n",
       "}}\n",
       "\n",
       "// Listen for the clearing of the current output cell\n",
       "var outputEl = gd.closest('.output');\n",
       "if (outputEl) {{\n",
       "    x.observe(outputEl, {childList: true});\n",
       "}}\n",
       "\n",
       "                        })\n",
       "                };\n",
       "                });\n",
       "            </script>\n",
       "        </div>"
      ]
     },
     "metadata": {},
     "output_type": "display_data"
    },
    {
     "data": {
      "application/vnd.plotly.v1+json": {
       "config": {
        "plotlyServerURL": "https://plot.ly"
       },
       "data": [
        {
         "cells": {
          "align": "left",
          "fill": {
           "color": [
            "paleturquoise",
            "white",
            "rgb(239, 243, 255)",
            "white",
            "rgb(239, 243, 255)"
           ]
          },
          "line": {
           "color": "darkslategray"
          },
          "values": [
           [
            "Logistic Regression",
            "Decision Tree",
            "Random Forest",
            "Support Vector Classifier"
           ],
           [
            0.756,
            0.703,
            0.722,
            0.718
           ],
           [
            0.68,
            0.607,
            0.645,
            0.632
           ],
           [
            0.57,
            0.568,
            0.596,
            0.553
           ],
           [
            0.567,
            0.568,
            0.602,
            0.54
           ],
           [
            0.794,
            0.772,
            0.779,
            0.75
           ]
          ]
         },
         "columnwidth": [
          120,
          80,
          80,
          80,
          80,
          80
         ],
         "header": {
          "align": "center",
          "fill": {
           "color": "paleturquoise"
          },
          "font": {
           "size": 14
          },
          "line": {
           "color": "darkslategray"
          },
          "values": [
           "Macro average",
           "accuracy",
           "precision",
           "recall",
           "f1",
           "roc"
          ]
         },
         "type": "table"
        }
       ],
       "layout": {
        "height": 300,
        "template": {
         "data": {
          "bar": [
           {
            "error_x": {
             "color": "#2a3f5f"
            },
            "error_y": {
             "color": "#2a3f5f"
            },
            "marker": {
             "line": {
              "color": "#E5ECF6",
              "width": 0.5
             }
            },
            "type": "bar"
           }
          ],
          "barpolar": [
           {
            "marker": {
             "line": {
              "color": "#E5ECF6",
              "width": 0.5
             }
            },
            "type": "barpolar"
           }
          ],
          "carpet": [
           {
            "aaxis": {
             "endlinecolor": "#2a3f5f",
             "gridcolor": "white",
             "linecolor": "white",
             "minorgridcolor": "white",
             "startlinecolor": "#2a3f5f"
            },
            "baxis": {
             "endlinecolor": "#2a3f5f",
             "gridcolor": "white",
             "linecolor": "white",
             "minorgridcolor": "white",
             "startlinecolor": "#2a3f5f"
            },
            "type": "carpet"
           }
          ],
          "choropleth": [
           {
            "colorbar": {
             "outlinewidth": 0,
             "ticks": ""
            },
            "type": "choropleth"
           }
          ],
          "contour": [
           {
            "colorbar": {
             "outlinewidth": 0,
             "ticks": ""
            },
            "colorscale": [
             [
              0,
              "#0d0887"
             ],
             [
              0.1111111111111111,
              "#46039f"
             ],
             [
              0.2222222222222222,
              "#7201a8"
             ],
             [
              0.3333333333333333,
              "#9c179e"
             ],
             [
              0.4444444444444444,
              "#bd3786"
             ],
             [
              0.5555555555555556,
              "#d8576b"
             ],
             [
              0.6666666666666666,
              "#ed7953"
             ],
             [
              0.7777777777777778,
              "#fb9f3a"
             ],
             [
              0.8888888888888888,
              "#fdca26"
             ],
             [
              1,
              "#f0f921"
             ]
            ],
            "type": "contour"
           }
          ],
          "contourcarpet": [
           {
            "colorbar": {
             "outlinewidth": 0,
             "ticks": ""
            },
            "type": "contourcarpet"
           }
          ],
          "heatmap": [
           {
            "colorbar": {
             "outlinewidth": 0,
             "ticks": ""
            },
            "colorscale": [
             [
              0,
              "#0d0887"
             ],
             [
              0.1111111111111111,
              "#46039f"
             ],
             [
              0.2222222222222222,
              "#7201a8"
             ],
             [
              0.3333333333333333,
              "#9c179e"
             ],
             [
              0.4444444444444444,
              "#bd3786"
             ],
             [
              0.5555555555555556,
              "#d8576b"
             ],
             [
              0.6666666666666666,
              "#ed7953"
             ],
             [
              0.7777777777777778,
              "#fb9f3a"
             ],
             [
              0.8888888888888888,
              "#fdca26"
             ],
             [
              1,
              "#f0f921"
             ]
            ],
            "type": "heatmap"
           }
          ],
          "heatmapgl": [
           {
            "colorbar": {
             "outlinewidth": 0,
             "ticks": ""
            },
            "colorscale": [
             [
              0,
              "#0d0887"
             ],
             [
              0.1111111111111111,
              "#46039f"
             ],
             [
              0.2222222222222222,
              "#7201a8"
             ],
             [
              0.3333333333333333,
              "#9c179e"
             ],
             [
              0.4444444444444444,
              "#bd3786"
             ],
             [
              0.5555555555555556,
              "#d8576b"
             ],
             [
              0.6666666666666666,
              "#ed7953"
             ],
             [
              0.7777777777777778,
              "#fb9f3a"
             ],
             [
              0.8888888888888888,
              "#fdca26"
             ],
             [
              1,
              "#f0f921"
             ]
            ],
            "type": "heatmapgl"
           }
          ],
          "histogram": [
           {
            "marker": {
             "colorbar": {
              "outlinewidth": 0,
              "ticks": ""
             }
            },
            "type": "histogram"
           }
          ],
          "histogram2d": [
           {
            "colorbar": {
             "outlinewidth": 0,
             "ticks": ""
            },
            "colorscale": [
             [
              0,
              "#0d0887"
             ],
             [
              0.1111111111111111,
              "#46039f"
             ],
             [
              0.2222222222222222,
              "#7201a8"
             ],
             [
              0.3333333333333333,
              "#9c179e"
             ],
             [
              0.4444444444444444,
              "#bd3786"
             ],
             [
              0.5555555555555556,
              "#d8576b"
             ],
             [
              0.6666666666666666,
              "#ed7953"
             ],
             [
              0.7777777777777778,
              "#fb9f3a"
             ],
             [
              0.8888888888888888,
              "#fdca26"
             ],
             [
              1,
              "#f0f921"
             ]
            ],
            "type": "histogram2d"
           }
          ],
          "histogram2dcontour": [
           {
            "colorbar": {
             "outlinewidth": 0,
             "ticks": ""
            },
            "colorscale": [
             [
              0,
              "#0d0887"
             ],
             [
              0.1111111111111111,
              "#46039f"
             ],
             [
              0.2222222222222222,
              "#7201a8"
             ],
             [
              0.3333333333333333,
              "#9c179e"
             ],
             [
              0.4444444444444444,
              "#bd3786"
             ],
             [
              0.5555555555555556,
              "#d8576b"
             ],
             [
              0.6666666666666666,
              "#ed7953"
             ],
             [
              0.7777777777777778,
              "#fb9f3a"
             ],
             [
              0.8888888888888888,
              "#fdca26"
             ],
             [
              1,
              "#f0f921"
             ]
            ],
            "type": "histogram2dcontour"
           }
          ],
          "mesh3d": [
           {
            "colorbar": {
             "outlinewidth": 0,
             "ticks": ""
            },
            "type": "mesh3d"
           }
          ],
          "parcoords": [
           {
            "line": {
             "colorbar": {
              "outlinewidth": 0,
              "ticks": ""
             }
            },
            "type": "parcoords"
           }
          ],
          "pie": [
           {
            "automargin": true,
            "type": "pie"
           }
          ],
          "scatter": [
           {
            "marker": {
             "colorbar": {
              "outlinewidth": 0,
              "ticks": ""
             }
            },
            "type": "scatter"
           }
          ],
          "scatter3d": [
           {
            "line": {
             "colorbar": {
              "outlinewidth": 0,
              "ticks": ""
             }
            },
            "marker": {
             "colorbar": {
              "outlinewidth": 0,
              "ticks": ""
             }
            },
            "type": "scatter3d"
           }
          ],
          "scattercarpet": [
           {
            "marker": {
             "colorbar": {
              "outlinewidth": 0,
              "ticks": ""
             }
            },
            "type": "scattercarpet"
           }
          ],
          "scattergeo": [
           {
            "marker": {
             "colorbar": {
              "outlinewidth": 0,
              "ticks": ""
             }
            },
            "type": "scattergeo"
           }
          ],
          "scattergl": [
           {
            "marker": {
             "colorbar": {
              "outlinewidth": 0,
              "ticks": ""
             }
            },
            "type": "scattergl"
           }
          ],
          "scattermapbox": [
           {
            "marker": {
             "colorbar": {
              "outlinewidth": 0,
              "ticks": ""
             }
            },
            "type": "scattermapbox"
           }
          ],
          "scatterpolar": [
           {
            "marker": {
             "colorbar": {
              "outlinewidth": 0,
              "ticks": ""
             }
            },
            "type": "scatterpolar"
           }
          ],
          "scatterpolargl": [
           {
            "marker": {
             "colorbar": {
              "outlinewidth": 0,
              "ticks": ""
             }
            },
            "type": "scatterpolargl"
           }
          ],
          "scatterternary": [
           {
            "marker": {
             "colorbar": {
              "outlinewidth": 0,
              "ticks": ""
             }
            },
            "type": "scatterternary"
           }
          ],
          "surface": [
           {
            "colorbar": {
             "outlinewidth": 0,
             "ticks": ""
            },
            "colorscale": [
             [
              0,
              "#0d0887"
             ],
             [
              0.1111111111111111,
              "#46039f"
             ],
             [
              0.2222222222222222,
              "#7201a8"
             ],
             [
              0.3333333333333333,
              "#9c179e"
             ],
             [
              0.4444444444444444,
              "#bd3786"
             ],
             [
              0.5555555555555556,
              "#d8576b"
             ],
             [
              0.6666666666666666,
              "#ed7953"
             ],
             [
              0.7777777777777778,
              "#fb9f3a"
             ],
             [
              0.8888888888888888,
              "#fdca26"
             ],
             [
              1,
              "#f0f921"
             ]
            ],
            "type": "surface"
           }
          ],
          "table": [
           {
            "cells": {
             "fill": {
              "color": "#EBF0F8"
             },
             "line": {
              "color": "white"
             }
            },
            "header": {
             "fill": {
              "color": "#C8D4E3"
             },
             "line": {
              "color": "white"
             }
            },
            "type": "table"
           }
          ]
         },
         "layout": {
          "annotationdefaults": {
           "arrowcolor": "#2a3f5f",
           "arrowhead": 0,
           "arrowwidth": 1
          },
          "coloraxis": {
           "colorbar": {
            "outlinewidth": 0,
            "ticks": ""
           }
          },
          "colorscale": {
           "diverging": [
            [
             0,
             "#8e0152"
            ],
            [
             0.1,
             "#c51b7d"
            ],
            [
             0.2,
             "#de77ae"
            ],
            [
             0.3,
             "#f1b6da"
            ],
            [
             0.4,
             "#fde0ef"
            ],
            [
             0.5,
             "#f7f7f7"
            ],
            [
             0.6,
             "#e6f5d0"
            ],
            [
             0.7,
             "#b8e186"
            ],
            [
             0.8,
             "#7fbc41"
            ],
            [
             0.9,
             "#4d9221"
            ],
            [
             1,
             "#276419"
            ]
           ],
           "sequential": [
            [
             0,
             "#0d0887"
            ],
            [
             0.1111111111111111,
             "#46039f"
            ],
            [
             0.2222222222222222,
             "#7201a8"
            ],
            [
             0.3333333333333333,
             "#9c179e"
            ],
            [
             0.4444444444444444,
             "#bd3786"
            ],
            [
             0.5555555555555556,
             "#d8576b"
            ],
            [
             0.6666666666666666,
             "#ed7953"
            ],
            [
             0.7777777777777778,
             "#fb9f3a"
            ],
            [
             0.8888888888888888,
             "#fdca26"
            ],
            [
             1,
             "#f0f921"
            ]
           ],
           "sequentialminus": [
            [
             0,
             "#0d0887"
            ],
            [
             0.1111111111111111,
             "#46039f"
            ],
            [
             0.2222222222222222,
             "#7201a8"
            ],
            [
             0.3333333333333333,
             "#9c179e"
            ],
            [
             0.4444444444444444,
             "#bd3786"
            ],
            [
             0.5555555555555556,
             "#d8576b"
            ],
            [
             0.6666666666666666,
             "#ed7953"
            ],
            [
             0.7777777777777778,
             "#fb9f3a"
            ],
            [
             0.8888888888888888,
             "#fdca26"
            ],
            [
             1,
             "#f0f921"
            ]
           ]
          },
          "colorway": [
           "#636efa",
           "#EF553B",
           "#00cc96",
           "#ab63fa",
           "#FFA15A",
           "#19d3f3",
           "#FF6692",
           "#B6E880",
           "#FF97FF",
           "#FECB52"
          ],
          "font": {
           "color": "#2a3f5f"
          },
          "geo": {
           "bgcolor": "white",
           "lakecolor": "white",
           "landcolor": "#E5ECF6",
           "showlakes": true,
           "showland": true,
           "subunitcolor": "white"
          },
          "hoverlabel": {
           "align": "left"
          },
          "hovermode": "closest",
          "mapbox": {
           "style": "light"
          },
          "paper_bgcolor": "white",
          "plot_bgcolor": "#E5ECF6",
          "polar": {
           "angularaxis": {
            "gridcolor": "white",
            "linecolor": "white",
            "ticks": ""
           },
           "bgcolor": "#E5ECF6",
           "radialaxis": {
            "gridcolor": "white",
            "linecolor": "white",
            "ticks": ""
           }
          },
          "scene": {
           "xaxis": {
            "backgroundcolor": "#E5ECF6",
            "gridcolor": "white",
            "gridwidth": 2,
            "linecolor": "white",
            "showbackground": true,
            "ticks": "",
            "zerolinecolor": "white"
           },
           "yaxis": {
            "backgroundcolor": "#E5ECF6",
            "gridcolor": "white",
            "gridwidth": 2,
            "linecolor": "white",
            "showbackground": true,
            "ticks": "",
            "zerolinecolor": "white"
           },
           "zaxis": {
            "backgroundcolor": "#E5ECF6",
            "gridcolor": "white",
            "gridwidth": 2,
            "linecolor": "white",
            "showbackground": true,
            "ticks": "",
            "zerolinecolor": "white"
           }
          },
          "shapedefaults": {
           "line": {
            "color": "#2a3f5f"
           }
          },
          "ternary": {
           "aaxis": {
            "gridcolor": "white",
            "linecolor": "white",
            "ticks": ""
           },
           "baxis": {
            "gridcolor": "white",
            "linecolor": "white",
            "ticks": ""
           },
           "bgcolor": "#E5ECF6",
           "caxis": {
            "gridcolor": "white",
            "linecolor": "white",
            "ticks": ""
           }
          },
          "title": {
           "x": 0.05
          },
          "xaxis": {
           "automargin": true,
           "gridcolor": "white",
           "linecolor": "white",
           "ticks": "",
           "title": {
            "standoff": 15
           },
           "zerolinecolor": "white",
           "zerolinewidth": 2
          },
          "yaxis": {
           "automargin": true,
           "gridcolor": "white",
           "linecolor": "white",
           "ticks": "",
           "title": {
            "standoff": 15
           },
           "zerolinecolor": "white",
           "zerolinewidth": 2
          }
         }
        }
       }
      },
      "text/html": [
       "<div>\n",
       "        \n",
       "        \n",
       "            <div id=\"43fc81f0-8589-4fee-9975-9b0c1deba210\" class=\"plotly-graph-div\" style=\"height:300px; width:100%;\"></div>\n",
       "            <script type=\"text/javascript\">\n",
       "                require([\"plotly\"], function(Plotly) {\n",
       "                    window.PLOTLYENV=window.PLOTLYENV || {};\n",
       "                    \n",
       "                if (document.getElementById(\"43fc81f0-8589-4fee-9975-9b0c1deba210\")) {\n",
       "                    Plotly.newPlot(\n",
       "                        '43fc81f0-8589-4fee-9975-9b0c1deba210',\n",
       "                        [{\"cells\": {\"align\": \"left\", \"fill\": {\"color\": [\"paleturquoise\", \"white\", \"rgb(239, 243, 255)\", \"white\", \"rgb(239, 243, 255)\"]}, \"line\": {\"color\": \"darkslategray\"}, \"values\": [[\"Logistic Regression\", \"Decision Tree\", \"Random Forest\", \"Support Vector Classifier\"], [0.756, 0.703, 0.722, 0.718], [0.68, 0.607, 0.645, 0.632], [0.57, 0.568, 0.596, 0.553], [0.567, 0.568, 0.602, 0.54], [0.794, 0.772, 0.779, 0.75]]}, \"columnwidth\": [120, 80, 80, 80, 80, 80], \"header\": {\"align\": \"center\", \"fill\": {\"color\": \"paleturquoise\"}, \"font\": {\"size\": 14}, \"line\": {\"color\": \"darkslategray\"}, \"values\": [\"Macro average\", \"accuracy\", \"precision\", \"recall\", \"f1\", \"roc\"]}, \"type\": \"table\"}],\n",
       "                        {\"height\": 300, \"template\": {\"data\": {\"bar\": [{\"error_x\": {\"color\": \"#2a3f5f\"}, \"error_y\": {\"color\": \"#2a3f5f\"}, \"marker\": {\"line\": {\"color\": \"#E5ECF6\", \"width\": 0.5}}, \"type\": \"bar\"}], \"barpolar\": [{\"marker\": {\"line\": {\"color\": \"#E5ECF6\", \"width\": 0.5}}, \"type\": \"barpolar\"}], \"carpet\": [{\"aaxis\": {\"endlinecolor\": \"#2a3f5f\", \"gridcolor\": \"white\", \"linecolor\": \"white\", \"minorgridcolor\": \"white\", \"startlinecolor\": \"#2a3f5f\"}, \"baxis\": {\"endlinecolor\": \"#2a3f5f\", \"gridcolor\": \"white\", \"linecolor\": \"white\", \"minorgridcolor\": \"white\", \"startlinecolor\": \"#2a3f5f\"}, \"type\": \"carpet\"}], \"choropleth\": [{\"colorbar\": {\"outlinewidth\": 0, \"ticks\": \"\"}, \"type\": \"choropleth\"}], \"contour\": [{\"colorbar\": {\"outlinewidth\": 0, \"ticks\": \"\"}, \"colorscale\": [[0.0, \"#0d0887\"], [0.1111111111111111, \"#46039f\"], [0.2222222222222222, \"#7201a8\"], [0.3333333333333333, \"#9c179e\"], [0.4444444444444444, \"#bd3786\"], [0.5555555555555556, \"#d8576b\"], [0.6666666666666666, \"#ed7953\"], [0.7777777777777778, \"#fb9f3a\"], [0.8888888888888888, \"#fdca26\"], [1.0, \"#f0f921\"]], \"type\": \"contour\"}], \"contourcarpet\": [{\"colorbar\": {\"outlinewidth\": 0, \"ticks\": \"\"}, \"type\": \"contourcarpet\"}], \"heatmap\": [{\"colorbar\": {\"outlinewidth\": 0, \"ticks\": \"\"}, \"colorscale\": [[0.0, \"#0d0887\"], [0.1111111111111111, \"#46039f\"], [0.2222222222222222, \"#7201a8\"], [0.3333333333333333, \"#9c179e\"], [0.4444444444444444, \"#bd3786\"], [0.5555555555555556, \"#d8576b\"], [0.6666666666666666, \"#ed7953\"], [0.7777777777777778, \"#fb9f3a\"], [0.8888888888888888, \"#fdca26\"], [1.0, \"#f0f921\"]], \"type\": \"heatmap\"}], \"heatmapgl\": [{\"colorbar\": {\"outlinewidth\": 0, \"ticks\": \"\"}, \"colorscale\": [[0.0, \"#0d0887\"], [0.1111111111111111, \"#46039f\"], [0.2222222222222222, \"#7201a8\"], [0.3333333333333333, \"#9c179e\"], [0.4444444444444444, \"#bd3786\"], [0.5555555555555556, \"#d8576b\"], [0.6666666666666666, \"#ed7953\"], [0.7777777777777778, \"#fb9f3a\"], [0.8888888888888888, \"#fdca26\"], [1.0, \"#f0f921\"]], \"type\": \"heatmapgl\"}], \"histogram\": [{\"marker\": {\"colorbar\": {\"outlinewidth\": 0, \"ticks\": \"\"}}, \"type\": \"histogram\"}], \"histogram2d\": [{\"colorbar\": {\"outlinewidth\": 0, \"ticks\": \"\"}, \"colorscale\": [[0.0, \"#0d0887\"], [0.1111111111111111, \"#46039f\"], [0.2222222222222222, \"#7201a8\"], [0.3333333333333333, \"#9c179e\"], [0.4444444444444444, \"#bd3786\"], [0.5555555555555556, \"#d8576b\"], [0.6666666666666666, \"#ed7953\"], [0.7777777777777778, \"#fb9f3a\"], [0.8888888888888888, \"#fdca26\"], [1.0, \"#f0f921\"]], \"type\": \"histogram2d\"}], \"histogram2dcontour\": [{\"colorbar\": {\"outlinewidth\": 0, \"ticks\": \"\"}, \"colorscale\": [[0.0, \"#0d0887\"], [0.1111111111111111, \"#46039f\"], [0.2222222222222222, \"#7201a8\"], [0.3333333333333333, \"#9c179e\"], [0.4444444444444444, \"#bd3786\"], [0.5555555555555556, \"#d8576b\"], [0.6666666666666666, \"#ed7953\"], [0.7777777777777778, \"#fb9f3a\"], [0.8888888888888888, \"#fdca26\"], [1.0, \"#f0f921\"]], \"type\": \"histogram2dcontour\"}], \"mesh3d\": [{\"colorbar\": {\"outlinewidth\": 0, \"ticks\": \"\"}, \"type\": \"mesh3d\"}], \"parcoords\": [{\"line\": {\"colorbar\": {\"outlinewidth\": 0, \"ticks\": \"\"}}, \"type\": \"parcoords\"}], \"pie\": [{\"automargin\": true, \"type\": \"pie\"}], \"scatter\": [{\"marker\": {\"colorbar\": {\"outlinewidth\": 0, \"ticks\": \"\"}}, \"type\": \"scatter\"}], \"scatter3d\": [{\"line\": {\"colorbar\": {\"outlinewidth\": 0, \"ticks\": \"\"}}, \"marker\": {\"colorbar\": {\"outlinewidth\": 0, \"ticks\": \"\"}}, \"type\": \"scatter3d\"}], \"scattercarpet\": [{\"marker\": {\"colorbar\": {\"outlinewidth\": 0, \"ticks\": \"\"}}, \"type\": \"scattercarpet\"}], \"scattergeo\": [{\"marker\": {\"colorbar\": {\"outlinewidth\": 0, \"ticks\": \"\"}}, \"type\": \"scattergeo\"}], \"scattergl\": [{\"marker\": {\"colorbar\": {\"outlinewidth\": 0, \"ticks\": \"\"}}, \"type\": \"scattergl\"}], \"scattermapbox\": [{\"marker\": {\"colorbar\": {\"outlinewidth\": 0, \"ticks\": \"\"}}, \"type\": \"scattermapbox\"}], \"scatterpolar\": [{\"marker\": {\"colorbar\": {\"outlinewidth\": 0, \"ticks\": \"\"}}, \"type\": \"scatterpolar\"}], \"scatterpolargl\": [{\"marker\": {\"colorbar\": {\"outlinewidth\": 0, \"ticks\": \"\"}}, \"type\": \"scatterpolargl\"}], \"scatterternary\": [{\"marker\": {\"colorbar\": {\"outlinewidth\": 0, \"ticks\": \"\"}}, \"type\": \"scatterternary\"}], \"surface\": [{\"colorbar\": {\"outlinewidth\": 0, \"ticks\": \"\"}, \"colorscale\": [[0.0, \"#0d0887\"], [0.1111111111111111, \"#46039f\"], [0.2222222222222222, \"#7201a8\"], [0.3333333333333333, \"#9c179e\"], [0.4444444444444444, \"#bd3786\"], [0.5555555555555556, \"#d8576b\"], [0.6666666666666666, \"#ed7953\"], [0.7777777777777778, \"#fb9f3a\"], [0.8888888888888888, \"#fdca26\"], [1.0, \"#f0f921\"]], \"type\": \"surface\"}], \"table\": [{\"cells\": {\"fill\": {\"color\": \"#EBF0F8\"}, \"line\": {\"color\": \"white\"}}, \"header\": {\"fill\": {\"color\": \"#C8D4E3\"}, \"line\": {\"color\": \"white\"}}, \"type\": \"table\"}]}, \"layout\": {\"annotationdefaults\": {\"arrowcolor\": \"#2a3f5f\", \"arrowhead\": 0, \"arrowwidth\": 1}, \"coloraxis\": {\"colorbar\": {\"outlinewidth\": 0, \"ticks\": \"\"}}, \"colorscale\": {\"diverging\": [[0, \"#8e0152\"], [0.1, \"#c51b7d\"], [0.2, \"#de77ae\"], [0.3, \"#f1b6da\"], [0.4, \"#fde0ef\"], [0.5, \"#f7f7f7\"], [0.6, \"#e6f5d0\"], [0.7, \"#b8e186\"], [0.8, \"#7fbc41\"], [0.9, \"#4d9221\"], [1, \"#276419\"]], \"sequential\": [[0.0, \"#0d0887\"], [0.1111111111111111, \"#46039f\"], [0.2222222222222222, \"#7201a8\"], [0.3333333333333333, \"#9c179e\"], [0.4444444444444444, \"#bd3786\"], [0.5555555555555556, \"#d8576b\"], [0.6666666666666666, \"#ed7953\"], [0.7777777777777778, \"#fb9f3a\"], [0.8888888888888888, \"#fdca26\"], [1.0, \"#f0f921\"]], \"sequentialminus\": [[0.0, \"#0d0887\"], [0.1111111111111111, \"#46039f\"], [0.2222222222222222, \"#7201a8\"], [0.3333333333333333, \"#9c179e\"], [0.4444444444444444, \"#bd3786\"], [0.5555555555555556, \"#d8576b\"], [0.6666666666666666, \"#ed7953\"], [0.7777777777777778, \"#fb9f3a\"], [0.8888888888888888, \"#fdca26\"], [1.0, \"#f0f921\"]]}, \"colorway\": [\"#636efa\", \"#EF553B\", \"#00cc96\", \"#ab63fa\", \"#FFA15A\", \"#19d3f3\", \"#FF6692\", \"#B6E880\", \"#FF97FF\", \"#FECB52\"], \"font\": {\"color\": \"#2a3f5f\"}, \"geo\": {\"bgcolor\": \"white\", \"lakecolor\": \"white\", \"landcolor\": \"#E5ECF6\", \"showlakes\": true, \"showland\": true, \"subunitcolor\": \"white\"}, \"hoverlabel\": {\"align\": \"left\"}, \"hovermode\": \"closest\", \"mapbox\": {\"style\": \"light\"}, \"paper_bgcolor\": \"white\", \"plot_bgcolor\": \"#E5ECF6\", \"polar\": {\"angularaxis\": {\"gridcolor\": \"white\", \"linecolor\": \"white\", \"ticks\": \"\"}, \"bgcolor\": \"#E5ECF6\", \"radialaxis\": {\"gridcolor\": \"white\", \"linecolor\": \"white\", \"ticks\": \"\"}}, \"scene\": {\"xaxis\": {\"backgroundcolor\": \"#E5ECF6\", \"gridcolor\": \"white\", \"gridwidth\": 2, \"linecolor\": \"white\", \"showbackground\": true, \"ticks\": \"\", \"zerolinecolor\": \"white\"}, \"yaxis\": {\"backgroundcolor\": \"#E5ECF6\", \"gridcolor\": \"white\", \"gridwidth\": 2, \"linecolor\": \"white\", \"showbackground\": true, \"ticks\": \"\", \"zerolinecolor\": \"white\"}, \"zaxis\": {\"backgroundcolor\": \"#E5ECF6\", \"gridcolor\": \"white\", \"gridwidth\": 2, \"linecolor\": \"white\", \"showbackground\": true, \"ticks\": \"\", \"zerolinecolor\": \"white\"}}, \"shapedefaults\": {\"line\": {\"color\": \"#2a3f5f\"}}, \"ternary\": {\"aaxis\": {\"gridcolor\": \"white\", \"linecolor\": \"white\", \"ticks\": \"\"}, \"baxis\": {\"gridcolor\": \"white\", \"linecolor\": \"white\", \"ticks\": \"\"}, \"bgcolor\": \"#E5ECF6\", \"caxis\": {\"gridcolor\": \"white\", \"linecolor\": \"white\", \"ticks\": \"\"}}, \"title\": {\"x\": 0.05}, \"xaxis\": {\"automargin\": true, \"gridcolor\": \"white\", \"linecolor\": \"white\", \"ticks\": \"\", \"title\": {\"standoff\": 15}, \"zerolinecolor\": \"white\", \"zerolinewidth\": 2}, \"yaxis\": {\"automargin\": true, \"gridcolor\": \"white\", \"linecolor\": \"white\", \"ticks\": \"\", \"title\": {\"standoff\": 15}, \"zerolinecolor\": \"white\", \"zerolinewidth\": 2}}}},\n",
       "                        {\"responsive\": true}\n",
       "                    ).then(function(){\n",
       "                            \n",
       "var gd = document.getElementById('43fc81f0-8589-4fee-9975-9b0c1deba210');\n",
       "var x = new MutationObserver(function (mutations, observer) {{\n",
       "        var display = window.getComputedStyle(gd).display;\n",
       "        if (!display || display === 'none') {{\n",
       "            console.log([gd, 'removed!']);\n",
       "            Plotly.purge(gd);\n",
       "            observer.disconnect();\n",
       "        }}\n",
       "}});\n",
       "\n",
       "// Listen for the removal of the full notebook cells\n",
       "var notebookContainer = gd.closest('#notebook-container');\n",
       "if (notebookContainer) {{\n",
       "    x.observe(notebookContainer, {childList: true});\n",
       "}}\n",
       "\n",
       "// Listen for the clearing of the current output cell\n",
       "var outputEl = gd.closest('.output');\n",
       "if (outputEl) {{\n",
       "    x.observe(outputEl, {childList: true});\n",
       "}}\n",
       "\n",
       "                        })\n",
       "                };\n",
       "                });\n",
       "            </script>\n",
       "        </div>"
      ]
     },
     "metadata": {},
     "output_type": "display_data"
    }
   ],
   "source": [
    "\n",
    "\n",
    "\n",
    "fig = go.Figure(data=[go.Table(\n",
    "    columnwidth = [120, 80,80, 80, 80, 80],\n",
    "    header=dict(values=list(value_comparison_w.keys()),\n",
    "                line_color='darkslategray',\n",
    "                fill_color='paleturquoise',\n",
    "                align='center',\n",
    "                font=dict(size=14)),\n",
    "    cells=dict(values=list(value_comparison_w.values()), \n",
    "               line_color='darkslategray',\n",
    "               fill_color=['paleturquoise','white', 'rgb(239, 243, 255)','white', 'rgb(239, 243, 255)' ],\n",
    "               align='left'))\n",
    "])\n",
    "fig.update_layout(\n",
    "    height=300,)\n",
    "fig.show()\n",
    "\n",
    "fig = go.Figure(data=[go.Table(\n",
    "    columnwidth = [120, 80,80, 80, 80, 80],\n",
    "    header=dict(values=list(value_comparison_macro.keys()),\n",
    "                line_color='darkslategray',\n",
    "                fill_color='paleturquoise',\n",
    "                align='center',\n",
    "                font=dict(size=14)),\n",
    "    cells=dict(values=list(value_comparison_macro.values()), \n",
    "               line_color='darkslategray',\n",
    "               fill_color=['paleturquoise','white', 'rgb(239, 243, 255)','white', 'rgb(239, 243, 255)' ],\n",
    "               align='left'))\n",
    "])\n",
    "\n",
    "fig.update_layout(\n",
    "    height=300)\n",
    "fig.show()\n"
   ]
  },
  {
   "cell_type": "markdown",
   "metadata": {},
   "source": [
    "From these tables we can have a more immediate view, it's clear that if we rely only on accuracy we could say that we have obtained more than positive results, especially considering the fact that we have removed any reference to grades related to the student's recent past (*G1* and *G2*). This is obviously not the reality of the facts as we must also observe the other metrics indicated. \n",
    "In particular the two tables indicate, one the results in case we consider the various metrics, such as precision, recall and f1-score, as average between the same metrics on label 0 and label 1, in practice we try to go back to the ideal case where the dataset is perfectly divided between the two classes. The second takes into account the difference in number between the two classes.\n",
    "\n",
    "Which of the two to give more weight depends on the purposes of our research. We may have an interest in correctly identifying such a class than another, so for example I could give more weight to an error of one label than another and so on. \n",
    "\n",
    "In our case there are no big differences beetween the two better classifier, and although the Logistic Regression has a higher accuracy, I would choose Random Forest especially if you want to give particular importance to the failures of the boys and want to identify them, this is because it had a higher precision and recall on class 0, this is evident because in the table **Macro Average** its results are better, a symptom of how it performs better on class 0 and slightly worse on class 1. \n",
    "\n",
    "In our case, since this is a study based on being able to understand the failure factors of Portuguese students and identify students at risk, it seems logical to pay more attention to this factor.\n",
    "\n",
    "\n",
    "\n",
    "\n",
    "\n",
    "### Bibliography\n",
    "1. Gareth James, Daniela Witten, Trevor Hastie, Robert Tibshirani. -  An Introduction to Statistical Learning with Applications in R\n",
    "\n",
    "\n",
    "2. P. Cortez and A. Silva. Using Data Mining to Predict Secondary School Student Performance. In A. Brito and J. Teixeira Eds., Proceedings of 5th FUture BUsiness TEChnology Conference (FUBUTEC 2008) pp. 5-12, Porto, Portugal, April, 2008, EUROSIS, ISBN 978-9077381-39-7. \n",
    "    http://www3.dsi.uminho.pt/pcortez/student.pdf"
   ]
  },
  {
   "cell_type": "code",
   "execution_count": null,
   "metadata": {},
   "outputs": [],
   "source": []
  }
 ],
 "metadata": {
  "celltoolbar": "Tags",
  "kernelspec": {
   "display_name": "Python 3",
   "language": "python",
   "name": "python3"
  },
  "language_info": {
   "codemirror_mode": {
    "name": "ipython",
    "version": 3
   },
   "file_extension": ".py",
   "mimetype": "text/x-python",
   "name": "python",
   "nbconvert_exporter": "python",
   "pygments_lexer": "ipython3",
   "version": "3.7.6"
  }
 },
 "nbformat": 4,
 "nbformat_minor": 4
}
